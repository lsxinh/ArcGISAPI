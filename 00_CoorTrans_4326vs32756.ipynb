{
 "cells": [
  {
   "cell_type": "markdown",
   "metadata": {},
   "source": [
    "#### Super reference\n",
    "https://pyproj4.github.io/pyproj/stable/examples.html"
   ]
  },
  {
   "cell_type": "markdown",
   "metadata": {},
   "source": [
    "#### Step 1: Inspect CRS definition to ensure proper area of use and axis order"
   ]
  },
  {
   "cell_type": "code",
   "execution_count": 1,
   "metadata": {},
   "outputs": [
    {
     "data": {
      "text/plain": [
       "<Geographic 2D CRS: EPSG:4326>\n",
       "Name: WGS 84\n",
       "Axis Info [ellipsoidal]:\n",
       "- Lat[north]: Geodetic latitude (degree)\n",
       "- Lon[east]: Geodetic longitude (degree)\n",
       "Area of Use:\n",
       "- name: World\n",
       "- bounds: (-180.0, -90.0, 180.0, 90.0)\n",
       "Datum: World Geodetic System 1984\n",
       "- Ellipsoid: WGS 84\n",
       "- Prime Meridian: Greenwich"
      ]
     },
     "execution_count": 1,
     "metadata": {},
     "output_type": "execute_result"
    }
   ],
   "source": [
    "from pyproj import CRS\n",
    "crs_4326 = CRS.from_epsg(4326)\n",
    "crs_4326"
   ]
  },
  {
   "cell_type": "code",
   "execution_count": 2,
   "metadata": {
    "scrolled": true
   },
   "outputs": [
    {
     "data": {
      "text/plain": [
       "<Projected CRS: EPSG:32756>\n",
       "Name: WGS 84 / UTM zone 56S\n",
       "Axis Info [cartesian]:\n",
       "- E[east]: Easting (metre)\n",
       "- N[north]: Northing (metre)\n",
       "Area of Use:\n",
       "- name: World - S hemisphere - 150°E to 156°E - by country\n",
       "- bounds: (150.0, -80.0, 156.0, 0.0)\n",
       "Coordinate Operation:\n",
       "- name: UTM zone 56S\n",
       "- method: Transverse Mercator\n",
       "Datum: World Geodetic System 1984\n",
       "- Ellipsoid: WGS 84\n",
       "- Prime Meridian: Greenwich"
      ]
     },
     "execution_count": 2,
     "metadata": {},
     "output_type": "execute_result"
    }
   ],
   "source": [
    "crs_32756  = CRS.from_epsg(32756 )\n",
    "crs_32756 "
   ]
  },
  {
   "cell_type": "markdown",
   "metadata": {},
   "source": [
    "#### Step 2: Create Transformer to convert from CRS to CRS"
   ]
  },
  {
   "cell_type": "code",
   "execution_count": 3,
   "metadata": {},
   "outputs": [
    {
     "name": "stdout",
     "output_type": "stream",
     "text": [
      "proj=pipeline step proj=unitconvert xy_in=deg xy_out=rad step proj=utm zone=56 south ellps=WGS84\n",
      "proj=pipeline step inv proj=utm zone=56 south ellps=WGS84 step proj=unitconvert xy_in=rad xy_out=deg\n"
     ]
    }
   ],
   "source": [
    "from pyproj import Transformer\n",
    "WGS84toUTM56S = Transformer.from_crs(crs_4326, crs_32756,always_xy=True) #x,y or lon,lat order\n",
    "UTM56StoWGS84 = Transformer.from_crs(crs_32756, crs_4326,always_xy=True) #x,y or lon,lat order\n",
    "# transformer = Transformer.from_crs(4326, 32756)\n",
    "# transformer = Transformer.from_crs(\"EPSG:4326\", \"EPSG:32756\")\n",
    "print(WGS84toUTM56S)\n",
    "print(UTM56StoWGS84)"
   ]
  },
  {
   "cell_type": "code",
   "execution_count": 4,
   "metadata": {},
   "outputs": [
    {
     "name": "stdout",
     "output_type": "stream",
     "text": [
      "0 152.11333333333334 -32.79833333333333\n",
      "0 (416981.9957624127, 6370721.50651768)\n",
      "1 152.145 -32.85\n",
      "1 (419993.3539045712, 6365018.044117856)\n",
      "2 197.8 -32.99666666666667\n",
      "2 (4835208.05675353, 5293248.877022714)\n",
      "3 202.4 -33.05166666666667\n",
      "3 (5300693.387516789, 5010156.381742272)\n",
      "4 198.34 -32.923833333333334\n",
      "4 (4895108.66193558, 5271942.047655178)\n"
     ]
    }
   ],
   "source": [
    "#From Lat, Lon to E,N\n",
    "Lon_list = [152+6.8/60,152+8.7/60,151+46.8,151+51.4,151+47.34]\n",
    "Lat_list = [-32-47.9/60,-32-51.0/60,-32-59.8/60,-33-3.1/60,-32-55.43/60]\n",
    "\n",
    "e_list = []\n",
    "n_list = []\n",
    "for idx,lon in enumerate(Lon_list):  \n",
    "    print(idx,lon,Lat_list[idx])    \n",
    "    output = WGS84toUTM56S.transform(lon, Lat_list[idx])\n",
    "    e_list.append(output[0])\n",
    "    n_list.append(output[1])\n",
    "    print(idx,output)"
   ]
  },
  {
   "cell_type": "code",
   "execution_count": 5,
   "metadata": {},
   "outputs": [
    {
     "data": {
      "text/plain": [
       "([416981.9957624127,\n",
       "  419993.3539045712,\n",
       "  4835208.05675353,\n",
       "  5300693.387516789,\n",
       "  4895108.66193558],\n",
       " [6370721.50651768,\n",
       "  6365018.044117856,\n",
       "  5293248.877022714,\n",
       "  5010156.381742272,\n",
       "  5271942.047655178])"
      ]
     },
     "execution_count": 5,
     "metadata": {},
     "output_type": "execute_result"
    }
   ],
   "source": [
    "e_list,n_list"
   ]
  },
  {
   "cell_type": "code",
   "execution_count": 6,
   "metadata": {},
   "outputs": [
    {
     "name": "stdout",
     "output_type": "stream",
     "text": [
      "0 416981.9957624127 6370721.50651768\n",
      "0 (152.11333333333334, -32.79833333333333)\n",
      "1 419993.3539045712 6365018.044117856\n",
      "1 (152.145, -32.85000000000001)\n",
      "2 4835208.05675353 5293248.877022714\n",
      "2 (-162.2, -32.99666666666668)\n",
      "3 5300693.387516789 5010156.381742272\n",
      "3 (-157.59999999999997, -33.051666666666705)\n",
      "4 4895108.66193558 5271942.047655178\n",
      "4 (-161.66000000000003, -32.923833333333356)\n"
     ]
    }
   ],
   "source": [
    "for idx,e in enumerate(e_list):  \n",
    "    print(idx,e,n_list[idx])    \n",
    "    output = UTM56StoWGS84.transform(e, n_list[idx])\n",
    "    print(idx,output)"
   ]
  },
  {
   "cell_type": "code",
   "execution_count": 9,
   "metadata": {
    "scrolled": true
   },
   "outputs": [
    {
     "name": "stdout",
     "output_type": "stream",
     "text": [
      "0 411995.19 6368199.54\n",
      "0 (152.05983872337922, -32.82069165218924)\n",
      "1 408664.56 6369233.17\n",
      "1 (152.02436365796677, -32.811096747962345)\n",
      "2 411074.27 6370188.94\n",
      "2 (152.05019254357885, -32.80267417799944)\n",
      "3 414729.01 6370302.92\n",
      "3 (152.08923460997903, -32.801936115153815)\n",
      "4 415637.35 6369853.04\n",
      "4 (152.09889445600453, -32.80606400825821)\n",
      "5 414981.25 6370268.03\n",
      "5 (152.09192525135222, -32.802270370749255)\n",
      "6 415564.63 6370212.01\n",
      "6 (152.09815048922582, -32.80282067231612)\n",
      "7 416727.83 6370092.23\n",
      "7 (152.11056250145455, -32.80398989214254)\n",
      "8 416633.27 6370095.76\n",
      "8 (152.1095529204819, -32.80395087545067)\n",
      "9 416385.95 6370375.93\n",
      "9 (152.10693682044635, -32.801405052815674)\n",
      "10 411906.93 6366004.92\n",
      "10 (152.05868712189073, -32.84047872800735)\n",
      "11 412814.2 6366698.78\n",
      "11 (152.06844594818247, -32.83429305314772)\n",
      "12 418638.94 6363860.33\n",
      "12 (152.13042546778078, -32.86034232501654)\n",
      "13 420457.25 6367256.31\n",
      "13 (152.15014940100372, -32.829845479633555)\n"
     ]
    }
   ],
   "source": [
    "#From Easting, Northing to Lat, Lon\n",
    "e_list = [411995.19,408664.56,411074.27,414729.01,415637.35,414981.25,415564.63,416727.83,416633.27,416385.95,411906.93,412814.2,418638.94,420457.25\n",
    "]\n",
    "n_list = [6368199.54,6369233.17,6370188.94,6370302.92,6369853.04,6370268.03,6370212.01,6370092.23,6370095.76,6370375.93,6366004.92,6366698.78,6363860.33,6367256.31]\n",
    "\n",
    "Lon_list = []\n",
    "Lat_list = []\n",
    "for idx,e in enumerate(e_list):  \n",
    "    print(idx,e,n_list[idx])    \n",
    "    output = UTM56StoWGS84.transform(e, n_list[idx])\n",
    "    Lon_list.append(output[0])\n",
    "    Lat_list.append(output[1])\n",
    "    print(idx,output)"
   ]
  },
  {
   "cell_type": "code",
   "execution_count": 11,
   "metadata": {},
   "outputs": [
    {
     "data": {
      "text/plain": [
       "([152.05983872337922,\n",
       "  152.02436365796677,\n",
       "  152.05019254357885,\n",
       "  152.08923460997903,\n",
       "  152.09889445600453,\n",
       "  152.09192525135222,\n",
       "  152.09815048922582,\n",
       "  152.11056250145455,\n",
       "  152.1095529204819,\n",
       "  152.10693682044635,\n",
       "  152.05868712189073,\n",
       "  152.06844594818247,\n",
       "  152.13042546778078,\n",
       "  152.15014940100372],\n",
       " [-32.82069165218924,\n",
       "  -32.811096747962345,\n",
       "  -32.80267417799944,\n",
       "  -32.801936115153815,\n",
       "  -32.80606400825821,\n",
       "  -32.802270370749255,\n",
       "  -32.80282067231612,\n",
       "  -32.80398989214254,\n",
       "  -32.80395087545067,\n",
       "  -32.801405052815674,\n",
       "  -32.84047872800735,\n",
       "  -32.83429305314772,\n",
       "  -32.86034232501654,\n",
       "  -32.829845479633555])"
      ]
     },
     "execution_count": 11,
     "metadata": {},
     "output_type": "execute_result"
    }
   ],
   "source": [
    "Lon_list,Lat_list"
   ]
  },
  {
   "cell_type": "code",
   "execution_count": 12,
   "metadata": {},
   "outputs": [
    {
     "name": "stdout",
     "output_type": "stream",
     "text": [
      "0 152.05983872337922 -32.82069165218924\n",
      "0 (411995.1900000021, 6368199.540000001)\n",
      "1 152.02436365796677 -32.811096747962345\n",
      "1 (408664.5599999997, 6369233.170000001)\n",
      "2 152.05019254357885 -32.80267417799944\n",
      "2 (411074.2700000021, 6370188.94)\n",
      "3 152.08923460997903 -32.801936115153815\n",
      "3 (414729.0100000035, 6370302.919999999)\n",
      "4 152.09889445600453 -32.80606400825821\n",
      "4 (415637.3500000008, 6369853.04)\n",
      "5 152.09192525135222 -32.802270370749255\n",
      "5 (414981.2500000008, 6370268.030000001)\n",
      "6 152.09815048922582 -32.80282067231612\n",
      "6 (415564.6300000004, 6370212.009999999)\n",
      "7 152.11056250145455 -32.80398989214254\n",
      "7 (416727.8299999998, 6370092.23)\n",
      "8 152.1095529204819 -32.80395087545067\n",
      "8 (416633.27000000136, 6370095.76)\n",
      "9 152.10693682044635 -32.801405052815674\n",
      "9 (416385.9499999995, 6370375.930000002)\n",
      "10 152.05868712189073 -32.84047872800735\n",
      "10 (411906.9299999992, 6366004.92)\n",
      "11 152.06844594818247 -32.83429305314772\n",
      "11 (412814.199999999, 6366698.78)\n",
      "12 152.13042546778078 -32.86034232501654\n",
      "12 (418638.9400000024, 6363860.33)\n",
      "13 152.15014940100372 -32.829845479633555\n",
      "13 (420457.2499999991, 6367256.3100000005)\n"
     ]
    }
   ],
   "source": [
    "e_list = []\n",
    "n_list = []\n",
    "for idx,lon in enumerate(Lon_list):  \n",
    "    print(idx,lon,Lat_list[idx])    \n",
    "    output = WGS84toUTM56S.transform(lon, Lat_list[idx])\n",
    "    e_list.append(output[0])\n",
    "    n_list.append(output[1])\n",
    "    print(idx,output)"
   ]
  },
  {
   "cell_type": "markdown",
   "metadata": {},
   "source": [
    "### Define coordinate system using arcpy\n",
    "https://pro.arcgis.com/en/pro-app/latest/arcpy/classes/spatialreference.htm"
   ]
  },
  {
   "cell_type": "code",
   "execution_count": 4,
   "metadata": {},
   "outputs": [
    {
     "data": {
      "text/html": [
       "<style>.rendered_html td, .rendered_html th {text-align: left}table td#td0  {font-weight: bold}</style><table><tr><td id=\"td0\">type</td><td>Geographic</td></tr><tr><td id=\"td0\">name</td><td>GCS_WGS_1984</td></tr><tr><td id=\"td0\">factoryCode</td><td>4326</td></tr><tr><td id=\"td0\">datumName</td><td>D_WGS_1984</td></tr><tr><td id=\"td0\">angularUnitName</td><td>Degree</td></tr></table>"
      ],
      "text/plain": [
       "<SpatialReference object at 0x2b8bfc50ac8[0x2b8bfd3e450]>"
      ]
     },
     "execution_count": 4,
     "metadata": {},
     "output_type": "execute_result"
    }
   ],
   "source": [
    "import arcpy\n",
    "sr_wgs84 = arcpy.SpatialReference(4326)\n",
    "sr_wgs84"
   ]
  },
  {
   "cell_type": "code",
   "execution_count": 5,
   "metadata": {
    "scrolled": true
   },
   "outputs": [
    {
     "data": {
      "text/html": [
       "<style>.rendered_html td, .rendered_html th {text-align: left}table td#td0  {font-weight: bold}</style><table><tr><td id=\"td0\">type</td><td>Projected</td></tr><tr><td id=\"td0\">name</td><td>WGS_1984_UTM_Zone_56S</td></tr><tr><td id=\"td0\">factoryCode</td><td>32756</td></tr><tr><td id=\"td0\">linearUnitName</td><td>Meter</td></tr><tr><td id=\"td0\">GCS.name</td><td>GCS_WGS_1984</td></tr></table>"
      ],
      "text/plain": [
       "<SpatialReference object at 0x2b8c0e5bec8[0x2b8f53dc130]>"
      ]
     },
     "execution_count": 5,
     "metadata": {},
     "output_type": "execute_result"
    }
   ],
   "source": [
    "sr_UTM56S = arcpy.SpatialReference(32756)\n",
    "sr_UTM56S"
   ]
  },
  {
   "cell_type": "code",
   "execution_count": 6,
   "metadata": {},
   "outputs": [
    {
     "data": {
      "text/html": [
       "<style>.rendered_html td, .rendered_html th {text-align: left}table td#td0  {font-weight: bold}</style><table><tr><td id=\"td0\">type</td><td>Geographic</td></tr><tr><td id=\"td0\">name</td><td>GCS_NAD_1983_NSRS2007</td></tr><tr><td id=\"td0\">factoryCode</td><td>4759</td></tr><tr><td id=\"td0\">datumName</td><td>D_NAD_1983_NSRS2007</td></tr><tr><td id=\"td0\">angularUnitName</td><td>Degree</td></tr><tr><td id=\"td0\">VCS.name</td><td>WGS_1984</td></tr></table>"
      ],
      "text/plain": [
       "<SpatialReference object at 0x2b8f65e82c8[0x2b8f53dc650]>"
      ]
     },
     "execution_count": 6,
     "metadata": {},
     "output_type": "execute_result"
    }
   ],
   "source": [
    "#with vertical reference\n",
    "arcpy.SpatialReference(4759, 115700)"
   ]
  },
  {
   "cell_type": "code",
   "execution_count": null,
   "metadata": {},
   "outputs": [],
   "source": []
  }
 ],
 "metadata": {
  "kernelspec": {
   "display_name": "Python 3",
   "language": "python",
   "name": "python3"
  },
  "language_info": {
   "codemirror_mode": {
    "name": "ipython",
    "version": 3
   },
   "file_extension": ".py",
   "mimetype": "text/x-python",
   "name": "python",
   "nbconvert_exporter": "python",
   "pygments_lexer": "ipython3",
   "version": "3.7.9"
  }
 },
 "nbformat": 4,
 "nbformat_minor": 2
}
