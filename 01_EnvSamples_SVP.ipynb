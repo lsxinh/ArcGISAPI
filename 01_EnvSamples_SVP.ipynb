{
 "cells": [
  {
   "cell_type": "markdown",
   "metadata": {},
   "source": [
    "### Step 1: Prepare a csv file using excel (note: formatting works better with old excel version)"
   ]
  },
  {
   "cell_type": "markdown",
   "metadata": {},
   "source": [
    "#### 1a Import data from csv - pandas"
   ]
  },
  {
   "cell_type": "code",
   "execution_count": 2,
   "metadata": {},
   "outputs": [],
   "source": [
    "import os\n",
    "import pandas as pd"
   ]
  },
  {
   "cell_type": "code",
   "execution_count": 3,
   "metadata": {},
   "outputs": [
    {
     "name": "stdout",
     "output_type": "stream",
     "text": [
      "Index(['OID_', 'Index', 'Date', 'UTC', 'SVP_file', 'SVP_URL', 'SVP_Source',\n",
      "       'E_UTM56S', 'N_UTM56S', 'Zone', 'Lat', 'Lon', 'Depth', 'Comment',\n",
      "       'Enter_prof'],\n",
      "      dtype='object')\n"
     ]
    },
    {
     "data": {
      "text/plain": [
       "['OID_',\n",
       " 'Index',\n",
       " 'Date',\n",
       " 'UTC',\n",
       " 'SVP_file',\n",
       " 'SVP_URL',\n",
       " 'SVP_Source',\n",
       " 'E_UTM56S',\n",
       " 'N_UTM56S',\n",
       " 'Zone',\n",
       " 'Lat',\n",
       " 'Lon',\n",
       " 'Depth',\n",
       " 'Comment',\n",
       " 'Enter_prof']"
      ]
     },
     "execution_count": 3,
     "metadata": {},
     "output_type": "execute_result"
    }
   ],
   "source": [
    "#import from csv\n",
    "in_csv = r\"E:\\HIPP\\11_Deliverables\\03_Bathymetry\\05_SoundVelocityProfiles\\SVP_Raw\\SI1001_SVP_RAW.csv\"\n",
    "df = pd.read_csv(in_csv)\n",
    "print(df.columns)\n",
    "# print(len(df))\n",
    "list(df.iloc[[0,50,100,-1]])"
   ]
  },
  {
   "cell_type": "markdown",
   "metadata": {},
   "source": [
    "#### 1b. Check and tidy data - pandas"
   ]
  },
  {
   "cell_type": "code",
   "execution_count": 4,
   "metadata": {
    "scrolled": true
   },
   "outputs": [
    {
     "data": {
      "text/html": [
       "<div>\n",
       "<style scoped>\n",
       "    .dataframe tbody tr th:only-of-type {\n",
       "        vertical-align: middle;\n",
       "    }\n",
       "\n",
       "    .dataframe tbody tr th {\n",
       "        vertical-align: top;\n",
       "    }\n",
       "\n",
       "    .dataframe thead th {\n",
       "        text-align: right;\n",
       "    }\n",
       "</style>\n",
       "<table border=\"1\" class=\"dataframe\">\n",
       "  <thead>\n",
       "    <tr style=\"text-align: right;\">\n",
       "      <th></th>\n",
       "      <th>oid_</th>\n",
       "      <th>index</th>\n",
       "      <th>date</th>\n",
       "      <th>utc</th>\n",
       "      <th>svp_file</th>\n",
       "      <th>svp_url</th>\n",
       "      <th>svp_source</th>\n",
       "      <th>e_utm56s</th>\n",
       "      <th>n_utm56s</th>\n",
       "      <th>zone</th>\n",
       "      <th>lat</th>\n",
       "      <th>lon</th>\n",
       "      <th>depth</th>\n",
       "      <th>comment</th>\n",
       "      <th>enter_prof</th>\n",
       "    </tr>\n",
       "  </thead>\n",
       "  <tbody>\n",
       "    <tr>\n",
       "      <th>0</th>\n",
       "      <td>0</td>\n",
       "      <td>SVP002</td>\n",
       "      <td>9/12/2020 0:00:00</td>\n",
       "      <td>06:04</td>\n",
       "      <td>20201209_0555_SVP</td>\n",
       "      <td>11_Deliverables\\03_Bathymetry\\05_SoundVelocity...</td>\n",
       "      <td>MiniSVP SN67443</td>\n",
       "      <td>392825.73</td>\n",
       "      <td>6341170.80</td>\n",
       "      <td>56S</td>\n",
       "      <td>33;03.76495S</td>\n",
       "      <td>151;51.11618E</td>\n",
       "      <td>127</td>\n",
       "      <td>Use Valeport to export .asvp</td>\n",
       "      <td>ES</td>\n",
       "    </tr>\n",
       "    <tr>\n",
       "      <th>50</th>\n",
       "      <td>50</td>\n",
       "      <td>SVP052</td>\n",
       "      <td>24/12/2020 0:00:00</td>\n",
       "      <td>14:13</td>\n",
       "      <td>20201224_1400_SVP</td>\n",
       "      <td>11_Deliverables\\03_Bathymetry\\05_SoundVelocity...</td>\n",
       "      <td>MiniSVP SN67443</td>\n",
       "      <td>408798.26</td>\n",
       "      <td>6353815.91</td>\n",
       "      <td>56S</td>\n",
       "      <td>32;57.00959S</td>\n",
       "      <td>152;01.45615E</td>\n",
       "      <td>112</td>\n",
       "      <td>Block 02</td>\n",
       "      <td>NS</td>\n",
       "    </tr>\n",
       "    <tr>\n",
       "      <th>100</th>\n",
       "      <td>100</td>\n",
       "      <td>SVP102</td>\n",
       "      <td>12/01/2021 0:00:00</td>\n",
       "      <td>04:00</td>\n",
       "      <td>20210112_0400_SVP</td>\n",
       "      <td>11_Deliverables\\03_Bathymetry\\05_SoundVelocity...</td>\n",
       "      <td>MiniSVP SN67443</td>\n",
       "      <td>385687.05</td>\n",
       "      <td>6348396.33</td>\n",
       "      <td>56S</td>\n",
       "      <td>32.996860115 S</td>\n",
       "      <td>151.776381520 E</td>\n",
       "      <td>35</td>\n",
       "      <td>Block 01</td>\n",
       "      <td>BT</td>\n",
       "    </tr>\n",
       "    <tr>\n",
       "      <th>101</th>\n",
       "      <td>101</td>\n",
       "      <td>SVP103</td>\n",
       "      <td>12/01/2021 0:00:00</td>\n",
       "      <td>18:23</td>\n",
       "      <td>20210112_1830_SVP</td>\n",
       "      <td>11_Deliverables\\03_Bathymetry\\05_SoundVelocity...</td>\n",
       "      <td>MiniSVP SN67443</td>\n",
       "      <td>394255.10</td>\n",
       "      <td>6340262.99</td>\n",
       "      <td>56S</td>\n",
       "      <td>33.071076275 S</td>\n",
       "      <td>151.867140396 E</td>\n",
       "      <td>108</td>\n",
       "      <td>Block 01</td>\n",
       "      <td>NS</td>\n",
       "    </tr>\n",
       "  </tbody>\n",
       "</table>\n",
       "</div>"
      ],
      "text/plain": [
       "     oid_   index                date    utc           svp_file  \\\n",
       "0       0  SVP002   9/12/2020 0:00:00  06:04  20201209_0555_SVP   \n",
       "50     50  SVP052  24/12/2020 0:00:00  14:13  20201224_1400_SVP   \n",
       "100   100  SVP102  12/01/2021 0:00:00  04:00  20210112_0400_SVP   \n",
       "101   101  SVP103  12/01/2021 0:00:00  18:23  20210112_1830_SVP   \n",
       "\n",
       "                                               svp_url       svp_source  \\\n",
       "0    11_Deliverables\\03_Bathymetry\\05_SoundVelocity...  MiniSVP SN67443   \n",
       "50   11_Deliverables\\03_Bathymetry\\05_SoundVelocity...  MiniSVP SN67443   \n",
       "100  11_Deliverables\\03_Bathymetry\\05_SoundVelocity...  MiniSVP SN67443   \n",
       "101  11_Deliverables\\03_Bathymetry\\05_SoundVelocity...  MiniSVP SN67443   \n",
       "\n",
       "      e_utm56s    n_utm56s zone             lat              lon  depth  \\\n",
       "0    392825.73  6341170.80  56S    33;03.76495S    151;51.11618E    127   \n",
       "50   408798.26  6353815.91  56S    32;57.00959S    152;01.45615E    112   \n",
       "100  385687.05  6348396.33  56S  32.996860115 S  151.776381520 E     35   \n",
       "101  394255.10  6340262.99  56S  33.071076275 S  151.867140396 E    108   \n",
       "\n",
       "                          comment enter_prof  \n",
       "0    Use Valeport to export .asvp         ES  \n",
       "50                       Block 02         NS  \n",
       "100                      Block 01         BT  \n",
       "101                      Block 01         NS  "
      ]
     },
     "execution_count": 4,
     "metadata": {},
     "output_type": "execute_result"
    }
   ],
   "source": [
    "#add FID: not neccessary if generating shp file using ESRI tool\n",
    "# df['FID'] = [i for i in range(len(df))] #auto add FID col\n",
    "df.iloc[[0,50,100,-1]]\n",
    "#change col names\n",
    "# column_names={}\n",
    "# df = df.rename(columns=column_names) #rename\n",
    "df = df.rename(columns=str.lower,inplace=False) #renametolowercase\n",
    "df[1:-1:50]\n",
    "#get column names and sort by alphabet\n",
    "new_col_names = list(df.columns)\n",
    "# print(new_col_names)\n",
    "# new_col_names.sort()\n",
    "# new_col_names\n",
    "#change to the order we want manually\n",
    "# new_col_names = ['fid','sample_id', 'date_utc', 'time_utc', 'lat', 'lon', 'depth', \n",
    "#                'method', 'recovery', 'weight', 'name', 'composition', \n",
    "#                'class', 'hue_card', 'hue_value', 'file_name', 'sample_held', \n",
    "#                'obs_sig', 'anoxic_sediments', 'comments', 'sample', 'url', \n",
    "#                'e_utm56s', 'n_utm56s']\n",
    "# new_col_names\n",
    "#re_oder the dataframe\n",
    "# df = df[new_col_names]\n",
    "df.iloc[[0,50,100,-1]]"
   ]
  },
  {
   "cell_type": "code",
   "execution_count": 5,
   "metadata": {},
   "outputs": [
    {
     "data": {
      "text/plain": [
       "Index(['oid_', 'index', 'date', 'utc', 'svp_file', 'svp_url', 'svp_source',\n",
       "       'e_utm56s', 'n_utm56s', 'zone', 'lat', 'lon', 'depth', 'comment',\n",
       "       'enter_prof'],\n",
       "      dtype='object')"
      ]
     },
     "execution_count": 5,
     "metadata": {},
     "output_type": "execute_result"
    }
   ],
   "source": [
    "df.columns"
   ]
  },
  {
   "cell_type": "code",
   "execution_count": 6,
   "metadata": {},
   "outputs": [
    {
     "data": {
      "text/plain": [
       "'11_Deliverables\\\\03_Bathymetry\\\\05_SoundVelocityProfiles\\\\SVP_Raw\\\\asvp\\\\20201209_0555_SVP'"
      ]
     },
     "execution_count": 6,
     "metadata": {},
     "output_type": "execute_result"
    }
   ],
   "source": [
    "df['svp_url'][0]"
   ]
  },
  {
   "cell_type": "code",
   "execution_count": 7,
   "metadata": {},
   "outputs": [
    {
     "data": {
      "text/html": [
       "<div>\n",
       "<style scoped>\n",
       "    .dataframe tbody tr th:only-of-type {\n",
       "        vertical-align: middle;\n",
       "    }\n",
       "\n",
       "    .dataframe tbody tr th {\n",
       "        vertical-align: top;\n",
       "    }\n",
       "\n",
       "    .dataframe thead th {\n",
       "        text-align: right;\n",
       "    }\n",
       "</style>\n",
       "<table border=\"1\" class=\"dataframe\">\n",
       "  <thead>\n",
       "    <tr style=\"text-align: right;\">\n",
       "      <th></th>\n",
       "      <th>oid_</th>\n",
       "      <th>index</th>\n",
       "      <th>date</th>\n",
       "      <th>utc</th>\n",
       "      <th>svp_file</th>\n",
       "      <th>svp_url</th>\n",
       "      <th>svp_source</th>\n",
       "      <th>e_utm56s</th>\n",
       "      <th>n_utm56s</th>\n",
       "      <th>zone</th>\n",
       "      <th>lat</th>\n",
       "      <th>lon</th>\n",
       "      <th>depth</th>\n",
       "      <th>comment</th>\n",
       "      <th>enter_prof</th>\n",
       "    </tr>\n",
       "  </thead>\n",
       "  <tbody>\n",
       "    <tr>\n",
       "      <th>0</th>\n",
       "      <td>0</td>\n",
       "      <td>SVP002</td>\n",
       "      <td>9/12/2020 0:00:00</td>\n",
       "      <td>06:04</td>\n",
       "      <td>20201209_0555_SVP</td>\n",
       "      <td>11_FinalDeliverables\\03_Bathymetry\\05_SoundVel...</td>\n",
       "      <td>MiniSVP SN67443</td>\n",
       "      <td>392825.73</td>\n",
       "      <td>6341170.80</td>\n",
       "      <td>56S</td>\n",
       "      <td>33;03.76495S</td>\n",
       "      <td>151;51.11618E</td>\n",
       "      <td>127</td>\n",
       "      <td>Use Valeport to export .asvp</td>\n",
       "      <td>ES</td>\n",
       "    </tr>\n",
       "    <tr>\n",
       "      <th>50</th>\n",
       "      <td>50</td>\n",
       "      <td>SVP052</td>\n",
       "      <td>24/12/2020 0:00:00</td>\n",
       "      <td>14:13</td>\n",
       "      <td>20201224_1400_SVP</td>\n",
       "      <td>11_FinalDeliverables\\03_Bathymetry\\05_SoundVel...</td>\n",
       "      <td>MiniSVP SN67443</td>\n",
       "      <td>408798.26</td>\n",
       "      <td>6353815.91</td>\n",
       "      <td>56S</td>\n",
       "      <td>32;57.00959S</td>\n",
       "      <td>152;01.45615E</td>\n",
       "      <td>112</td>\n",
       "      <td>Block 02</td>\n",
       "      <td>NS</td>\n",
       "    </tr>\n",
       "    <tr>\n",
       "      <th>100</th>\n",
       "      <td>100</td>\n",
       "      <td>SVP102</td>\n",
       "      <td>12/01/2021 0:00:00</td>\n",
       "      <td>04:00</td>\n",
       "      <td>20210112_0400_SVP</td>\n",
       "      <td>11_FinalDeliverables\\03_Bathymetry\\05_SoundVel...</td>\n",
       "      <td>MiniSVP SN67443</td>\n",
       "      <td>385687.05</td>\n",
       "      <td>6348396.33</td>\n",
       "      <td>56S</td>\n",
       "      <td>32.996860115 S</td>\n",
       "      <td>151.776381520 E</td>\n",
       "      <td>35</td>\n",
       "      <td>Block 01</td>\n",
       "      <td>BT</td>\n",
       "    </tr>\n",
       "    <tr>\n",
       "      <th>101</th>\n",
       "      <td>101</td>\n",
       "      <td>SVP103</td>\n",
       "      <td>12/01/2021 0:00:00</td>\n",
       "      <td>18:23</td>\n",
       "      <td>20210112_1830_SVP</td>\n",
       "      <td>11_FinalDeliverables\\03_Bathymetry\\05_SoundVel...</td>\n",
       "      <td>MiniSVP SN67443</td>\n",
       "      <td>394255.10</td>\n",
       "      <td>6340262.99</td>\n",
       "      <td>56S</td>\n",
       "      <td>33.071076275 S</td>\n",
       "      <td>151.867140396 E</td>\n",
       "      <td>108</td>\n",
       "      <td>Block 01</td>\n",
       "      <td>NS</td>\n",
       "    </tr>\n",
       "  </tbody>\n",
       "</table>\n",
       "</div>"
      ],
      "text/plain": [
       "     oid_   index                date    utc           svp_file  \\\n",
       "0       0  SVP002   9/12/2020 0:00:00  06:04  20201209_0555_SVP   \n",
       "50     50  SVP052  24/12/2020 0:00:00  14:13  20201224_1400_SVP   \n",
       "100   100  SVP102  12/01/2021 0:00:00  04:00  20210112_0400_SVP   \n",
       "101   101  SVP103  12/01/2021 0:00:00  18:23  20210112_1830_SVP   \n",
       "\n",
       "                                               svp_url       svp_source  \\\n",
       "0    11_FinalDeliverables\\03_Bathymetry\\05_SoundVel...  MiniSVP SN67443   \n",
       "50   11_FinalDeliverables\\03_Bathymetry\\05_SoundVel...  MiniSVP SN67443   \n",
       "100  11_FinalDeliverables\\03_Bathymetry\\05_SoundVel...  MiniSVP SN67443   \n",
       "101  11_FinalDeliverables\\03_Bathymetry\\05_SoundVel...  MiniSVP SN67443   \n",
       "\n",
       "      e_utm56s    n_utm56s zone             lat              lon  depth  \\\n",
       "0    392825.73  6341170.80  56S    33;03.76495S    151;51.11618E    127   \n",
       "50   408798.26  6353815.91  56S    32;57.00959S    152;01.45615E    112   \n",
       "100  385687.05  6348396.33  56S  32.996860115 S  151.776381520 E     35   \n",
       "101  394255.10  6340262.99  56S  33.071076275 S  151.867140396 E    108   \n",
       "\n",
       "                          comment enter_prof  \n",
       "0    Use Valeport to export .asvp         ES  \n",
       "50                       Block 02         NS  \n",
       "100                      Block 01         BT  \n",
       "101                      Block 01         NS  "
      ]
     },
     "execution_count": 7,
     "metadata": {},
     "output_type": "execute_result"
    }
   ],
   "source": [
    "#generate path for url column\n",
    "url_list = []\n",
    "for file_n in df['svp_file']:\n",
    "    msg = \"11_FinalDeliverables\\\\03_Bathymetry\\\\05_SoundVelocityProfiles\\\\SVP_Raw\\\\asvp\\\\\"+file_n\n",
    "#     print(msg)\n",
    "    url_list.append(msg)\n",
    "#change svp url\n",
    "df['svp_url'] = url_list\n",
    "df.iloc[[0,50,100,-1]]"
   ]
  },
  {
   "cell_type": "code",
   "execution_count": 8,
   "metadata": {},
   "outputs": [
    {
     "data": {
      "text/plain": [
       "('11_FinalDeliverables\\\\03_Bathymetry\\\\05_SoundVelocityProfiles\\\\SVP_Raw\\\\asvp\\\\20201209_0555_SVP',\n",
       " '11_FinalDeliverables\\\\03_Bathymetry\\\\05_SoundVelocityProfiles\\\\SVP_Raw\\\\asvp\\\\20201224_1400_SVP',\n",
       " '11_FinalDeliverables\\\\03_Bathymetry\\\\05_SoundVelocityProfiles\\\\SVP_Raw\\\\asvp\\\\20210112_0400_SVP',\n",
       " '11_FinalDeliverables\\\\03_Bathymetry\\\\05_SoundVelocityProfiles\\\\SVP_Raw\\\\asvp\\\\20210112_1830_SVP')"
      ]
     },
     "execution_count": 8,
     "metadata": {},
     "output_type": "execute_result"
    }
   ],
   "source": [
    "#check results\n",
    "df.iloc[0]['svp_url'],df.iloc[50]['svp_url'],df.iloc[100]['svp_url'],df.iloc[-1]['svp_url']"
   ]
  },
  {
   "cell_type": "markdown",
   "metadata": {},
   "source": [
    "#### Fixing Latitude and Longitutde"
   ]
  },
  {
   "cell_type": "code",
   "execution_count": 9,
   "metadata": {},
   "outputs": [
    {
     "data": {
      "text/plain": [
       "array(['33;03.76495S', '32;59.26027S', '33;00.99490S', '33;04.23957S',\n",
       "       '33;03.57605S', '32;47.63635S', '32;42.91461S', '32;49.46801S',\n",
       "       '32;49.69479S', '32;51.7444S', '32;51.99272S', '32;52.33818S',\n",
       "       '32;52.20112S', '32;51.38989S', '32;52.3140S', '32;42.94461S',\n",
       "       '32;52.55567S', '32;48.62781S', '32;50.05950S', '32;52.83364S',\n",
       "       '32;53.21947S', '32;53.31703S', '32;53.37090S', ' ',\n",
       "       '32;53.81373S', '32;42.0614S', '32;54.328S', '86;12.79856S',\n",
       "       '32;54.05381S', '32;53.906S', '32;54.220S', '32;54.29793S',\n",
       "       '32;54.58009S', '32;54.67721S', '32;54.7112S', '32;52.07740S',\n",
       "       '32;52.48080S', '32;53.5029643 S', '32;53.5943574 S',\n",
       "       '32;54.21222S', '32;55.82081S', '32;53.9427600 S',\n",
       "       '32;56.1999463 S', '32;56.22210S', '32;53.6775613 S',\n",
       "       '86;15.6214770 S', '32;56.59383S', '32;56.16882S',\n",
       "       '32;56.5530099 S', '32;55.0080351 S', '32;57.00959S',\n",
       "       '32;55.20091S', '32;57.0510014 S', '32;57.4401787 S',\n",
       "       '32;57.42794S', '32;55.8000005 S', '32;55.81123S', '33;03.51041S',\n",
       "       '32;56.3177521 S', '32;56.56588S', '32;58.10154S',\n",
       "       '32;58.2770636 S', '32;58.98582S', '32;58.82776S', '32;58.83625S',\n",
       "       '32;57.24077S', '32;59.59975S', '32;59.80982S', '32;59.70695S',\n",
       "       '32;58.53764S', '32;58.78496S', '33;00.96816S', '33;00.73466S',\n",
       "       '33;00.75945S', '33;00.9504323 S', '32;59.93212S', '33;01.27258S',\n",
       "       '33;01.24554S', '33;01.60621S', '33;00.31024S', '33;02.19475S',\n",
       "       '33;02.40561S', '33;01.16076S', '33;01.37983S', '33;03.64960S',\n",
       "       '32;56.64345S', '32;51.87095S', '-32.85982743', '32;57.1219543 S',\n",
       "       '32;55.14328S', '32;58.8357359 S', '32;51.28684S',\n",
       "       '32;48.1261752 S', '32;50.17373S', '32;48.78116S', '32;52.46599S',\n",
       "       '32;57.88093S', '32.910776168 S', '32.923087204 S',\n",
       "       '32.861820706 S', '32.996860115 S', '33.071076275 S'], dtype=object)"
      ]
     },
     "execution_count": 9,
     "metadata": {},
     "output_type": "execute_result"
    }
   ],
   "source": [
    "#looking at latitude\n",
    "df['lat'].unique()"
   ]
  },
  {
   "cell_type": "code",
   "execution_count": 11,
   "metadata": {},
   "outputs": [
    {
     "data": {
      "text/plain": [
       "['-33.0627491667',\n",
       " '-32.9876711667',\n",
       " '-33.0165816667',\n",
       " '-33.0706595000',\n",
       " '-33.0596008333',\n",
       " '-32.7939391667',\n",
       " '-32.7152435000',\n",
       " '-32.8244668333',\n",
       " '-32.8282465000',\n",
       " '-32.8624066667',\n",
       " '-32.8665453333',\n",
       " '-32.8723030000',\n",
       " '-32.8700186667',\n",
       " '-32.8564981667',\n",
       " '-32.8719000000',\n",
       " '-32.7157435000',\n",
       " '-32.8759278333',\n",
       " '-32.8104635000',\n",
       " '-32.8343250000',\n",
       " '-32.8805606667',\n",
       " '-32.8869911667',\n",
       " '-32.8886171667',\n",
       " '-32.8895150000',\n",
       " '',\n",
       " '-32.8968955000',\n",
       " '-32.7010233333',\n",
       " '-32.9054666667',\n",
       " '-86.2133093333',\n",
       " '-32.9008968333',\n",
       " '-32.8984333333',\n",
       " '-32.9036666667',\n",
       " '-32.9049655000',\n",
       " '-32.9096681667',\n",
       " '-32.9112868333',\n",
       " '-32.9118533333',\n",
       " '-32.8679566667',\n",
       " '-32.8746800000',\n",
       " '-32.8917160717',\n",
       " '-32.8932392900',\n",
       " '-32.9035370000',\n",
       " '-32.9303468333',\n",
       " '-32.8990460000',\n",
       " '-32.9366657717',\n",
       " '-32.9370350000',\n",
       " '-32.8946260217',\n",
       " '-86.2603579500',\n",
       " '-32.9432305000',\n",
       " '-32.9361470000',\n",
       " '-32.9425501650',\n",
       " '-32.9168005850',\n",
       " '-32.9501598333',\n",
       " '-32.9200151667',\n",
       " '-32.9508500233',\n",
       " '-32.9573363117',\n",
       " '-32.9571323333',\n",
       " '-32.9300000083',\n",
       " '-32.9301871667',\n",
       " '-33.0585068333',\n",
       " '-32.9386292017',\n",
       " '-32.9427646667',\n",
       " '-32.9683590000',\n",
       " '-32.9712843933',\n",
       " '-32.9830970000',\n",
       " '-32.9804626667',\n",
       " '-32.9806041667',\n",
       " '-32.9540128333',\n",
       " '-32.9933291667',\n",
       " '-32.9968303333',\n",
       " '-32.9951158333',\n",
       " '-32.9756273333',\n",
       " '-32.9797493333',\n",
       " '-33.0161360000',\n",
       " '-33.0122443333',\n",
       " '-33.0126575000',\n",
       " '-33.0158405383',\n",
       " '-32.9988686667',\n",
       " '-33.0212096667',\n",
       " '-33.0207590000',\n",
       " '-33.0267701667',\n",
       " '-33.0051706667',\n",
       " '-33.0365791667',\n",
       " '-33.0400935000',\n",
       " '-33.0193460000',\n",
       " '-33.0229971667',\n",
       " '-33.0608266667',\n",
       " '-32.9440575000',\n",
       " '-32.8645158333',\n",
       " '32.8598274300',\n",
       " '-32.9520325717',\n",
       " '-32.9190546667',\n",
       " '-32.9805955983',\n",
       " '-32.8547806667',\n",
       " '-32.8021029200',\n",
       " '-32.8362288333',\n",
       " '-32.8130193333',\n",
       " '-32.8744331667',\n",
       " '-32.9646821667',\n",
       " '32.9107761680',\n",
       " '32.9230872040',\n",
       " '32.8618207060',\n",
       " '32.9968601150',\n",
       " '33.0710762750']"
      ]
     },
     "execution_count": 11,
     "metadata": {},
     "output_type": "execute_result"
    }
   ],
   "source": [
    "#fixing LAT\n",
    "#Step 1: get a list of proper lat\n",
    "import numpy as np\n",
    "##Step 1: calculating the text to numerical degree numbers\n",
    "#run once only\n",
    "lat_lst = []\n",
    "for idx,lat in enumerate(list(df['lat'].values)):\n",
    "    lat = lat.strip(' ')\n",
    "    lat = lat.strip(' ')\n",
    "    lat = lat.strip('\\n')\n",
    "    lat = lat.strip('S')\n",
    "    lat = lat.strip('-')\n",
    "    if lat == '' or idx==23:\n",
    "        msg = ''\n",
    "        lat_lst.append(msg)\n",
    "#         print(idx,msg)\n",
    "    else:\n",
    "        if lat[2]==';':\n",
    "            lat = lat.split(';')\n",
    "            lat_d = lat[0]\n",
    "            lat_m = lat[1]\n",
    "            lat_new = -float(lat_d)-float(lat_m)/60\n",
    "            lat_new_f = f'{lat_new:.10f}'\n",
    "            lat_lst.append(lat_new_f)\n",
    "#             print(idx,lat_new_f)\n",
    "        else:\n",
    "            lat = float(lat)\n",
    "            lat_new_f = f'{lat:.10f}'\n",
    "            lat_lst.append(lat_new_f)\n",
    "#             print(idx,lat_new_f)\n",
    "lat_lst"
   ]
  },
  {
   "cell_type": "code",
   "execution_count": 22,
   "metadata": {},
   "outputs": [
    {
     "name": "stdout",
     "output_type": "stream",
     "text": [
      "0 ('-33.0627491667', '-33.0627491667')\n",
      "1 ('-32.9876711667', '-32.9876711667')\n",
      "2 ('-33.0165816667', '-33.0165816667')\n",
      "3 ('-33.0706595000', '-33.0706595000')\n",
      "4 ('-33.0596008333', '-33.0596008333')\n",
      "5 ('-32.7939391667', '-32.7939391667')\n",
      "6 ('-32.7152435000', '-32.7152435000')\n",
      "7 ('-32.8244668333', '-32.8244668333')\n",
      "8 ('-32.8282465000', '-32.8282465000')\n",
      "9 ('-32.8624066667', '-32.8624066667')\n",
      "10 ('-32.8665453333', '-32.8665453333')\n",
      "11 ('-32.8723030000', '-32.8723030000')\n",
      "12 ('-32.8700186667', '-32.8700186667')\n",
      "13 ('-32.8564981667', '-32.8564981667')\n",
      "14 ('-32.8719000000', '-32.8719000000')\n",
      "15 ('-32.7157435000', '-32.7157435000')\n",
      "16 ('-32.8759278333', '-32.8759278333')\n",
      "17 ('-32.8104635000', '-32.8104635000')\n",
      "18 ('-32.8343250000', '-32.8343250000')\n",
      "19 ('-32.8805606667', '-32.8805606667')\n",
      "20 ('-32.8869911667', '-32.8869911667')\n",
      "21 ('-32.8886171667', '-32.8886171667')\n",
      "22 ('-32.8895150000', '-32.8895150000')\n",
      "23 ('', '-32.8932052500')\n",
      "24 ('-32.8968955000', '-32.8968955000')\n",
      "25 ('-32.7010233333', '-32.7010233333')\n",
      "26 ('-32.9054666667', '-32.9054666667')\n",
      "27 ('-86.2133093333', '-32.9031817500')\n",
      "28 ('-32.9008968333', '-32.9008968333')\n",
      "29 ('-32.8984333333', '-32.8984333333')\n",
      "30 ('-32.9036666667', '-32.9036666667')\n",
      "31 ('-32.9049655000', '-32.9049655000')\n",
      "32 ('-32.9096681667', '-32.9096681667')\n",
      "33 ('-32.9112868333', '-32.9112868333')\n",
      "34 ('-32.9118533333', '-32.9118533333')\n",
      "35 ('-32.8679566667', '-32.8679566667')\n",
      "36 ('-32.8746800000', '-32.8746800000')\n",
      "37 ('-32.8917160717', '-32.8917160717')\n",
      "38 ('-32.8932392900', '-32.8932392900')\n",
      "39 ('-32.9035370000', '-32.9035370000')\n",
      "40 ('-32.9303468333', '-32.9303468333')\n",
      "41 ('-32.8990460000', '-32.8990460000')\n",
      "42 ('-32.9366657717', '-32.9366657717')\n",
      "43 ('-32.9370350000', '-32.9370350000')\n",
      "44 ('-32.8946260217', '-32.8946260217')\n",
      "45 ('-86.2603579500', '-32.9189282608')\n",
      "46 ('-32.9432305000', '-32.9432305000')\n",
      "47 ('-32.9361470000', '-32.9361470000')\n",
      "48 ('-32.9425501650', '-32.9425501650')\n",
      "49 ('-32.9168005850', '-32.9168005850')\n",
      "50 ('-32.9501598333', '-32.9501598333')\n",
      "51 ('-32.9200151667', '-32.9200151667')\n",
      "52 ('-32.9508500233', '-32.9508500233')\n",
      "53 ('-32.9573363117', '-32.9573363117')\n",
      "54 ('-32.9571323333', '-32.9571323333')\n",
      "55 ('-32.9300000083', '-32.9300000083')\n",
      "56 ('-32.9301871667', '-32.9301871667')\n",
      "57 ('-33.0585068333', '-33.0585068333')\n",
      "58 ('-32.9386292017', '-32.9386292017')\n",
      "59 ('-32.9427646667', '-32.9427646667')\n",
      "60 ('-32.9683590000', '-32.9683590000')\n",
      "61 ('-32.9712843933', '-32.9712843933')\n",
      "62 ('-32.9830970000', '-32.9830970000')\n",
      "63 ('-32.9804626667', '-32.9804626667')\n",
      "64 ('-32.9806041667', '-32.9806041667')\n",
      "65 ('-32.9540128333', '-32.9540128333')\n",
      "66 ('-32.9933291667', '-32.9933291667')\n",
      "67 ('-32.9968303333', '-32.9968303333')\n",
      "68 ('-32.9951158333', '-32.9951158333')\n",
      "69 ('-32.9756273333', '-32.9756273333')\n",
      "70 ('-32.9797493333', '-32.9797493333')\n",
      "71 ('-33.0161360000', '-33.0161360000')\n",
      "72 ('-33.0122443333', '-33.0122443333')\n",
      "73 ('-33.0126575000', '-33.0126575000')\n",
      "74 ('-33.0158405383', '-33.0158405383')\n",
      "75 ('-32.9988686667', '-32.9988686667')\n",
      "76 ('-33.0212096667', '-33.0212096667')\n",
      "77 ('-33.0207590000', '-33.0207590000')\n",
      "78 ('-33.0267701667', '-33.0267701667')\n",
      "79 ('-33.0051706667', '-33.0051706667')\n",
      "80 ('-33.0365791667', '-33.0365791667')\n",
      "81 ('-33.0400935000', '-33.0400935000')\n",
      "82 ('-33.0193460000', '-33.0193460000')\n",
      "83 ('-33.0229971667', '-33.0229971667')\n",
      "84 ('-33.0608266667', '-33.0608266667')\n",
      "85 ('-32.9440575000', '-32.9440575000')\n",
      "86 ('-32.8645158333', '-32.8645158333')\n",
      "87 ('32.8598274300', '32.8598274300')\n",
      "88 ('-32.9520325717', '-32.9520325717')\n",
      "89 ('-32.9190546667', '-32.9190546667')\n",
      "90 ('-32.9805955983', '-32.9805955983')\n",
      "91 ('-32.8547806667', '-32.8547806667')\n",
      "92 ('-32.8021029200', '-32.8021029200')\n",
      "93 ('-32.8362288333', '-32.8362288333')\n",
      "94 ('-32.8130193333', '-32.8130193333')\n",
      "95 ('-32.8744331667', '-32.8744331667')\n",
      "96 ('-32.9646821667', '-32.9646821667')\n",
      "97 ('32.9107761680', '32.9107761680')\n",
      "98 ('32.9230872040', '32.9230872040')\n",
      "99 ('32.8618207060', '32.8618207060')\n",
      "100 ('32.9968601150', '32.9968601150')\n",
      "101 ('33.0710762750', '33.0710762750')\n"
     ]
    }
   ],
   "source": [
    "##Step 2: fix missing data and wrong input data\n",
    "#21: using before and after observations.\n",
    "lat_lst2 = []\n",
    "for index, l in enumerate(lat_lst): \n",
    "    if l=='' or float(l) < -35 and index!=0 and index!=len(lat_lst) :\n",
    "#         print(index,l)\n",
    "        l_before = lat_lst[index-1]\n",
    "        l_before = float(l_before)\n",
    "        l_after = lat_lst[index+1]\n",
    "        l_after = float(l_after)\n",
    "        l = (l_before + l_after)/2\n",
    "        l = f'{l:.10f}'\n",
    "        lat_lst2.append(l)\n",
    "#         print(index,l)\n",
    "    else:\n",
    "        lat_lst2.append(l)\n",
    "#         print(index,l)\n",
    "for counter,i in enumerate(zip(lat_lst,lat_lst2)): \n",
    "    print(counter,i)"
   ]
  },
  {
   "cell_type": "code",
   "execution_count": 27,
   "metadata": {},
   "outputs": [
    {
     "data": {
      "text/plain": [
       "array([-33.06274917, -32.98767117, -33.01658167, -33.0706595 ,\n",
       "       -33.05960083, -32.79393917, -32.7152435 , -32.82446683,\n",
       "       -32.8282465 , -32.86240667, -32.86654533, -32.872303  ,\n",
       "       -32.87001867, -32.85649817, -32.8719    , -32.7157435 ,\n",
       "       -32.87592783, -32.8104635 , -32.834325  , -32.88056067,\n",
       "       -32.88699117, -32.88861717, -32.889515  , -32.89320525,\n",
       "       -32.8968955 , -32.70102333, -32.90546667, -32.90318175,\n",
       "       -32.90089683, -32.89843333, -32.90366667, -32.9049655 ,\n",
       "       -32.90966817, -32.91128683, -32.91185333, -32.86795667,\n",
       "       -32.87468   , -32.89171607, -32.89323929, -32.903537  ,\n",
       "       -32.93034683, -32.899046  , -32.93666577, -32.937035  ,\n",
       "       -32.89462602, -32.91892826, -32.9432305 , -32.936147  ,\n",
       "       -32.94255017, -32.91680058, -32.95015983, -32.92001517,\n",
       "       -32.95085002, -32.95733631, -32.95713233, -32.93000001,\n",
       "       -32.93018717, -33.05850683, -32.9386292 , -32.94276467,\n",
       "       -32.968359  , -32.97128439, -32.983097  , -32.98046267,\n",
       "       -32.98060417, -32.95401283, -32.99332917, -32.99683033,\n",
       "       -32.99511583, -32.97562733, -32.97974933, -33.016136  ,\n",
       "       -33.01224433, -33.0126575 , -33.01584054, -32.99886867,\n",
       "       -33.02120967, -33.020759  , -33.02677017, -33.00517067,\n",
       "       -33.03657917, -33.0400935 , -33.019346  , -33.02299717,\n",
       "       -33.06082667, -32.9440575 , -32.86451583,  32.85982743,\n",
       "       -32.95203257, -32.91905467, -32.9805956 , -32.85478067,\n",
       "       -32.80210292, -32.83622883, -32.81301933, -32.87443317,\n",
       "       -32.96468217,  32.91077617,  32.9230872 ,  32.86182071,\n",
       "        32.99686011,  33.07107628])"
      ]
     },
     "execution_count": 27,
     "metadata": {},
     "output_type": "execute_result"
    }
   ],
   "source": [
    "#visual check of lat data\n",
    "#generate a numpy array\n",
    "lat_lst_ar = np.array([float(i) for i in lat_lst2])\n",
    "lat_lst_ar"
   ]
  },
  {
   "cell_type": "code",
   "execution_count": 28,
   "metadata": {
    "scrolled": true
   },
   "outputs": [
    {
     "data": {
      "text/plain": [
       "(-29.053663042498044, 33.071076275, -33.0706595, -32.918991463750004)"
      ]
     },
     "execution_count": 28,
     "metadata": {},
     "output_type": "execute_result"
    },
    {
     "data": {
      "image/png": "[encoded data removed]",
      "text/plain": [
       "<Figure size 432x288 with 1 Axes>"
      ]
     },
     "metadata": {
      "needs_background": "light"
     },
     "output_type": "display_data"
    }
   ],
   "source": [
    "#plot basic statistics of lat data\n",
    "import matplotlib.pyplot as plt\n",
    "plt.hist(lat_lst2, bins=10)\n",
    "lat_lst_ar.mean(),lat_lst_ar.max(),lat_lst_ar.min(),np.median(lat_lst_ar)"
   ]
  },
  {
   "cell_type": "code",
   "execution_count": 58,
   "metadata": {},
   "outputs": [
    {
     "data": {
      "text/plain": [
       "0     -33.062749\n",
       "25    -32.701023\n",
       "50    -32.950160\n",
       "75    -32.998869\n",
       "101    33.071076\n",
       "Name: lat, dtype: float64"
      ]
     },
     "execution_count": 58,
     "metadata": {},
     "output_type": "execute_result"
    }
   ],
   "source": [
    "#update lat column\n",
    "df['lat'] = lat_lst_ar\n",
    "df.iloc[[0,25,50,75,-1]]['lat']"
   ]
  },
  {
   "cell_type": "code",
   "execution_count": 35,
   "metadata": {},
   "outputs": [
    {
     "data": {
      "text/plain": [
       "array(['151;51.11618E', '151;45.68100E', '151;47.86027E', '151;52.09848E',\n",
       "       '151;52.51574E', '152;07.92832E', '152;07.64291E', '152;09.25275E',\n",
       "       '152;08.24501E', '152;09.6446', '152;09.55696E', '152;09.35569E',\n",
       "       '152;09.02395E', '152;10.37367E', '152;8.8420E', '152;06.02512E',\n",
       "       '152;08.37581E', '152;02.28212E', '152;05.07286E', '152;08.28297E',\n",
       "       '152;07.53275E', '152;07.20587E', '152;06.94053E', ' ',\n",
       "       '152;06.96611E', '152;04.6852E', '152;6.645E', '141;36.01489E',\n",
       "       '152;06.36750E', '152;5.863E', '152;5.759E', '152;05.38152E',\n",
       "       '152;05.38184E', '152;05.27583E', '152;05.1885E', '152;01.90708E',\n",
       "       '152;01.01059E', '152;01.6654427 E', '152;01.5396830',\n",
       "       '152;01.76691E', '152;04.37586E', '152;01.3718762 E',\n",
       "       '151;59.3436680 E', '152;03.01109E', '151;59.3720048 E',\n",
       "       '140;29.9771032 E', '152;02.33328E', '152;01.78743E',\n",
       "       '152;01.5690173 E', '151;59.0065833 E', '152;01.45615E',\n",
       "       '151;58.43397E', '152;00.0428444 E', '152;00.3596402 E',\n",
       "       '151;59.91395E', '151;57.4358512 E', '151;57.28795E',\n",
       "       '151;52.53182E', '151;56.8599328 E', '151;57.24402E',\n",
       "       '151;58.26748E', '151;58.3569692 E', '151;58.02238E',\n",
       "       '151;57.41872E', '151;57.42223E', '151;54.53868E', '151;56.87501E',\n",
       "       '151;56.62654E', '151;56.11876E', '151;53.93440E', '151;53.63350E',\n",
       "       '151;54.76152E', '151;55.42053E', '151;54.56273E',\n",
       "       '151;54.5888707 E', '151;55.56846E', '151;54.45284E',\n",
       "       '151;53.70647E', '151;53.65784E', '151;51.55666E', '151;53.19825E',\n",
       "       '151;53.21885E', '151;50.84557E', '151;50.63316E', '151;52.78634E',\n",
       "       '151;52.41791E', '152;08.76920E', '152.0527324',\n",
       "       '151;53.2577324 E', '151;58.24741E', '151;49.2620950 E',\n",
       "       '152;05.44634E', '152;03.7902200 E', '152;03.73330E',\n",
       "       '152;03.65174E', '151;53.64579E', '151;56.91740E',\n",
       "       '151.953135244 E', '151.974384971 E', '152.052926314 E',\n",
       "       '151.776381520 E', '151.867140396 E'], dtype=object)"
      ]
     },
     "execution_count": 35,
     "metadata": {},
     "output_type": "execute_result"
    }
   ],
   "source": [
    "#looking at lon\n",
    "df['lon'].unique()"
   ]
  },
  {
   "cell_type": "code",
   "execution_count": 41,
   "metadata": {},
   "outputs": [
    {
     "name": "stdout",
     "output_type": "stream",
     "text": [
      "0 151.8519363333\n",
      "1 151.7613500000\n",
      "2 151.7976711667\n",
      "3 151.8683080000\n",
      "4 151.8752623333\n",
      "5 152.1321386667\n",
      "6 152.1273818333\n",
      "7 152.1542125000\n",
      "8 152.1374168333\n",
      "9 152.1607433333\n",
      "10 152.1592826667\n",
      "11 152.1559281667\n",
      "12 152.1503991667\n",
      "13 152.1728945000\n",
      "14 152.1473666667\n",
      "15 152.1004186667\n",
      "16 152.1395968333\n",
      "17 152.0380353333\n",
      "18 152.0845476667\n",
      "19 152.1380495000\n",
      "20 152.1255458333\n",
      "21 152.1200978333\n",
      "22 152.1156755000\n",
      "23 \n",
      "24 152.1161018333\n",
      "25 152.0780866667\n",
      "26 152.1107500000\n",
      "27 141.6002481667\n",
      "28 152.1061250000\n",
      "29 152.0977166667\n",
      "30 152.0959833333\n",
      "31 152.0896920000\n",
      "32 152.0896973333\n",
      "33 152.0879305000\n",
      "34 152.0864750000\n",
      "35 152.0317846667\n",
      "36 152.0168431667\n",
      "37 152.0277573783\n",
      "38 152.0256613833\n",
      "39 152.0294485000\n",
      "40 152.0729310000\n",
      "41 152.0228646033\n",
      "42 151.9890611333\n",
      "43 152.0501848333\n",
      "44 151.9895334133\n",
      "45 140.4996183867\n",
      "46 152.0388880000\n",
      "47 152.0297905000\n",
      "48 152.0261502883\n",
      "49 151.9834430550\n",
      "50 152.0242691667\n",
      "51 151.9738995000\n",
      "52 152.0007140733\n",
      "53 152.0059940033\n",
      "54 151.9985658333\n",
      "55 151.9572641867\n",
      "56 151.9547991667\n",
      "57 151.8755303333\n",
      "58 151.9476655467\n",
      "59 151.9540670000\n",
      "60 151.9711246667\n",
      "61 151.9726161533\n",
      "62 151.9670396667\n",
      "63 151.9569786667\n",
      "64 151.9570371667\n",
      "65 151.9089780000\n",
      "66 151.9479168333\n",
      "67 151.9437756667\n",
      "68 151.9353126667\n",
      "69 151.8989066667\n",
      "70 151.8938916667\n",
      "71 151.9126920000\n",
      "72 151.9236755000\n",
      "73 151.9093788333\n",
      "74 151.9098145117\n",
      "75 151.9261410000\n",
      "76 151.9075473333\n",
      "77 151.8951078333\n",
      "78 151.8942973333\n",
      "79 151.8592776667\n",
      "80 151.8866375000\n",
      "81 151.8869808333\n",
      "82 151.8474261667\n",
      "83 151.8438860000\n",
      "84 151.8797723333\n",
      "85 151.8736318333\n",
      "86 152.1461533333\n",
      "87 152.0527324000\n",
      "88 151.8876288733\n",
      "89 151.9707901667\n",
      "90 151.8210349167\n",
      "91 152.0907723333\n",
      "92 152.0631703333\n",
      "93 152.0622216667\n",
      "94 152.0608623333\n",
      "95 151.8940965000\n",
      "96 151.9486233333\n",
      "97 151.9531352440\n",
      "98 151.9743849710\n",
      "99 152.0529263140\n",
      "100 151.7763815200\n",
      "101 151.8671403960\n"
     ]
    },
    {
     "data": {
      "text/plain": [
       "['151.8519363333',\n",
       " '151.7613500000',\n",
       " '151.7976711667',\n",
       " '151.8683080000',\n",
       " '151.8752623333',\n",
       " '152.1321386667',\n",
       " '152.1273818333',\n",
       " '152.1542125000',\n",
       " '152.1374168333',\n",
       " '152.1607433333',\n",
       " '152.1592826667',\n",
       " '152.1559281667',\n",
       " '152.1503991667',\n",
       " '152.1728945000',\n",
       " '152.1473666667',\n",
       " '152.1004186667',\n",
       " '152.1395968333',\n",
       " '152.0380353333',\n",
       " '152.0845476667',\n",
       " '152.1380495000',\n",
       " '152.1255458333',\n",
       " '152.1200978333',\n",
       " '152.1156755000',\n",
       " '',\n",
       " '152.1161018333',\n",
       " '152.0780866667',\n",
       " '152.1107500000',\n",
       " '141.6002481667',\n",
       " '152.1061250000',\n",
       " '152.0977166667',\n",
       " '152.0959833333',\n",
       " '152.0896920000',\n",
       " '152.0896973333',\n",
       " '152.0879305000',\n",
       " '152.0864750000',\n",
       " '152.0317846667',\n",
       " '152.0168431667',\n",
       " '152.0277573783',\n",
       " '152.0256613833',\n",
       " '152.0294485000',\n",
       " '152.0729310000',\n",
       " '152.0228646033',\n",
       " '151.9890611333',\n",
       " '152.0501848333',\n",
       " '151.9895334133',\n",
       " '140.4996183867',\n",
       " '152.0388880000',\n",
       " '152.0297905000',\n",
       " '152.0261502883',\n",
       " '151.9834430550',\n",
       " '152.0242691667',\n",
       " '151.9738995000',\n",
       " '152.0007140733',\n",
       " '152.0059940033',\n",
       " '151.9985658333',\n",
       " '151.9572641867',\n",
       " '151.9547991667',\n",
       " '151.8755303333',\n",
       " '151.9476655467',\n",
       " '151.9540670000',\n",
       " '151.9711246667',\n",
       " '151.9726161533',\n",
       " '151.9670396667',\n",
       " '151.9569786667',\n",
       " '151.9570371667',\n",
       " '151.9089780000',\n",
       " '151.9479168333',\n",
       " '151.9437756667',\n",
       " '151.9353126667',\n",
       " '151.8989066667',\n",
       " '151.8938916667',\n",
       " '151.9126920000',\n",
       " '151.9236755000',\n",
       " '151.9093788333',\n",
       " '151.9098145117',\n",
       " '151.9261410000',\n",
       " '151.9075473333',\n",
       " '151.8951078333',\n",
       " '151.8942973333',\n",
       " '151.8592776667',\n",
       " '151.8866375000',\n",
       " '151.8869808333',\n",
       " '151.8474261667',\n",
       " '151.8438860000',\n",
       " '151.8797723333',\n",
       " '151.8736318333',\n",
       " '152.1461533333',\n",
       " '152.0527324000',\n",
       " '151.8876288733',\n",
       " '151.9707901667',\n",
       " '151.8210349167',\n",
       " '152.0907723333',\n",
       " '152.0631703333',\n",
       " '152.0622216667',\n",
       " '152.0608623333',\n",
       " '151.8940965000',\n",
       " '151.9486233333',\n",
       " '151.9531352440',\n",
       " '151.9743849710',\n",
       " '152.0529263140',\n",
       " '151.7763815200',\n",
       " '151.8671403960']"
      ]
     },
     "execution_count": 41,
     "metadata": {},
     "output_type": "execute_result"
    }
   ],
   "source": [
    "#fixing LON\n",
    "#Step 1: get a list of proper lon\n",
    "import numpy as np\n",
    "##Step 1: calculoning the text to numerical degree numbers\n",
    "#run once only\n",
    "lon_lst = []\n",
    "for idx,lon in enumerate(list(df['lon'].values)):\n",
    "    lon = lon.strip(' ')\n",
    "    lon = lon.strip(' ')\n",
    "    lon = lon.strip('\\n')\n",
    "    lon = lon.strip('E')\n",
    "    lon = lon.strip('-')\n",
    "#     if lon == '' or idx==23:\n",
    "    if lon == '':\n",
    "        msg = ''\n",
    "        lon_lst.append(msg)\n",
    "        print(idx,msg)\n",
    "    else:\n",
    "        if lon[3]==';':\n",
    "            lon = lon.split(';')\n",
    "            lon_d = lon[0]\n",
    "            lon_m = lon[1]\n",
    "            lon_new = float(lon_d)+float(lon_m)/60\n",
    "            lon_new_f = f'{lon_new:.10f}'\n",
    "            lon_lst.append(lon_new_f)\n",
    "            print(idx,lon_new_f)\n",
    "        else:\n",
    "            lon = float(lon)\n",
    "            lon_new_f = f'{lon:.10f}'\n",
    "            lon_lst.append(lon_new_f)\n",
    "            print(idx,lon_new_f)\n",
    "lon_lst"
   ]
  },
  {
   "cell_type": "code",
   "execution_count": 45,
   "metadata": {},
   "outputs": [
    {
     "name": "stdout",
     "output_type": "stream",
     "text": [
      "23 \n",
      "27 141.6002481667\n",
      "45 140.4996183867\n",
      "0 ('151.8519363333', '151.8519363333')\n",
      "1 ('151.7613500000', '151.7613500000')\n",
      "2 ('151.7976711667', '151.7976711667')\n",
      "3 ('151.8683080000', '151.8683080000')\n",
      "4 ('151.8752623333', '151.8752623333')\n",
      "5 ('152.1321386667', '152.1321386667')\n",
      "6 ('152.1273818333', '152.1273818333')\n",
      "7 ('152.1542125000', '152.1542125000')\n",
      "8 ('152.1374168333', '152.1374168333')\n",
      "9 ('152.1607433333', '152.1607433333')\n",
      "10 ('152.1592826667', '152.1592826667')\n",
      "11 ('152.1559281667', '152.1559281667')\n",
      "12 ('152.1503991667', '152.1503991667')\n",
      "13 ('152.1728945000', '152.1728945000')\n",
      "14 ('152.1473666667', '152.1473666667')\n",
      "15 ('152.1004186667', '152.1004186667')\n",
      "16 ('152.1395968333', '152.1395968333')\n",
      "17 ('152.0380353333', '152.0380353333')\n",
      "18 ('152.0845476667', '152.0845476667')\n",
      "19 ('152.1380495000', '152.1380495000')\n",
      "20 ('152.1255458333', '152.1255458333')\n",
      "21 ('152.1200978333', '152.1200978333')\n",
      "22 ('152.1156755000', '152.1156755000')\n",
      "23 ('', '152.1158886666')\n",
      "24 ('152.1161018333', '152.1161018333')\n",
      "25 ('152.0780866667', '152.0780866667')\n",
      "26 ('152.1107500000', '152.1107500000')\n",
      "27 ('141.6002481667', '152.1084375000')\n",
      "28 ('152.1061250000', '152.1061250000')\n",
      "29 ('152.0977166667', '152.0977166667')\n",
      "30 ('152.0959833333', '152.0959833333')\n",
      "31 ('152.0896920000', '152.0896920000')\n",
      "32 ('152.0896973333', '152.0896973333')\n",
      "33 ('152.0879305000', '152.0879305000')\n",
      "34 ('152.0864750000', '152.0864750000')\n",
      "35 ('152.0317846667', '152.0317846667')\n",
      "36 ('152.0168431667', '152.0168431667')\n",
      "37 ('152.0277573783', '152.0277573783')\n",
      "38 ('152.0256613833', '152.0256613833')\n",
      "39 ('152.0294485000', '152.0294485000')\n",
      "40 ('152.0729310000', '152.0729310000')\n",
      "41 ('152.0228646033', '152.0228646033')\n",
      "42 ('151.9890611333', '151.9890611333')\n",
      "43 ('152.0501848333', '152.0501848333')\n",
      "44 ('151.9895334133', '151.9895334133')\n",
      "45 ('140.4996183867', '152.0142107066')\n",
      "46 ('152.0388880000', '152.0388880000')\n",
      "47 ('152.0297905000', '152.0297905000')\n",
      "48 ('152.0261502883', '152.0261502883')\n",
      "49 ('151.9834430550', '151.9834430550')\n",
      "50 ('152.0242691667', '152.0242691667')\n",
      "51 ('151.9738995000', '151.9738995000')\n",
      "52 ('152.0007140733', '152.0007140733')\n",
      "53 ('152.0059940033', '152.0059940033')\n",
      "54 ('151.9985658333', '151.9985658333')\n",
      "55 ('151.9572641867', '151.9572641867')\n",
      "56 ('151.9547991667', '151.9547991667')\n",
      "57 ('151.8755303333', '151.8755303333')\n",
      "58 ('151.9476655467', '151.9476655467')\n",
      "59 ('151.9540670000', '151.9540670000')\n",
      "60 ('151.9711246667', '151.9711246667')\n",
      "61 ('151.9726161533', '151.9726161533')\n",
      "62 ('151.9670396667', '151.9670396667')\n",
      "63 ('151.9569786667', '151.9569786667')\n",
      "64 ('151.9570371667', '151.9570371667')\n",
      "65 ('151.9089780000', '151.9089780000')\n",
      "66 ('151.9479168333', '151.9479168333')\n",
      "67 ('151.9437756667', '151.9437756667')\n",
      "68 ('151.9353126667', '151.9353126667')\n",
      "69 ('151.8989066667', '151.8989066667')\n",
      "70 ('151.8938916667', '151.8938916667')\n",
      "71 ('151.9126920000', '151.9126920000')\n",
      "72 ('151.9236755000', '151.9236755000')\n",
      "73 ('151.9093788333', '151.9093788333')\n",
      "74 ('151.9098145117', '151.9098145117')\n",
      "75 ('151.9261410000', '151.9261410000')\n",
      "76 ('151.9075473333', '151.9075473333')\n",
      "77 ('151.8951078333', '151.8951078333')\n",
      "78 ('151.8942973333', '151.8942973333')\n",
      "79 ('151.8592776667', '151.8592776667')\n",
      "80 ('151.8866375000', '151.8866375000')\n",
      "81 ('151.8869808333', '151.8869808333')\n",
      "82 ('151.8474261667', '151.8474261667')\n",
      "83 ('151.8438860000', '151.8438860000')\n",
      "84 ('151.8797723333', '151.8797723333')\n",
      "85 ('151.8736318333', '151.8736318333')\n",
      "86 ('152.1461533333', '152.1461533333')\n",
      "87 ('152.0527324000', '152.0527324000')\n",
      "88 ('151.8876288733', '151.8876288733')\n",
      "89 ('151.9707901667', '151.9707901667')\n",
      "90 ('151.8210349167', '151.8210349167')\n",
      "91 ('152.0907723333', '152.0907723333')\n",
      "92 ('152.0631703333', '152.0631703333')\n",
      "93 ('152.0622216667', '152.0622216667')\n",
      "94 ('152.0608623333', '152.0608623333')\n",
      "95 ('151.8940965000', '151.8940965000')\n",
      "96 ('151.9486233333', '151.9486233333')\n",
      "97 ('151.9531352440', '151.9531352440')\n",
      "98 ('151.9743849710', '151.9743849710')\n",
      "99 ('152.0529263140', '152.0529263140')\n",
      "100 ('151.7763815200', '151.7763815200')\n",
      "101 ('151.8671403960', '151.8671403960')\n"
     ]
    }
   ],
   "source": [
    "##Step 2: fix missing data and wrong input data\n",
    "#21: using before and after observations.\n",
    "lon_lst2 = []\n",
    "for index, l in enumerate(lon_lst): \n",
    "    if l=='' or float(l) < 150 and index!=0 and index!=len(lon_lst) :\n",
    "        print(index,l)\n",
    "        l_before = lon_lst[index-1]\n",
    "        l_before = float(l_before)\n",
    "        l_after = lon_lst[index+1]\n",
    "        l_after = float(l_after)\n",
    "        l = (l_before + l_after)/2\n",
    "        l = f'{l:.10f}'\n",
    "        lon_lst2.append(l)\n",
    "#         print(index,l)\n",
    "    else:\n",
    "        lon_lst2.append(l)\n",
    "#         print(index,l)\n",
    "for counter,i in enumerate(zip(lon_lst,lon_lst2)): \n",
    "    print(counter,i)"
   ]
  },
  {
   "cell_type": "code",
   "execution_count": 59,
   "metadata": {},
   "outputs": [
    {
     "data": {
      "text/plain": [
       "array([151.85193633, 151.76135   , 151.79767117, 151.868308  ,\n",
       "       151.87526233, 152.13213867, 152.12738183, 152.1542125 ,\n",
       "       152.13741683, 152.16074333, 152.15928267, 152.15592817,\n",
       "       152.15039917, 152.1728945 , 152.14736667, 152.10041867,\n",
       "       152.13959683, 152.03803533, 152.08454767, 152.1380495 ,\n",
       "       152.12554583, 152.12009783, 152.1156755 , 152.11588867,\n",
       "       152.11610183, 152.07808667, 152.11075   , 152.1084375 ,\n",
       "       152.106125  , 152.09771667, 152.09598333, 152.089692  ,\n",
       "       152.08969733, 152.0879305 , 152.086475  , 152.03178467,\n",
       "       152.01684317, 152.02775738, 152.02566138, 152.0294485 ,\n",
       "       152.072931  , 152.0228646 , 151.98906113, 152.05018483,\n",
       "       151.98953341, 152.01421071, 152.038888  , 152.0297905 ,\n",
       "       152.02615029, 151.98344306, 152.02426917, 151.9738995 ,\n",
       "       152.00071407, 152.005994  , 151.99856583, 151.95726419,\n",
       "       151.95479917, 151.87553033, 151.94766555, 151.954067  ,\n",
       "       151.97112467, 151.97261615, 151.96703967, 151.95697867,\n",
       "       151.95703717, 151.908978  , 151.94791683, 151.94377567,\n",
       "       151.93531267, 151.89890667, 151.89389167, 151.912692  ,\n",
       "       151.9236755 , 151.90937883, 151.90981451, 151.926141  ,\n",
       "       151.90754733, 151.89510783, 151.89429733, 151.85927767,\n",
       "       151.8866375 , 151.88698083, 151.84742617, 151.843886  ,\n",
       "       151.87977233, 151.87363183, 152.14615333, 152.0527324 ,\n",
       "       151.88762887, 151.97079017, 151.82103492, 152.09077233,\n",
       "       152.06317033, 152.06222167, 152.06086233, 151.8940965 ,\n",
       "       151.94862333, 151.95313524, 151.97438497, 152.05292631,\n",
       "       151.77638152, 151.8671404 ])"
      ]
     },
     "execution_count": 59,
     "metadata": {},
     "output_type": "execute_result"
    }
   ],
   "source": [
    "#visual check of lon data\n",
    "#generate a numpy array\n",
    "lon_lst_ar = np.array([float(i) for i in lon_lst2])\n",
    "lon_lst_ar"
   ]
  },
  {
   "cell_type": "code",
   "execution_count": 48,
   "metadata": {
    "scrolled": true
   },
   "outputs": [
    {
     "data": {
      "text/plain": [
       "(152.0006898471039, 152.1728945, 151.76135, 152.00335403830002)"
      ]
     },
     "execution_count": 48,
     "metadata": {},
     "output_type": "execute_result"
    },
    {
     "data": {
      "image/png": "[encoded data removed]",
      "text/plain": [
       "<Figure size 432x288 with 1 Axes>"
      ]
     },
     "metadata": {
      "needs_background": "light"
     },
     "output_type": "display_data"
    }
   ],
   "source": [
    "#plot basic statistics of lon data\n",
    "import matplotlib.pyplot as plt\n",
    "plt.hist(lon_lst2, bins=10)\n",
    "lon_lst_ar.mean(),lon_lst_ar.max(),lon_lst_ar.min(),np.median(lon_lst_ar)"
   ]
  },
  {
   "cell_type": "code",
   "execution_count": 60,
   "metadata": {},
   "outputs": [
    {
     "data": {
      "text/plain": [
       "0      151.851936\n",
       "25     152.078087\n",
       "50     152.024269\n",
       "75     151.926141\n",
       "101    151.867140\n",
       "Name: lon, dtype: float64"
      ]
     },
     "execution_count": 60,
     "metadata": {},
     "output_type": "execute_result"
    }
   ],
   "source": [
    "#update lon column\n",
    "df['lon'] = lon_lst_ar\n",
    "df.iloc[[0,25,50,75,-1]]['lon']"
   ]
  },
  {
   "cell_type": "code",
   "execution_count": 50,
   "metadata": {
    "scrolled": true
   },
   "outputs": [
    {
     "name": "stdout",
     "output_type": "stream",
     "text": [
      "Variable        Type         Data/Info\n",
      "--------------------------------------\n",
      "counter         int          101\n",
      "df              DataFrame         oid_   index        <...>\\n[102 rows x 15 columns]\n",
      "file_n          str          20210112_1830_SVP\n",
      "i               tuple        n=2\n",
      "idx             int          101\n",
      "in_csv          str          E:\\HIPP\\11_Deliverables\\0<...>VP_Raw\\SI1001_SVP_RAW.csv\n",
      "index           int          101\n",
      "l               str          151.8671403960\n",
      "l_after         float        152.038888\n",
      "l_before        float        151.9895334133\n",
      "lat             float        33.071076275\n",
      "lat_d           str          32\n",
      "lat_lst         list         n=102\n",
      "lat_lst2        list         n=102\n",
      "lat_lst_ar      ndarray      102: 102 elems, type `float64`, 816 bytes\n",
      "lat_m           str          57.88093\n",
      "lat_new         float        -32.96468216666667\n",
      "lat_new_f       str          33.0710762750\n",
      "lon             float        151.867140396\n",
      "lon_d           str          151\n",
      "lon_lst         list         n=102\n",
      "lon_lst2        list         n=102\n",
      "lon_lst_ar      ndarray      102: 102 elems, type `float64`, 816 bytes\n",
      "lon_m           str          56.91740\n",
      "lon_new         float        151.94862333333333\n",
      "lon_new_f       str          151.8671403960\n",
      "msg             str          \n",
      "new_col_names   list         n=15\n",
      "np              module       <module 'numpy' from 'C:\\<...>ges\\\\numpy\\\\__init__.py'>\n",
      "os              module       <module 'os' from 'C:\\\\Us<...>o-py3-clone\\\\lib\\\\os.py'>\n",
      "pd              module       <module 'pandas' from 'C:<...>es\\\\pandas\\\\__init__.py'>\n",
      "plt             module       <module 'matplotlib.pyplo<...>\\\\matplotlib\\\\pyplot.py'>\n",
      "url_list        list         n=102\n"
     ]
    }
   ],
   "source": [
    "%whos"
   ]
  },
  {
   "cell_type": "code",
   "execution_count": 61,
   "metadata": {},
   "outputs": [
    {
     "data": {
      "text/html": [
       "<div>\n",
       "<style scoped>\n",
       "    .dataframe tbody tr th:only-of-type {\n",
       "        vertical-align: middle;\n",
       "    }\n",
       "\n",
       "    .dataframe tbody tr th {\n",
       "        vertical-align: top;\n",
       "    }\n",
       "\n",
       "    .dataframe thead th {\n",
       "        text-align: right;\n",
       "    }\n",
       "</style>\n",
       "<table border=\"1\" class=\"dataframe\">\n",
       "  <thead>\n",
       "    <tr style=\"text-align: right;\">\n",
       "      <th></th>\n",
       "      <th>oid_</th>\n",
       "      <th>index</th>\n",
       "      <th>date</th>\n",
       "      <th>utc</th>\n",
       "      <th>svp_file</th>\n",
       "      <th>svp_url</th>\n",
       "      <th>svp_source</th>\n",
       "      <th>e_utm56s</th>\n",
       "      <th>n_utm56s</th>\n",
       "      <th>zone</th>\n",
       "      <th>lat</th>\n",
       "      <th>lon</th>\n",
       "      <th>depth</th>\n",
       "      <th>comment</th>\n",
       "      <th>enter_prof</th>\n",
       "    </tr>\n",
       "  </thead>\n",
       "  <tbody>\n",
       "    <tr>\n",
       "      <th>0</th>\n",
       "      <td>0</td>\n",
       "      <td>SVP002</td>\n",
       "      <td>9/12/2020 0:00:00</td>\n",
       "      <td>06:04</td>\n",
       "      <td>20201209_0555_SVP</td>\n",
       "      <td>11_FinalDeliverables\\03_Bathymetry\\05_SoundVel...</td>\n",
       "      <td>MiniSVP SN67443</td>\n",
       "      <td>392825.73</td>\n",
       "      <td>6341170.80</td>\n",
       "      <td>56S</td>\n",
       "      <td>-33.062749</td>\n",
       "      <td>151.851936</td>\n",
       "      <td>127</td>\n",
       "      <td>Use Valeport to export .asvp</td>\n",
       "      <td>ES</td>\n",
       "    </tr>\n",
       "    <tr>\n",
       "      <th>50</th>\n",
       "      <td>50</td>\n",
       "      <td>SVP052</td>\n",
       "      <td>24/12/2020 0:00:00</td>\n",
       "      <td>14:13</td>\n",
       "      <td>20201224_1400_SVP</td>\n",
       "      <td>11_FinalDeliverables\\03_Bathymetry\\05_SoundVel...</td>\n",
       "      <td>MiniSVP SN67443</td>\n",
       "      <td>408798.26</td>\n",
       "      <td>6353815.91</td>\n",
       "      <td>56S</td>\n",
       "      <td>-32.950160</td>\n",
       "      <td>152.024269</td>\n",
       "      <td>112</td>\n",
       "      <td>Block 02</td>\n",
       "      <td>NS</td>\n",
       "    </tr>\n",
       "    <tr>\n",
       "      <th>100</th>\n",
       "      <td>100</td>\n",
       "      <td>SVP102</td>\n",
       "      <td>12/01/2021 0:00:00</td>\n",
       "      <td>04:00</td>\n",
       "      <td>20210112_0400_SVP</td>\n",
       "      <td>11_FinalDeliverables\\03_Bathymetry\\05_SoundVel...</td>\n",
       "      <td>MiniSVP SN67443</td>\n",
       "      <td>385687.05</td>\n",
       "      <td>6348396.33</td>\n",
       "      <td>56S</td>\n",
       "      <td>32.996860</td>\n",
       "      <td>151.776382</td>\n",
       "      <td>35</td>\n",
       "      <td>Block 01</td>\n",
       "      <td>BT</td>\n",
       "    </tr>\n",
       "    <tr>\n",
       "      <th>101</th>\n",
       "      <td>101</td>\n",
       "      <td>SVP103</td>\n",
       "      <td>12/01/2021 0:00:00</td>\n",
       "      <td>18:23</td>\n",
       "      <td>20210112_1830_SVP</td>\n",
       "      <td>11_FinalDeliverables\\03_Bathymetry\\05_SoundVel...</td>\n",
       "      <td>MiniSVP SN67443</td>\n",
       "      <td>394255.10</td>\n",
       "      <td>6340262.99</td>\n",
       "      <td>56S</td>\n",
       "      <td>33.071076</td>\n",
       "      <td>151.867140</td>\n",
       "      <td>108</td>\n",
       "      <td>Block 01</td>\n",
       "      <td>NS</td>\n",
       "    </tr>\n",
       "  </tbody>\n",
       "</table>\n",
       "</div>"
      ],
      "text/plain": [
       "     oid_   index                date    utc           svp_file  \\\n",
       "0       0  SVP002   9/12/2020 0:00:00  06:04  20201209_0555_SVP   \n",
       "50     50  SVP052  24/12/2020 0:00:00  14:13  20201224_1400_SVP   \n",
       "100   100  SVP102  12/01/2021 0:00:00  04:00  20210112_0400_SVP   \n",
       "101   101  SVP103  12/01/2021 0:00:00  18:23  20210112_1830_SVP   \n",
       "\n",
       "                                               svp_url       svp_source  \\\n",
       "0    11_FinalDeliverables\\03_Bathymetry\\05_SoundVel...  MiniSVP SN67443   \n",
       "50   11_FinalDeliverables\\03_Bathymetry\\05_SoundVel...  MiniSVP SN67443   \n",
       "100  11_FinalDeliverables\\03_Bathymetry\\05_SoundVel...  MiniSVP SN67443   \n",
       "101  11_FinalDeliverables\\03_Bathymetry\\05_SoundVel...  MiniSVP SN67443   \n",
       "\n",
       "      e_utm56s    n_utm56s zone        lat         lon  depth  \\\n",
       "0    392825.73  6341170.80  56S -33.062749  151.851936    127   \n",
       "50   408798.26  6353815.91  56S -32.950160  152.024269    112   \n",
       "100  385687.05  6348396.33  56S  32.996860  151.776382     35   \n",
       "101  394255.10  6340262.99  56S  33.071076  151.867140    108   \n",
       "\n",
       "                          comment enter_prof  \n",
       "0    Use Valeport to export .asvp         ES  \n",
       "50                       Block 02         NS  \n",
       "100                      Block 01         BT  \n",
       "101                      Block 01         NS  "
      ]
     },
     "execution_count": 61,
     "metadata": {},
     "output_type": "execute_result"
    }
   ],
   "source": [
    "#check the who data frame\n",
    "df.iloc[[0,50,100,-1]]"
   ]
  },
  {
   "cell_type": "markdown",
   "metadata": {},
   "source": [
    "#### Add sample number column"
   ]
  },
  {
   "cell_type": "code",
   "execution_count": 229,
   "metadata": {},
   "outputs": [
    {
     "data": {
      "text/html": [
       "<div>\n",
       "<style scoped>\n",
       "    .dataframe tbody tr th:only-of-type {\n",
       "        vertical-align: middle;\n",
       "    }\n",
       "\n",
       "    .dataframe tbody tr th {\n",
       "        vertical-align: top;\n",
       "    }\n",
       "\n",
       "    .dataframe thead th {\n",
       "        text-align: right;\n",
       "    }\n",
       "</style>\n",
       "<table border=\"1\" class=\"dataframe\">\n",
       "  <thead>\n",
       "    <tr style=\"text-align: right;\">\n",
       "      <th></th>\n",
       "      <th>oid_</th>\n",
       "      <th>index</th>\n",
       "      <th>date</th>\n",
       "      <th>utc</th>\n",
       "      <th>svp_file</th>\n",
       "      <th>svp_url</th>\n",
       "      <th>svp_source</th>\n",
       "      <th>e_utm56s</th>\n",
       "      <th>n_utm56s</th>\n",
       "      <th>zone</th>\n",
       "      <th>lat</th>\n",
       "      <th>lon</th>\n",
       "      <th>depth</th>\n",
       "      <th>comment</th>\n",
       "      <th>enter_prof</th>\n",
       "      <th>SHAPE</th>\n",
       "      <th>sample_num</th>\n",
       "    </tr>\n",
       "  </thead>\n",
       "  <tbody>\n",
       "    <tr>\n",
       "      <th>0</th>\n",
       "      <td>0</td>\n",
       "      <td>SVP002</td>\n",
       "      <td>9/12/2020 0:00:00</td>\n",
       "      <td>06:04</td>\n",
       "      <td>20201209_0555_SVP</td>\n",
       "      <td>11_FinalDeliverables\\03_Bathymetry\\05_SoundVel...</td>\n",
       "      <td>MiniSVP SN67443</td>\n",
       "      <td>392825.73</td>\n",
       "      <td>6341170.80</td>\n",
       "      <td>56S</td>\n",
       "      <td>-33.062749</td>\n",
       "      <td>151.851936</td>\n",
       "      <td>127</td>\n",
       "      <td>Use Valeport to export .asvp</td>\n",
       "      <td>ES</td>\n",
       "      <td>{\"spatialReference\": {\"wkid\": 32756}, \"x\": 392...</td>\n",
       "      <td>002</td>\n",
       "    </tr>\n",
       "    <tr>\n",
       "      <th>50</th>\n",
       "      <td>50</td>\n",
       "      <td>SVP052</td>\n",
       "      <td>24/12/2020 0:00:00</td>\n",
       "      <td>14:13</td>\n",
       "      <td>20201224_1400_SVP</td>\n",
       "      <td>11_FinalDeliverables\\03_Bathymetry\\05_SoundVel...</td>\n",
       "      <td>MiniSVP SN67443</td>\n",
       "      <td>408798.26</td>\n",
       "      <td>6353815.91</td>\n",
       "      <td>56S</td>\n",
       "      <td>-32.950160</td>\n",
       "      <td>152.024269</td>\n",
       "      <td>112</td>\n",
       "      <td>Block 02</td>\n",
       "      <td>NS</td>\n",
       "      <td>{\"spatialReference\": {\"wkid\": 32756}, \"x\": 408...</td>\n",
       "      <td>052</td>\n",
       "    </tr>\n",
       "    <tr>\n",
       "      <th>100</th>\n",
       "      <td>100</td>\n",
       "      <td>SVP102</td>\n",
       "      <td>12/01/2021 0:00:00</td>\n",
       "      <td>04:00</td>\n",
       "      <td>20210112_0400_SVP</td>\n",
       "      <td>11_FinalDeliverables\\03_Bathymetry\\05_SoundVel...</td>\n",
       "      <td>MiniSVP SN67443</td>\n",
       "      <td>385687.05</td>\n",
       "      <td>6348396.33</td>\n",
       "      <td>56S</td>\n",
       "      <td>32.996860</td>\n",
       "      <td>151.776382</td>\n",
       "      <td>35</td>\n",
       "      <td>Block 01</td>\n",
       "      <td>BT</td>\n",
       "      <td>{\"spatialReference\": {\"wkid\": 32756}, \"x\": 385...</td>\n",
       "      <td>102</td>\n",
       "    </tr>\n",
       "    <tr>\n",
       "      <th>101</th>\n",
       "      <td>101</td>\n",
       "      <td>SVP103</td>\n",
       "      <td>12/01/2021 0:00:00</td>\n",
       "      <td>18:23</td>\n",
       "      <td>20210112_1830_SVP</td>\n",
       "      <td>11_FinalDeliverables\\03_Bathymetry\\05_SoundVel...</td>\n",
       "      <td>MiniSVP SN67443</td>\n",
       "      <td>394255.10</td>\n",
       "      <td>6340262.99</td>\n",
       "      <td>56S</td>\n",
       "      <td>33.071076</td>\n",
       "      <td>151.867140</td>\n",
       "      <td>108</td>\n",
       "      <td>Block 01</td>\n",
       "      <td>NS</td>\n",
       "      <td>{\"spatialReference\": {\"wkid\": 32756}, \"x\": 394...</td>\n",
       "      <td>103</td>\n",
       "    </tr>\n",
       "  </tbody>\n",
       "</table>\n",
       "</div>"
      ],
      "text/plain": [
       "     oid_   index                date    utc           svp_file  \\\n",
       "0       0  SVP002   9/12/2020 0:00:00  06:04  20201209_0555_SVP   \n",
       "50     50  SVP052  24/12/2020 0:00:00  14:13  20201224_1400_SVP   \n",
       "100   100  SVP102  12/01/2021 0:00:00  04:00  20210112_0400_SVP   \n",
       "101   101  SVP103  12/01/2021 0:00:00  18:23  20210112_1830_SVP   \n",
       "\n",
       "                                               svp_url       svp_source  \\\n",
       "0    11_FinalDeliverables\\03_Bathymetry\\05_SoundVel...  MiniSVP SN67443   \n",
       "50   11_FinalDeliverables\\03_Bathymetry\\05_SoundVel...  MiniSVP SN67443   \n",
       "100  11_FinalDeliverables\\03_Bathymetry\\05_SoundVel...  MiniSVP SN67443   \n",
       "101  11_FinalDeliverables\\03_Bathymetry\\05_SoundVel...  MiniSVP SN67443   \n",
       "\n",
       "      e_utm56s    n_utm56s zone        lat         lon  depth  \\\n",
       "0    392825.73  6341170.80  56S -33.062749  151.851936    127   \n",
       "50   408798.26  6353815.91  56S -32.950160  152.024269    112   \n",
       "100  385687.05  6348396.33  56S  32.996860  151.776382     35   \n",
       "101  394255.10  6340262.99  56S  33.071076  151.867140    108   \n",
       "\n",
       "                          comment enter_prof  \\\n",
       "0    Use Valeport to export .asvp         ES   \n",
       "50                       Block 02         NS   \n",
       "100                      Block 01         BT   \n",
       "101                      Block 01         NS   \n",
       "\n",
       "                                                 SHAPE sample_num  \n",
       "0    {\"spatialReference\": {\"wkid\": 32756}, \"x\": 392...        002  \n",
       "50   {\"spatialReference\": {\"wkid\": 32756}, \"x\": 408...        052  \n",
       "100  {\"spatialReference\": {\"wkid\": 32756}, \"x\": 385...        102  \n",
       "101  {\"spatialReference\": {\"wkid\": 32756}, \"x\": 394...        103  "
      ]
     },
     "execution_count": 229,
     "metadata": {},
     "output_type": "execute_result"
    }
   ],
   "source": [
    "#add new column named sample_number\n",
    "df['sample_num'] = [i[3:] for i in list(sdf['index'].unique())]\n",
    "df.iloc[[0,50,100,-1]]"
   ]
  },
  {
   "cell_type": "markdown",
   "metadata": {
    "heading_collapsed": true
   },
   "source": [
    "#### Calculate coordinates for 2 two cols in UTM56S: already available"
   ]
  },
  {
   "cell_type": "raw",
   "metadata": {
    "hidden": true
   },
   "source": [
    "#Define coordinate transformation using pyproj\n",
    "from pyproj import CRS\n",
    "crs_4326 = CRS.from_epsg(4326)\n",
    "crs_4326\n",
    "crs_32756  = CRS.from_epsg(32756 )\n",
    "crs_32756 \n",
    "#define coordinate transformation functions\n",
    "from pyproj import Transformer\n",
    "WGS84toUTM56S = Transformer.from_crs(crs_4326, crs_32756,always_xy=True) #x,y or lon,lat order\n",
    "UTM56StoWGS84 = Transformer.from_crs(crs_32756, crs_4326,always_xy=True) #x,y or lon,lat order\n",
    "# transformer = Transformer.from_crs(4326, 32756)\n",
    "# transformer = Transformer.from_crs(\"EPSG:4326\", \"EPSG:32756\")\n",
    "print(WGS84toUTM56S)\n",
    "print(UTM56StoWGS84)\n",
    "\n",
    "#use WGS84toUTM56S to transform from WGS84 to UTM56S\n",
    "import numpy as np\n",
    "lon_list = list(df['lon'])\n",
    "lat_list = list(df['lat'])\n",
    "\n",
    "e_list = []\n",
    "n_list = []\n",
    "for idx,lon in enumerate(lon_list):  \n",
    "#     print(idx,lon,lat_list[idx])    \n",
    "    output = WGS84toUTM56S.transform(lon, lat_list[idx])\n",
    "    e_list.append(output[0])\n",
    "    n_list.append(output[1])\n",
    "#     print(idx,output)\n",
    "#add new coordinate into dataframe\n",
    "df['e_utm56s'] = e_list\n",
    "df['n_utm56s'] = n_list\n",
    "print(df.loc[0:10][['lon', 'lat', 'e_utm56s', 'n_utm56s']])\n",
    "\n",
    "#check the transformation by doing 10 first row from utm56s to wgs84\n",
    "e_list2 = list(df.loc[0:10]['e_utm56s'])\n",
    "n_list2 = list(df.loc[0:10]['n_utm56s'])\n",
    "lon_list2 = []\n",
    "lat_list2 = []\n",
    "for idx2,e in enumerate(e_list2):  \n",
    "#     print(idx,e,n_list2[idx])    \n",
    "    output = UTM56StoWGS84.transform(e, n_list2[idx2])\n",
    "    lon_list2.append(output[0])\n",
    "    lat_list2.append(output[1])\n",
    "#     print(idx,output)\n",
    "#check the results\n",
    "for id2,i in enumerate(zip(lon_list2,lat_list2,e_list2,n_list2)): \n",
    "    print(id2,i)\n",
    "df.iloc[[0,50,100,-1]]"
   ]
  },
  {
   "cell_type": "code",
   "execution_count": 12,
   "metadata": {
    "hidden": true,
    "scrolled": false
   },
   "outputs": [
    {
     "data": {
      "text/html": [
       "<div>\n",
       "<style scoped>\n",
       "    .dataframe tbody tr th:only-of-type {\n",
       "        vertical-align: middle;\n",
       "    }\n",
       "\n",
       "    .dataframe tbody tr th {\n",
       "        vertical-align: top;\n",
       "    }\n",
       "\n",
       "    .dataframe thead th {\n",
       "        text-align: right;\n",
       "    }\n",
       "</style>\n",
       "<table border=\"1\" class=\"dataframe\">\n",
       "  <thead>\n",
       "    <tr style=\"text-align: right;\">\n",
       "      <th></th>\n",
       "      <th>oid_</th>\n",
       "      <th>e_utm56s</th>\n",
       "      <th>n_utm56s</th>\n",
       "      <th>depth</th>\n",
       "    </tr>\n",
       "  </thead>\n",
       "  <tbody>\n",
       "    <tr>\n",
       "      <th>count</th>\n",
       "      <td>102.000000</td>\n",
       "      <td>102.000000</td>\n",
       "      <td>1.020000e+02</td>\n",
       "      <td>102.000000</td>\n",
       "    </tr>\n",
       "    <tr>\n",
       "      <th>mean</th>\n",
       "      <td>50.500000</td>\n",
       "      <td>406464.019314</td>\n",
       "      <td>6.356211e+06</td>\n",
       "      <td>88.696078</td>\n",
       "    </tr>\n",
       "    <tr>\n",
       "      <th>std</th>\n",
       "      <td>29.588849</td>\n",
       "      <td>9439.136997</td>\n",
       "      <td>8.629002e+03</td>\n",
       "      <td>29.297987</td>\n",
       "    </tr>\n",
       "    <tr>\n",
       "      <th>min</th>\n",
       "      <td>0.000000</td>\n",
       "      <td>384270.690000</td>\n",
       "      <td>6.340263e+06</td>\n",
       "      <td>0.000000</td>\n",
       "    </tr>\n",
       "    <tr>\n",
       "      <th>25%</th>\n",
       "      <td>25.250000</td>\n",
       "      <td>398242.377500</td>\n",
       "      <td>6.350147e+06</td>\n",
       "      <td>75.250000</td>\n",
       "    </tr>\n",
       "    <tr>\n",
       "      <th>50%</th>\n",
       "      <td>50.500000</td>\n",
       "      <td>406847.360000</td>\n",
       "      <td>6.356022e+06</td>\n",
       "      <td>105.000000</td>\n",
       "    </tr>\n",
       "    <tr>\n",
       "      <th>75%</th>\n",
       "      <td>75.750000</td>\n",
       "      <td>414830.622500</td>\n",
       "      <td>6.361975e+06</td>\n",
       "      <td>110.000000</td>\n",
       "    </tr>\n",
       "    <tr>\n",
       "      <th>max</th>\n",
       "      <td>101.000000</td>\n",
       "      <td>422609.300000</td>\n",
       "      <td>6.381481e+06</td>\n",
       "      <td>127.000000</td>\n",
       "    </tr>\n",
       "  </tbody>\n",
       "</table>\n",
       "</div>"
      ],
      "text/plain": [
       "             oid_       e_utm56s      n_utm56s       depth\n",
       "count  102.000000     102.000000  1.020000e+02  102.000000\n",
       "mean    50.500000  406464.019314  6.356211e+06   88.696078\n",
       "std     29.588849    9439.136997  8.629002e+03   29.297987\n",
       "min      0.000000  384270.690000  6.340263e+06    0.000000\n",
       "25%     25.250000  398242.377500  6.350147e+06   75.250000\n",
       "50%     50.500000  406847.360000  6.356022e+06  105.000000\n",
       "75%     75.750000  414830.622500  6.361975e+06  110.000000\n",
       "max    101.000000  422609.300000  6.381481e+06  127.000000"
      ]
     },
     "execution_count": 12,
     "metadata": {},
     "output_type": "execute_result"
    }
   ],
   "source": [
    "df.describe()"
   ]
  },
  {
   "cell_type": "markdown",
   "metadata": {
    "heading_collapsed": true
   },
   "source": [
    "#### Play with data - understand data"
   ]
  },
  {
   "cell_type": "raw",
   "metadata": {
    "hidden": true
   },
   "source": [
    "df.dtypes"
   ]
  },
  {
   "cell_type": "raw",
   "metadata": {
    "hidden": true
   },
   "source": [
    "df.iloc[0] #1st row"
   ]
  },
  {
   "cell_type": "raw",
   "metadata": {
    "hidden": true
   },
   "source": [
    "df[['sample_id','class','url']].head()"
   ]
  },
  {
   "cell_type": "raw",
   "metadata": {
    "hidden": true
   },
   "source": [
    "df['url'][0]"
   ]
  },
  {
   "cell_type": "raw",
   "metadata": {
    "hidden": true
   },
   "source": [
    "df.url.iloc[0]"
   ]
  },
  {
   "cell_type": "raw",
   "metadata": {
    "hidden": true
   },
   "source": [
    "df.iloc[1:-1:50]"
   ]
  },
  {
   "cell_type": "code",
   "execution_count": null,
   "metadata": {
    "hidden": true
   },
   "outputs": [],
   "source": [
    "df.depth.agg(['mean','max','min'])"
   ]
  },
  {
   "cell_type": "raw",
   "metadata": {
    "hidden": true
   },
   "source": [
    "df.agg(['mean','max','min'])"
   ]
  },
  {
   "cell_type": "code",
   "execution_count": null,
   "metadata": {
    "hidden": true
   },
   "outputs": [],
   "source": [
    "df.groupby('date_utc').depth.agg(['mean','min','max','median'])"
   ]
  },
  {
   "cell_type": "code",
   "execution_count": null,
   "metadata": {
    "hidden": true
   },
   "outputs": [],
   "source": [
    "df.groupby('class').depth.agg(['mean','min','max','median'])"
   ]
  },
  {
   "cell_type": "code",
   "execution_count": null,
   "metadata": {
    "hidden": true
   },
   "outputs": [],
   "source": [
    "df.groupby(['class','date_utc']).depth.agg(['mean','median','min','max'])"
   ]
  },
  {
   "cell_type": "code",
   "execution_count": null,
   "metadata": {
    "hidden": true
   },
   "outputs": [],
   "source": [
    "df.groupby(['date_utc','class']).depth.agg(['mean','median','min','max'])"
   ]
  },
  {
   "cell_type": "markdown",
   "metadata": {},
   "source": [
    "#### 1c Simple Visual check - Pandas"
   ]
  },
  {
   "cell_type": "code",
   "execution_count": 67,
   "metadata": {},
   "outputs": [
    {
     "data": {
      "text/plain": [
       "<AxesSubplot:xlabel='lon', ylabel='lat'>"
      ]
     },
     "execution_count": 67,
     "metadata": {},
     "output_type": "execute_result"
    },
    {
     "data": {
      "image/png": "[encoded data removed]",
      "text/plain": [
       "<Figure size 432x288 with 2 Axes>"
      ]
     },
     "metadata": {
      "needs_background": "light"
     },
     "output_type": "display_data"
    }
   ],
   "source": [
    "#visual check using lon/lat: bad\n",
    "df.plot.hexbin(x='lon',y='lat',C='depth',gridsize=35)"
   ]
  },
  {
   "cell_type": "code",
   "execution_count": 68,
   "metadata": {},
   "outputs": [
    {
     "data": {
      "text/plain": [
       "<AxesSubplot:xlabel='e_utm56s', ylabel='n_utm56s'>"
      ]
     },
     "execution_count": 68,
     "metadata": {},
     "output_type": "execute_result"
    },
    {
     "data": {
      "image/png": "[encoded data removed]",
      "text/plain": [
       "<Figure size 432x288 with 2 Axes>"
      ]
     },
     "metadata": {
      "needs_background": "light"
     },
     "output_type": "display_data"
    }
   ],
   "source": [
    "#visual check using x,y: good\n",
    "df.plot.hexbin(x='e_utm56s',y='n_utm56s',C='depth',gridsize=35)"
   ]
  },
  {
   "cell_type": "code",
   "execution_count": 71,
   "metadata": {},
   "outputs": [
    {
     "name": "stdout",
     "output_type": "stream",
     "text": [
      "count    102.000000\n",
      "mean      88.696078\n",
      "std       29.297987\n",
      "min        0.000000\n",
      "25%       75.250000\n",
      "50%      105.000000\n",
      "75%      110.000000\n",
      "max      127.000000\n",
      "Name: depth, dtype: float64\n",
      "(101.6, 114.3]    46\n",
      "(76.2, 88.9]      16\n",
      "(114.3, 127.0]    10\n",
      "(63.5, 76.2]       8\n",
      "(25.4, 38.1]       7\n",
      "(50.8, 63.5]       5\n",
      "(38.1, 50.8]       4\n",
      "(88.9, 101.6]      3\n",
      "(12.7, 25.4]       2\n",
      "(-0.128, 12.7]     1\n",
      "Name: depth, dtype: int64\n"
     ]
    },
    {
     "data": {
      "image/png": "[encoded data removed]",
      "text/plain": [
       "<Figure size 432x288 with 1 Axes>"
      ]
     },
     "metadata": {
      "needs_background": "light"
     },
     "output_type": "display_data"
    }
   ],
   "source": [
    "#Depth histogram\n",
    "print(df['depth'].describe())\n",
    "depth_bin10 = df['depth'].value_counts(bins=10)\n",
    "print(depth_bin10)\n",
    "df['depth'].plot.hist(bins=10);"
   ]
  },
  {
   "cell_type": "code",
   "execution_count": 74,
   "metadata": {},
   "outputs": [
    {
     "data": {
      "text/html": [
       "<div>\n",
       "<style scoped>\n",
       "    .dataframe tbody tr th:only-of-type {\n",
       "        vertical-align: middle;\n",
       "    }\n",
       "\n",
       "    .dataframe tbody tr th {\n",
       "        vertical-align: top;\n",
       "    }\n",
       "\n",
       "    .dataframe thead th {\n",
       "        text-align: right;\n",
       "    }\n",
       "</style>\n",
       "<table border=\"1\" class=\"dataframe\">\n",
       "  <thead>\n",
       "    <tr style=\"text-align: right;\">\n",
       "      <th></th>\n",
       "      <th>oid_</th>\n",
       "      <th>e_utm56s</th>\n",
       "      <th>n_utm56s</th>\n",
       "      <th>lat</th>\n",
       "      <th>lon</th>\n",
       "      <th>depth</th>\n",
       "    </tr>\n",
       "  </thead>\n",
       "  <tbody>\n",
       "    <tr>\n",
       "      <th>count</th>\n",
       "      <td>102.000000</td>\n",
       "      <td>102.000000</td>\n",
       "      <td>1.020000e+02</td>\n",
       "      <td>102.000000</td>\n",
       "      <td>102.000000</td>\n",
       "      <td>102.000000</td>\n",
       "    </tr>\n",
       "    <tr>\n",
       "      <th>mean</th>\n",
       "      <td>50.500000</td>\n",
       "      <td>406464.019314</td>\n",
       "      <td>6.356211e+06</td>\n",
       "      <td>-29.053663</td>\n",
       "      <td>152.000690</td>\n",
       "      <td>88.696078</td>\n",
       "    </tr>\n",
       "    <tr>\n",
       "      <th>std</th>\n",
       "      <td>29.588849</td>\n",
       "      <td>9439.136997</td>\n",
       "      <td>8.629002e+03</td>\n",
       "      <td>15.574446</td>\n",
       "      <td>0.102032</td>\n",
       "      <td>29.297987</td>\n",
       "    </tr>\n",
       "    <tr>\n",
       "      <th>min</th>\n",
       "      <td>0.000000</td>\n",
       "      <td>384270.690000</td>\n",
       "      <td>6.340263e+06</td>\n",
       "      <td>-33.070659</td>\n",
       "      <td>151.761350</td>\n",
       "      <td>0.000000</td>\n",
       "    </tr>\n",
       "    <tr>\n",
       "      <th>25%</th>\n",
       "      <td>25.250000</td>\n",
       "      <td>398242.377500</td>\n",
       "      <td>6.350147e+06</td>\n",
       "      <td>-32.980562</td>\n",
       "      <td>151.910534</td>\n",
       "      <td>75.250000</td>\n",
       "    </tr>\n",
       "    <tr>\n",
       "      <th>50%</th>\n",
       "      <td>50.500000</td>\n",
       "      <td>406847.360000</td>\n",
       "      <td>6.356022e+06</td>\n",
       "      <td>-32.918991</td>\n",
       "      <td>152.003354</td>\n",
       "      <td>105.000000</td>\n",
       "    </tr>\n",
       "    <tr>\n",
       "      <th>75%</th>\n",
       "      <td>75.750000</td>\n",
       "      <td>414830.622500</td>\n",
       "      <td>6.361975e+06</td>\n",
       "      <td>-32.872836</td>\n",
       "      <td>152.089696</td>\n",
       "      <td>110.000000</td>\n",
       "    </tr>\n",
       "    <tr>\n",
       "      <th>max</th>\n",
       "      <td>101.000000</td>\n",
       "      <td>422609.300000</td>\n",
       "      <td>6.381481e+06</td>\n",
       "      <td>33.071076</td>\n",
       "      <td>152.172895</td>\n",
       "      <td>127.000000</td>\n",
       "    </tr>\n",
       "  </tbody>\n",
       "</table>\n",
       "</div>"
      ],
      "text/plain": [
       "             oid_       e_utm56s      n_utm56s         lat         lon  \\\n",
       "count  102.000000     102.000000  1.020000e+02  102.000000  102.000000   \n",
       "mean    50.500000  406464.019314  6.356211e+06  -29.053663  152.000690   \n",
       "std     29.588849    9439.136997  8.629002e+03   15.574446    0.102032   \n",
       "min      0.000000  384270.690000  6.340263e+06  -33.070659  151.761350   \n",
       "25%     25.250000  398242.377500  6.350147e+06  -32.980562  151.910534   \n",
       "50%     50.500000  406847.360000  6.356022e+06  -32.918991  152.003354   \n",
       "75%     75.750000  414830.622500  6.361975e+06  -32.872836  152.089696   \n",
       "max    101.000000  422609.300000  6.381481e+06   33.071076  152.172895   \n",
       "\n",
       "            depth  \n",
       "count  102.000000  \n",
       "mean    88.696078  \n",
       "std     29.297987  \n",
       "min      0.000000  \n",
       "25%     75.250000  \n",
       "50%    105.000000  \n",
       "75%    110.000000  \n",
       "max    127.000000  "
      ]
     },
     "execution_count": 74,
     "metadata": {},
     "output_type": "execute_result"
    }
   ],
   "source": [
    "df.describe()"
   ]
  },
  {
   "cell_type": "code",
   "execution_count": 78,
   "metadata": {
    "scrolled": false
   },
   "outputs": [
    {
     "data": {
      "image/png": "[encoded data removed]",
      "text/plain": [
       "<Figure size 720x576 with 1 Axes>"
      ]
     },
     "metadata": {},
     "output_type": "display_data"
    }
   ],
   "source": [
    "#depth distribution\n",
    "import numpy as np\n",
    "import matplotlib.pyplot as plt\n",
    "#pile chart of sediment type distribution\n",
    "fig, ax1 = plt.subplots(figsize = (10,8)) \n",
    "colors = ['b','g','r','c','m','y','olive','gold','wheat','navy'] #we know that there are 4 types\n",
    "labels = list(depth_bin10.index)\n",
    "values_fraction = np.round(depth_bin10.values*100/150,2)\n",
    "explode = (0.1,0.1,0.1,0.1,0.1,0.1,0.1,0.1,0.1,0.1)\n",
    "ax1.pie(values_fraction,colors=colors,labels=labels,explode=explode,\n",
    "        autopct='%1.1f%%',counterclock=True,shadow=True)\n",
    "plt.title('SVP Depth range')\n",
    "ax1.legend(labels, loc = 0) \n",
    "plt.tight_layout() \n",
    "plt.show()\n"
   ]
  },
  {
   "cell_type": "code",
   "execution_count": 79,
   "metadata": {},
   "outputs": [
    {
     "data": {
      "image/png": "[encoded data removed]",
      "text/plain": [
       "<Figure size 432x288 with 1 Axes>"
      ]
     },
     "metadata": {
      "needs_background": "light"
     },
     "output_type": "display_data"
    }
   ],
   "source": [
    "\n",
    "labels_str = [str(i) for i in labels]\n",
    "labels_str[-1] = '(19.9, 28.5]'\n",
    "plt.bar(labels_str,depth_bin10.values)\n",
    "plt.xticks(rotation=30)\n",
    "plt.show()"
   ]
  },
  {
   "cell_type": "raw",
   "metadata": {},
   "source": [
    "import numpy as np\n",
    "import matplotlib.pyplot as plt\n",
    "#pile chart of sediment type distribution\n",
    "fig, ax1 = plt.subplots(figsize = (8,8)) \n",
    "x = df['class'].value_counts(normalize=True,ascending=True)\n",
    "colors = ['gold','lightskyblue','r','c'] #we know that there are 4 types\n",
    "labels = list(x.index)\n",
    "values = np.round(x.values*100,2)\n",
    "explode = (0.1,0.1,0.1,0.1)\n",
    "ax1.pie(values,colors=colors,labels=labels,explode=explode,\n",
    "        autopct='%1.1f%%',counterclock=True,shadow=True)\n",
    "plt.title('Sediment Type')\n",
    "# ax1.legend(labels, loc = 0) \n",
    "plt.tight_layout() \n",
    "plt.show()"
   ]
  },
  {
   "cell_type": "raw",
   "metadata": {},
   "source": [
    "A_unique = df['class'].unique()\n",
    "B = df['class'].value_counts(ascending=True)\n",
    "B_index_lst = list(B.index)\n",
    "B_value_lst = list(B.values)\n",
    "plt.bar(B_index_lst,B_value_lst)\n",
    "plt.xticks(rotation=10)\n"
   ]
  },
  {
   "cell_type": "code",
   "execution_count": null,
   "metadata": {},
   "outputs": [],
   "source": []
  },
  {
   "cell_type": "markdown",
   "metadata": {},
   "source": [
    "#### 1d Convert to spatially enable dataframe - spatial pandas\n",
    "20210226_Not working when exporting to shp file\n"
   ]
  },
  {
   "cell_type": "code",
   "execution_count": 83,
   "metadata": {},
   "outputs": [],
   "source": [
    "from arcgis.features import GeoAccessor, GeoSeriesAccessor"
   ]
  },
  {
   "cell_type": "code",
   "execution_count": 237,
   "metadata": {},
   "outputs": [],
   "source": [
    "#drop col SHAPE before convert to spatial data frame"
   ]
  },
  {
   "cell_type": "code",
   "execution_count": 242,
   "metadata": {},
   "outputs": [
    {
     "data": {
      "text/plain": [
       "Index(['oid_', 'index', 'date', 'utc', 'svp_file', 'svp_url', 'svp_source',\n",
       "       'e_utm56s', 'n_utm56s', 'zone', 'lat', 'lon', 'depth', 'comment',\n",
       "       'enter_prof', 'sample_num'],\n",
       "      dtype='object')"
      ]
     },
     "execution_count": 242,
     "metadata": {},
     "output_type": "execute_result"
    }
   ],
   "source": [
    "# help(df.drop)\n",
    "# df = df.drop(columns=['SHAPE'])\n",
    "df.columns"
   ]
  },
  {
   "cell_type": "code",
   "execution_count": 253,
   "metadata": {},
   "outputs": [
    {
     "data": {
      "text/html": [
       "<div>\n",
       "<style scoped>\n",
       "    .dataframe tbody tr th:only-of-type {\n",
       "        vertical-align: middle;\n",
       "    }\n",
       "\n",
       "    .dataframe tbody tr th {\n",
       "        vertical-align: top;\n",
       "    }\n",
       "\n",
       "    .dataframe thead th {\n",
       "        text-align: right;\n",
       "    }\n",
       "</style>\n",
       "<table border=\"1\" class=\"dataframe\">\n",
       "  <thead>\n",
       "    <tr style=\"text-align: right;\">\n",
       "      <th></th>\n",
       "      <th>oid_</th>\n",
       "      <th>index</th>\n",
       "      <th>date</th>\n",
       "      <th>utc</th>\n",
       "      <th>svp_file</th>\n",
       "      <th>svp_url</th>\n",
       "      <th>svp_source</th>\n",
       "      <th>e_utm56s</th>\n",
       "      <th>n_utm56s</th>\n",
       "      <th>zone</th>\n",
       "      <th>lat</th>\n",
       "      <th>lon</th>\n",
       "      <th>depth</th>\n",
       "      <th>comment</th>\n",
       "      <th>enter_prof</th>\n",
       "      <th>sample_num</th>\n",
       "      <th>SHAPE</th>\n",
       "    </tr>\n",
       "  </thead>\n",
       "  <tbody>\n",
       "    <tr>\n",
       "      <th>0</th>\n",
       "      <td>0</td>\n",
       "      <td>SVP002</td>\n",
       "      <td>9/12/2020 0:00:00</td>\n",
       "      <td>06:04</td>\n",
       "      <td>20201209_0555_SVP</td>\n",
       "      <td>11_FinalDeliverables\\03_Bathymetry\\05_SoundVel...</td>\n",
       "      <td>MiniSVP SN67443</td>\n",
       "      <td>392825.73</td>\n",
       "      <td>6341170.80</td>\n",
       "      <td>56S</td>\n",
       "      <td>-33.062749</td>\n",
       "      <td>151.851936</td>\n",
       "      <td>127</td>\n",
       "      <td>Use Valeport to export .asvp</td>\n",
       "      <td>ES</td>\n",
       "      <td>002</td>\n",
       "      <td>{\"spatialReference\": {\"wkid\": 32756}, \"x\": 392...</td>\n",
       "    </tr>\n",
       "    <tr>\n",
       "      <th>50</th>\n",
       "      <td>50</td>\n",
       "      <td>SVP052</td>\n",
       "      <td>24/12/2020 0:00:00</td>\n",
       "      <td>14:13</td>\n",
       "      <td>20201224_1400_SVP</td>\n",
       "      <td>11_FinalDeliverables\\03_Bathymetry\\05_SoundVel...</td>\n",
       "      <td>MiniSVP SN67443</td>\n",
       "      <td>408798.26</td>\n",
       "      <td>6353815.91</td>\n",
       "      <td>56S</td>\n",
       "      <td>-32.950160</td>\n",
       "      <td>152.024269</td>\n",
       "      <td>112</td>\n",
       "      <td>Block 02</td>\n",
       "      <td>NS</td>\n",
       "      <td>052</td>\n",
       "      <td>{\"spatialReference\": {\"wkid\": 32756}, \"x\": 408...</td>\n",
       "    </tr>\n",
       "    <tr>\n",
       "      <th>100</th>\n",
       "      <td>100</td>\n",
       "      <td>SVP102</td>\n",
       "      <td>12/01/2021 0:00:00</td>\n",
       "      <td>04:00</td>\n",
       "      <td>20210112_0400_SVP</td>\n",
       "      <td>11_FinalDeliverables\\03_Bathymetry\\05_SoundVel...</td>\n",
       "      <td>MiniSVP SN67443</td>\n",
       "      <td>385687.05</td>\n",
       "      <td>6348396.33</td>\n",
       "      <td>56S</td>\n",
       "      <td>32.996860</td>\n",
       "      <td>151.776382</td>\n",
       "      <td>35</td>\n",
       "      <td>Block 01</td>\n",
       "      <td>BT</td>\n",
       "      <td>102</td>\n",
       "      <td>{\"spatialReference\": {\"wkid\": 32756}, \"x\": 385...</td>\n",
       "    </tr>\n",
       "    <tr>\n",
       "      <th>101</th>\n",
       "      <td>101</td>\n",
       "      <td>SVP103</td>\n",
       "      <td>12/01/2021 0:00:00</td>\n",
       "      <td>18:23</td>\n",
       "      <td>20210112_1830_SVP</td>\n",
       "      <td>11_FinalDeliverables\\03_Bathymetry\\05_SoundVel...</td>\n",
       "      <td>MiniSVP SN67443</td>\n",
       "      <td>394255.10</td>\n",
       "      <td>6340262.99</td>\n",
       "      <td>56S</td>\n",
       "      <td>33.071076</td>\n",
       "      <td>151.867140</td>\n",
       "      <td>108</td>\n",
       "      <td>Block 01</td>\n",
       "      <td>NS</td>\n",
       "      <td>103</td>\n",
       "      <td>{\"spatialReference\": {\"wkid\": 32756}, \"x\": 394...</td>\n",
       "    </tr>\n",
       "  </tbody>\n",
       "</table>\n",
       "</div>"
      ],
      "text/plain": [
       "     oid_   index                date    utc           svp_file  \\\n",
       "0       0  SVP002   9/12/2020 0:00:00  06:04  20201209_0555_SVP   \n",
       "50     50  SVP052  24/12/2020 0:00:00  14:13  20201224_1400_SVP   \n",
       "100   100  SVP102  12/01/2021 0:00:00  04:00  20210112_0400_SVP   \n",
       "101   101  SVP103  12/01/2021 0:00:00  18:23  20210112_1830_SVP   \n",
       "\n",
       "                                               svp_url       svp_source  \\\n",
       "0    11_FinalDeliverables\\03_Bathymetry\\05_SoundVel...  MiniSVP SN67443   \n",
       "50   11_FinalDeliverables\\03_Bathymetry\\05_SoundVel...  MiniSVP SN67443   \n",
       "100  11_FinalDeliverables\\03_Bathymetry\\05_SoundVel...  MiniSVP SN67443   \n",
       "101  11_FinalDeliverables\\03_Bathymetry\\05_SoundVel...  MiniSVP SN67443   \n",
       "\n",
       "      e_utm56s    n_utm56s zone        lat         lon  depth  \\\n",
       "0    392825.73  6341170.80  56S -33.062749  151.851936    127   \n",
       "50   408798.26  6353815.91  56S -32.950160  152.024269    112   \n",
       "100  385687.05  6348396.33  56S  32.996860  151.776382     35   \n",
       "101  394255.10  6340262.99  56S  33.071076  151.867140    108   \n",
       "\n",
       "                          comment enter_prof sample_num  \\\n",
       "0    Use Valeport to export .asvp         ES        002   \n",
       "50                       Block 02         NS        052   \n",
       "100                      Block 01         BT        102   \n",
       "101                      Block 01         NS        103   \n",
       "\n",
       "                                                 SHAPE  \n",
       "0    {\"spatialReference\": {\"wkid\": 32756}, \"x\": 392...  \n",
       "50   {\"spatialReference\": {\"wkid\": 32756}, \"x\": 408...  \n",
       "100  {\"spatialReference\": {\"wkid\": 32756}, \"x\": 385...  \n",
       "101  {\"spatialReference\": {\"wkid\": 32756}, \"x\": 394...  "
      ]
     },
     "execution_count": 253,
     "metadata": {},
     "output_type": "execute_result"
    }
   ],
   "source": [
    "sdf = pd.DataFrame.spatial.from_xy(df=df,\n",
    "                                    x_column='e_utm56s',\n",
    "                                    y_column='n_utm56s',\n",
    "                                    sr=32756)\n",
    "#                                     sr=4326)\n",
    "sdf.iloc[[0,50,100,-1]]"
   ]
  },
  {
   "cell_type": "code",
   "execution_count": 254,
   "metadata": {},
   "outputs": [
    {
     "data": {
      "text/html": [
       "<div>\n",
       "<style scoped>\n",
       "    .dataframe tbody tr th:only-of-type {\n",
       "        vertical-align: middle;\n",
       "    }\n",
       "\n",
       "    .dataframe tbody tr th {\n",
       "        vertical-align: top;\n",
       "    }\n",
       "\n",
       "    .dataframe thead th {\n",
       "        text-align: right;\n",
       "    }\n",
       "</style>\n",
       "<table border=\"1\" class=\"dataframe\">\n",
       "  <thead>\n",
       "    <tr style=\"text-align: right;\">\n",
       "      <th></th>\n",
       "      <th>comment</th>\n",
       "      <th>index</th>\n",
       "      <th>svp_file</th>\n",
       "      <th>date</th>\n",
       "      <th>svp_url</th>\n",
       "      <th>sample_num</th>\n",
       "      <th>svp_source</th>\n",
       "      <th>e_utm56s</th>\n",
       "      <th>n_utm56s</th>\n",
       "    </tr>\n",
       "  </thead>\n",
       "  <tbody>\n",
       "    <tr>\n",
       "      <th>0</th>\n",
       "      <td>Use Valeport to export .asvp</td>\n",
       "      <td>SVP002</td>\n",
       "      <td>20201209_0555_SVP</td>\n",
       "      <td>9/12/2020 0:00:00</td>\n",
       "      <td>11_FinalDeliverables\\03_Bathymetry\\05_SoundVel...</td>\n",
       "      <td>002</td>\n",
       "      <td>MiniSVP SN67443</td>\n",
       "      <td>392825.73</td>\n",
       "      <td>6341170.80</td>\n",
       "    </tr>\n",
       "    <tr>\n",
       "      <th>20</th>\n",
       "      <td>Use Valeport to export .asvp</td>\n",
       "      <td>SVP022</td>\n",
       "      <td>20201217_0002_SVP</td>\n",
       "      <td>17/12/2020 0:00:00</td>\n",
       "      <td>11_FinalDeliverables\\03_Bathymetry\\05_SoundVel...</td>\n",
       "      <td>022</td>\n",
       "      <td>MiniSVP SN67464</td>\n",
       "      <td>418206.84</td>\n",
       "      <td>6360902.18</td>\n",
       "    </tr>\n",
       "    <tr>\n",
       "      <th>51</th>\n",
       "      <td>Block 02</td>\n",
       "      <td>SVP053</td>\n",
       "      <td>20201225_0001_SVP</td>\n",
       "      <td>25/12/2020 0:00:00</td>\n",
       "      <td>11_FinalDeliverables\\03_Bathymetry\\05_SoundVel...</td>\n",
       "      <td>053</td>\n",
       "      <td>MiniSVP SN67443</td>\n",
       "      <td>404057.46</td>\n",
       "      <td>6357113.19</td>\n",
       "    </tr>\n",
       "    <tr>\n",
       "      <th>81</th>\n",
       "      <td>Block 01</td>\n",
       "      <td>SVP083</td>\n",
       "      <td>20210101_2300_SVP</td>\n",
       "      <td>1/01/2021 0:00:00</td>\n",
       "      <td>11_FinalDeliverables\\03_Bathymetry\\05_SoundVel...</td>\n",
       "      <td>083</td>\n",
       "      <td>MiniSVP SN67443</td>\n",
       "      <td>396070.76</td>\n",
       "      <td>6343717.84</td>\n",
       "    </tr>\n",
       "    <tr>\n",
       "      <th>101</th>\n",
       "      <td>Block 01</td>\n",
       "      <td>SVP103</td>\n",
       "      <td>20210112_1830_SVP</td>\n",
       "      <td>12/01/2021 0:00:00</td>\n",
       "      <td>11_FinalDeliverables\\03_Bathymetry\\05_SoundVel...</td>\n",
       "      <td>103</td>\n",
       "      <td>MiniSVP SN67443</td>\n",
       "      <td>394255.10</td>\n",
       "      <td>6340262.99</td>\n",
       "    </tr>\n",
       "  </tbody>\n",
       "</table>\n",
       "</div>"
      ],
      "text/plain": [
       "                          comment   index           svp_file  \\\n",
       "0    Use Valeport to export .asvp  SVP002  20201209_0555_SVP   \n",
       "20   Use Valeport to export .asvp  SVP022  20201217_0002_SVP   \n",
       "51                       Block 02  SVP053  20201225_0001_SVP   \n",
       "81                       Block 01  SVP083  20210101_2300_SVP   \n",
       "101                      Block 01  SVP103  20210112_1830_SVP   \n",
       "\n",
       "                   date                                            svp_url  \\\n",
       "0     9/12/2020 0:00:00  11_FinalDeliverables\\03_Bathymetry\\05_SoundVel...   \n",
       "20   17/12/2020 0:00:00  11_FinalDeliverables\\03_Bathymetry\\05_SoundVel...   \n",
       "51   25/12/2020 0:00:00  11_FinalDeliverables\\03_Bathymetry\\05_SoundVel...   \n",
       "81    1/01/2021 0:00:00  11_FinalDeliverables\\03_Bathymetry\\05_SoundVel...   \n",
       "101  12/01/2021 0:00:00  11_FinalDeliverables\\03_Bathymetry\\05_SoundVel...   \n",
       "\n",
       "    sample_num       svp_source   e_utm56s    n_utm56s  \n",
       "0          002  MiniSVP SN67443  392825.73  6341170.80  \n",
       "20         022  MiniSVP SN67464  418206.84  6360902.18  \n",
       "51         053  MiniSVP SN67443  404057.46  6357113.19  \n",
       "81         083  MiniSVP SN67443  396070.76  6343717.84  \n",
       "101        103  MiniSVP SN67443  394255.10  6340262.99  "
      ]
     },
     "execution_count": 254,
     "metadata": {},
     "output_type": "execute_result"
    }
   ],
   "source": [
    "sdf_iloc = sdf.iloc[[0,len(sdf)/5,len(sdf)*2.5/5,len(sdf)*4/5,-1]]\n",
    "sdf_iloc[['comment', 'index', 'svp_file', 'date','svp_url','sample_num', 'svp_source','e_utm56s','n_utm56s']]"
   ]
  },
  {
   "cell_type": "markdown",
   "metadata": {
    "heading_collapsed": true
   },
   "source": [
    "##### Project from WGS84 to UTM56S: already in UTM56S"
   ]
  },
  {
   "cell_type": "code",
   "execution_count": 95,
   "metadata": {
    "hidden": true
   },
   "outputs": [
    {
     "data": {
      "text/plain": [
       "0    {\"spatialReference\": {\"wkid\": 32756}, \"x\": 392...\n",
       "1    {\"spatialReference\": {\"wkid\": 32756}, \"x\": 384...\n",
       "2    {\"spatialReference\": {\"wkid\": 32756}, \"x\": 387...\n",
       "3    {\"spatialReference\": {\"wkid\": 32756}, \"x\": 394...\n",
       "4    {\"spatialReference\": {\"wkid\": 32756}, \"x\": 394...\n",
       "Name: SHAPE, dtype: geometry"
      ]
     },
     "execution_count": 95,
     "metadata": {},
     "output_type": "execute_result"
    }
   ],
   "source": [
    "sdf.SHAPE.head()"
   ]
  },
  {
   "cell_type": "code",
   "execution_count": 96,
   "metadata": {
    "hidden": true
   },
   "outputs": [
    {
     "data": {
      "text/plain": [
       "{'wkid': 32756}"
      ]
     },
     "execution_count": 96,
     "metadata": {},
     "output_type": "execute_result"
    }
   ],
   "source": [
    "sdf.spatial.sr"
   ]
  },
  {
   "cell_type": "raw",
   "metadata": {
    "hidden": true
   },
   "source": [
    "#project to 32756 UTM56S\n",
    "sdf.spatial.project(32756)\n",
    "sdf.spatial.sr"
   ]
  },
  {
   "cell_type": "code",
   "execution_count": 97,
   "metadata": {
    "hidden": true
   },
   "outputs": [
    {
     "data": {
      "text/plain": [
       "(384270.69, 6340262.99, 422609.3, 6381481.23)"
      ]
     },
     "execution_count": 97,
     "metadata": {},
     "output_type": "execute_result"
    }
   ],
   "source": [
    "sdf.spatial.full_extent"
   ]
  },
  {
   "cell_type": "markdown",
   "metadata": {},
   "source": [
    "#### 1e visual check with spatial df"
   ]
  },
  {
   "cell_type": "code",
   "execution_count": 255,
   "metadata": {
    "scrolled": false
   },
   "outputs": [
    {
     "data": {
      "application/vnd.jupyter.widget-view+json": {
       "model_id": "b4f9d0ee4f0542b998ff23434e654e67",
       "version_major": 2,
       "version_minor": 0
      },
      "text/plain": [
       "MapView(layout=Layout(height='400px', width='100%'))"
      ]
     },
     "metadata": {},
     "output_type": "display_data"
    },
    {
     "data": {
      "text/html": [
       "<div class=\"map-static-img-preview-2a0deb1a-9890-4855-8455-44be2d2c98d6\"><img src=\"\"></img></div>"
      ],
      "text/plain": [
       "<IPython.core.display.HTML object>"
      ]
     },
     "metadata": {},
     "output_type": "display_data"
    },
    {
     "data": {
      "text/html": [
       "<div class=\"map-html-embed-preview-2a0deb1a-9890-4855-8455-44be2d2c98d6\"></div>"
      ],
      "text/plain": [
       "<IPython.core.display.HTML object>"
      ]
     },
     "metadata": {},
     "output_type": "display_data"
    }
   ],
   "source": [
    "# sdf.spatial.plot()\n",
    "sdf.spatial.plot(col='depth',renderer_type = 'c',class_count=5)"
   ]
  },
  {
   "cell_type": "code",
   "execution_count": 198,
   "metadata": {},
   "outputs": [
    {
     "name": "stderr",
     "output_type": "stream",
     "text": [
      "Profile your_online_profile does not have a password on file through keyring. If you are expecting this behavior (PKI or IWA authentication, entering password through run-time prompt, etc.), please ignore this message. If you would like to store your password in the your_online_profile profile, run GIS(profile = 'your_online_profile', password = ...). See the API doc for more details. (http://bit.ly/2CK2wG8)\n"
     ]
    },
    {
     "data": {
      "application/vnd.jupyter.widget-view+json": {
       "model_id": "8bdf2c600f7e4c2bb4e3f959083d3b45",
       "version_major": 2,
       "version_minor": 0
      },
      "text/plain": [
       "MapView(layout=Layout(height='400px', width='100%'), legend=True)"
      ]
     },
     "metadata": {},
     "output_type": "display_data"
    },
    {
     "data": {
      "text/html": [
       "<div class=\"map-static-img-preview-adc6396d-c7a9-4d92-bbf0-516144ca90d3\"><img src=\"\"></img></div>"
      ],
      "text/plain": [
       "<IPython.core.display.HTML object>"
      ]
     },
     "metadata": {},
     "output_type": "display_data"
    },
    {
     "data": {
      "text/html": [
       "<div class=\"map-html-embed-preview-adc6396d-c7a9-4d92-bbf0-516144ca90d3\"></div>"
      ],
      "text/plain": [
       "<IPython.core.display.HTML object>"
      ]
     },
     "metadata": {},
     "output_type": "display_data"
    }
   ],
   "source": [
    "from arcgis.mapping import show_styles, display_colormaps\n",
    "from arcgis.gis import GIS\n",
    "\n",
    "gis = GIS(profile='your_online_profile',verify_cert=False)\n",
    "m_class = GIS().map(zoomlevel=9.525)\n",
    "m_class.center=[sdf.lat.mean()-3.85,sdf.lon.mean()+0.2]\n",
    "m_class.legend = True\n",
    "m_class\n"
   ]
  },
  {
   "cell_type": "code",
   "execution_count": 200,
   "metadata": {},
   "outputs": [
    {
     "data": {
      "text/plain": [
       "True"
      ]
     },
     "execution_count": 200,
     "metadata": {},
     "output_type": "execute_result"
    }
   ],
   "source": [
    "sdf.spatial.plot(map_widget=m_class,\n",
    "                 col='depth',\n",
    "                 renderer_type = 'c',\n",
    "                 class_count=5,\n",
    "                 symbol_style='d',\n",
    "                 marker_size=10,\n",
    "                 symbol_type='simple'\n",
    "                )"
   ]
  },
  {
   "cell_type": "markdown",
   "metadata": {
    "heading_collapsed": true
   },
   "source": [
    "#### 1e export 2 shp file - not work"
   ]
  },
  {
   "cell_type": "code",
   "execution_count": null,
   "metadata": {
    "hidden": true
   },
   "outputs": [],
   "source": [
    "out_shp = r'E:\\HIPP\\11_Deliverables\\03_Bathymetry\\08_SeabedTexture_And_AncillaryLayers\\SI1001SamplesUTM56Ssdf2shp.shp'\n",
    "sdf.spatial.to_featureclass(out_shp)"
   ]
  },
  {
   "cell_type": "code",
   "execution_count": null,
   "metadata": {
    "hidden": true
   },
   "outputs": [],
   "source": [
    "os.listdir('E:\\\\HIPP\\\\11_Deliverables\\\\03_Bathymetry\\\\08_SeabedTexture_And_AncillaryLayers')"
   ]
  },
  {
   "cell_type": "code",
   "execution_count": null,
   "metadata": {
    "hidden": true
   },
   "outputs": [],
   "source": [
    "#read in again to check\n",
    "sdf2 = pd.DataFrame.spatial.from_featureclass(out_shp)\n",
    "sdf2.iloc[[0,50,100,-1]]"
   ]
  },
  {
   "cell_type": "code",
   "execution_count": null,
   "metadata": {
    "hidden": true
   },
   "outputs": [],
   "source": [
    "m2 = GIS().map(zoomlevel=10.5)\n",
    "m2.center=[sdf2.lat.mean(),sdf.lon.mean()]\n",
    "m2.legend = True\n",
    "m2"
   ]
  },
  {
   "cell_type": "code",
   "execution_count": null,
   "metadata": {
    "hidden": true
   },
   "outputs": [],
   "source": [
    "sdf2.spatial.plot(map_widget=m2,\n",
    "                 col='class',\n",
    "                 renderer_type = 'u',\n",
    "                 symbol_style='d',\n",
    "                 marker_size=10,\n",
    "                 symbol_type='simple'\n",
    "                )"
   ]
  },
  {
   "cell_type": "markdown",
   "metadata": {},
   "source": [
    "#### Export to csv - using normal pandas"
   ]
  },
  {
   "cell_type": "raw",
   "metadata": {
    "scrolled": true
   },
   "source": [
    "out_csv = r'E:\\HIPP\\11_Deliverables\\03_Bathymetry\\08_SeabedTexture_And_AncillaryLayers\\SI1001_Samples_option2_Processed.csv'\n",
    "sdf.spatial.to_table(out_csv)\n",
    "sdf.iloc[[0,50,100,-1]]"
   ]
  },
  {
   "cell_type": "code",
   "execution_count": 256,
   "metadata": {
    "scrolled": true
   },
   "outputs": [
    {
     "data": {
      "text/html": [
       "<div>\n",
       "<style scoped>\n",
       "    .dataframe tbody tr th:only-of-type {\n",
       "        vertical-align: middle;\n",
       "    }\n",
       "\n",
       "    .dataframe tbody tr th {\n",
       "        vertical-align: top;\n",
       "    }\n",
       "\n",
       "    .dataframe thead th {\n",
       "        text-align: right;\n",
       "    }\n",
       "</style>\n",
       "<table border=\"1\" class=\"dataframe\">\n",
       "  <thead>\n",
       "    <tr style=\"text-align: right;\">\n",
       "      <th></th>\n",
       "      <th>index</th>\n",
       "      <th>date</th>\n",
       "      <th>depth</th>\n",
       "      <th>svp_file</th>\n",
       "      <th>e_utm56s</th>\n",
       "      <th>n_utm56s</th>\n",
       "      <th>svp_source</th>\n",
       "      <th>comment</th>\n",
       "      <th>enter_prof</th>\n",
       "    </tr>\n",
       "  </thead>\n",
       "  <tbody>\n",
       "    <tr>\n",
       "      <th>0</th>\n",
       "      <td>SVP002</td>\n",
       "      <td>9/12/2020 0:00:00</td>\n",
       "      <td>127</td>\n",
       "      <td>20201209_0555_SVP</td>\n",
       "      <td>392825.73</td>\n",
       "      <td>6341170.80</td>\n",
       "      <td>MiniSVP SN67443</td>\n",
       "      <td>Use Valeport to export .asvp</td>\n",
       "      <td>ES</td>\n",
       "    </tr>\n",
       "    <tr>\n",
       "      <th>20</th>\n",
       "      <td>SVP022</td>\n",
       "      <td>17/12/2020 0:00:00</td>\n",
       "      <td>115</td>\n",
       "      <td>20201217_0002_SVP</td>\n",
       "      <td>418206.84</td>\n",
       "      <td>6360902.18</td>\n",
       "      <td>MiniSVP SN67464</td>\n",
       "      <td>Use Valeport to export .asvp</td>\n",
       "      <td>NS</td>\n",
       "    </tr>\n",
       "    <tr>\n",
       "      <th>51</th>\n",
       "      <td>SVP053</td>\n",
       "      <td>25/12/2020 0:00:00</td>\n",
       "      <td>85</td>\n",
       "      <td>20201225_0001_SVP</td>\n",
       "      <td>404057.46</td>\n",
       "      <td>6357113.19</td>\n",
       "      <td>MiniSVP SN67443</td>\n",
       "      <td>Block 02</td>\n",
       "      <td>NS</td>\n",
       "    </tr>\n",
       "    <tr>\n",
       "      <th>81</th>\n",
       "      <td>SVP083</td>\n",
       "      <td>1/01/2021 0:00:00</td>\n",
       "      <td>108</td>\n",
       "      <td>20210101_2300_SVP</td>\n",
       "      <td>396070.76</td>\n",
       "      <td>6343717.84</td>\n",
       "      <td>MiniSVP SN67443</td>\n",
       "      <td>Block 01</td>\n",
       "      <td>NS</td>\n",
       "    </tr>\n",
       "    <tr>\n",
       "      <th>101</th>\n",
       "      <td>SVP103</td>\n",
       "      <td>12/01/2021 0:00:00</td>\n",
       "      <td>108</td>\n",
       "      <td>20210112_1830_SVP</td>\n",
       "      <td>394255.10</td>\n",
       "      <td>6340262.99</td>\n",
       "      <td>MiniSVP SN67443</td>\n",
       "      <td>Block 01</td>\n",
       "      <td>NS</td>\n",
       "    </tr>\n",
       "  </tbody>\n",
       "</table>\n",
       "</div>"
      ],
      "text/plain": [
       "      index                date  depth           svp_file   e_utm56s  \\\n",
       "0    SVP002   9/12/2020 0:00:00    127  20201209_0555_SVP  392825.73   \n",
       "20   SVP022  17/12/2020 0:00:00    115  20201217_0002_SVP  418206.84   \n",
       "51   SVP053  25/12/2020 0:00:00     85  20201225_0001_SVP  404057.46   \n",
       "81   SVP083   1/01/2021 0:00:00    108  20210101_2300_SVP  396070.76   \n",
       "101  SVP103  12/01/2021 0:00:00    108  20210112_1830_SVP  394255.10   \n",
       "\n",
       "       n_utm56s       svp_source                       comment enter_prof  \n",
       "0    6341170.80  MiniSVP SN67443  Use Valeport to export .asvp         ES  \n",
       "20   6360902.18  MiniSVP SN67464  Use Valeport to export .asvp         NS  \n",
       "51   6357113.19  MiniSVP SN67443                      Block 02         NS  \n",
       "81   6343717.84  MiniSVP SN67443                      Block 01         NS  \n",
       "101  6340262.99  MiniSVP SN67443                      Block 01         NS  "
      ]
     },
     "execution_count": 256,
     "metadata": {},
     "output_type": "execute_result"
    }
   ],
   "source": [
    "#use pandas with no index\n",
    "out_csv=r'E:\\HIPP\\11_Deliverables\\03_Bathymetry\\05_SoundVelocityProfiles\\SVP_Raw\\SI1001_SVP_UTM56S_SSDM.csv'\n",
    "sdf.to_csv(out_csv,index=False)\n",
    "sdf_iloc = sdf.iloc[[0,len(sdf)/5,len(sdf)*2.5/5,len(sdf)*4/5,-1]]\n",
    "# sdf_iloc\n",
    "sdf_iloc[['index', 'date', 'depth', 'svp_file','e_utm56s','n_utm56s', 'svp_source','comment','enter_prof']]"
   ]
  },
  {
   "cell_type": "markdown",
   "metadata": {},
   "source": [
    "### Step 2: using XYTableToPoint to convert csv file into ESRI shp format"
   ]
  },
  {
   "cell_type": "markdown",
   "metadata": {},
   "source": [
    "#### 2.1 Convert E,N coordinate data to shp file using arcpy.management.XYTableToPoint (csv2shp)"
   ]
  },
  {
   "cell_type": "code",
   "execution_count": 3,
   "metadata": {},
   "outputs": [
    {
     "name": "stdout",
     "output_type": "stream",
     "text": [
      "102\n"
     ]
    }
   ],
   "source": [
    "import arcpy\n",
    "arcpy.env.overwriteOutput = True\n",
    "#csv2shp_UTM56S\n",
    "arcpy.env.workspace = r\"E:\\HIPP\\11_Deliverables\\03_Bathymetry\\05_SoundVelocityProfiles\\SVP_Raw\"\n",
    "out_csv=r'E:\\HIPP\\11_Deliverables\\03_Bathymetry\\05_SoundVelocityProfiles\\SVP_Raw\\SI1001_SVP_UTM56S_SSDM.csv'\n",
    "in_table = out_csv\n",
    "out_feature_class = \"SI1001_SVP_UTM56S_SSDM.shp\"\n",
    "x_coords = \"e_utm56s\"\n",
    "y_coords = \"n_utm56s\"\n",
    "z_coords = None\n",
    "sr = arcpy.SpatialReference(32756) #CRS: UTM56S 32756\n",
    "try: arcpy.management.XYTableToPoint(in_table, out_feature_class,\n",
    "                                x_coords, y_coords, z_coords,\n",
    "                                sr)\n",
    "except Exception as e: print(e)\n",
    "\n",
    "# Print the total rows\n",
    "print(arcpy.GetCount_management(out_feature_class))"
   ]
  },
  {
   "cell_type": "markdown",
   "metadata": {},
   "source": [
    "#### 2.2 Check results using quick visualisation"
   ]
  },
  {
   "cell_type": "code",
   "execution_count": 4,
   "metadata": {},
   "outputs": [
    {
     "data": {
      "application/vnd.jupyter.widget-view+json": {
       "model_id": "becab062812b4b97b64d60fa4c7a5b13",
       "version_major": 2,
       "version_minor": 0
      },
      "text/plain": [
       "MapView(layout=Layout(height='400px', width='100%'))"
      ]
     },
     "metadata": {},
     "output_type": "display_data"
    },
    {
     "data": {
      "text/html": [
       "<div class=\"map-static-img-preview-6bbf5ad1-1108-4797-8b39-cba42b657449\"><img src=\"\"></img></div>"
      ],
      "text/plain": [
       "<IPython.core.display.HTML object>"
      ]
     },
     "metadata": {},
     "output_type": "display_data"
    },
    {
     "data": {
      "text/html": [
       "<div class=\"map-html-embed-preview-6bbf5ad1-1108-4797-8b39-cba42b657449\"></div>"
      ],
      "text/plain": [
       "<IPython.core.display.HTML object>"
      ]
     },
     "metadata": {},
     "output_type": "display_data"
    }
   ],
   "source": [
    "#readin using sdf to test the table and geometry\n",
    "import pandas as pd\n",
    "from arcgis.mapping import show_styles, display_colormaps\n",
    "from arcgis.gis import GIS\n",
    "\n",
    "arcpy.env.workspace = r\"E:\\HIPP\\11_Deliverables\\03_Bathymetry\\05_SoundVelocityProfiles\\SVP_Raw\"\n",
    "sdf_test = pd.DataFrame.spatial.from_featureclass(out_feature_class)\n",
    "# sdf_test.spatial.plot()\n",
    "sdf_test.spatial.plot(col='depth',renderer_type = 'c',class_count=5)"
   ]
  },
  {
   "cell_type": "code",
   "execution_count": 216,
   "metadata": {
    "scrolled": false
   },
   "outputs": [
    {
     "name": "stderr",
     "output_type": "stream",
     "text": [
      "Profile your_online_profile does not have a password on file through keyring. If you are expecting this behavior (PKI or IWA authentication, entering password through run-time prompt, etc.), please ignore this message. If you would like to store your password in the your_online_profile profile, run GIS(profile = 'your_online_profile', password = ...). See the API doc for more details. (http://bit.ly/2CK2wG8)\n"
     ]
    },
    {
     "data": {
      "application/vnd.jupyter.widget-view+json": {
       "model_id": "84a94185b185440cb490283a0b4d2a98",
       "version_major": 2,
       "version_minor": 0
      },
      "text/plain": [
       "MapView(layout=Layout(height='400px', width='100%'), legend=True)"
      ]
     },
     "metadata": {},
     "output_type": "display_data"
    },
    {
     "data": {
      "text/html": [
       "<div class=\"map-static-img-preview-f6b1c404-ef75-4ae8-9ec6-eb9e7bc50c87\"><img src=\"\"></img></div>"
      ],
      "text/plain": [
       "<IPython.core.display.HTML object>"
      ]
     },
     "metadata": {},
     "output_type": "display_data"
    },
    {
     "data": {
      "text/html": [
       "<div class=\"map-html-embed-preview-f6b1c404-ef75-4ae8-9ec6-eb9e7bc50c87\"></div>"
      ],
      "text/plain": [
       "<IPython.core.display.HTML object>"
      ]
     },
     "metadata": {},
     "output_type": "display_data"
    }
   ],
   "source": [
    "#bit more detailed visualisation\n",
    "from arcgis.mapping import show_styles, display_colormaps\n",
    "from arcgis.gis import GIS\n",
    "\n",
    "gis = GIS(profile='your_online_profile',verify_cert=False)\n",
    "m_class = GIS().map(zoomlevel=9.525)\n",
    "m_class.center=[sdf_test.lat.mean()-3.85,sdf_test.lon.mean()+0.2]\n",
    "m_class.legend = True\n",
    "m_class"
   ]
  },
  {
   "cell_type": "code",
   "execution_count": 217,
   "metadata": {},
   "outputs": [
    {
     "data": {
      "text/plain": [
       "True"
      ]
     },
     "execution_count": 217,
     "metadata": {},
     "output_type": "execute_result"
    }
   ],
   "source": [
    "sdf_test.spatial.plot(map_widget=m_class,\n",
    "                 col='depth',\n",
    "                 renderer_type = 'c',\n",
    "                 class_count=5,\n",
    "                 symbol_style='d',\n",
    "                 marker_size=10,\n",
    "                 symbol_type='simple'\n",
    "                )"
   ]
  },
  {
   "cell_type": "markdown",
   "metadata": {},
   "source": [
    "#### Convert from csv to shp file using WGS84 coordinate information"
   ]
  },
  {
   "cell_type": "markdown",
   "metadata": {},
   "source": [
    "#### This operation required open with notebook in arcgis pro\n",
    "#edit wrong points using arcgis pro then export dbf to new csv file. then reimport csv file to shp file."
   ]
  },
  {
   "cell_type": "raw",
   "metadata": {},
   "source": [
    "#shp2csv - export and import again if wrong coordinate found\n",
    "arcpy.env.workspace = r\"E:\\HIPP\\11_Deliverables\\03_Bathymetry\\05_SoundVelocityProfiles\\SVP_Raw\"\n",
    " \n",
    "# Set local variables\n",
    "inTable = \"SI1001_SVP_UTM56S.dbf\"\n",
    "outLocation = arcpy.env.workspace\n",
    "outTable = \"SI1001_SVP_RAW_Edit1.csv\"\n",
    "\n",
    "# Execute TableToTable\n",
    "arcpy.TableToTable_conversion(inTable, outLocation, outTable)"
   ]
  },
  {
   "cell_type": "markdown",
   "metadata": {},
   "source": [
    "### Step 3: Define field name and attribute values and use CalculateField to update field values\n",
    "#this operation used after the data is populated (load) into SSDM database"
   ]
  },
  {
   "cell_type": "code",
   "execution_count": 54,
   "metadata": {},
   "outputs": [],
   "source": [
    "#testing readin again and display the data from SSDM geodatabase using spatial enable dataframe"
   ]
  },
  {
   "cell_type": "code",
   "execution_count": null,
   "metadata": {},
   "outputs": [],
   "source": []
  }
 ],
 "metadata": {
  "kernelspec": {
   "display_name": "Python 3",
   "language": "python",
   "name": "python3"
  },
  "language_info": {
   "codemirror_mode": {
    "name": "ipython",
    "version": 3
   },
   "file_extension": ".py",
   "mimetype": "text/x-python",
   "name": "python",
   "nbconvert_exporter": "python",
   "pygments_lexer": "ipython3",
   "version": "3.7.9"
  }
 },
 "nbformat": 4,
 "nbformat_minor": 4
}
