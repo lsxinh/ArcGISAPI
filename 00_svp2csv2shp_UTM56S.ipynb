{
 "cells": [
  {
   "cell_type": "markdown",
   "metadata": {},
   "source": [
    "### svp2csv_py"
   ]
  },
  {
   "cell_type": "code",
   "execution_count": 1,
   "metadata": {},
   "outputs": [],
   "source": [
    "#%% import modules, packages\n",
    "import pandas as pd\n",
    "import requests\n",
    "import os\n",
    "import glob\n",
    "import zipfile\n",
    "from shapely.geometry import Point\n",
    "import sys\n",
    "from datetime import datetime\n",
    "from datetime import timedelta"
   ]
  },
  {
   "cell_type": "code",
   "execution_count": 2,
   "metadata": {},
   "outputs": [],
   "source": [
    "#%% Functions\n",
    "def XYZ2SHP_UTM56S(xyz_in_path):\n",
    "    '''\n",
    "    input xyz\n",
    "    output shp file in SHP folder\n",
    "    '''\n",
    "    xyz_dirname = os.path.dirname(xyz_in_path)\n",
    "    os.chdir(xyz_dirname)\n",
    "    \n",
    "    #31: add headers to the file 'X' 'Y' 'Z'\n",
    "    infile = open(xyz_in_path)\n",
    "    inLines = infile.read()\n",
    "    infile.close()\n",
    "    outLines = 'X Y Z\\n'+inLines\n",
    "    outLines = outLines.replace(' ',\",\")\n",
    "    outfile_location = xyz_in_path[:-4]+'_ENZ.csv'\n",
    "    outfile = open(outfile_location,'w')\n",
    "    outfile.write(outLines)\n",
    "    outfile.close()\n",
    "    \n",
    "    #Create geopandas dataframe\n",
    "    inXYZdf = pd.read_csv(outfile_location)\n",
    "    geometry = [Point(lonlat) for lonlat in zip(inXYZdf['X'],inXYZdf['Y'])]\n",
    "    crs = {'init': 'epsg:28350'}\n",
    "    geopdf = gpd.GeoDataFrame(inXYZdf,crs=crs,geometry=geometry)\n",
    "    \n",
    "    # Plot the map\n",
    "    geopdf.plot(marker='o', figsize = (6,6),color='g', markersize=5);\n",
    "\n",
    "    #70 Create a new export folder\n",
    "    try:\n",
    "        os.mkdir('SHP')\n",
    "        os.mkdir('csv')\n",
    "    except:\n",
    "        pass\n",
    "    #71: write to SHP file\n",
    "    try:\n",
    "        geopdf.to_file(os.path.join(xyz_dirname,'SHP',os.path.basename(outfile_location)[:-4]+'.shp'))\n",
    "    except:\n",
    "        pass\n",
    "\n",
    "#################################################################################\n",
    "#Define a function to list all Geotiff files in a folder\n",
    "def nameList_F_withExt(InputFolder,filterString=\"*\"):\n",
    "    '''\n",
    "    pathList_F_ext(InputFolder,filterString=\"*\")\n",
    "    list all files and folders in InputFolder\n",
    "    return a list of names for every file and folder matching folderString\n",
    "    file includes extention (ext) information\n",
    "    '''\n",
    "    os.chdir(InputFolder) #change working folder\n",
    "    return glob.glob(filterString)\n",
    "\n",
    "def pathList_F_ext(InputFolder,filterString=\"*\"):\n",
    "    \"\"\"\n",
    "    pathList_F_ext(InputFolder,filterString=\"*\")\n",
    "    list all files and folders in InputFolder\n",
    "    return a list of paths for every file and folder matching folderString\n",
    "    file includes extention (ext) information\n",
    "    \"\"\"\n",
    "    import glob\n",
    "    os.chdir(InputFolder) #change working folder\n",
    "    baseName_FolderList = glob.glob(filterString) #list all the folder list in InputFolder\n",
    "    pathList = []\n",
    "    for folder in baseName_FolderList:\n",
    "        pathList.append(os.path.abspath(folder))\n",
    "    return pathList\n",
    "\n",
    "###############################################################################\n",
    "def newFolderF(containFolder,newFolder='newFolder'):\n",
    "    '''\n",
    "    create new folder\n",
    "    containFolder: the location of new created foler\n",
    "    newFolder: new folder name\n",
    "    Step 1: change dir to containFolder\n",
    "    Step 2: check if the new folder is existed or not\n",
    "    Step 3: if not make new folder using os.mkdir\n",
    "    return the function result to new path.\n",
    "    '''\n",
    "    os.chdir(containFolder)\n",
    "    if os.path.exists(containFolder+\"\\\\\"+newFolder): #if newFolder exists\n",
    "        next\n",
    "        #print (\"Already exists:\",containFolder+\"\\\\\"+newFolder)\n",
    "    else:\n",
    "        os.mkdir(newFolder)\n",
    "    return containFolder+\"\\\\\"+newFolder #return the abspath\n",
    "    \n",
    "#From standard Date to Julian date\n",
    "def datestdtojd (stddate):\n",
    "    fmt='%Y-%m-%d'\n",
    "    sdtdate = datetime.strptime(stddate, fmt)\n",
    "    sdtdate = sdtdate.timetuple()\n",
    "    jdate = sdtdate.tm_yday\n",
    "    return(jdate)\n",
    "datestdtojd('2018-11-01')\n",
    "#From Julian date to standard Date\n",
    "def jdtodatestd (jdate):\n",
    "    fmt = '%Y-%j'\n",
    "    datestd = datetime.strptime(jdate, fmt).date()\n",
    "    return(datestd)\n",
    "jdtodatestd('2018-305')\n",
    "\n",
    "#\n",
    "def dms_to_dd(d, m, s):\n",
    "    if d[0]=='-':\n",
    "        dd = float(d) - float(m)/60 - float(s)/3600\n",
    "    else:\n",
    "        dd = float(d) + float(m)/60 + float(s)/3600\n",
    "    return dd\n"
   ]
  },
  {
   "cell_type": "markdown",
   "metadata": {},
   "source": [
    "## Caris format svp to csv files list table"
   ]
  },
  {
   "cell_type": "raw",
   "metadata": {},
   "source": [
    "#%% svp2csv\n",
    "#list all svp\n",
    "in_folder = r'E:\\HIPP\\11_Deliverables\\03_Bathymetry\\05_SoundVelocityProfiles\\SVP_CARIS_Format\\svp'\n",
    "svp_lst = nameList_F_withExt(in_folder,\"*.svp\")\n",
    "#new csv file contains all header information\n",
    "outfname = r'E:\\HIPP\\11_Deliverables\\03_Bathymetry\\05_SoundVelocityProfiles\\SVP_CARIS_Format\\SI1001_SVP_CARIS_Format.csv'\n",
    "outfile = open(outfname,'w')\n",
    "msg = 'svpNo,JDate,std_date,time,lon_dms,lat_dms,lon_deg,lat_deg,svpName,svpPath\\n'\n",
    "outfile.write(msg)\n",
    "#dt format\n",
    "std_dt_fm='%Y/%m/%d'\n",
    "jl_dt_fm='%Y-%j'\n",
    "\n",
    "for svp_file_no,svp in enumerate(svp_lst):\n",
    "    with open(svp,'r') as in_svp:\n",
    "        line1 = in_svp.readline()\n",
    "        line1 = line1.strip('\\n')\n",
    "        if line1 =='': continue\n",
    "        else:\n",
    "            # line2 = in_svp.readline()\n",
    "            words = line1.split(' ')\n",
    "            \n",
    "            julian_date = words[1]\n",
    "            std_date = jdtodatestd(julian_date)\n",
    "            std_date_txt = std_date.strftime(std_dt_fm)\n",
    "            \n",
    "            std_time = words[2]\n",
    "            \n",
    "            lat_dms = words[3]\n",
    "            lat_dms_d =  lat_dms.split(':')[0]\n",
    "            lat_dms_m = lat_dms.split(':')[1]\n",
    "            lat_dms_s = lat_dms.split(':')[2]\n",
    "            lat_dd = dms_to_dd(lat_dms_d,lat_dms_m,lat_dms_s)\n",
    "            \n",
    "            lon_dms = words[4]\n",
    "            lon_dms_d =  lon_dms.split(':')[0]\n",
    "            lon_dms_m = lon_dms.split(':')[1]\n",
    "            lon_dms_s = lon_dms.split(':')[2]\n",
    "            lon_dd = dms_to_dd(lon_dms_d,lon_dms_m,lon_dms_s)\n",
    "            \n",
    "            path2file = \"11_Deliverables/03_Bathymetry/05_SoundVelocityProfiles/SVP_CARIS_Format/svp/\"+svp\n",
    "            \n",
    "            msg = f'{svp_file_no+1},{julian_date},{std_date_txt},{std_time},{lon_dms},{lat_dms},{lon_dd},{lat_dd},{svp},{path2file}\\n'\n",
    "            outfile.write(msg)\n",
    "            print(msg)\n",
    "            \n",
    "outfile.close()"
   ]
  },
  {
   "cell_type": "code",
   "execution_count": 43,
   "metadata": {},
   "outputs": [],
   "source": [
    "path2file = \"11_Deliverables/03_Bathymetry/05_SoundVelocityProfiles/SVP_CARIS_Format/svp/\"+svp"
   ]
  },
  {
   "cell_type": "markdown",
   "metadata": {},
   "source": [
    "### CSV2SHP_Arcpy"
   ]
  },
  {
   "cell_type": "code",
   "execution_count": 54,
   "metadata": {},
   "outputs": [
    {
     "name": "stdout",
     "output_type": "stream",
     "text": [
      "775\n"
     ]
    }
   ],
   "source": [
    "# CARIS format\n",
    "arcpy.env.workspace = r\"E:\\HIPP\\11_Deliverables\\03_Bathymetry\\05_SoundVelocityProfiles\\SVP_CARIS_Format\"\n",
    "in_table = r\"SI1001_SVP_CARIS_Format.csv\"\n",
    "out_feature_class = \"SI1001_SVP_CARIS_Format.shp\"\n",
    "x_coords = \"lon_deg\"\n",
    "y_coords = \"lat_deg\"\n",
    "z_coords = None\n",
    "sr_wgs84 = arcpy.SpatialReference(4326) #CRS: WGS84 4326\n",
    "arcpy.management.XYTableToPoint(in_table, out_feature_class,\n",
    "                                x_coords, y_coords, z_coords,\n",
    "                                sr_wgs84)\n",
    "# total rows\n",
    "print(arcpy.GetCount_management(out_feature_class))\n",
    "\n",
    "#note location is very bad, do not use svp from files"
   ]
  },
  {
   "cell_type": "markdown",
   "metadata": {},
   "source": [
    "# RAW data"
   ]
  },
  {
   "cell_type": "code",
   "execution_count": null,
   "metadata": {},
   "outputs": [],
   "source": []
  },
  {
   "cell_type": "code",
   "execution_count": null,
   "metadata": {},
   "outputs": [],
   "source": []
  },
  {
   "cell_type": "code",
   "execution_count": 55,
   "metadata": {
    "scrolled": true
   },
   "outputs": [
    {
     "name": "stdout",
     "output_type": "stream",
     "text": [
      "102\n"
     ]
    }
   ],
   "source": [
    "# XYTableToPoint.py\n",
    "#CRS: WGS84 4326\n",
    "# import system modules \n",
    "import arcpy\n",
    "# Set environment settings\n",
    "arcpy.env.workspace = r\"E:\\HIPP\\11_Deliverables\\03_Bathymetry\\05_SoundVelocityProfiles\\SVP_Raw\"\n",
    "# Set the local variables\n",
    "in_table = r\"SI1001_SVP_SSDM.csv\"\n",
    "out_feature_class = \"SI1001_SVP_WGS84.shp\"\n",
    "x_coords = \"Lon_E\"\n",
    "y_coords = \"Lat_S\"\n",
    "z_coords = None\n",
    "sr_wgs84 = arcpy.SpatialReference(4326)\n",
    "# Make the XY event layer...\n",
    "arcpy.management.XYTableToPoint(in_table, out_feature_class,\n",
    "                                x_coords, y_coords, z_coords,\n",
    "                                sr_wgs84)\n",
    "# Print the total rows\n",
    "print(arcpy.GetCount_management(out_feature_class))\n",
    "\n",
    "#not good"
   ]
  },
  {
   "cell_type": "code",
   "execution_count": 94,
   "metadata": {},
   "outputs": [
    {
     "name": "stdout",
     "output_type": "stream",
     "text": [
      "0\n"
     ]
    }
   ],
   "source": [
    "# WGS 84 / UTM zone 56S 32756\n",
    "# Set environment settings\n",
    "arcpy.env.workspace = r\"E:\\HIPP\\11_Deliverables\\03_Bathymetry\\05_SoundVelocityProfiles\\SVP_Raw\"\n",
    "# Set the local variables\n",
    "in_table = r\"SI1001_SVP_RAW.csv\"\n",
    "out_feature_class = \"SI1001_SVP_UTM56S.shp\"\n",
    "x_coords = \"E_UTM56S\"\n",
    "y_coords = \"N_UTM56S\"\n",
    "z_coords = None\n",
    "sr_wgs84 = arcpy.SpatialReference(32756)\n",
    "# Make the XY event layer...\n",
    "arcpy.management.XYTableToPoint(in_table, out_feature_class,\n",
    "                                x_coords, y_coords, z_coords,\n",
    "                                sr_wgs84)\n",
    "# Print the total rows\n",
    "print(arcpy.GetCount_management(out_feature_class))\n",
    "\n",
    "#very good"
   ]
  },
  {
   "cell_type": "code",
   "execution_count": 4,
   "metadata": {},
   "outputs": [
    {
     "data": {
      "text/html": [
       "<h2>Output</h2>E:\\HIPP\\11_Deliverables\\03_Bathymetry\\05_SoundVelocityProfiles\\SVP_Raw\\SI1001_SVP_RAW_Edit1.csv<h2>Messages</h2>Start Time: Thursday, 25 February 2021 12:12:35 PM<br/>Succeeded at Thursday, 25 February 2021 12:12:35 PM (Elapsed Time: 0.15 seconds)<br/><style>.rendered_html td, .rendered_html th {text-align: left;}.rendered_html tbody {border: 1px solid black;}</style>"
      ],
      "text/plain": [
       "<Result 'E:\\\\HIPP\\\\11_Deliverables\\\\03_Bathymetry\\\\05_SoundVelocityProfiles\\\\SVP_Raw\\\\SI1001_SVP_RAW_Edit1.csv'>"
      ]
     },
     "execution_count": 4,
     "metadata": {},
     "output_type": "execute_result"
    }
   ],
   "source": [
    "# Set environment settings\n",
    "arcpy.env.workspace = r\"E:\\HIPP\\11_Deliverables\\03_Bathymetry\\05_SoundVelocityProfiles\\SVP_Raw\"\n",
    " \n",
    "# Set local variables\n",
    "inTable = \"SI1001_SVP_UTM56S.dbf\"\n",
    "outLocation = arcpy.env.workspace\n",
    "outTable = \"SI1001_SVP_RAW_Edit1.csv\"\n",
    "\n",
    "# Execute TableToTable\n",
    "arcpy.TableToTable_conversion(inTable, outLocation, outTable)"
   ]
  },
  {
   "cell_type": "code",
   "execution_count": 5,
   "metadata": {},
   "outputs": [
    {
     "name": "stdout",
     "output_type": "stream",
     "text": [
      "102\n"
     ]
    }
   ],
   "source": [
    "# WGS 84 / UTM zone 56S 32756\n",
    "# Set environment settings\n",
    "arcpy.env.workspace = r\"E:\\HIPP\\11_Deliverables\\03_Bathymetry\\05_SoundVelocityProfiles\\SVP_Raw\"\n",
    "# Set the local variables\n",
    "in_table = r\"SI1001_SVP_RAW_Edit1.csv\"\n",
    "out_feature_class = \"SI1001_SVP_UTM56S_R2.shp\"\n",
    "x_coords = \"E_UTM56S\"\n",
    "y_coords = \"N_UTM56S\"\n",
    "z_coords = None\n",
    "sr_wgs84 = arcpy.SpatialReference(32756)\n",
    "# Make the XY event layer...\n",
    "arcpy.management.XYTableToPoint(in_table, out_feature_class,\n",
    "                                x_coords, y_coords, z_coords,\n",
    "                                sr_wgs84)\n",
    "# Print the total rows\n",
    "print(arcpy.GetCount_management(out_feature_class))\n",
    "\n",
    "#very good"
   ]
  }
 ],
 "metadata": {
  "kernelspec": {
   "display_name": "ArcGISPro",
   "language": "Python",
   "name": "python3"
  },
  "language_info": {
   "file_extension": ".py",
   "name": "python",
   "version": "3"
  }
 },
 "nbformat": 4,
 "nbformat_minor": 2
}
