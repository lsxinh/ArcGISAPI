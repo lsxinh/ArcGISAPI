{
 "cells": [
  {
   "cell_type": "markdown",
   "metadata": {},
   "source": [
    "### Step 1: Prepare a csv file using excel (note: formatting works better with old excel version)"
   ]
  },
  {
   "cell_type": "markdown",
   "metadata": {},
   "source": [
    "#### 1a Import data from csv - pandas"
   ]
  },
  {
   "cell_type": "code",
   "execution_count": 1,
   "metadata": {},
   "outputs": [],
   "source": [
    "import os\n",
    "import pandas as pd"
   ]
  },
  {
   "cell_type": "code",
   "execution_count": 2,
   "metadata": {},
   "outputs": [
    {
     "name": "stdout",
     "output_type": "stream",
     "text": [
      "Index(['SAMPLE ID', 'UTC Date', 'UTC Time', 'LATITUDE', 'LONGITUDE',\n",
      "       'Water Depth', 'Method', 'Recovery', 'kg', 'Photo Filename',\n",
      "       'Sample Composition', 'Folk classification', 'Hue Card', 'Hue Value',\n",
      "       'Photo filename', 'Sample Held', 'Observers Signature',\n",
      "       'Anoxic sediments', 'Comments', 'Sample', 'Data url', 'E_UTM56S',\n",
      "       'N_UTM56S', 'Intensity', 'Z'],\n",
      "      dtype='object')\n"
     ]
    },
    {
     "data": {
      "text/html": [
       "<div>\n",
       "<style scoped>\n",
       "    .dataframe tbody tr th:only-of-type {\n",
       "        vertical-align: middle;\n",
       "    }\n",
       "\n",
       "    .dataframe tbody tr th {\n",
       "        vertical-align: top;\n",
       "    }\n",
       "\n",
       "    .dataframe thead th {\n",
       "        text-align: right;\n",
       "    }\n",
       "</style>\n",
       "<table border=\"1\" class=\"dataframe\">\n",
       "  <thead>\n",
       "    <tr style=\"text-align: right;\">\n",
       "      <th></th>\n",
       "      <th>SAMPLE ID</th>\n",
       "      <th>UTC Date</th>\n",
       "      <th>UTC Time</th>\n",
       "      <th>LATITUDE</th>\n",
       "      <th>LONGITUDE</th>\n",
       "      <th>Water Depth</th>\n",
       "      <th>Method</th>\n",
       "      <th>Recovery</th>\n",
       "      <th>kg</th>\n",
       "      <th>Photo Filename</th>\n",
       "      <th>...</th>\n",
       "      <th>Sample Held</th>\n",
       "      <th>Observers Signature</th>\n",
       "      <th>Anoxic sediments</th>\n",
       "      <th>Comments</th>\n",
       "      <th>Sample</th>\n",
       "      <th>Data url</th>\n",
       "      <th>E_UTM56S</th>\n",
       "      <th>N_UTM56S</th>\n",
       "      <th>Intensity</th>\n",
       "      <th>Z</th>\n",
       "    </tr>\n",
       "  </thead>\n",
       "  <tbody>\n",
       "    <tr>\n",
       "      <th>0</th>\n",
       "      <td>77</td>\n",
       "      <td>4-01-2021</td>\n",
       "      <td>12:52:00 AM</td>\n",
       "      <td>-32.907482</td>\n",
       "      <td>151.863574</td>\n",
       "      <td>30</td>\n",
       "      <td>NaN</td>\n",
       "      <td>90</td>\n",
       "      <td>NaN</td>\n",
       "      <td>20210104_077</td>\n",
       "      <td>...</td>\n",
       "      <td>N</td>\n",
       "      <td>BT</td>\n",
       "      <td>NaN</td>\n",
       "      <td></td>\n",
       "      <td>NaN</td>\n",
       "      <td>NaN</td>\n",
       "      <td>NaN</td>\n",
       "      <td>NaN</td>\n",
       "      <td>NaN</td>\n",
       "      <td>NaN</td>\n",
       "    </tr>\n",
       "    <tr>\n",
       "      <th>50</th>\n",
       "      <td>67</td>\n",
       "      <td>5-01-2021</td>\n",
       "      <td>1:02:00 AM</td>\n",
       "      <td>-32.892604</td>\n",
       "      <td>151.918325</td>\n",
       "      <td>37</td>\n",
       "      <td>NaN</td>\n",
       "      <td>80</td>\n",
       "      <td>NaN</td>\n",
       "      <td>20210105_67</td>\n",
       "      <td>...</td>\n",
       "      <td>N</td>\n",
       "      <td>BT</td>\n",
       "      <td></td>\n",
       "      <td></td>\n",
       "      <td>NaN</td>\n",
       "      <td>NaN</td>\n",
       "      <td>NaN</td>\n",
       "      <td>NaN</td>\n",
       "      <td>NaN</td>\n",
       "      <td>NaN</td>\n",
       "    </tr>\n",
       "    <tr>\n",
       "      <th>100</th>\n",
       "      <td>96</td>\n",
       "      <td>9-01-2021</td>\n",
       "      <td>9:20:00 AM</td>\n",
       "      <td>-32.923830</td>\n",
       "      <td>151.990723</td>\n",
       "      <td>88</td>\n",
       "      <td>NaN</td>\n",
       "      <td>80</td>\n",
       "      <td>NaN</td>\n",
       "      <td>20210109_096</td>\n",
       "      <td>...</td>\n",
       "      <td>N</td>\n",
       "      <td>BT</td>\n",
       "      <td></td>\n",
       "      <td></td>\n",
       "      <td>NaN</td>\n",
       "      <td>NaN</td>\n",
       "      <td>NaN</td>\n",
       "      <td>NaN</td>\n",
       "      <td>NaN</td>\n",
       "      <td>NaN</td>\n",
       "    </tr>\n",
       "    <tr>\n",
       "      <th>160</th>\n",
       "      <td>160</td>\n",
       "      <td>10-01-2021</td>\n",
       "      <td>5:04:00 PM</td>\n",
       "      <td>-33.060768</td>\n",
       "      <td>151.861614</td>\n",
       "      <td>104</td>\n",
       "      <td>NaN</td>\n",
       "      <td>90</td>\n",
       "      <td>NaN</td>\n",
       "      <td>20210110_160</td>\n",
       "      <td>...</td>\n",
       "      <td>N</td>\n",
       "      <td>NS</td>\n",
       "      <td></td>\n",
       "      <td></td>\n",
       "      <td>NaN</td>\n",
       "      <td>NaN</td>\n",
       "      <td>NaN</td>\n",
       "      <td>NaN</td>\n",
       "      <td>NaN</td>\n",
       "      <td>NaN</td>\n",
       "    </tr>\n",
       "  </tbody>\n",
       "</table>\n",
       "<p>4 rows × 25 columns</p>\n",
       "</div>"
      ],
      "text/plain": [
       "     SAMPLE ID    UTC Date     UTC Time   LATITUDE   LONGITUDE  Water Depth  \\\n",
       "0           77   4-01-2021  12:52:00 AM -32.907482  151.863574           30   \n",
       "50          67   5-01-2021   1:02:00 AM -32.892604  151.918325           37   \n",
       "100         96   9-01-2021   9:20:00 AM -32.923830  151.990723           88   \n",
       "160        160  10-01-2021   5:04:00 PM -33.060768  151.861614          104   \n",
       "\n",
       "     Method  Recovery  kg Photo Filename  ... Sample Held Observers Signature  \\\n",
       "0       NaN        90 NaN   20210104_077  ...           N                  BT   \n",
       "50      NaN        80 NaN    20210105_67  ...           N                  BT   \n",
       "100     NaN        80 NaN   20210109_096  ...           N                  BT   \n",
       "160     NaN        90 NaN   20210110_160  ...           N                  NS   \n",
       "\n",
       "    Anoxic sediments Comments Sample Data url E_UTM56S N_UTM56S Intensity   Z  \n",
       "0                NaN             NaN      NaN      NaN      NaN       NaN NaN  \n",
       "50                               NaN      NaN      NaN      NaN       NaN NaN  \n",
       "100                              NaN      NaN      NaN      NaN       NaN NaN  \n",
       "160                              NaN      NaN      NaN      NaN       NaN NaN  \n",
       "\n",
       "[4 rows x 25 columns]"
      ]
     },
     "execution_count": 2,
     "metadata": {},
     "output_type": "execute_result"
    }
   ],
   "source": [
    "#import from csv\n",
    "in_csv = r\"E:\\HIPP\\11_Deliverables\\03_Bathymetry\\08_SeabedTexture_And_AncillaryLayers\\SI1001_Samples_WGS84_Option2_Raw.csv\"\n",
    "df = pd.read_csv(in_csv)\n",
    "print(df.columns)\n",
    "# print(len(df))\n",
    "df.iloc[[0,50,100,-1]]"
   ]
  },
  {
   "cell_type": "markdown",
   "metadata": {},
   "source": [
    "#### 1b. Check and tidy data - pandas"
   ]
  },
  {
   "cell_type": "code",
   "execution_count": 3,
   "metadata": {
    "scrolled": true
   },
   "outputs": [
    {
     "data": {
      "text/html": [
       "<div>\n",
       "<style scoped>\n",
       "    .dataframe tbody tr th:only-of-type {\n",
       "        vertical-align: middle;\n",
       "    }\n",
       "\n",
       "    .dataframe tbody tr th {\n",
       "        vertical-align: top;\n",
       "    }\n",
       "\n",
       "    .dataframe thead th {\n",
       "        text-align: right;\n",
       "    }\n",
       "</style>\n",
       "<table border=\"1\" class=\"dataframe\">\n",
       "  <thead>\n",
       "    <tr style=\"text-align: right;\">\n",
       "      <th></th>\n",
       "      <th>sample_id</th>\n",
       "      <th>date_utc</th>\n",
       "      <th>time_utc</th>\n",
       "      <th>lat</th>\n",
       "      <th>lon</th>\n",
       "      <th>depth</th>\n",
       "      <th>method</th>\n",
       "      <th>recovery</th>\n",
       "      <th>weight</th>\n",
       "      <th>name</th>\n",
       "      <th>...</th>\n",
       "      <th>sample_held</th>\n",
       "      <th>obs_sig</th>\n",
       "      <th>anoxic_sediments</th>\n",
       "      <th>comments</th>\n",
       "      <th>sample</th>\n",
       "      <th>url</th>\n",
       "      <th>e_utm56s</th>\n",
       "      <th>n_utm56s</th>\n",
       "      <th>intensity</th>\n",
       "      <th>z</th>\n",
       "    </tr>\n",
       "  </thead>\n",
       "  <tbody>\n",
       "    <tr>\n",
       "      <th>0</th>\n",
       "      <td>77</td>\n",
       "      <td>4-01-2021</td>\n",
       "      <td>12:52:00 AM</td>\n",
       "      <td>-32.907482</td>\n",
       "      <td>151.863574</td>\n",
       "      <td>30</td>\n",
       "      <td>NaN</td>\n",
       "      <td>90</td>\n",
       "      <td>NaN</td>\n",
       "      <td>20210104_077</td>\n",
       "      <td>...</td>\n",
       "      <td>N</td>\n",
       "      <td>BT</td>\n",
       "      <td>NaN</td>\n",
       "      <td></td>\n",
       "      <td>NaN</td>\n",
       "      <td>NaN</td>\n",
       "      <td>NaN</td>\n",
       "      <td>NaN</td>\n",
       "      <td>NaN</td>\n",
       "      <td>NaN</td>\n",
       "    </tr>\n",
       "    <tr>\n",
       "      <th>50</th>\n",
       "      <td>67</td>\n",
       "      <td>5-01-2021</td>\n",
       "      <td>1:02:00 AM</td>\n",
       "      <td>-32.892604</td>\n",
       "      <td>151.918325</td>\n",
       "      <td>37</td>\n",
       "      <td>NaN</td>\n",
       "      <td>80</td>\n",
       "      <td>NaN</td>\n",
       "      <td>20210105_67</td>\n",
       "      <td>...</td>\n",
       "      <td>N</td>\n",
       "      <td>BT</td>\n",
       "      <td></td>\n",
       "      <td></td>\n",
       "      <td>NaN</td>\n",
       "      <td>NaN</td>\n",
       "      <td>NaN</td>\n",
       "      <td>NaN</td>\n",
       "      <td>NaN</td>\n",
       "      <td>NaN</td>\n",
       "    </tr>\n",
       "    <tr>\n",
       "      <th>100</th>\n",
       "      <td>96</td>\n",
       "      <td>9-01-2021</td>\n",
       "      <td>9:20:00 AM</td>\n",
       "      <td>-32.923830</td>\n",
       "      <td>151.990723</td>\n",
       "      <td>88</td>\n",
       "      <td>NaN</td>\n",
       "      <td>80</td>\n",
       "      <td>NaN</td>\n",
       "      <td>20210109_096</td>\n",
       "      <td>...</td>\n",
       "      <td>N</td>\n",
       "      <td>BT</td>\n",
       "      <td></td>\n",
       "      <td></td>\n",
       "      <td>NaN</td>\n",
       "      <td>NaN</td>\n",
       "      <td>NaN</td>\n",
       "      <td>NaN</td>\n",
       "      <td>NaN</td>\n",
       "      <td>NaN</td>\n",
       "    </tr>\n",
       "    <tr>\n",
       "      <th>160</th>\n",
       "      <td>160</td>\n",
       "      <td>10-01-2021</td>\n",
       "      <td>5:04:00 PM</td>\n",
       "      <td>-33.060768</td>\n",
       "      <td>151.861614</td>\n",
       "      <td>104</td>\n",
       "      <td>NaN</td>\n",
       "      <td>90</td>\n",
       "      <td>NaN</td>\n",
       "      <td>20210110_160</td>\n",
       "      <td>...</td>\n",
       "      <td>N</td>\n",
       "      <td>NS</td>\n",
       "      <td></td>\n",
       "      <td></td>\n",
       "      <td>NaN</td>\n",
       "      <td>NaN</td>\n",
       "      <td>NaN</td>\n",
       "      <td>NaN</td>\n",
       "      <td>NaN</td>\n",
       "      <td>NaN</td>\n",
       "    </tr>\n",
       "  </tbody>\n",
       "</table>\n",
       "<p>4 rows × 25 columns</p>\n",
       "</div>"
      ],
      "text/plain": [
       "     sample_id    date_utc     time_utc        lat         lon  depth  method  \\\n",
       "0           77   4-01-2021  12:52:00 AM -32.907482  151.863574     30     NaN   \n",
       "50          67   5-01-2021   1:02:00 AM -32.892604  151.918325     37     NaN   \n",
       "100         96   9-01-2021   9:20:00 AM -32.923830  151.990723     88     NaN   \n",
       "160        160  10-01-2021   5:04:00 PM -33.060768  151.861614    104     NaN   \n",
       "\n",
       "     recovery  weight          name  ... sample_held obs_sig anoxic_sediments  \\\n",
       "0          90     NaN  20210104_077  ...           N      BT              NaN   \n",
       "50         80     NaN   20210105_67  ...           N      BT                    \n",
       "100        80     NaN  20210109_096  ...           N      BT                    \n",
       "160        90     NaN  20210110_160  ...           N      NS                    \n",
       "\n",
       "    comments sample url e_utm56s n_utm56s intensity   z  \n",
       "0               NaN NaN      NaN      NaN       NaN NaN  \n",
       "50              NaN NaN      NaN      NaN       NaN NaN  \n",
       "100             NaN NaN      NaN      NaN       NaN NaN  \n",
       "160             NaN NaN      NaN      NaN       NaN NaN  \n",
       "\n",
       "[4 rows x 25 columns]"
      ]
     },
     "execution_count": 3,
     "metadata": {},
     "output_type": "execute_result"
    }
   ],
   "source": [
    "#add FID: not neccessary if generating shp file using ESRI tool\n",
    "# df['FID'] = [i for i in range(len(df))] #auto add FID col\n",
    "df.iloc[[0,50,100,-1]]\n",
    "#change col names\n",
    "column_names={\"Folk classification\":\"class\",'Sample Composition':'Composition',\n",
    "                  'SAMPLE ID':'sample_ID','UTC Date':'Date_UTC','UTC Time':'Time_UTC','LATITUDE':'lat','LONGITUDE':'lon',\n",
    "                  'Water Depth':'Depth','Photo Filename':'Name','Hue Card':'Hue_Card','Hue Value':'Hue_Value',\n",
    "                  'Photo filename':'File_name','Sample Held':'Sample_Held','Observers Signature':'Obs_Sig',\n",
    "                  'Anoxic sediments':'Anoxic_Sediments','Data url':'url','kg':'weight'}\n",
    "df = df.rename(columns=column_names) #rename\n",
    "df = df.rename(columns=str.lower,inplace=False) #renametolowercase\n",
    "df[1:-1:50]\n",
    "#get column names and sort by alphabet\n",
    "new_col_names = list(df.columns)\n",
    "# print(new_col_names)\n",
    "# new_col_names.sort()\n",
    "# new_col_names\n",
    "#change to the order we want manually\n",
    "# new_col_names = ['fid','sample_id', 'date_utc', 'time_utc', 'lat', 'lon', 'depth', \n",
    "#                'method', 'recovery', 'weight', 'name', 'composition', \n",
    "#                'class', 'hue_card', 'hue_value', 'file_name', 'sample_held', \n",
    "#                'obs_sig', 'anoxic_sediments', 'comments', 'sample', 'url', \n",
    "#                'e_utm56s', 'n_utm56s']\n",
    "# new_col_names\n",
    "#re_oder the dataframe\n",
    "# df = df[new_col_names]\n",
    "df.iloc[[0,50,100,-1]]"
   ]
  },
  {
   "cell_type": "code",
   "execution_count": 4,
   "metadata": {},
   "outputs": [
    {
     "data": {
      "text/plain": [
       "Index(['sample_id', 'date_utc', 'time_utc', 'lat', 'lon', 'depth', 'method',\n",
       "       'recovery', 'weight', 'name', 'composition', 'class', 'hue_card',\n",
       "       'hue_value', 'file_name', 'sample_held', 'obs_sig', 'anoxic_sediments',\n",
       "       'comments', 'sample', 'url', 'e_utm56s', 'n_utm56s', 'intensity', 'z'],\n",
       "      dtype='object')"
      ]
     },
     "execution_count": 4,
     "metadata": {},
     "output_type": "execute_result"
    }
   ],
   "source": [
    "df.columns"
   ]
  },
  {
   "cell_type": "code",
   "execution_count": 5,
   "metadata": {},
   "outputs": [
    {
     "data": {
      "text/html": [
       "<div>\n",
       "<style scoped>\n",
       "    .dataframe tbody tr th:only-of-type {\n",
       "        vertical-align: middle;\n",
       "    }\n",
       "\n",
       "    .dataframe tbody tr th {\n",
       "        vertical-align: top;\n",
       "    }\n",
       "\n",
       "    .dataframe thead th {\n",
       "        text-align: right;\n",
       "    }\n",
       "</style>\n",
       "<table border=\"1\" class=\"dataframe\">\n",
       "  <thead>\n",
       "    <tr style=\"text-align: right;\">\n",
       "      <th></th>\n",
       "      <th>sample_id</th>\n",
       "      <th>date_utc</th>\n",
       "      <th>time_utc</th>\n",
       "      <th>lat</th>\n",
       "      <th>lon</th>\n",
       "      <th>depth</th>\n",
       "      <th>method</th>\n",
       "      <th>recovery</th>\n",
       "      <th>weight</th>\n",
       "      <th>name</th>\n",
       "      <th>...</th>\n",
       "      <th>sample_held</th>\n",
       "      <th>obs_sig</th>\n",
       "      <th>anoxic_sediments</th>\n",
       "      <th>comments</th>\n",
       "      <th>sample</th>\n",
       "      <th>url</th>\n",
       "      <th>e_utm56s</th>\n",
       "      <th>n_utm56s</th>\n",
       "      <th>intensity</th>\n",
       "      <th>z</th>\n",
       "    </tr>\n",
       "  </thead>\n",
       "  <tbody>\n",
       "    <tr>\n",
       "      <th>0</th>\n",
       "      <td>77</td>\n",
       "      <td>4-01-2021</td>\n",
       "      <td>12:52:00 AM</td>\n",
       "      <td>-32.907482</td>\n",
       "      <td>151.863574</td>\n",
       "      <td>30</td>\n",
       "      <td>NaN</td>\n",
       "      <td>90</td>\n",
       "      <td>NaN</td>\n",
       "      <td>20210104_077</td>\n",
       "      <td>...</td>\n",
       "      <td>N</td>\n",
       "      <td>BT</td>\n",
       "      <td>NaN</td>\n",
       "      <td></td>\n",
       "      <td>NaN</td>\n",
       "      <td>11_FinalDeliverables\\07_SeabedType\\03_GrabSamp...</td>\n",
       "      <td>NaN</td>\n",
       "      <td>NaN</td>\n",
       "      <td>NaN</td>\n",
       "      <td>NaN</td>\n",
       "    </tr>\n",
       "    <tr>\n",
       "      <th>50</th>\n",
       "      <td>67</td>\n",
       "      <td>5-01-2021</td>\n",
       "      <td>1:02:00 AM</td>\n",
       "      <td>-32.892604</td>\n",
       "      <td>151.918325</td>\n",
       "      <td>37</td>\n",
       "      <td>NaN</td>\n",
       "      <td>80</td>\n",
       "      <td>NaN</td>\n",
       "      <td>20210105_67</td>\n",
       "      <td>...</td>\n",
       "      <td>N</td>\n",
       "      <td>BT</td>\n",
       "      <td></td>\n",
       "      <td></td>\n",
       "      <td>NaN</td>\n",
       "      <td>11_FinalDeliverables\\07_SeabedType\\03_GrabSamp...</td>\n",
       "      <td>NaN</td>\n",
       "      <td>NaN</td>\n",
       "      <td>NaN</td>\n",
       "      <td>NaN</td>\n",
       "    </tr>\n",
       "    <tr>\n",
       "      <th>100</th>\n",
       "      <td>96</td>\n",
       "      <td>9-01-2021</td>\n",
       "      <td>9:20:00 AM</td>\n",
       "      <td>-32.923830</td>\n",
       "      <td>151.990723</td>\n",
       "      <td>88</td>\n",
       "      <td>NaN</td>\n",
       "      <td>80</td>\n",
       "      <td>NaN</td>\n",
       "      <td>20210109_096</td>\n",
       "      <td>...</td>\n",
       "      <td>N</td>\n",
       "      <td>BT</td>\n",
       "      <td></td>\n",
       "      <td></td>\n",
       "      <td>NaN</td>\n",
       "      <td>11_FinalDeliverables\\07_SeabedType\\03_GrabSamp...</td>\n",
       "      <td>NaN</td>\n",
       "      <td>NaN</td>\n",
       "      <td>NaN</td>\n",
       "      <td>NaN</td>\n",
       "    </tr>\n",
       "    <tr>\n",
       "      <th>160</th>\n",
       "      <td>160</td>\n",
       "      <td>10-01-2021</td>\n",
       "      <td>5:04:00 PM</td>\n",
       "      <td>-33.060768</td>\n",
       "      <td>151.861614</td>\n",
       "      <td>104</td>\n",
       "      <td>NaN</td>\n",
       "      <td>90</td>\n",
       "      <td>NaN</td>\n",
       "      <td>20210110_160</td>\n",
       "      <td>...</td>\n",
       "      <td>N</td>\n",
       "      <td>NS</td>\n",
       "      <td></td>\n",
       "      <td></td>\n",
       "      <td>NaN</td>\n",
       "      <td>11_FinalDeliverables\\07_SeabedType\\03_GrabSamp...</td>\n",
       "      <td>NaN</td>\n",
       "      <td>NaN</td>\n",
       "      <td>NaN</td>\n",
       "      <td>NaN</td>\n",
       "    </tr>\n",
       "  </tbody>\n",
       "</table>\n",
       "<p>4 rows × 25 columns</p>\n",
       "</div>"
      ],
      "text/plain": [
       "     sample_id    date_utc     time_utc        lat         lon  depth  method  \\\n",
       "0           77   4-01-2021  12:52:00 AM -32.907482  151.863574     30     NaN   \n",
       "50          67   5-01-2021   1:02:00 AM -32.892604  151.918325     37     NaN   \n",
       "100         96   9-01-2021   9:20:00 AM -32.923830  151.990723     88     NaN   \n",
       "160        160  10-01-2021   5:04:00 PM -33.060768  151.861614    104     NaN   \n",
       "\n",
       "     recovery  weight          name  ... sample_held obs_sig anoxic_sediments  \\\n",
       "0          90     NaN  20210104_077  ...           N      BT              NaN   \n",
       "50         80     NaN   20210105_67  ...           N      BT                    \n",
       "100        80     NaN  20210109_096  ...           N      BT                    \n",
       "160        90     NaN  20210110_160  ...           N      NS                    \n",
       "\n",
       "    comments sample                                                url  \\\n",
       "0               NaN  11_FinalDeliverables\\07_SeabedType\\03_GrabSamp...   \n",
       "50              NaN  11_FinalDeliverables\\07_SeabedType\\03_GrabSamp...   \n",
       "100             NaN  11_FinalDeliverables\\07_SeabedType\\03_GrabSamp...   \n",
       "160             NaN  11_FinalDeliverables\\07_SeabedType\\03_GrabSamp...   \n",
       "\n",
       "    e_utm56s n_utm56s intensity   z  \n",
       "0        NaN      NaN       NaN NaN  \n",
       "50       NaN      NaN       NaN NaN  \n",
       "100      NaN      NaN       NaN NaN  \n",
       "160      NaN      NaN       NaN NaN  \n",
       "\n",
       "[4 rows x 25 columns]"
      ]
     },
     "execution_count": 5,
     "metadata": {},
     "output_type": "execute_result"
    }
   ],
   "source": [
    "#generate path for url column\n",
    "url_list = []\n",
    "for file_n in df['file_name']:\n",
    "    msg = \"11_FinalDeliverables\\\\07_SeabedType\\\\03_GrabSample_Media\\\\GrabSampleImages\\\\\"+file_n\n",
    "#     print(msg)\n",
    "    url_list.append(msg)\n",
    "df['url'] = url_list\n",
    "df.iloc[[0,50,100,-1]]"
   ]
  },
  {
   "cell_type": "code",
   "execution_count": 10,
   "metadata": {},
   "outputs": [
    {
     "data": {
      "text/plain": [
       "('11_FinalDeliverables\\\\07_SeabedType\\\\03_GrabSample_Media\\\\GrabSampleImages\\\\20210104_077_2',\n",
       " '11_FinalDeliverables\\\\07_SeabedType\\\\03_GrabSample_Media\\\\GrabSampleImages\\\\20210105_67_2',\n",
       " '11_FinalDeliverables\\\\07_SeabedType\\\\03_GrabSample_Media\\\\GrabSampleImages\\\\20210109_096_2',\n",
       " '11_FinalDeliverables\\\\07_SeabedType\\\\03_GrabSample_Media\\\\GrabSampleImages\\\\20210110_160_2')"
      ]
     },
     "execution_count": 10,
     "metadata": {},
     "output_type": "execute_result"
    }
   ],
   "source": [
    "df.iloc[0]['url'],df.iloc[50]['url'],df.iloc[100]['url'],df.iloc[-1]['url']"
   ]
  },
  {
   "cell_type": "markdown",
   "metadata": {},
   "source": [
    "#### Calculate coordinates for 2 two cols in UTM56S"
   ]
  },
  {
   "cell_type": "code",
   "execution_count": 11,
   "metadata": {},
   "outputs": [
    {
     "name": "stdout",
     "output_type": "stream",
     "text": [
      "proj=pipeline step proj=unitconvert xy_in=deg xy_out=rad step proj=utm zone=56 south ellps=WGS84\n",
      "proj=pipeline step inv proj=utm zone=56 south ellps=WGS84 step proj=unitconvert xy_in=rad xy_out=deg\n",
      "           lon        lat       e_utm56s      n_utm56s\n",
      "0   151.863574 -32.907482  393726.235146  6.358397e+06\n",
      "1   151.881709 -32.907612  395422.468960  6.358401e+06\n",
      "2   151.882094 -32.892214  395440.324171  6.360108e+06\n",
      "3   151.900388 -32.892475  397151.819963  6.360097e+06\n",
      "4   151.900391 -32.877213  397134.419886  6.361789e+06\n",
      "5   151.918499 -32.877313  398828.602192  6.361796e+06\n",
      "6   151.900462 -32.861831  397123.289747  6.363495e+06\n",
      "7   151.918883 -32.862037  398847.151611  6.363490e+06\n",
      "8   151.937168 -32.862196  400558.271480  6.363489e+06\n",
      "9   151.936866 -32.846854  400512.862918  6.365190e+06\n",
      "10  151.955268 -32.847095  402235.212161  6.365180e+06\n",
      "0 (151.8635735, -32.9074822, 393726.23514603986, 6358396.87902123)\n",
      "1 (151.8817094, -32.907611519999996, 395422.4689602334, 6358400.674685201)\n",
      "2 (151.8820938, -32.89221379999999, 395440.3241707303, 6360108.155450376)\n",
      "3 (151.9003882, -32.892474899999996, 397151.8199633052, 6360097.193431869)\n",
      "4 (151.90039070000003, -32.8772127, 397134.419886435, 6361789.262498956)\n",
      "5 (151.918499, -32.87731315, 398828.6021917528, 6361795.631765289)\n",
      "6 (151.9004616, -32.8618314, 397123.2897471506, 6363494.598389795)\n",
      "7 (151.9188827, -32.862036599999996, 398847.1516109213, 6363489.648846144)\n",
      "8 (151.9371683, -32.86219580000001, 400558.27147955634, 6363489.3707599975)\n",
      "9 (151.936866, -32.846854400000005, 400512.8629179843, 6365189.916808529)\n",
      "10 (151.9552676, -32.84709509999999, 402235.2121611232, 6365180.415056912)\n"
     ]
    },
    {
     "data": {
      "text/html": [
       "<div>\n",
       "<style scoped>\n",
       "    .dataframe tbody tr th:only-of-type {\n",
       "        vertical-align: middle;\n",
       "    }\n",
       "\n",
       "    .dataframe tbody tr th {\n",
       "        vertical-align: top;\n",
       "    }\n",
       "\n",
       "    .dataframe thead th {\n",
       "        text-align: right;\n",
       "    }\n",
       "</style>\n",
       "<table border=\"1\" class=\"dataframe\">\n",
       "  <thead>\n",
       "    <tr style=\"text-align: right;\">\n",
       "      <th></th>\n",
       "      <th>sample_id</th>\n",
       "      <th>date_utc</th>\n",
       "      <th>time_utc</th>\n",
       "      <th>lat</th>\n",
       "      <th>lon</th>\n",
       "      <th>depth</th>\n",
       "      <th>method</th>\n",
       "      <th>recovery</th>\n",
       "      <th>weight</th>\n",
       "      <th>name</th>\n",
       "      <th>...</th>\n",
       "      <th>sample_held</th>\n",
       "      <th>obs_sig</th>\n",
       "      <th>anoxic_sediments</th>\n",
       "      <th>comments</th>\n",
       "      <th>sample</th>\n",
       "      <th>url</th>\n",
       "      <th>e_utm56s</th>\n",
       "      <th>n_utm56s</th>\n",
       "      <th>intensity</th>\n",
       "      <th>z</th>\n",
       "    </tr>\n",
       "  </thead>\n",
       "  <tbody>\n",
       "    <tr>\n",
       "      <th>0</th>\n",
       "      <td>77</td>\n",
       "      <td>4-01-2021</td>\n",
       "      <td>12:52:00 AM</td>\n",
       "      <td>-32.907482</td>\n",
       "      <td>151.863574</td>\n",
       "      <td>30</td>\n",
       "      <td>NaN</td>\n",
       "      <td>90</td>\n",
       "      <td>NaN</td>\n",
       "      <td>20210104_077</td>\n",
       "      <td>...</td>\n",
       "      <td>N</td>\n",
       "      <td>BT</td>\n",
       "      <td>NaN</td>\n",
       "      <td></td>\n",
       "      <td>NaN</td>\n",
       "      <td>11_FinalDeliverables\\07_SeabedType\\03_GrabSamp...</td>\n",
       "      <td>393726.235146</td>\n",
       "      <td>6.358397e+06</td>\n",
       "      <td>NaN</td>\n",
       "      <td>NaN</td>\n",
       "    </tr>\n",
       "    <tr>\n",
       "      <th>50</th>\n",
       "      <td>67</td>\n",
       "      <td>5-01-2021</td>\n",
       "      <td>1:02:00 AM</td>\n",
       "      <td>-32.892604</td>\n",
       "      <td>151.918325</td>\n",
       "      <td>37</td>\n",
       "      <td>NaN</td>\n",
       "      <td>80</td>\n",
       "      <td>NaN</td>\n",
       "      <td>20210105_67</td>\n",
       "      <td>...</td>\n",
       "      <td>N</td>\n",
       "      <td>BT</td>\n",
       "      <td></td>\n",
       "      <td></td>\n",
       "      <td>NaN</td>\n",
       "      <td>11_FinalDeliverables\\07_SeabedType\\03_GrabSamp...</td>\n",
       "      <td>398829.665466</td>\n",
       "      <td>6.360100e+06</td>\n",
       "      <td>NaN</td>\n",
       "      <td>NaN</td>\n",
       "    </tr>\n",
       "    <tr>\n",
       "      <th>100</th>\n",
       "      <td>96</td>\n",
       "      <td>9-01-2021</td>\n",
       "      <td>9:20:00 AM</td>\n",
       "      <td>-32.923830</td>\n",
       "      <td>151.990723</td>\n",
       "      <td>88</td>\n",
       "      <td>NaN</td>\n",
       "      <td>80</td>\n",
       "      <td>NaN</td>\n",
       "      <td>20210109_096</td>\n",
       "      <td>...</td>\n",
       "      <td>N</td>\n",
       "      <td>BT</td>\n",
       "      <td></td>\n",
       "      <td></td>\n",
       "      <td>NaN</td>\n",
       "      <td>11_FinalDeliverables\\07_SeabedType\\03_GrabSamp...</td>\n",
       "      <td>405634.567701</td>\n",
       "      <td>6.356705e+06</td>\n",
       "      <td>NaN</td>\n",
       "      <td>NaN</td>\n",
       "    </tr>\n",
       "    <tr>\n",
       "      <th>160</th>\n",
       "      <td>160</td>\n",
       "      <td>10-01-2021</td>\n",
       "      <td>5:04:00 PM</td>\n",
       "      <td>-33.060768</td>\n",
       "      <td>151.861614</td>\n",
       "      <td>104</td>\n",
       "      <td>NaN</td>\n",
       "      <td>90</td>\n",
       "      <td>NaN</td>\n",
       "      <td>20210110_160</td>\n",
       "      <td>...</td>\n",
       "      <td>N</td>\n",
       "      <td>NS</td>\n",
       "      <td></td>\n",
       "      <td></td>\n",
       "      <td>NaN</td>\n",
       "      <td>11_FinalDeliverables\\07_SeabedType\\03_GrabSamp...</td>\n",
       "      <td>393726.792168</td>\n",
       "      <td>6.341400e+06</td>\n",
       "      <td>NaN</td>\n",
       "      <td>NaN</td>\n",
       "    </tr>\n",
       "  </tbody>\n",
       "</table>\n",
       "<p>4 rows × 25 columns</p>\n",
       "</div>"
      ],
      "text/plain": [
       "     sample_id    date_utc     time_utc        lat         lon  depth  method  \\\n",
       "0           77   4-01-2021  12:52:00 AM -32.907482  151.863574     30     NaN   \n",
       "50          67   5-01-2021   1:02:00 AM -32.892604  151.918325     37     NaN   \n",
       "100         96   9-01-2021   9:20:00 AM -32.923830  151.990723     88     NaN   \n",
       "160        160  10-01-2021   5:04:00 PM -33.060768  151.861614    104     NaN   \n",
       "\n",
       "     recovery  weight          name  ... sample_held obs_sig anoxic_sediments  \\\n",
       "0          90     NaN  20210104_077  ...           N      BT              NaN   \n",
       "50         80     NaN   20210105_67  ...           N      BT                    \n",
       "100        80     NaN  20210109_096  ...           N      BT                    \n",
       "160        90     NaN  20210110_160  ...           N      NS                    \n",
       "\n",
       "    comments sample                                                url  \\\n",
       "0               NaN  11_FinalDeliverables\\07_SeabedType\\03_GrabSamp...   \n",
       "50              NaN  11_FinalDeliverables\\07_SeabedType\\03_GrabSamp...   \n",
       "100             NaN  11_FinalDeliverables\\07_SeabedType\\03_GrabSamp...   \n",
       "160             NaN  11_FinalDeliverables\\07_SeabedType\\03_GrabSamp...   \n",
       "\n",
       "          e_utm56s      n_utm56s intensity   z  \n",
       "0    393726.235146  6.358397e+06       NaN NaN  \n",
       "50   398829.665466  6.360100e+06       NaN NaN  \n",
       "100  405634.567701  6.356705e+06       NaN NaN  \n",
       "160  393726.792168  6.341400e+06       NaN NaN  \n",
       "\n",
       "[4 rows x 25 columns]"
      ]
     },
     "execution_count": 11,
     "metadata": {},
     "output_type": "execute_result"
    }
   ],
   "source": [
    "#Define coordinate transformation using pyproj\n",
    "from pyproj import CRS\n",
    "crs_4326 = CRS.from_epsg(4326)\n",
    "crs_4326\n",
    "crs_32756  = CRS.from_epsg(32756 )\n",
    "crs_32756 \n",
    "#define coordinate transformation functions\n",
    "from pyproj import Transformer\n",
    "WGS84toUTM56S = Transformer.from_crs(crs_4326, crs_32756,always_xy=True) #x,y or lon,lat order\n",
    "UTM56StoWGS84 = Transformer.from_crs(crs_32756, crs_4326,always_xy=True) #x,y or lon,lat order\n",
    "# transformer = Transformer.from_crs(4326, 32756)\n",
    "# transformer = Transformer.from_crs(\"EPSG:4326\", \"EPSG:32756\")\n",
    "print(WGS84toUTM56S)\n",
    "print(UTM56StoWGS84)\n",
    "\n",
    "#use WGS84toUTM56S to transform from WGS84 to UTM56S\n",
    "import numpy as np\n",
    "lon_list = list(df['lon'])\n",
    "lat_list = list(df['lat'])\n",
    "\n",
    "e_list = []\n",
    "n_list = []\n",
    "for idx,lon in enumerate(lon_list):  \n",
    "#     print(idx,lon,lat_list[idx])    \n",
    "    output = WGS84toUTM56S.transform(lon, lat_list[idx])\n",
    "    e_list.append(output[0])\n",
    "    n_list.append(output[1])\n",
    "#     print(idx,output)\n",
    "#add new coordinate into dataframe\n",
    "df['e_utm56s'] = e_list\n",
    "df['n_utm56s'] = n_list\n",
    "print(df.loc[0:10][['lon', 'lat', 'e_utm56s', 'n_utm56s']])\n",
    "\n",
    "#check the transformation by doing 10 first row from utm56s to wgs84\n",
    "e_list2 = list(df.loc[0:10]['e_utm56s'])\n",
    "n_list2 = list(df.loc[0:10]['n_utm56s'])\n",
    "lon_list2 = []\n",
    "lat_list2 = []\n",
    "for idx2,e in enumerate(e_list2):  \n",
    "#     print(idx,e,n_list2[idx])    \n",
    "    output = UTM56StoWGS84.transform(e, n_list2[idx2])\n",
    "    lon_list2.append(output[0])\n",
    "    lat_list2.append(output[1])\n",
    "#     print(idx,output)\n",
    "#check the results\n",
    "for id2,i in enumerate(zip(lon_list2,lat_list2,e_list2,n_list2)): \n",
    "    print(id2,i)\n",
    "df.iloc[[0,50,100,-1]]"
   ]
  },
  {
   "cell_type": "code",
   "execution_count": 12,
   "metadata": {
    "scrolled": false
   },
   "outputs": [
    {
     "data": {
      "text/html": [
       "<div>\n",
       "<style scoped>\n",
       "    .dataframe tbody tr th:only-of-type {\n",
       "        vertical-align: middle;\n",
       "    }\n",
       "\n",
       "    .dataframe tbody tr th {\n",
       "        vertical-align: top;\n",
       "    }\n",
       "\n",
       "    .dataframe thead th {\n",
       "        text-align: right;\n",
       "    }\n",
       "</style>\n",
       "<table border=\"1\" class=\"dataframe\">\n",
       "  <thead>\n",
       "    <tr style=\"text-align: right;\">\n",
       "      <th></th>\n",
       "      <th>sample_id</th>\n",
       "      <th>lat</th>\n",
       "      <th>lon</th>\n",
       "      <th>depth</th>\n",
       "      <th>method</th>\n",
       "      <th>recovery</th>\n",
       "      <th>weight</th>\n",
       "      <th>sample</th>\n",
       "      <th>e_utm56s</th>\n",
       "      <th>n_utm56s</th>\n",
       "      <th>intensity</th>\n",
       "      <th>z</th>\n",
       "    </tr>\n",
       "  </thead>\n",
       "  <tbody>\n",
       "    <tr>\n",
       "      <th>count</th>\n",
       "      <td>161.000000</td>\n",
       "      <td>161.000000</td>\n",
       "      <td>161.000000</td>\n",
       "      <td>161.000000</td>\n",
       "      <td>0.0</td>\n",
       "      <td>161.000000</td>\n",
       "      <td>0.0</td>\n",
       "      <td>0.0</td>\n",
       "      <td>161.000000</td>\n",
       "      <td>1.610000e+02</td>\n",
       "      <td>0.0</td>\n",
       "      <td>0.0</td>\n",
       "    </tr>\n",
       "    <tr>\n",
       "      <th>mean</th>\n",
       "      <td>80.484472</td>\n",
       "      <td>-32.911930</td>\n",
       "      <td>151.960715</td>\n",
       "      <td>56.080745</td>\n",
       "      <td>NaN</td>\n",
       "      <td>79.627329</td>\n",
       "      <td>NaN</td>\n",
       "      <td>NaN</td>\n",
       "      <td>402821.118454</td>\n",
       "      <td>6.357993e+06</td>\n",
       "      <td>NaN</td>\n",
       "      <td>NaN</td>\n",
       "    </tr>\n",
       "    <tr>\n",
       "      <th>std</th>\n",
       "      <td>46.187540</td>\n",
       "      <td>0.064586</td>\n",
       "      <td>0.099189</td>\n",
       "      <td>28.742820</td>\n",
       "      <td>NaN</td>\n",
       "      <td>13.152386</td>\n",
       "      <td>NaN</td>\n",
       "      <td>NaN</td>\n",
       "      <td>9219.939807</td>\n",
       "      <td>7.232926e+03</td>\n",
       "      <td>NaN</td>\n",
       "      <td>NaN</td>\n",
       "    </tr>\n",
       "    <tr>\n",
       "      <th>min</th>\n",
       "      <td>1.000000</td>\n",
       "      <td>-33.060768</td>\n",
       "      <td>151.771352</td>\n",
       "      <td>0.000000</td>\n",
       "      <td>NaN</td>\n",
       "      <td>30.000000</td>\n",
       "      <td>NaN</td>\n",
       "      <td>NaN</td>\n",
       "      <td>385219.554614</td>\n",
       "      <td>6.341400e+06</td>\n",
       "      <td>NaN</td>\n",
       "      <td>NaN</td>\n",
       "    </tr>\n",
       "    <tr>\n",
       "      <th>25%</th>\n",
       "      <td>41.000000</td>\n",
       "      <td>-32.968448</td>\n",
       "      <td>151.881181</td>\n",
       "      <td>34.000000</td>\n",
       "      <td>NaN</td>\n",
       "      <td>70.000000</td>\n",
       "      <td>NaN</td>\n",
       "      <td>NaN</td>\n",
       "      <td>395415.727614</td>\n",
       "      <td>6.351600e+06</td>\n",
       "      <td>NaN</td>\n",
       "      <td>NaN</td>\n",
       "    </tr>\n",
       "    <tr>\n",
       "      <th>50%</th>\n",
       "      <td>80.000000</td>\n",
       "      <td>-32.907777</td>\n",
       "      <td>151.954555</td>\n",
       "      <td>50.000000</td>\n",
       "      <td>NaN</td>\n",
       "      <td>80.000000</td>\n",
       "      <td>NaN</td>\n",
       "      <td>NaN</td>\n",
       "      <td>402225.395529</td>\n",
       "      <td>6.358405e+06</td>\n",
       "      <td>NaN</td>\n",
       "      <td>NaN</td>\n",
       "    </tr>\n",
       "    <tr>\n",
       "      <th>75%</th>\n",
       "      <td>120.000000</td>\n",
       "      <td>-32.862281</td>\n",
       "      <td>152.045317</td>\n",
       "      <td>83.000000</td>\n",
       "      <td>NaN</td>\n",
       "      <td>90.000000</td>\n",
       "      <td>NaN</td>\n",
       "      <td>NaN</td>\n",
       "      <td>410722.446519</td>\n",
       "      <td>6.363499e+06</td>\n",
       "      <td>NaN</td>\n",
       "      <td>NaN</td>\n",
       "    </tr>\n",
       "    <tr>\n",
       "      <th>max</th>\n",
       "      <td>160.000000</td>\n",
       "      <td>-32.801973</td>\n",
       "      <td>152.173124</td>\n",
       "      <td>105.000000</td>\n",
       "      <td>NaN</td>\n",
       "      <td>100.000000</td>\n",
       "      <td>NaN</td>\n",
       "      <td>NaN</td>\n",
       "      <td>422623.895622</td>\n",
       "      <td>6.370298e+06</td>\n",
       "      <td>NaN</td>\n",
       "      <td>NaN</td>\n",
       "    </tr>\n",
       "  </tbody>\n",
       "</table>\n",
       "</div>"
      ],
      "text/plain": [
       "        sample_id         lat         lon       depth  method    recovery  \\\n",
       "count  161.000000  161.000000  161.000000  161.000000     0.0  161.000000   \n",
       "mean    80.484472  -32.911930  151.960715   56.080745     NaN   79.627329   \n",
       "std     46.187540    0.064586    0.099189   28.742820     NaN   13.152386   \n",
       "min      1.000000  -33.060768  151.771352    0.000000     NaN   30.000000   \n",
       "25%     41.000000  -32.968448  151.881181   34.000000     NaN   70.000000   \n",
       "50%     80.000000  -32.907777  151.954555   50.000000     NaN   80.000000   \n",
       "75%    120.000000  -32.862281  152.045317   83.000000     NaN   90.000000   \n",
       "max    160.000000  -32.801973  152.173124  105.000000     NaN  100.000000   \n",
       "\n",
       "       weight  sample       e_utm56s      n_utm56s  intensity    z  \n",
       "count     0.0     0.0     161.000000  1.610000e+02        0.0  0.0  \n",
       "mean      NaN     NaN  402821.118454  6.357993e+06        NaN  NaN  \n",
       "std       NaN     NaN    9219.939807  7.232926e+03        NaN  NaN  \n",
       "min       NaN     NaN  385219.554614  6.341400e+06        NaN  NaN  \n",
       "25%       NaN     NaN  395415.727614  6.351600e+06        NaN  NaN  \n",
       "50%       NaN     NaN  402225.395529  6.358405e+06        NaN  NaN  \n",
       "75%       NaN     NaN  410722.446519  6.363499e+06        NaN  NaN  \n",
       "max       NaN     NaN  422623.895622  6.370298e+06        NaN  NaN  "
      ]
     },
     "execution_count": 12,
     "metadata": {},
     "output_type": "execute_result"
    }
   ],
   "source": [
    "df.describe()"
   ]
  },
  {
   "cell_type": "markdown",
   "metadata": {
    "heading_collapsed": true
   },
   "source": [
    "#### Play with data - understand data"
   ]
  },
  {
   "cell_type": "raw",
   "metadata": {
    "hidden": true
   },
   "source": [
    "df.dtypes"
   ]
  },
  {
   "cell_type": "raw",
   "metadata": {
    "hidden": true
   },
   "source": [
    "df.iloc[0] #1st row"
   ]
  },
  {
   "cell_type": "raw",
   "metadata": {
    "hidden": true
   },
   "source": [
    "df[['sample_id','class','url']].head()"
   ]
  },
  {
   "cell_type": "raw",
   "metadata": {
    "hidden": true
   },
   "source": [
    "df['url'][0]"
   ]
  },
  {
   "cell_type": "raw",
   "metadata": {
    "hidden": true
   },
   "source": [
    "df.url.iloc[0]"
   ]
  },
  {
   "cell_type": "raw",
   "metadata": {
    "hidden": true
   },
   "source": [
    "df.iloc[1:-1:50]"
   ]
  },
  {
   "cell_type": "code",
   "execution_count": null,
   "metadata": {
    "hidden": true
   },
   "outputs": [],
   "source": [
    "df.depth.agg(['mean','max','min'])"
   ]
  },
  {
   "cell_type": "raw",
   "metadata": {
    "hidden": true
   },
   "source": [
    "df.agg(['mean','max','min'])"
   ]
  },
  {
   "cell_type": "code",
   "execution_count": null,
   "metadata": {
    "hidden": true
   },
   "outputs": [],
   "source": [
    "df.groupby('date_utc').depth.agg(['mean','min','max','median'])"
   ]
  },
  {
   "cell_type": "code",
   "execution_count": null,
   "metadata": {
    "hidden": true
   },
   "outputs": [],
   "source": [
    "df.groupby('class').depth.agg(['mean','min','max','median'])"
   ]
  },
  {
   "cell_type": "code",
   "execution_count": null,
   "metadata": {
    "hidden": true
   },
   "outputs": [],
   "source": [
    "df.groupby(['class','date_utc']).depth.agg(['mean','median','min','max'])"
   ]
  },
  {
   "cell_type": "code",
   "execution_count": null,
   "metadata": {
    "hidden": true
   },
   "outputs": [],
   "source": [
    "df.groupby(['date_utc','class']).depth.agg(['mean','median','min','max'])"
   ]
  },
  {
   "cell_type": "markdown",
   "metadata": {},
   "source": [
    "#### 1c Simple Visual check - Pandas"
   ]
  },
  {
   "cell_type": "code",
   "execution_count": 13,
   "metadata": {},
   "outputs": [
    {
     "data": {
      "text/plain": [
       "<AxesSubplot:xlabel='lon', ylabel='lat'>"
      ]
     },
     "execution_count": 13,
     "metadata": {},
     "output_type": "execute_result"
    },
    {
     "data": {
      "image/png": "[encoded data removed]",
      "text/plain": [
       "<Figure size 432x288 with 2 Axes>"
      ]
     },
     "metadata": {
      "needs_background": "light"
     },
     "output_type": "display_data"
    }
   ],
   "source": [
    "df.plot.hexbin(x='lon',y='lat',C='depth',gridsize=35)"
   ]
  },
  {
   "cell_type": "code",
   "execution_count": 14,
   "metadata": {},
   "outputs": [
    {
     "data": {
      "text/plain": [
       "<AxesSubplot:xlabel='e_utm56s', ylabel='n_utm56s'>"
      ]
     },
     "execution_count": 14,
     "metadata": {},
     "output_type": "execute_result"
    },
    {
     "data": {
      "image/png": "[encoded data removed]",
      "text/plain": [
       "<Figure size 432x288 with 2 Axes>"
      ]
     },
     "metadata": {
      "needs_background": "light"
     },
     "output_type": "display_data"
    }
   ],
   "source": [
    "df.plot.hexbin(x='e_utm56s',y='n_utm56s',C='depth',gridsize=35)"
   ]
  },
  {
   "cell_type": "code",
   "execution_count": 15,
   "metadata": {},
   "outputs": [
    {
     "name": "stdout",
     "output_type": "stream",
     "text": [
      "count    161.000000\n",
      "mean      56.080745\n",
      "std       28.742820\n",
      "min        0.000000\n",
      "25%       34.000000\n",
      "50%       50.000000\n",
      "75%       83.000000\n",
      "max      105.000000\n",
      "Name: depth, dtype: float64\n",
      "(31.5, 42.0]      27\n",
      "(21.0, 31.5]      23\n",
      "(42.0, 52.5]      21\n",
      "(94.5, 105.0]     20\n",
      "(73.5, 84.0]      19\n",
      "(84.0, 94.5]      16\n",
      "(52.5, 63.0]      12\n",
      "(-0.106, 10.5]    11\n",
      "(63.0, 73.5]      11\n",
      "(10.5, 21.0]       1\n",
      "Name: depth, dtype: int64\n"
     ]
    },
    {
     "data": {
      "image/png": "[encoded data removed]",
      "text/plain": [
       "<Figure size 432x288 with 1 Axes>"
      ]
     },
     "metadata": {
      "needs_background": "light"
     },
     "output_type": "display_data"
    }
   ],
   "source": [
    "print(df['depth'].describe())\n",
    "depth_bin10 = df['depth'].value_counts(bins=10)\n",
    "print(depth_bin10)\n",
    "df['depth'].plot.hist(bins=10);"
   ]
  },
  {
   "cell_type": "code",
   "execution_count": 16,
   "metadata": {
    "scrolled": false
   },
   "outputs": [
    {
     "data": {
      "image/png": "[encoded data removed]",
      "text/plain": [
       "<Figure size 720x576 with 1 Axes>"
      ]
     },
     "metadata": {},
     "output_type": "display_data"
    }
   ],
   "source": [
    "import numpy as np\n",
    "import matplotlib.pyplot as plt\n",
    "#pile chart of sediment type distribution\n",
    "fig, ax1 = plt.subplots(figsize = (10,8)) \n",
    "colors = ['b','g','r','c','m','y','olive','gold','wheat','navy'] #we know that there are 4 types\n",
    "labels = list(depth_bin10.index)\n",
    "values_fraction = np.round(depth_bin10.values*100/150,2)\n",
    "explode = (0.1,0.1,0.1,0.1,0.1,0.1,0.1,0.1,0.1,0.1)\n",
    "ax1.pie(values_fraction,colors=colors,labels=labels,explode=explode,\n",
    "        autopct='%1.1f%%',counterclock=True,shadow=True)\n",
    "plt.title('Sediment sample Depth range')\n",
    "ax1.legend(labels, loc = 0) \n",
    "plt.tight_layout() \n",
    "plt.show()"
   ]
  },
  {
   "cell_type": "code",
   "execution_count": 17,
   "metadata": {},
   "outputs": [
    {
     "data": {
      "image/png": "[encoded data removed]",
      "text/plain": [
       "<Figure size 432x288 with 1 Axes>"
      ]
     },
     "metadata": {
      "needs_background": "light"
     },
     "output_type": "display_data"
    }
   ],
   "source": [
    "labels_str = [str(i) for i in labels]\n",
    "labels_str[-1] = '(19.9, 28.5]'\n",
    "plt.bar(labels_str,depth_bin10.values)\n",
    "plt.xticks(rotation=30)\n",
    "plt.show()"
   ]
  },
  {
   "cell_type": "code",
   "execution_count": 19,
   "metadata": {},
   "outputs": [
    {
     "data": {
      "image/png": "[encoded data removed]",
      "text/plain": [
       "<Figure size 576x576 with 1 Axes>"
      ]
     },
     "metadata": {},
     "output_type": "display_data"
    }
   ],
   "source": [
    "import numpy as np\n",
    "import matplotlib.pyplot as plt\n",
    "#pile chart of sediment type distribution\n",
    "fig, ax1 = plt.subplots(figsize = (8,8)) \n",
    "x = df['class'].value_counts(normalize=True,ascending=True)\n",
    "colors = ['gold','lightskyblue','r','c'] #we know that there are 4 types\n",
    "labels = list(x.index)\n",
    "values = np.round(x.values*100,2)\n",
    "explode = (0.1,0.1,0.1,0.1)\n",
    "ax1.pie(values,colors=colors,labels=labels,explode=explode,\n",
    "        autopct='%1.1f%%',counterclock=True,shadow=True)\n",
    "plt.title('Sediment Type')\n",
    "# ax1.legend(labels, loc = 0) \n",
    "plt.tight_layout() \n",
    "plt.show()"
   ]
  },
  {
   "cell_type": "code",
   "execution_count": 20,
   "metadata": {},
   "outputs": [
    {
     "data": {
      "text/plain": [
       "([0, 1, 2, 3],\n",
       " [Text(0, 0, ''), Text(0, 0, ''), Text(0, 0, ''), Text(0, 0, '')])"
      ]
     },
     "execution_count": 20,
     "metadata": {},
     "output_type": "execute_result"
    },
    {
     "data": {
      "image/png": "[encoded data removed]",
      "text/plain": [
       "<Figure size 432x288 with 1 Axes>"
      ]
     },
     "metadata": {
      "needs_background": "light"
     },
     "output_type": "display_data"
    }
   ],
   "source": [
    "A_unique = df['class'].unique()\n",
    "B = df['class'].value_counts(ascending=True)\n",
    "B_index_lst = list(B.index)\n",
    "B_value_lst = list(B.values)\n",
    "plt.bar(B_index_lst,B_value_lst)\n",
    "plt.xticks(rotation=10)"
   ]
  },
  {
   "cell_type": "markdown",
   "metadata": {},
   "source": [
    "#### 1d Convert to spatially enable dataframe - spatial pandas\n",
    "20210226_Not working when exporting to shp file\n"
   ]
  },
  {
   "cell_type": "code",
   "execution_count": 21,
   "metadata": {},
   "outputs": [],
   "source": [
    "from arcgis.features import GeoAccessor, GeoSeriesAccessor"
   ]
  },
  {
   "cell_type": "code",
   "execution_count": 22,
   "metadata": {},
   "outputs": [
    {
     "data": {
      "text/html": [
       "<div>\n",
       "<style scoped>\n",
       "    .dataframe tbody tr th:only-of-type {\n",
       "        vertical-align: middle;\n",
       "    }\n",
       "\n",
       "    .dataframe tbody tr th {\n",
       "        vertical-align: top;\n",
       "    }\n",
       "\n",
       "    .dataframe thead th {\n",
       "        text-align: right;\n",
       "    }\n",
       "</style>\n",
       "<table border=\"1\" class=\"dataframe\">\n",
       "  <thead>\n",
       "    <tr style=\"text-align: right;\">\n",
       "      <th></th>\n",
       "      <th>sample_id</th>\n",
       "      <th>date_utc</th>\n",
       "      <th>time_utc</th>\n",
       "      <th>lat</th>\n",
       "      <th>lon</th>\n",
       "      <th>depth</th>\n",
       "      <th>method</th>\n",
       "      <th>recovery</th>\n",
       "      <th>weight</th>\n",
       "      <th>name</th>\n",
       "      <th>...</th>\n",
       "      <th>obs_sig</th>\n",
       "      <th>anoxic_sediments</th>\n",
       "      <th>comments</th>\n",
       "      <th>sample</th>\n",
       "      <th>url</th>\n",
       "      <th>e_utm56s</th>\n",
       "      <th>n_utm56s</th>\n",
       "      <th>intensity</th>\n",
       "      <th>z</th>\n",
       "      <th>SHAPE</th>\n",
       "    </tr>\n",
       "  </thead>\n",
       "  <tbody>\n",
       "    <tr>\n",
       "      <th>0</th>\n",
       "      <td>77</td>\n",
       "      <td>4-01-2021</td>\n",
       "      <td>12:52:00 AM</td>\n",
       "      <td>-32.907482</td>\n",
       "      <td>151.863574</td>\n",
       "      <td>30</td>\n",
       "      <td>NaN</td>\n",
       "      <td>90</td>\n",
       "      <td>NaN</td>\n",
       "      <td>20210104_077</td>\n",
       "      <td>...</td>\n",
       "      <td>BT</td>\n",
       "      <td>NaN</td>\n",
       "      <td></td>\n",
       "      <td>NaN</td>\n",
       "      <td>11_FinalDeliverables\\07_SeabedType\\03_GrabSamp...</td>\n",
       "      <td>393726.235146</td>\n",
       "      <td>6.358397e+06</td>\n",
       "      <td>NaN</td>\n",
       "      <td>NaN</td>\n",
       "      <td>{\"spatialReference\": {\"wkid\": 4326}, \"x\": 151....</td>\n",
       "    </tr>\n",
       "    <tr>\n",
       "      <th>50</th>\n",
       "      <td>67</td>\n",
       "      <td>5-01-2021</td>\n",
       "      <td>1:02:00 AM</td>\n",
       "      <td>-32.892604</td>\n",
       "      <td>151.918325</td>\n",
       "      <td>37</td>\n",
       "      <td>NaN</td>\n",
       "      <td>80</td>\n",
       "      <td>NaN</td>\n",
       "      <td>20210105_67</td>\n",
       "      <td>...</td>\n",
       "      <td>BT</td>\n",
       "      <td></td>\n",
       "      <td></td>\n",
       "      <td>NaN</td>\n",
       "      <td>11_FinalDeliverables\\07_SeabedType\\03_GrabSamp...</td>\n",
       "      <td>398829.665466</td>\n",
       "      <td>6.360100e+06</td>\n",
       "      <td>NaN</td>\n",
       "      <td>NaN</td>\n",
       "      <td>{\"spatialReference\": {\"wkid\": 4326}, \"x\": 151....</td>\n",
       "    </tr>\n",
       "    <tr>\n",
       "      <th>100</th>\n",
       "      <td>96</td>\n",
       "      <td>9-01-2021</td>\n",
       "      <td>9:20:00 AM</td>\n",
       "      <td>-32.923830</td>\n",
       "      <td>151.990723</td>\n",
       "      <td>88</td>\n",
       "      <td>NaN</td>\n",
       "      <td>80</td>\n",
       "      <td>NaN</td>\n",
       "      <td>20210109_096</td>\n",
       "      <td>...</td>\n",
       "      <td>BT</td>\n",
       "      <td></td>\n",
       "      <td></td>\n",
       "      <td>NaN</td>\n",
       "      <td>11_FinalDeliverables\\07_SeabedType\\03_GrabSamp...</td>\n",
       "      <td>405634.567701</td>\n",
       "      <td>6.356705e+06</td>\n",
       "      <td>NaN</td>\n",
       "      <td>NaN</td>\n",
       "      <td>{\"spatialReference\": {\"wkid\": 4326}, \"x\": 151....</td>\n",
       "    </tr>\n",
       "    <tr>\n",
       "      <th>160</th>\n",
       "      <td>160</td>\n",
       "      <td>10-01-2021</td>\n",
       "      <td>5:04:00 PM</td>\n",
       "      <td>-33.060768</td>\n",
       "      <td>151.861614</td>\n",
       "      <td>104</td>\n",
       "      <td>NaN</td>\n",
       "      <td>90</td>\n",
       "      <td>NaN</td>\n",
       "      <td>20210110_160</td>\n",
       "      <td>...</td>\n",
       "      <td>NS</td>\n",
       "      <td></td>\n",
       "      <td></td>\n",
       "      <td>NaN</td>\n",
       "      <td>11_FinalDeliverables\\07_SeabedType\\03_GrabSamp...</td>\n",
       "      <td>393726.792168</td>\n",
       "      <td>6.341400e+06</td>\n",
       "      <td>NaN</td>\n",
       "      <td>NaN</td>\n",
       "      <td>{\"spatialReference\": {\"wkid\": 4326}, \"x\": 151....</td>\n",
       "    </tr>\n",
       "  </tbody>\n",
       "</table>\n",
       "<p>4 rows × 26 columns</p>\n",
       "</div>"
      ],
      "text/plain": [
       "     sample_id    date_utc     time_utc        lat         lon  depth  method  \\\n",
       "0           77   4-01-2021  12:52:00 AM -32.907482  151.863574     30     NaN   \n",
       "50          67   5-01-2021   1:02:00 AM -32.892604  151.918325     37     NaN   \n",
       "100         96   9-01-2021   9:20:00 AM -32.923830  151.990723     88     NaN   \n",
       "160        160  10-01-2021   5:04:00 PM -33.060768  151.861614    104     NaN   \n",
       "\n",
       "     recovery  weight          name  ... obs_sig anoxic_sediments comments  \\\n",
       "0          90     NaN  20210104_077  ...      BT              NaN            \n",
       "50         80     NaN   20210105_67  ...      BT                             \n",
       "100        80     NaN  20210109_096  ...      BT                             \n",
       "160        90     NaN  20210110_160  ...      NS                             \n",
       "\n",
       "    sample                                                url       e_utm56s  \\\n",
       "0      NaN  11_FinalDeliverables\\07_SeabedType\\03_GrabSamp...  393726.235146   \n",
       "50     NaN  11_FinalDeliverables\\07_SeabedType\\03_GrabSamp...  398829.665466   \n",
       "100    NaN  11_FinalDeliverables\\07_SeabedType\\03_GrabSamp...  405634.567701   \n",
       "160    NaN  11_FinalDeliverables\\07_SeabedType\\03_GrabSamp...  393726.792168   \n",
       "\n",
       "         n_utm56s intensity   z  \\\n",
       "0    6.358397e+06       NaN NaN   \n",
       "50   6.360100e+06       NaN NaN   \n",
       "100  6.356705e+06       NaN NaN   \n",
       "160  6.341400e+06       NaN NaN   \n",
       "\n",
       "                                                 SHAPE  \n",
       "0    {\"spatialReference\": {\"wkid\": 4326}, \"x\": 151....  \n",
       "50   {\"spatialReference\": {\"wkid\": 4326}, \"x\": 151....  \n",
       "100  {\"spatialReference\": {\"wkid\": 4326}, \"x\": 151....  \n",
       "160  {\"spatialReference\": {\"wkid\": 4326}, \"x\": 151....  \n",
       "\n",
       "[4 rows x 26 columns]"
      ]
     },
     "execution_count": 22,
     "metadata": {},
     "output_type": "execute_result"
    }
   ],
   "source": [
    "sdf = pd.DataFrame.spatial.from_xy(df=df,\n",
    "                                    x_column='lon',\n",
    "                                    y_column='lat',\n",
    "                                    sr=4326)\n",
    "sdf.iloc[[0,50,100,-1]]"
   ]
  },
  {
   "cell_type": "code",
   "execution_count": 24,
   "metadata": {},
   "outputs": [
    {
     "data": {
      "text/html": [
       "<div>\n",
       "<style scoped>\n",
       "    .dataframe tbody tr th:only-of-type {\n",
       "        vertical-align: middle;\n",
       "    }\n",
       "\n",
       "    .dataframe tbody tr th {\n",
       "        vertical-align: top;\n",
       "    }\n",
       "\n",
       "    .dataframe thead th {\n",
       "        text-align: right;\n",
       "    }\n",
       "</style>\n",
       "<table border=\"1\" class=\"dataframe\">\n",
       "  <thead>\n",
       "    <tr style=\"text-align: right;\">\n",
       "      <th></th>\n",
       "      <th>sample_id</th>\n",
       "      <th>date_utc</th>\n",
       "      <th>depth</th>\n",
       "      <th>file_name</th>\n",
       "      <th>class</th>\n",
       "    </tr>\n",
       "  </thead>\n",
       "  <tbody>\n",
       "    <tr>\n",
       "      <th>0</th>\n",
       "      <td>77</td>\n",
       "      <td>4-01-2021</td>\n",
       "      <td>30</td>\n",
       "      <td>20210104_077_2</td>\n",
       "      <td>Coarse sediment</td>\n",
       "    </tr>\n",
       "    <tr>\n",
       "      <th>50</th>\n",
       "      <td>67</td>\n",
       "      <td>5-01-2021</td>\n",
       "      <td>37</td>\n",
       "      <td>20210105_67_2</td>\n",
       "      <td>Coarse sediment</td>\n",
       "    </tr>\n",
       "    <tr>\n",
       "      <th>100</th>\n",
       "      <td>96</td>\n",
       "      <td>9-01-2021</td>\n",
       "      <td>88</td>\n",
       "      <td>20210109_096_2</td>\n",
       "      <td>Mud and sandy mud</td>\n",
       "    </tr>\n",
       "    <tr>\n",
       "      <th>160</th>\n",
       "      <td>160</td>\n",
       "      <td>10-01-2021</td>\n",
       "      <td>104</td>\n",
       "      <td>20210110_160_2</td>\n",
       "      <td>Mud and sandy mud</td>\n",
       "    </tr>\n",
       "  </tbody>\n",
       "</table>\n",
       "</div>"
      ],
      "text/plain": [
       "     sample_id    date_utc  depth       file_name              class\n",
       "0           77   4-01-2021     30  20210104_077_2    Coarse sediment\n",
       "50          67   5-01-2021     37   20210105_67_2    Coarse sediment\n",
       "100         96   9-01-2021     88  20210109_096_2  Mud and sandy mud\n",
       "160        160  10-01-2021    104  20210110_160_2  Mud and sandy mud"
      ]
     },
     "execution_count": 24,
     "metadata": {},
     "output_type": "execute_result"
    }
   ],
   "source": [
    "df.iloc[[0,50,100,-1]][['sample_id', 'date_utc', 'depth', 'file_name', 'class']]"
   ]
  },
  {
   "cell_type": "markdown",
   "metadata": {},
   "source": [
    "##### Project from WGS84 to UTM56S"
   ]
  },
  {
   "cell_type": "code",
   "execution_count": 25,
   "metadata": {},
   "outputs": [
    {
     "data": {
      "text/plain": [
       "0    {\"spatialReference\": {\"wkid\": 4326}, \"x\": 151....\n",
       "1    {\"spatialReference\": {\"wkid\": 4326}, \"x\": 151....\n",
       "2    {\"spatialReference\": {\"wkid\": 4326}, \"x\": 151....\n",
       "3    {\"spatialReference\": {\"wkid\": 4326}, \"x\": 151....\n",
       "4    {\"spatialReference\": {\"wkid\": 4326}, \"x\": 151....\n",
       "Name: SHAPE, dtype: geometry"
      ]
     },
     "execution_count": 25,
     "metadata": {},
     "output_type": "execute_result"
    }
   ],
   "source": [
    "sdf.SHAPE.head()"
   ]
  },
  {
   "cell_type": "code",
   "execution_count": 26,
   "metadata": {},
   "outputs": [
    {
     "data": {
      "text/plain": [
       "{'wkid': 4326}"
      ]
     },
     "execution_count": 26,
     "metadata": {},
     "output_type": "execute_result"
    }
   ],
   "source": [
    "sdf.spatial.sr"
   ]
  },
  {
   "cell_type": "code",
   "execution_count": 27,
   "metadata": {},
   "outputs": [
    {
     "data": {
      "text/plain": [
       "{'wkid': 32756, 'latestWkid': 32756}"
      ]
     },
     "execution_count": 27,
     "metadata": {},
     "output_type": "execute_result"
    }
   ],
   "source": [
    "#project to 32756 UTM56S\n",
    "sdf.spatial.project(32756)\n",
    "sdf.spatial.sr"
   ]
  },
  {
   "cell_type": "code",
   "execution_count": 28,
   "metadata": {},
   "outputs": [
    {
     "data": {
      "text/plain": [
       "(385219.55461415224, 6341400.26318385, 422623.8956221083, 6370298.282679146)"
      ]
     },
     "execution_count": 28,
     "metadata": {},
     "output_type": "execute_result"
    }
   ],
   "source": [
    "sdf.spatial.full_extent"
   ]
  },
  {
   "cell_type": "markdown",
   "metadata": {},
   "source": [
    "#### 1e visual check with spatial df"
   ]
  },
  {
   "cell_type": "code",
   "execution_count": 34,
   "metadata": {},
   "outputs": [
    {
     "name": "stderr",
     "output_type": "stream",
     "text": [
      "Profile your_online_profile does not have a password on file through keyring. If you are expecting this behavior (PKI or IWA authentication, entering password through run-time prompt, etc.), please ignore this message. If you would like to store your password in the your_online_profile profile, run GIS(profile = 'your_online_profile', password = ...). See the API doc for more details. (http://bit.ly/2CK2wG8)\n"
     ]
    },
    {
     "data": {
      "application/vnd.jupyter.widget-view+json": {
       "model_id": "c8e3aed14c3c44ec8857120826ce5784",
       "version_major": 2,
       "version_minor": 0
      },
      "text/plain": [
       "MapView(layout=Layout(height='400px', width='100%'), legend=True)"
      ]
     },
     "metadata": {},
     "output_type": "display_data"
    },
    {
     "data": {
      "text/html": [
       "<div class=\"map-static-img-preview-4352d3a3-c81c-4b12-9150-6bfc5a1689e8\"><img src=\"\"></img></div>"
      ],
      "text/plain": [
       "<IPython.core.display.HTML object>"
      ]
     },
     "metadata": {},
     "output_type": "display_data"
    },
    {
     "data": {
      "text/html": [
       "<div class=\"map-html-embed-preview-4352d3a3-c81c-4b12-9150-6bfc5a1689e8\"></div>"
      ],
      "text/plain": [
       "<IPython.core.display.HTML object>"
      ]
     },
     "metadata": {},
     "output_type": "display_data"
    }
   ],
   "source": [
    "from arcgis.mapping import show_styles, display_colormaps\n",
    "from arcgis.gis import GIS\n",
    "gis = GIS(profile='your_online_profile',verify_cert=False)\n",
    "m_class = GIS().map(zoomlevel=10.5)\n",
    "m_class.center=[sdf.lat.mean(),sdf.lon.mean()]\n",
    "m_class.legend = True\n",
    "m_class\n"
   ]
  },
  {
   "cell_type": "code",
   "execution_count": 35,
   "metadata": {},
   "outputs": [
    {
     "data": {
      "text/plain": [
       "True"
      ]
     },
     "execution_count": 35,
     "metadata": {},
     "output_type": "execute_result"
    }
   ],
   "source": [
    "sdf.spatial.plot(map_widget=m_class,\n",
    "                 col='class',\n",
    "                 renderer_type = 'u',\n",
    "                 symbol_style='d',\n",
    "                 marker_size=10,\n",
    "                 symbol_type='simple'\n",
    "                )"
   ]
  },
  {
   "cell_type": "markdown",
   "metadata": {
    "heading_collapsed": true
   },
   "source": [
    "#### 1e export 2 shp file - not work"
   ]
  },
  {
   "cell_type": "code",
   "execution_count": null,
   "metadata": {
    "hidden": true
   },
   "outputs": [],
   "source": [
    "out_shp = r'E:\\HIPP\\11_Deliverables\\03_Bathymetry\\08_SeabedTexture_And_AncillaryLayers\\SI1001SamplesUTM56Ssdf2shp.shp'\n",
    "sdf.spatial.to_featureclass(out_shp)"
   ]
  },
  {
   "cell_type": "code",
   "execution_count": null,
   "metadata": {
    "hidden": true
   },
   "outputs": [],
   "source": [
    "os.listdir('E:\\\\HIPP\\\\11_Deliverables\\\\03_Bathymetry\\\\08_SeabedTexture_And_AncillaryLayers')"
   ]
  },
  {
   "cell_type": "code",
   "execution_count": null,
   "metadata": {
    "hidden": true
   },
   "outputs": [],
   "source": [
    "#read in again to check\n",
    "sdf2 = pd.DataFrame.spatial.from_featureclass(out_shp)\n",
    "sdf2.iloc[[0,50,100,-1]]"
   ]
  },
  {
   "cell_type": "code",
   "execution_count": null,
   "metadata": {
    "hidden": true
   },
   "outputs": [],
   "source": [
    "m2 = GIS().map(zoomlevel=10.5)\n",
    "m2.center=[sdf2.lat.mean(),sdf.lon.mean()]\n",
    "m2.legend = True\n",
    "m2"
   ]
  },
  {
   "cell_type": "code",
   "execution_count": null,
   "metadata": {
    "hidden": true
   },
   "outputs": [],
   "source": [
    "sdf2.spatial.plot(map_widget=m2,\n",
    "                 col='class',\n",
    "                 renderer_type = 'u',\n",
    "                 symbol_style='d',\n",
    "                 marker_size=10,\n",
    "                 symbol_type='simple'\n",
    "                )"
   ]
  },
  {
   "cell_type": "markdown",
   "metadata": {},
   "source": [
    "#### Export to csv - using normal pandas"
   ]
  },
  {
   "cell_type": "code",
   "execution_count": 1,
   "metadata": {
    "scrolled": true
   },
   "outputs": [
    {
     "ename": "NameError",
     "evalue": "name 'sdf' is not defined",
     "output_type": "error",
     "traceback": [
      "\u001b[1;31m---------------------------------------------------------------------------\u001b[0m",
      "\u001b[1;31mNameError\u001b[0m                                 Traceback (most recent call last)",
      "\u001b[1;32m<ipython-input-1-8100d71e275d>\u001b[0m in \u001b[0;36m<module>\u001b[1;34m\u001b[0m\n\u001b[0;32m      1\u001b[0m \u001b[0mout_csv\u001b[0m \u001b[1;33m=\u001b[0m \u001b[1;34mr'E:\\HIPP\\11_Deliverables\\03_Bathymetry\\08_SeabedTexture_And_AncillaryLayers\\SI1001_Samples_option2_Processed.csv'\u001b[0m\u001b[1;33m\u001b[0m\u001b[1;33m\u001b[0m\u001b[0m\n\u001b[1;32m----> 2\u001b[1;33m \u001b[0msdf\u001b[0m\u001b[1;33m.\u001b[0m\u001b[0mspatial\u001b[0m\u001b[1;33m.\u001b[0m\u001b[0mto_table\u001b[0m\u001b[1;33m(\u001b[0m\u001b[0mout_csv\u001b[0m\u001b[1;33m)\u001b[0m\u001b[1;33m\u001b[0m\u001b[1;33m\u001b[0m\u001b[0m\n\u001b[0m\u001b[0;32m      3\u001b[0m \u001b[0msdf\u001b[0m\u001b[1;33m.\u001b[0m\u001b[0miloc\u001b[0m\u001b[1;33m[\u001b[0m\u001b[1;33m[\u001b[0m\u001b[1;36m0\u001b[0m\u001b[1;33m,\u001b[0m\u001b[1;36m50\u001b[0m\u001b[1;33m,\u001b[0m\u001b[1;36m100\u001b[0m\u001b[1;33m,\u001b[0m\u001b[1;33m-\u001b[0m\u001b[1;36m1\u001b[0m\u001b[1;33m]\u001b[0m\u001b[1;33m]\u001b[0m\u001b[1;33m\u001b[0m\u001b[1;33m\u001b[0m\u001b[0m\n",
      "\u001b[1;31mNameError\u001b[0m: name 'sdf' is not defined"
     ]
    }
   ],
   "source": [
    "out_csv = r'E:\\HIPP\\11_Deliverables\\03_Bathymetry\\08_SeabedTexture_And_AncillaryLayers\\SI1001_Samples_option2_Processed.csv'\n",
    "sdf.spatial.to_table(out_csv)\n",
    "sdf.iloc[[0,50,100,-1]]"
   ]
  },
  {
   "cell_type": "code",
   "execution_count": 41,
   "metadata": {},
   "outputs": [
    {
     "data": {
      "text/html": [
       "<div>\n",
       "<style scoped>\n",
       "    .dataframe tbody tr th:only-of-type {\n",
       "        vertical-align: middle;\n",
       "    }\n",
       "\n",
       "    .dataframe tbody tr th {\n",
       "        vertical-align: top;\n",
       "    }\n",
       "\n",
       "    .dataframe thead th {\n",
       "        text-align: right;\n",
       "    }\n",
       "</style>\n",
       "<table border=\"1\" class=\"dataframe\">\n",
       "  <thead>\n",
       "    <tr style=\"text-align: right;\">\n",
       "      <th></th>\n",
       "      <th>sample_id</th>\n",
       "      <th>date_utc</th>\n",
       "      <th>time_utc</th>\n",
       "      <th>lat</th>\n",
       "      <th>lon</th>\n",
       "      <th>depth</th>\n",
       "      <th>method</th>\n",
       "      <th>recovery</th>\n",
       "      <th>weight</th>\n",
       "      <th>name</th>\n",
       "      <th>...</th>\n",
       "      <th>obs_sig</th>\n",
       "      <th>anoxic_sediments</th>\n",
       "      <th>comments</th>\n",
       "      <th>sample</th>\n",
       "      <th>url</th>\n",
       "      <th>e_utm56s</th>\n",
       "      <th>n_utm56s</th>\n",
       "      <th>intensity</th>\n",
       "      <th>z</th>\n",
       "      <th>SHAPE</th>\n",
       "    </tr>\n",
       "  </thead>\n",
       "  <tbody>\n",
       "    <tr>\n",
       "      <th>0</th>\n",
       "      <td>77</td>\n",
       "      <td>4-01-2021</td>\n",
       "      <td>12:52:00 AM</td>\n",
       "      <td>-32.907482</td>\n",
       "      <td>151.863574</td>\n",
       "      <td>30</td>\n",
       "      <td>0.0</td>\n",
       "      <td>90</td>\n",
       "      <td>0.0</td>\n",
       "      <td>20210104_077</td>\n",
       "      <td>...</td>\n",
       "      <td>BT</td>\n",
       "      <td>NaN</td>\n",
       "      <td></td>\n",
       "      <td>0.0</td>\n",
       "      <td>11_FinalDeliverables\\07_SeabedType\\03_GrabSamp...</td>\n",
       "      <td>393726.235146</td>\n",
       "      <td>6.358397e+06</td>\n",
       "      <td>0.0</td>\n",
       "      <td>0.0</td>\n",
       "      <td>{\"x\": 393726.23514603823, \"y\": 6358396.8790212...</td>\n",
       "    </tr>\n",
       "    <tr>\n",
       "      <th>50</th>\n",
       "      <td>67</td>\n",
       "      <td>5-01-2021</td>\n",
       "      <td>1:02:00 AM</td>\n",
       "      <td>-32.892604</td>\n",
       "      <td>151.918325</td>\n",
       "      <td>37</td>\n",
       "      <td>0.0</td>\n",
       "      <td>80</td>\n",
       "      <td>0.0</td>\n",
       "      <td>20210105_67</td>\n",
       "      <td>...</td>\n",
       "      <td>BT</td>\n",
       "      <td></td>\n",
       "      <td></td>\n",
       "      <td>0.0</td>\n",
       "      <td>11_FinalDeliverables\\07_SeabedType\\03_GrabSamp...</td>\n",
       "      <td>398829.665466</td>\n",
       "      <td>6.360100e+06</td>\n",
       "      <td>0.0</td>\n",
       "      <td>0.0</td>\n",
       "      <td>{\"x\": 398829.6654664029, \"y\": 6360100.23683480...</td>\n",
       "    </tr>\n",
       "    <tr>\n",
       "      <th>100</th>\n",
       "      <td>96</td>\n",
       "      <td>9-01-2021</td>\n",
       "      <td>9:20:00 AM</td>\n",
       "      <td>-32.923830</td>\n",
       "      <td>151.990723</td>\n",
       "      <td>88</td>\n",
       "      <td>0.0</td>\n",
       "      <td>80</td>\n",
       "      <td>0.0</td>\n",
       "      <td>20210109_096</td>\n",
       "      <td>...</td>\n",
       "      <td>BT</td>\n",
       "      <td></td>\n",
       "      <td></td>\n",
       "      <td>0.0</td>\n",
       "      <td>11_FinalDeliverables\\07_SeabedType\\03_GrabSamp...</td>\n",
       "      <td>405634.567701</td>\n",
       "      <td>6.356705e+06</td>\n",
       "      <td>0.0</td>\n",
       "      <td>0.0</td>\n",
       "      <td>{\"x\": 405634.567701295, \"y\": 6356705.449867805...</td>\n",
       "    </tr>\n",
       "    <tr>\n",
       "      <th>160</th>\n",
       "      <td>160</td>\n",
       "      <td>10-01-2021</td>\n",
       "      <td>5:04:00 PM</td>\n",
       "      <td>-33.060768</td>\n",
       "      <td>151.861614</td>\n",
       "      <td>104</td>\n",
       "      <td>0.0</td>\n",
       "      <td>90</td>\n",
       "      <td>0.0</td>\n",
       "      <td>20210110_160</td>\n",
       "      <td>...</td>\n",
       "      <td>NS</td>\n",
       "      <td></td>\n",
       "      <td></td>\n",
       "      <td>0.0</td>\n",
       "      <td>11_FinalDeliverables\\07_SeabedType\\03_GrabSamp...</td>\n",
       "      <td>393726.792168</td>\n",
       "      <td>6.341400e+06</td>\n",
       "      <td>0.0</td>\n",
       "      <td>0.0</td>\n",
       "      <td>{\"x\": 393726.79216775665, \"y\": 6341400.2631838...</td>\n",
       "    </tr>\n",
       "  </tbody>\n",
       "</table>\n",
       "<p>4 rows × 26 columns</p>\n",
       "</div>"
      ],
      "text/plain": [
       "     sample_id    date_utc     time_utc        lat         lon  depth  method  \\\n",
       "0           77   4-01-2021  12:52:00 AM -32.907482  151.863574     30     0.0   \n",
       "50          67   5-01-2021   1:02:00 AM -32.892604  151.918325     37     0.0   \n",
       "100         96   9-01-2021   9:20:00 AM -32.923830  151.990723     88     0.0   \n",
       "160        160  10-01-2021   5:04:00 PM -33.060768  151.861614    104     0.0   \n",
       "\n",
       "     recovery  weight          name  ... obs_sig anoxic_sediments comments  \\\n",
       "0          90     0.0  20210104_077  ...      BT              NaN            \n",
       "50         80     0.0   20210105_67  ...      BT                             \n",
       "100        80     0.0  20210109_096  ...      BT                             \n",
       "160        90     0.0  20210110_160  ...      NS                             \n",
       "\n",
       "    sample                                                url       e_utm56s  \\\n",
       "0      0.0  11_FinalDeliverables\\07_SeabedType\\03_GrabSamp...  393726.235146   \n",
       "50     0.0  11_FinalDeliverables\\07_SeabedType\\03_GrabSamp...  398829.665466   \n",
       "100    0.0  11_FinalDeliverables\\07_SeabedType\\03_GrabSamp...  405634.567701   \n",
       "160    0.0  11_FinalDeliverables\\07_SeabedType\\03_GrabSamp...  393726.792168   \n",
       "\n",
       "         n_utm56s intensity    z  \\\n",
       "0    6.358397e+06       0.0  0.0   \n",
       "50   6.360100e+06       0.0  0.0   \n",
       "100  6.356705e+06       0.0  0.0   \n",
       "160  6.341400e+06       0.0  0.0   \n",
       "\n",
       "                                                 SHAPE  \n",
       "0    {\"x\": 393726.23514603823, \"y\": 6358396.8790212...  \n",
       "50   {\"x\": 398829.6654664029, \"y\": 6360100.23683480...  \n",
       "100  {\"x\": 405634.567701295, \"y\": 6356705.449867805...  \n",
       "160  {\"x\": 393726.79216775665, \"y\": 6341400.2631838...  \n",
       "\n",
       "[4 rows x 26 columns]"
      ]
     },
     "execution_count": 41,
     "metadata": {},
     "output_type": "execute_result"
    }
   ],
   "source": [
    "#use pandas with no index\n",
    "df.to_csv(out_csv,index=False)\n",
    "df.iloc[[0,50,100,-1]]"
   ]
  },
  {
   "cell_type": "markdown",
   "metadata": {},
   "source": [
    "### Step 2: using XYTableToPoint to convert csv file into ESRI shp format"
   ]
  },
  {
   "cell_type": "markdown",
   "metadata": {},
   "source": [
    "#### Projected coor"
   ]
  },
  {
   "cell_type": "code",
   "execution_count": 3,
   "metadata": {},
   "outputs": [
    {
     "name": "stdout",
     "output_type": "stream",
     "text": [
      "161\n"
     ]
    }
   ],
   "source": [
    "import arcpy\n",
    "arcpy.env.overwriteOutput = True\n",
    "#csv2shp_UTM56S\n",
    "arcpy.env.workspace = r\"E:\\HIPP\\11_Deliverables\\03_Bathymetry\\08_SeabedTexture_And_AncillaryLayers\"\n",
    "out_csv = r'E:\\HIPP\\11_Deliverables\\03_Bathymetry\\08_SeabedTexture_And_AncillaryLayers\\SI1001_Samples_option2_Processed.csv'\n",
    "in_table = out_csv\n",
    "out_feature_class = \"SI1001_Samples_UTM56S_SSDM_Option2.shp\"\n",
    "x_coords = \"e_utm56s\"\n",
    "y_coords = \"n_utm56s\"\n",
    "z_coords = None\n",
    "sr_wgs84 = arcpy.SpatialReference(32756) #CRS: UTM56S 32756\n",
    "try: arcpy.management.XYTableToPoint(in_table, out_feature_class,\n",
    "                                x_coords, y_coords, z_coords,\n",
    "                                sr_wgs84)\n",
    "except Exception as e: print(e)\n",
    "\n",
    "# Print the total rows\n",
    "print(arcpy.GetCount_management(out_feature_class))"
   ]
  },
  {
   "cell_type": "code",
   "execution_count": 6,
   "metadata": {
    "scrolled": false
   },
   "outputs": [
    {
     "name": "stderr",
     "output_type": "stream",
     "text": [
      "Profile your_online_profile does not have a password on file through keyring. If you are expecting this behavior (PKI or IWA authentication, entering password through run-time prompt, etc.), please ignore this message. If you would like to store your password in the your_online_profile profile, run GIS(profile = 'your_online_profile', password = ...). See the API doc for more details. (http://bit.ly/2CK2wG8)\n"
     ]
    },
    {
     "data": {
      "application/vnd.jupyter.widget-view+json": {
       "model_id": "6e365dd03e8543a79be875a604b47924",
       "version_major": 2,
       "version_minor": 0
      },
      "text/plain": [
       "MapView(layout=Layout(height='400px', width='100%'), legend=True)"
      ]
     },
     "metadata": {},
     "output_type": "display_data"
    },
    {
     "data": {
      "text/html": [
       "<div class=\"map-static-img-preview-eb50148f-e31b-4c66-bc7a-674b781c14cc\"><img src=\"\"></img></div>"
      ],
      "text/plain": [
       "<IPython.core.display.HTML object>"
      ]
     },
     "metadata": {},
     "output_type": "display_data"
    },
    {
     "data": {
      "text/html": [
       "<div class=\"map-html-embed-preview-eb50148f-e31b-4c66-bc7a-674b781c14cc\"></div>"
      ],
      "text/plain": [
       "<IPython.core.display.HTML object>"
      ]
     },
     "metadata": {},
     "output_type": "display_data"
    }
   ],
   "source": [
    "#readin using sdf to test the table and geometry\n",
    "\n",
    "import pandas as pd\n",
    "from arcgis.mapping import show_styles, display_colormaps\n",
    "from arcgis.gis import GIS\n",
    "\n",
    "arcpy.env.workspace = r\"E:\\HIPP\\11_Deliverables\\03_Bathymetry\\08_SeabedTexture_And_AncillaryLayers\"\n",
    "sdf_test = pd.DataFrame.spatial.from_featureclass(out_feature_class)\n",
    "\n",
    "\n",
    "from arcgis.mapping import show_styles, display_colormaps\n",
    "from arcgis.gis import GIS\n",
    "gis = GIS(profile='your_online_profile',verify_cert=False)\n",
    "m2 = GIS().map(zoomlevel=10.5)\n",
    "m2.center=[sdf_test.lat.mean(),sdf_test.lon.mean()]\n",
    "m2.legend = True\n",
    "m2\n"
   ]
  },
  {
   "cell_type": "code",
   "execution_count": 7,
   "metadata": {},
   "outputs": [
    {
     "data": {
      "text/html": [
       "<div>\n",
       "<style scoped>\n",
       "    .dataframe tbody tr th:only-of-type {\n",
       "        vertical-align: middle;\n",
       "    }\n",
       "\n",
       "    .dataframe tbody tr th {\n",
       "        vertical-align: top;\n",
       "    }\n",
       "\n",
       "    .dataframe thead th {\n",
       "        text-align: right;\n",
       "    }\n",
       "</style>\n",
       "<table border=\"1\" class=\"dataframe\">\n",
       "  <thead>\n",
       "    <tr style=\"text-align: right;\">\n",
       "      <th></th>\n",
       "      <th>FID</th>\n",
       "      <th>sample_id</th>\n",
       "      <th>date_utc</th>\n",
       "      <th>time_utc</th>\n",
       "      <th>lat</th>\n",
       "      <th>lon</th>\n",
       "      <th>depth</th>\n",
       "      <th>method</th>\n",
       "      <th>recovery</th>\n",
       "      <th>weight</th>\n",
       "      <th>...</th>\n",
       "      <th>anoxic_sed</th>\n",
       "      <th>comments</th>\n",
       "      <th>sample</th>\n",
       "      <th>url</th>\n",
       "      <th>e_utm56s</th>\n",
       "      <th>n_utm56s</th>\n",
       "      <th>intensity</th>\n",
       "      <th>z</th>\n",
       "      <th>SHAPE_1</th>\n",
       "      <th>SHAPE</th>\n",
       "    </tr>\n",
       "  </thead>\n",
       "  <tbody>\n",
       "    <tr>\n",
       "      <th>0</th>\n",
       "      <td>0</td>\n",
       "      <td>77</td>\n",
       "      <td>2021-01-04</td>\n",
       "      <td>12:52:00 AM</td>\n",
       "      <td>-32.907482</td>\n",
       "      <td>151.863574</td>\n",
       "      <td>30</td>\n",
       "      <td>0.0</td>\n",
       "      <td>90</td>\n",
       "      <td>0.0</td>\n",
       "      <td>...</td>\n",
       "      <td></td>\n",
       "      <td></td>\n",
       "      <td>0.0</td>\n",
       "      <td>11_FinalDeliverables\\07_SeabedType\\03_GrabSamp...</td>\n",
       "      <td>393726.235146</td>\n",
       "      <td>6.358397e+06</td>\n",
       "      <td>0.0</td>\n",
       "      <td>0.0</td>\n",
       "      <td>{'x': 393726.23514603823, 'y': 6358396.8790212...</td>\n",
       "      <td>{\"x\": 393726.23510000017, \"y\": 6358396.879, \"s...</td>\n",
       "    </tr>\n",
       "    <tr>\n",
       "      <th>160</th>\n",
       "      <td>160</td>\n",
       "      <td>160</td>\n",
       "      <td>2021-01-10</td>\n",
       "      <td>5:04:00 PM</td>\n",
       "      <td>-33.060768</td>\n",
       "      <td>151.861614</td>\n",
       "      <td>104</td>\n",
       "      <td>0.0</td>\n",
       "      <td>90</td>\n",
       "      <td>0.0</td>\n",
       "      <td>...</td>\n",
       "      <td></td>\n",
       "      <td></td>\n",
       "      <td>0.0</td>\n",
       "      <td>11_FinalDeliverables\\07_SeabedType\\03_GrabSamp...</td>\n",
       "      <td>393726.792168</td>\n",
       "      <td>6.341400e+06</td>\n",
       "      <td>0.0</td>\n",
       "      <td>0.0</td>\n",
       "      <td>{'x': 393726.79216775665, 'y': 6341400.2631838...</td>\n",
       "      <td>{\"x\": 393726.7922, \"y\": 6341400.2632, \"spatial...</td>\n",
       "    </tr>\n",
       "    <tr>\n",
       "      <th>50</th>\n",
       "      <td>50</td>\n",
       "      <td>67</td>\n",
       "      <td>2021-01-05</td>\n",
       "      <td>1:02:00 AM</td>\n",
       "      <td>-32.892604</td>\n",
       "      <td>151.918325</td>\n",
       "      <td>37</td>\n",
       "      <td>0.0</td>\n",
       "      <td>80</td>\n",
       "      <td>0.0</td>\n",
       "      <td>...</td>\n",
       "      <td></td>\n",
       "      <td></td>\n",
       "      <td>0.0</td>\n",
       "      <td>11_FinalDeliverables\\07_SeabedType\\03_GrabSamp...</td>\n",
       "      <td>398829.665466</td>\n",
       "      <td>6.360100e+06</td>\n",
       "      <td>0.0</td>\n",
       "      <td>0.0</td>\n",
       "      <td>{'x': 398829.6654664029, 'y': 6360100.23683480...</td>\n",
       "      <td>{\"x\": 398829.6655000001, \"y\": 6360100.2368, \"s...</td>\n",
       "    </tr>\n",
       "    <tr>\n",
       "      <th>100</th>\n",
       "      <td>100</td>\n",
       "      <td>96</td>\n",
       "      <td>2021-01-09</td>\n",
       "      <td>9:20:00 AM</td>\n",
       "      <td>-32.923830</td>\n",
       "      <td>151.990723</td>\n",
       "      <td>88</td>\n",
       "      <td>0.0</td>\n",
       "      <td>80</td>\n",
       "      <td>0.0</td>\n",
       "      <td>...</td>\n",
       "      <td></td>\n",
       "      <td></td>\n",
       "      <td>0.0</td>\n",
       "      <td>11_FinalDeliverables\\07_SeabedType\\03_GrabSamp...</td>\n",
       "      <td>405634.567701</td>\n",
       "      <td>6.356705e+06</td>\n",
       "      <td>0.0</td>\n",
       "      <td>0.0</td>\n",
       "      <td>{'x': 405634.567701295, 'y': 6356705.449867805...</td>\n",
       "      <td>{\"x\": 405634.56769999955, \"y\": 6356705.4499, \"...</td>\n",
       "    </tr>\n",
       "  </tbody>\n",
       "</table>\n",
       "<p>4 rows × 28 columns</p>\n",
       "</div>"
      ],
      "text/plain": [
       "     FID  sample_id   date_utc     time_utc        lat         lon  depth  \\\n",
       "0      0         77 2021-01-04  12:52:00 AM -32.907482  151.863574     30   \n",
       "160  160        160 2021-01-10   5:04:00 PM -33.060768  151.861614    104   \n",
       "50    50         67 2021-01-05   1:02:00 AM -32.892604  151.918325     37   \n",
       "100  100         96 2021-01-09   9:20:00 AM -32.923830  151.990723     88   \n",
       "\n",
       "     method  recovery  weight  ... anoxic_sed comments sample  \\\n",
       "0       0.0        90     0.0  ...                        0.0   \n",
       "160     0.0        90     0.0  ...                        0.0   \n",
       "50      0.0        80     0.0  ...                        0.0   \n",
       "100     0.0        80     0.0  ...                        0.0   \n",
       "\n",
       "                                                   url       e_utm56s  \\\n",
       "0    11_FinalDeliverables\\07_SeabedType\\03_GrabSamp...  393726.235146   \n",
       "160  11_FinalDeliverables\\07_SeabedType\\03_GrabSamp...  393726.792168   \n",
       "50   11_FinalDeliverables\\07_SeabedType\\03_GrabSamp...  398829.665466   \n",
       "100  11_FinalDeliverables\\07_SeabedType\\03_GrabSamp...  405634.567701   \n",
       "\n",
       "         n_utm56s intensity    z  \\\n",
       "0    6.358397e+06       0.0  0.0   \n",
       "160  6.341400e+06       0.0  0.0   \n",
       "50   6.360100e+06       0.0  0.0   \n",
       "100  6.356705e+06       0.0  0.0   \n",
       "\n",
       "                                               SHAPE_1  \\\n",
       "0    {'x': 393726.23514603823, 'y': 6358396.8790212...   \n",
       "160  {'x': 393726.79216775665, 'y': 6341400.2631838...   \n",
       "50   {'x': 398829.6654664029, 'y': 6360100.23683480...   \n",
       "100  {'x': 405634.567701295, 'y': 6356705.449867805...   \n",
       "\n",
       "                                                 SHAPE  \n",
       "0    {\"x\": 393726.23510000017, \"y\": 6358396.879, \"s...  \n",
       "160  {\"x\": 393726.7922, \"y\": 6341400.2632, \"spatial...  \n",
       "50   {\"x\": 398829.6655000001, \"y\": 6360100.2368, \"s...  \n",
       "100  {\"x\": 405634.56769999955, \"y\": 6356705.4499, \"...  \n",
       "\n",
       "[4 rows x 28 columns]"
      ]
     },
     "execution_count": 7,
     "metadata": {},
     "output_type": "execute_result"
    }
   ],
   "source": [
    "sdf_test.spatial.plot(map_widget=m2,\n",
    "                 col='class',\n",
    "                 renderer_type = 'u',\n",
    "                 symbol_style='d',\n",
    "                 marker_size=10,\n",
    "                 symbol_type='simple',\n",
    "                 linewidth=0\n",
    "                )\n",
    "sdf_test.iloc[[0,-1,50,100]]"
   ]
  },
  {
   "cell_type": "markdown",
   "metadata": {},
   "source": [
    "#### WGS84"
   ]
  },
  {
   "cell_type": "code",
   "execution_count": 9,
   "metadata": {},
   "outputs": [
    {
     "name": "stdout",
     "output_type": "stream",
     "text": [
      "161\n"
     ]
    }
   ],
   "source": [
    "#csv2shp_WGS84\n",
    "# arcpy.env.workspace = r\"E:\\HIPP\\11_Deliverables\\03_Bathymetry\\05_SoundVelocityProfiles\\SVP_Raw\"\n",
    "in_table = out_csv\n",
    "out_feature_class = \"SI1001_Samples_WGS84_SSDM_Option2.shp\"\n",
    "x_coords = \"lon\"\n",
    "y_coords = \"lat\"\n",
    "z_coords = None\n",
    "sr_wgs84 = arcpy.SpatialReference(4326) #CRS: WGS84 4326\n",
    "arcpy.management.XYTableToPoint(in_table, out_feature_class,\n",
    "                                x_coords, y_coords, z_coords,\n",
    "                                sr_wgs84)\n",
    "# Print the total rows\n",
    "print(arcpy.GetCount_management(out_feature_class))\n"
   ]
  },
  {
   "cell_type": "code",
   "execution_count": 10,
   "metadata": {},
   "outputs": [
    {
     "name": "stderr",
     "output_type": "stream",
     "text": [
      "Profile your_online_profile does not have a password on file through keyring. If you are expecting this behavior (PKI or IWA authentication, entering password through run-time prompt, etc.), please ignore this message. If you would like to store your password in the your_online_profile profile, run GIS(profile = 'your_online_profile', password = ...). See the API doc for more details. (http://bit.ly/2CK2wG8)\n"
     ]
    },
    {
     "data": {
      "application/vnd.jupyter.widget-view+json": {
       "model_id": "e518cc68d84f44afaa5b4c618cb6314f",
       "version_major": 2,
       "version_minor": 0
      },
      "text/plain": [
       "MapView(layout=Layout(height='400px', width='100%'), legend=True)"
      ]
     },
     "metadata": {},
     "output_type": "display_data"
    },
    {
     "data": {
      "text/html": [
       "<div class=\"map-static-img-preview-c368e170-df9e-448a-9d97-e03b64335d46\"><img src=\"\"></img></div>"
      ],
      "text/plain": [
       "<IPython.core.display.HTML object>"
      ]
     },
     "metadata": {},
     "output_type": "display_data"
    },
    {
     "data": {
      "text/html": [
       "<div class=\"map-html-embed-preview-c368e170-df9e-448a-9d97-e03b64335d46\"></div>"
      ],
      "text/plain": [
       "<IPython.core.display.HTML object>"
      ]
     },
     "metadata": {},
     "output_type": "display_data"
    }
   ],
   "source": [
    "arcpy.env.workspace = r\"E:\\HIPP\\11_Deliverables\\03_Bathymetry\\08_SeabedTexture_And_AncillaryLayers\"\n",
    "sdf_test2 = pd.DataFrame.spatial.from_featureclass(out_feature_class)\n",
    "\n",
    "from arcgis.mapping import show_styles, display_colormaps\n",
    "from arcgis.gis import GIS\n",
    "gis = GIS(profile='your_online_profile',verify_cert=False)\n",
    "m3 = GIS().map(zoomlevel=10.5)\n",
    "m3.center=[sdf_test2.lat.mean(),sdf_test.lon.mean()]\n",
    "m3.legend = True\n",
    "m3\n"
   ]
  },
  {
   "cell_type": "code",
   "execution_count": 11,
   "metadata": {},
   "outputs": [
    {
     "data": {
      "text/html": [
       "<div>\n",
       "<style scoped>\n",
       "    .dataframe tbody tr th:only-of-type {\n",
       "        vertical-align: middle;\n",
       "    }\n",
       "\n",
       "    .dataframe tbody tr th {\n",
       "        vertical-align: top;\n",
       "    }\n",
       "\n",
       "    .dataframe thead th {\n",
       "        text-align: right;\n",
       "    }\n",
       "</style>\n",
       "<table border=\"1\" class=\"dataframe\">\n",
       "  <thead>\n",
       "    <tr style=\"text-align: right;\">\n",
       "      <th></th>\n",
       "      <th>FID</th>\n",
       "      <th>sample_id</th>\n",
       "      <th>date_utc</th>\n",
       "      <th>time_utc</th>\n",
       "      <th>lat</th>\n",
       "      <th>lon</th>\n",
       "      <th>depth</th>\n",
       "      <th>method</th>\n",
       "      <th>recovery</th>\n",
       "      <th>weight</th>\n",
       "      <th>...</th>\n",
       "      <th>anoxic_sed</th>\n",
       "      <th>comments</th>\n",
       "      <th>sample</th>\n",
       "      <th>url</th>\n",
       "      <th>e_utm56s</th>\n",
       "      <th>n_utm56s</th>\n",
       "      <th>intensity</th>\n",
       "      <th>z</th>\n",
       "      <th>SHAPE_1</th>\n",
       "      <th>SHAPE</th>\n",
       "    </tr>\n",
       "  </thead>\n",
       "  <tbody>\n",
       "    <tr>\n",
       "      <th>0</th>\n",
       "      <td>0</td>\n",
       "      <td>77</td>\n",
       "      <td>2021-01-04</td>\n",
       "      <td>12:52:00 AM</td>\n",
       "      <td>-32.907482</td>\n",
       "      <td>151.863574</td>\n",
       "      <td>30</td>\n",
       "      <td>0.0</td>\n",
       "      <td>90</td>\n",
       "      <td>0.0</td>\n",
       "      <td>...</td>\n",
       "      <td></td>\n",
       "      <td></td>\n",
       "      <td>0.0</td>\n",
       "      <td>11_FinalDeliverables\\07_SeabedType\\03_GrabSamp...</td>\n",
       "      <td>393726.235146</td>\n",
       "      <td>6.358397e+06</td>\n",
       "      <td>0.0</td>\n",
       "      <td>0.0</td>\n",
       "      <td>{'x': 393726.23514603823, 'y': 6358396.8790212...</td>\n",
       "      <td>{\"x\": 151.86357350000003, \"y\": -32.90748219999...</td>\n",
       "    </tr>\n",
       "    <tr>\n",
       "      <th>160</th>\n",
       "      <td>160</td>\n",
       "      <td>160</td>\n",
       "      <td>2021-01-10</td>\n",
       "      <td>5:04:00 PM</td>\n",
       "      <td>-33.060768</td>\n",
       "      <td>151.861614</td>\n",
       "      <td>104</td>\n",
       "      <td>0.0</td>\n",
       "      <td>90</td>\n",
       "      <td>0.0</td>\n",
       "      <td>...</td>\n",
       "      <td></td>\n",
       "      <td></td>\n",
       "      <td>0.0</td>\n",
       "      <td>11_FinalDeliverables\\07_SeabedType\\03_GrabSamp...</td>\n",
       "      <td>393726.792168</td>\n",
       "      <td>6.341400e+06</td>\n",
       "      <td>0.0</td>\n",
       "      <td>0.0</td>\n",
       "      <td>{'x': 393726.79216775665, 'y': 6341400.2631838...</td>\n",
       "      <td>{\"x\": 151.86161360000006, \"y\": -33.06076823999...</td>\n",
       "    </tr>\n",
       "    <tr>\n",
       "      <th>50</th>\n",
       "      <td>50</td>\n",
       "      <td>67</td>\n",
       "      <td>2021-01-05</td>\n",
       "      <td>1:02:00 AM</td>\n",
       "      <td>-32.892604</td>\n",
       "      <td>151.918325</td>\n",
       "      <td>37</td>\n",
       "      <td>0.0</td>\n",
       "      <td>80</td>\n",
       "      <td>0.0</td>\n",
       "      <td>...</td>\n",
       "      <td></td>\n",
       "      <td></td>\n",
       "      <td>0.0</td>\n",
       "      <td>11_FinalDeliverables\\07_SeabedType\\03_GrabSamp...</td>\n",
       "      <td>398829.665466</td>\n",
       "      <td>6.360100e+06</td>\n",
       "      <td>0.0</td>\n",
       "      <td>0.0</td>\n",
       "      <td>{'x': 398829.6654664029, 'y': 6360100.23683480...</td>\n",
       "      <td>{\"x\": 151.91832460000012, \"y\": -32.89260389999...</td>\n",
       "    </tr>\n",
       "    <tr>\n",
       "      <th>100</th>\n",
       "      <td>100</td>\n",
       "      <td>96</td>\n",
       "      <td>2021-01-09</td>\n",
       "      <td>9:20:00 AM</td>\n",
       "      <td>-32.923830</td>\n",
       "      <td>151.990723</td>\n",
       "      <td>88</td>\n",
       "      <td>0.0</td>\n",
       "      <td>80</td>\n",
       "      <td>0.0</td>\n",
       "      <td>...</td>\n",
       "      <td></td>\n",
       "      <td></td>\n",
       "      <td>0.0</td>\n",
       "      <td>11_FinalDeliverables\\07_SeabedType\\03_GrabSamp...</td>\n",
       "      <td>405634.567701</td>\n",
       "      <td>6.356705e+06</td>\n",
       "      <td>0.0</td>\n",
       "      <td>0.0</td>\n",
       "      <td>{'x': 405634.567701295, 'y': 6356705.449867805...</td>\n",
       "      <td>{\"x\": 151.99072260000003, \"y\": -32.92382998999...</td>\n",
       "    </tr>\n",
       "  </tbody>\n",
       "</table>\n",
       "<p>4 rows × 28 columns</p>\n",
       "</div>"
      ],
      "text/plain": [
       "     FID  sample_id   date_utc     time_utc        lat         lon  depth  \\\n",
       "0      0         77 2021-01-04  12:52:00 AM -32.907482  151.863574     30   \n",
       "160  160        160 2021-01-10   5:04:00 PM -33.060768  151.861614    104   \n",
       "50    50         67 2021-01-05   1:02:00 AM -32.892604  151.918325     37   \n",
       "100  100         96 2021-01-09   9:20:00 AM -32.923830  151.990723     88   \n",
       "\n",
       "     method  recovery  weight  ... anoxic_sed comments sample  \\\n",
       "0       0.0        90     0.0  ...                        0.0   \n",
       "160     0.0        90     0.0  ...                        0.0   \n",
       "50      0.0        80     0.0  ...                        0.0   \n",
       "100     0.0        80     0.0  ...                        0.0   \n",
       "\n",
       "                                                   url       e_utm56s  \\\n",
       "0    11_FinalDeliverables\\07_SeabedType\\03_GrabSamp...  393726.235146   \n",
       "160  11_FinalDeliverables\\07_SeabedType\\03_GrabSamp...  393726.792168   \n",
       "50   11_FinalDeliverables\\07_SeabedType\\03_GrabSamp...  398829.665466   \n",
       "100  11_FinalDeliverables\\07_SeabedType\\03_GrabSamp...  405634.567701   \n",
       "\n",
       "         n_utm56s intensity    z  \\\n",
       "0    6.358397e+06       0.0  0.0   \n",
       "160  6.341400e+06       0.0  0.0   \n",
       "50   6.360100e+06       0.0  0.0   \n",
       "100  6.356705e+06       0.0  0.0   \n",
       "\n",
       "                                               SHAPE_1  \\\n",
       "0    {'x': 393726.23514603823, 'y': 6358396.8790212...   \n",
       "160  {'x': 393726.79216775665, 'y': 6341400.2631838...   \n",
       "50   {'x': 398829.6654664029, 'y': 6360100.23683480...   \n",
       "100  {'x': 405634.567701295, 'y': 6356705.449867805...   \n",
       "\n",
       "                                                 SHAPE  \n",
       "0    {\"x\": 151.86357350000003, \"y\": -32.90748219999...  \n",
       "160  {\"x\": 151.86161360000006, \"y\": -33.06076823999...  \n",
       "50   {\"x\": 151.91832460000012, \"y\": -32.89260389999...  \n",
       "100  {\"x\": 151.99072260000003, \"y\": -32.92382998999...  \n",
       "\n",
       "[4 rows x 28 columns]"
      ]
     },
     "execution_count": 11,
     "metadata": {},
     "output_type": "execute_result"
    }
   ],
   "source": [
    "sdf_test2.spatial.plot(map_widget=m3,\n",
    "                 col='class',\n",
    "                 renderer_type = 'u',\n",
    "                 symbol_style='d',\n",
    "                 marker_size=10,\n",
    "                 symbol_type='simple',\n",
    "                 linewidth=0\n",
    "                )\n",
    "sdf_test2.iloc[[0,-1,50,100]]"
   ]
  },
  {
   "cell_type": "raw",
   "metadata": {},
   "source": [
    "#shp2csv - export and import again if wrong coordinate found\n",
    "arcpy.env.workspace = r\"E:\\HIPP\\11_Deliverables\\03_Bathymetry\\05_SoundVelocityProfiles\\SVP_Raw\"\n",
    " \n",
    "# Set local variables\n",
    "inTable = \"SI1001_SVP_UTM56S.dbf\"\n",
    "outLocation = arcpy.env.workspace\n",
    "outTable = \"SI1001_SVP_RAW_Edit1.csv\"\n",
    "\n",
    "# Execute TableToTable\n",
    "arcpy.TableToTable_conversion(inTable, outLocation, outTable)"
   ]
  },
  {
   "cell_type": "markdown",
   "metadata": {},
   "source": [
    "### Step 3: Define field name and attribute values and use CalculateField to update field values"
   ]
  },
  {
   "cell_type": "code",
   "execution_count": 54,
   "metadata": {},
   "outputs": [],
   "source": [
    "#testing readin again and display the data from SSDM geodatabase using spatial enable dataframe"
   ]
  },
  {
   "cell_type": "code",
   "execution_count": null,
   "metadata": {},
   "outputs": [],
   "source": []
  },
  {
   "cell_type": "code",
   "execution_count": null,
   "metadata": {},
   "outputs": [],
   "source": []
  },
  {
   "cell_type": "code",
   "execution_count": null,
   "metadata": {},
   "outputs": [],
   "source": []
  },
  {
   "cell_type": "code",
   "execution_count": null,
   "metadata": {},
   "outputs": [],
   "source": []
  },
  {
   "cell_type": "code",
   "execution_count": null,
   "metadata": {},
   "outputs": [],
   "source": []
  },
  {
   "cell_type": "code",
   "execution_count": null,
   "metadata": {},
   "outputs": [],
   "source": []
  },
  {
   "cell_type": "code",
   "execution_count": null,
   "metadata": {},
   "outputs": [],
   "source": []
  },
  {
   "cell_type": "code",
   "execution_count": null,
   "metadata": {},
   "outputs": [],
   "source": []
  },
  {
   "cell_type": "code",
   "execution_count": null,
   "metadata": {},
   "outputs": [],
   "source": []
  }
 ],
 "metadata": {
  "kernelspec": {
   "display_name": "Python 3",
   "language": "python",
   "name": "python3"
  },
  "language_info": {
   "codemirror_mode": {
    "name": "ipython",
    "version": 3
   },
   "file_extension": ".py",
   "mimetype": "text/x-python",
   "name": "python",
   "nbconvert_exporter": "python",
   "pygments_lexer": "ipython3",
   "version": "3.7.9"
  }
 },
 "nbformat": 4,
 "nbformat_minor": 4
}
