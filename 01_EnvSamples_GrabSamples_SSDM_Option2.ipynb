{
 "cells": [
  {
   "cell_type": "markdown",
   "metadata": {},
   "source": [
    "### Step 1: Prepare a csv file using excel (note: formatting works better with old excel version)"
   ]
  },
  {
   "cell_type": "markdown",
   "metadata": {},
   "source": [
    "### Step 2: using XYTableToPoint to convert csv file into ESRI shp format"
   ]
  },
  {
   "cell_type": "markdown",
   "metadata": {},
   "source": [
    "### Step 3: Define field name and attribute values and use CalculateField to update field values"
   ]
  },
  {
   "cell_type": "code",
   "execution_count": 1,
   "metadata": {},
   "outputs": [
    {
     "name": "stdout",
     "output_type": "stream",
     "text": [
      "LAST_UPDATE \"22/02/2021\"\n",
      "LAST_UPDATE_BY \"XL\"\n",
      "SURVEY_ID 1001\n",
      "SURVEY_ID_REF \"BN7875559\"\n",
      "SAMPLING_METHOD \"IOGP1045 Soil/Sediment Sample\"\n",
      "REPORT_URL \"11_FinalDeliverables\u0001_SurveyReport_Document\"\n",
      "APPROVED_DATE \"2/03/2021\"\n",
      "SAMPLING_EQUIPMENT \"Van Veen Grab Sampling\"\n",
      "PENETRATION 0\n",
      "RECOVERY 100\n"
     ]
    }
   ],
   "source": [
    "import arcpy\n",
    "#define field names\n",
    "ssdm_dict = dict()\n",
    "ssdm_dict['LAST_UPDATE']='\"22/02/2021\"'\n",
    "ssdm_dict['LAST_UPDATE_BY']='\"XL\"'\n",
    "ssdm_dict['SURVEY_ID']='1001'\n",
    "ssdm_dict['SURVEY_ID_REF']='\"BN7875559\"'\n",
    "ssdm_dict['SAMPLING_METHOD']='\"IOGP1045 Soil/Sediment Sample\"'\n",
    "ssdm_dict['REPORT_URL']='\"11_FinalDeliverables\\01_SurveyReport_Document\"'\n",
    "ssdm_dict['APPROVED_DATE']='\"2/03/2021\"'\n",
    "ssdm_dict['SAMPLING_EQUIPMENT']='\"Van Veen Grab Sampling\"'\n",
    "ssdm_dict['PENETRATION']='0'\n",
    "ssdm_dict['RECOVERY']='100'\n",
    "# ssdm_dict['SYMBOLOGY_CODE']= '\"IOGP1045\"'\n",
    "\n",
    "#update fields\n",
    "arcpy.env.workspace = r\"E:\\HIPP\\11_Deliverables\\SSDM\\GIS\\FGDB\\HIPP_SI1001_UTM56S.gdb\"\n",
    "input_ft = r'Environmental_Samples\\Environmental_Sample_Pnt_option2'\n",
    "for in_field in ssdm_dict.keys():\n",
    "    new_value = ssdm_dict[in_field]\n",
    "    print(in_field,new_value)\n",
    "    try:\n",
    "        arcpy.management.CalculateField(input_ft, in_field, new_value, \"PYTHON3\", '', \"TEXT\")\n",
    "    except Exception as e:\n",
    "        print(e)"
   ]
  },
  {
   "cell_type": "markdown",
   "metadata": {},
   "source": [
    "#### 3b Testing results"
   ]
  },
  {
   "cell_type": "code",
   "execution_count": 2,
   "metadata": {},
   "outputs": [
    {
     "name": "stderr",
     "output_type": "stream",
     "text": [
      "Profile your_online_profile does not have a password on file through keyring. If you are expecting this behavior (PKI or IWA authentication, entering password through run-time prompt, etc.), please ignore this message. If you would like to store your password in the your_online_profile profile, run GIS(profile = 'your_online_profile', password = ...). See the API doc for more details. (http://bit.ly/2CK2wG8)\n"
     ]
    },
    {
     "data": {
      "application/vnd.jupyter.widget-view+json": {
       "model_id": "3b396491c8d746b0905a9f18c37eb329",
       "version_major": 2,
       "version_minor": 0
      },
      "text/plain": [
       "MapView(layout=Layout(height='400px', width='100%'), legend=True)"
      ]
     },
     "metadata": {},
     "output_type": "display_data"
    },
    {
     "data": {
      "text/html": [
       "<div class=\"map-static-img-preview-159e71e2-6227-4053-a848-6b28be6bb8b1\"><img src=\"\"></img></div>"
      ],
      "text/plain": [
       "<IPython.core.display.HTML object>"
      ]
     },
     "metadata": {},
     "output_type": "display_data"
    },
    {
     "data": {
      "text/html": [
       "<div class=\"map-html-embed-preview-159e71e2-6227-4053-a848-6b28be6bb8b1\"></div>"
      ],
      "text/plain": [
       "<IPython.core.display.HTML object>"
      ]
     },
     "metadata": {},
     "output_type": "display_data"
    }
   ],
   "source": [
    "import pandas as pd\n",
    "from arcgis.features import GeoAccessor, GeoSeriesAccessor\n",
    "from arcgis.gis import GIS\n",
    "from arcgis.mapping import show_styles, display_colormaps\n",
    "from arcgis.gis import GIS\n",
    "gis = GIS(username=\"adelmomancini\", password=\"Geomatics123!\")\n",
    "from arcgis.geocoding import geocode\n",
    "from arcgis.geometry import lengths, areas_and_lengths, project\n",
    "from arcgis.geometry import Point, Polyline, Polygon, Geometry\n",
    "\n",
    "arcpy.env.workspace = r\"E:\\HIPP\\11_Deliverables\\SSDM\\GIS\\FGDB\\HIPP_SI1001_UTM56S.gdb\"\n",
    "input_ft = r'Environmental_Samples\\Environmental_Sample_Pnt_option2'\n",
    "sdf_test2 = pd.DataFrame.spatial.from_featureclass(input_ft)\n",
    "\n",
    "gis = GIS(profile='your_online_profile',verify_cert=False)\n",
    "m4 = GIS().map(zoomlevel=10.5)\n",
    "m4.center=[-32.911,151.960]\n",
    "m4.legend = True\n",
    "m4\n",
    "\n"
   ]
  },
  {
   "cell_type": "code",
   "execution_count": 3,
   "metadata": {},
   "outputs": [
    {
     "data": {
      "text/html": [
       "<div>\n",
       "<style scoped>\n",
       "    .dataframe tbody tr th:only-of-type {\n",
       "        vertical-align: middle;\n",
       "    }\n",
       "\n",
       "    .dataframe tbody tr th {\n",
       "        vertical-align: top;\n",
       "    }\n",
       "\n",
       "    .dataframe thead th {\n",
       "        text-align: right;\n",
       "    }\n",
       "</style>\n",
       "<table border=\"1\" class=\"dataframe\">\n",
       "  <thead>\n",
       "    <tr style=\"text-align: right;\">\n",
       "      <th></th>\n",
       "      <th>OBJECTID</th>\n",
       "      <th>LAST_UPDATE</th>\n",
       "      <th>LAST_UPDATE_BY</th>\n",
       "      <th>FEATURE_ID</th>\n",
       "      <th>SURVEY_ID</th>\n",
       "      <th>SURVEY_ID_REF</th>\n",
       "      <th>REMARKS</th>\n",
       "      <th>SAMPLE_NAME</th>\n",
       "      <th>SAMPLE_DESC</th>\n",
       "      <th>SAMPLING_METHOD</th>\n",
       "      <th>SAMPLING_DATE</th>\n",
       "      <th>DATA_URL</th>\n",
       "      <th>REPORT_URL</th>\n",
       "      <th>PENETRATION</th>\n",
       "      <th>RECOVERY</th>\n",
       "      <th>APPROVED_DATE</th>\n",
       "      <th>SAMPLE_NUMBER</th>\n",
       "      <th>SAMPLING_EQUIPMENT</th>\n",
       "      <th>SHAPE</th>\n",
       "    </tr>\n",
       "  </thead>\n",
       "  <tbody>\n",
       "    <tr>\n",
       "      <th>0</th>\n",
       "      <td>1</td>\n",
       "      <td>2021-02-22</td>\n",
       "      <td>XL</td>\n",
       "      <td>{D11FEBA0-B1AD-4FC5-A441-C5A337CBA36C}</td>\n",
       "      <td>1001</td>\n",
       "      <td>BN7875559</td>\n",
       "      <td></td>\n",
       "      <td>20210104_077</td>\n",
       "      <td>Coarse sediment</td>\n",
       "      <td>IOGP1045 Soil/Sediment Sample</td>\n",
       "      <td>2021-01-04</td>\n",
       "      <td>11_FinalDeliverables\\07_SeabedType\\03_GrabSamp...</td>\n",
       "      <td>11_FinalDeliverables\u0001_SurveyReport_Document</td>\n",
       "      <td>0.0</td>\n",
       "      <td>100.0</td>\n",
       "      <td>2021-03-02</td>\n",
       "      <td>77</td>\n",
       "      <td>Van Veen Grab Sampling</td>\n",
       "      <td>{\"x\": 393726.23510000005, \"y\": 6358396.8790000...</td>\n",
       "    </tr>\n",
       "    <tr>\n",
       "      <th>160</th>\n",
       "      <td>161</td>\n",
       "      <td>2021-02-22</td>\n",
       "      <td>XL</td>\n",
       "      <td>{A3C1F41C-6C91-4EFC-A989-0F473537BBDE}</td>\n",
       "      <td>1001</td>\n",
       "      <td>BN7875559</td>\n",
       "      <td></td>\n",
       "      <td>20210110_160</td>\n",
       "      <td>Mud and sandy mud</td>\n",
       "      <td>IOGP1045 Soil/Sediment Sample</td>\n",
       "      <td>2021-01-10</td>\n",
       "      <td>11_FinalDeliverables\\07_SeabedType\\03_GrabSamp...</td>\n",
       "      <td>11_FinalDeliverables\u0001_SurveyReport_Document</td>\n",
       "      <td>0.0</td>\n",
       "      <td>100.0</td>\n",
       "      <td>2021-03-02</td>\n",
       "      <td>160</td>\n",
       "      <td>Van Veen Grab Sampling</td>\n",
       "      <td>{\"x\": 393726.7922, \"y\": 6341400.263200001, \"z\"...</td>\n",
       "    </tr>\n",
       "    <tr>\n",
       "      <th>50</th>\n",
       "      <td>51</td>\n",
       "      <td>2021-02-22</td>\n",
       "      <td>XL</td>\n",
       "      <td>{E758E12F-686F-4BFA-9DA6-A14B9FCF04F8}</td>\n",
       "      <td>1001</td>\n",
       "      <td>BN7875559</td>\n",
       "      <td></td>\n",
       "      <td>20210105_67</td>\n",
       "      <td>Coarse sediment</td>\n",
       "      <td>IOGP1045 Soil/Sediment Sample</td>\n",
       "      <td>2021-01-05</td>\n",
       "      <td>11_FinalDeliverables\\07_SeabedType\\03_GrabSamp...</td>\n",
       "      <td>11_FinalDeliverables\u0001_SurveyReport_Document</td>\n",
       "      <td>0.0</td>\n",
       "      <td>100.0</td>\n",
       "      <td>2021-03-02</td>\n",
       "      <td>67</td>\n",
       "      <td>Van Veen Grab Sampling</td>\n",
       "      <td>{\"x\": 398829.66550000006, \"y\": 6360100.2368000...</td>\n",
       "    </tr>\n",
       "    <tr>\n",
       "      <th>100</th>\n",
       "      <td>101</td>\n",
       "      <td>2021-02-22</td>\n",
       "      <td>XL</td>\n",
       "      <td>{C45D63DC-740E-41A2-A30C-C1B4FFFD6E1D}</td>\n",
       "      <td>1001</td>\n",
       "      <td>BN7875559</td>\n",
       "      <td></td>\n",
       "      <td>20210109_096</td>\n",
       "      <td>Mud and sandy mud</td>\n",
       "      <td>IOGP1045 Soil/Sediment Sample</td>\n",
       "      <td>2021-01-09</td>\n",
       "      <td>11_FinalDeliverables\\07_SeabedType\\03_GrabSamp...</td>\n",
       "      <td>11_FinalDeliverables\u0001_SurveyReport_Document</td>\n",
       "      <td>0.0</td>\n",
       "      <td>100.0</td>\n",
       "      <td>2021-03-02</td>\n",
       "      <td>96</td>\n",
       "      <td>Van Veen Grab Sampling</td>\n",
       "      <td>{\"x\": 405634.5677000001, \"y\": 6356705.4499, \"z...</td>\n",
       "    </tr>\n",
       "  </tbody>\n",
       "</table>\n",
       "</div>"
      ],
      "text/plain": [
       "     OBJECTID LAST_UPDATE LAST_UPDATE_BY  \\\n",
       "0           1  2021-02-22             XL   \n",
       "160       161  2021-02-22             XL   \n",
       "50         51  2021-02-22             XL   \n",
       "100       101  2021-02-22             XL   \n",
       "\n",
       "                                 FEATURE_ID  SURVEY_ID SURVEY_ID_REF REMARKS  \\\n",
       "0    {D11FEBA0-B1AD-4FC5-A441-C5A337CBA36C}       1001     BN7875559           \n",
       "160  {A3C1F41C-6C91-4EFC-A989-0F473537BBDE}       1001     BN7875559           \n",
       "50   {E758E12F-686F-4BFA-9DA6-A14B9FCF04F8}       1001     BN7875559           \n",
       "100  {C45D63DC-740E-41A2-A30C-C1B4FFFD6E1D}       1001     BN7875559           \n",
       "\n",
       "      SAMPLE_NAME        SAMPLE_DESC                SAMPLING_METHOD  \\\n",
       "0    20210104_077    Coarse sediment  IOGP1045 Soil/Sediment Sample   \n",
       "160  20210110_160  Mud and sandy mud  IOGP1045 Soil/Sediment Sample   \n",
       "50    20210105_67    Coarse sediment  IOGP1045 Soil/Sediment Sample   \n",
       "100  20210109_096  Mud and sandy mud  IOGP1045 Soil/Sediment Sample   \n",
       "\n",
       "    SAMPLING_DATE                                           DATA_URL  \\\n",
       "0      2021-01-04  11_FinalDeliverables\\07_SeabedType\\03_GrabSamp...   \n",
       "160    2021-01-10  11_FinalDeliverables\\07_SeabedType\\03_GrabSamp...   \n",
       "50     2021-01-05  11_FinalDeliverables\\07_SeabedType\\03_GrabSamp...   \n",
       "100    2021-01-09  11_FinalDeliverables\\07_SeabedType\\03_GrabSamp...   \n",
       "\n",
       "                                      REPORT_URL  PENETRATION  RECOVERY  \\\n",
       "0    11_FinalDeliverables\u0001_SurveyReport_Document          0.0     100.0   \n",
       "160  11_FinalDeliverables\u0001_SurveyReport_Document          0.0     100.0   \n",
       "50   11_FinalDeliverables\u0001_SurveyReport_Document          0.0     100.0   \n",
       "100  11_FinalDeliverables\u0001_SurveyReport_Document          0.0     100.0   \n",
       "\n",
       "    APPROVED_DATE  SAMPLE_NUMBER      SAMPLING_EQUIPMENT  \\\n",
       "0      2021-03-02             77  Van Veen Grab Sampling   \n",
       "160    2021-03-02            160  Van Veen Grab Sampling   \n",
       "50     2021-03-02             67  Van Veen Grab Sampling   \n",
       "100    2021-03-02             96  Van Veen Grab Sampling   \n",
       "\n",
       "                                                 SHAPE  \n",
       "0    {\"x\": 393726.23510000005, \"y\": 6358396.8790000...  \n",
       "160  {\"x\": 393726.7922, \"y\": 6341400.263200001, \"z\"...  \n",
       "50   {\"x\": 398829.66550000006, \"y\": 6360100.2368000...  \n",
       "100  {\"x\": 405634.5677000001, \"y\": 6356705.4499, \"z...  "
      ]
     },
     "execution_count": 3,
     "metadata": {},
     "output_type": "execute_result"
    }
   ],
   "source": [
    "sdf_test2.spatial.plot(map_widget=m4,\n",
    "                 col='SAMPLE_DESC',\n",
    "                 renderer_type = 'u',\n",
    "                 symbol_style='d',\n",
    "                 marker_size=10,\n",
    "#                  linewidth=1\n",
    "                )\n",
    "sdf_test2.iloc[[0,-1,50,100]]"
   ]
  },
  {
   "cell_type": "code",
   "execution_count": 4,
   "metadata": {},
   "outputs": [
    {
     "data": {
      "image/png": "[encoded data removed]",
      "text/plain": [
       "<Figure size 576x576 with 1 Axes>"
      ]
     },
     "metadata": {},
     "output_type": "display_data"
    }
   ],
   "source": [
    "import numpy as np\n",
    "import matplotlib.pyplot as plt\n",
    "#pile chart of sediment type distribution\n",
    "fig, ax1 = plt.subplots(figsize = (8,8)) \n",
    "x = sdf_test2['SAMPLE_DESC'].value_counts(normalize=True,ascending=True)\n",
    "colors = ['gold','lightskyblue','r','c'] #we know that there are 4 types\n",
    "labels = list(x.index)\n",
    "values = np.round(x.values*100,2)\n",
    "explode = (0.1,0.1,0.1,0.1)\n",
    "ax1.pie(values,colors=colors,labels=labels,explode=explode,\n",
    "        autopct='%1.1f%%',counterclock=True,shadow=True)\n",
    "plt.title('Sediment Type')\n",
    "# ax1.legend(labels, loc = 0) \n",
    "plt.tight_layout() \n",
    "plt.show()"
   ]
  },
  {
   "cell_type": "code",
   "execution_count": null,
   "metadata": {},
   "outputs": [],
   "source": []
  }
 ],
 "metadata": {
  "kernelspec": {
   "display_name": "Python 3",
   "language": "python",
   "name": "python3"
  },
  "language_info": {
   "codemirror_mode": {
    "name": "ipython",
    "version": 3
   },
   "file_extension": ".py",
   "mimetype": "text/x-python",
   "name": "python",
   "nbconvert_exporter": "python",
   "pygments_lexer": "ipython3",
   "version": "3.7.9"
  }
 },
 "nbformat": 4,
 "nbformat_minor": 2
}
