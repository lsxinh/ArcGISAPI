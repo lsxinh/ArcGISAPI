{
 "cells": [
  {
   "cell_type": "code",
   "execution_count": 1,
   "metadata": {},
   "outputs": [],
   "source": [
    "import arcpy"
   ]
  },
  {
   "cell_type": "code",
   "execution_count": 2,
   "metadata": {},
   "outputs": [
    {
     "data": {
      "text/html": [
       "<h2>Output</h2>a Layer object<h2>Messages</h2>Start Time: Tuesday, 23 February 2021 12:13:50 PM<br/>Succeeded at Tuesday, 23 February 2021 12:13:53 PM (Elapsed Time: 2.20 seconds)<br/><style>.rendered_html td, .rendered_html th {text-align: left;}.rendered_html tbody {border: 1px solid black;}</style>"
      ],
      "text/plain": [
       "<Result 'Sediment - Primary'>"
      ]
     },
     "execution_count": 2,
     "metadata": {},
     "output_type": "execute_result"
    }
   ],
   "source": [
    "#updated Date  (#ArcGISPRO, open feature to see the updates.)\n",
    "input_ft = \"Sediment - Primary\"\n",
    "in_field = \"LAST_UPDATE\"\n",
    "new_value = '\"21/02/2021\"'\n",
    "arcpy.management.CalculateField(input_ft, in_field, new_value, \"PYTHON3\", '', \"TEXT\")\n",
    "#updated Date  (#ArcGISPRO, open feature to see the updates.)\n",
    "in_field = \"LAST_UPDATE_BY\"\n",
    "new_value = '\"XL\"'\n",
    "arcpy.management.CalculateField(input_ft, in_field, new_value, \"PYTHON3\", '', \"TEXT\")\n",
    "#Survey Job no  (#ArcGISPRO, open feature to see the updates.)\n",
    "in_field = \"SURVEY_ID\"\n",
    "new_value = '\"1001\"'\n",
    "arcpy.management.CalculateField(input_ft, in_field, new_value, \"PYTHON3\", '', \"TEXT\")\n",
    "#Survey Job Ref  (#ArcGISPRO, open feature to see the updates.)\n",
    "in_field = \"SURVEY_ID_REF\"\n",
    "new_value = '\"BN7875559\"'\n",
    "arcpy.management.CalculateField(input_ft, in_field, new_value, \"PYTHON3\", '', \"TEXT\")\n",
    "#Source of Interpretation\n",
    "in_field = \"INTERPRETATION_SOURCE\"\n",
    "new_value = '\"Multibeam Backscatter\"'\n",
    "arcpy.management.CalculateField(input_ft, in_field, new_value, \"PYTHON3\", '', \"TEXT\")\n",
    "#Survey End Date\n",
    "in_field = \"SURVEY_DATE\"\n",
    "new_value = '\"12/01/2021\"'\n",
    "arcpy.management.CalculateField(input_ft, in_field, new_value, \"PYTHON3\", '', \"TEXT\")\n"
   ]
  },
  {
   "cell_type": "code",
   "execution_count": 21,
   "metadata": {
    "scrolled": true
   },
   "outputs": [
    {
     "data": {
      "text/html": [
       "<h2>Output</h2>a Layer object<h2>Messages</h2>Start Time: Monday, 22 February 2021 12:07:29 PM<br/>Succeeded at Monday, 22 February 2021 12:07:29 PM (Elapsed Time: 0.93 seconds)<br/><style>.rendered_html td, .rendered_html th {text-align: left;}.rendered_html tbody {border: 1px solid black;}</style>"
      ],
      "text/plain": [
       "<Result 'Environmental_Sample_Pnt'>"
      ]
     },
     "execution_count": 21,
     "metadata": {},
     "output_type": "execute_result"
    }
   ],
   "source": [
    "#Symbology Code  \n",
    "in_field = \"SYMBOLOGY_CODE\"\n",
    "new_value = '\"IOGP1045\"'\n",
    "arcpy.management.CalculateField(input_ft, in_field, new_value, \"PYTHON3\", '', \"TEXT\")"
   ]
  },
  {
   "cell_type": "code",
   "execution_count": null,
   "metadata": {},
   "outputs": [],
   "source": [
    "#note\n",
    "arcpy.management.CalculateField(\"SL1001_Sediments_Interpretation\", \"Sed_Type\", \"!layer![7:]\", \"PYTHON3\", '', \"TEXT\")"
   ]
  }
 ],
 "metadata": {
  "kernelspec": {
   "display_name": "ArcGISPro",
   "language": "Python",
   "name": "python3"
  },
  "language_info": {
   "file_extension": ".py",
   "name": "python",
   "version": "3"
  }
 },
 "nbformat": 4,
 "nbformat_minor": 2
}
