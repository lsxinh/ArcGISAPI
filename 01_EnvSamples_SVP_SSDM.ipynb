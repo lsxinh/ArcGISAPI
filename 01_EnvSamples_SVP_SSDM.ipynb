{
 "cells": [
  {
   "cell_type": "markdown",
   "metadata": {},
   "source": [
    "### Step 1: Prepare a csv file using excel (note: formatting works better with old excel version)"
   ]
  },
  {
   "cell_type": "markdown",
   "metadata": {},
   "source": [
    "### Step 2: using XYTableToPoint to convert csv file into ESRI shp format"
   ]
  },
  {
   "cell_type": "markdown",
   "metadata": {},
   "source": [
    "### Step 3: Define field name and attribute values and use CalculateField to update field values"
   ]
  },
  {
   "cell_type": "code",
   "execution_count": 1,
   "metadata": {},
   "outputs": [
    {
     "name": "stdout",
     "output_type": "stream",
     "text": [
      "LAST_UPDATE \"22/02/2021\"\n",
      "LAST_UPDATE_BY \"XL\"\n",
      "SURVEY_ID 1001\n",
      "SURVEY_ID_REF \"BN7875559\"\n",
      "REPORT_URL \"11_FinalDeliverables\u0001_SurveyReport_Document\"\n",
      "APPROVED_DATE \"2/03/2021\"\n",
      "PENETRATION 0\n",
      "RECOVERY 100\n"
     ]
    }
   ],
   "source": [
    "import arcpy\n",
    "#define field names\n",
    "ssdm_dict = dict()\n",
    "ssdm_dict['LAST_UPDATE']='\"22/02/2021\"'\n",
    "ssdm_dict['LAST_UPDATE_BY']='\"XL\"'\n",
    "ssdm_dict['SURVEY_ID']='1001'\n",
    "ssdm_dict['SURVEY_ID_REF']='\"BN7875559\"'\n",
    "# ssdm_dict['SAMPLING_METHOD']='\"IOGP1046 Water Sample\"'\n",
    "ssdm_dict['REPORT_URL']='\"11_FinalDeliverables\\01_SurveyReport_Document\"'\n",
    "ssdm_dict['APPROVED_DATE']='\"2/03/2021\"'\n",
    "# ssdm_dict['SAMPLING_EQUIPMENT']='\"MiniSVP SN67443\"'\n",
    "ssdm_dict['PENETRATION']='0'\n",
    "ssdm_dict['RECOVERY']='100'\n",
    "# ssdm_dict['SAMPLE_NUMBER']=\"!SAMPLE_NAME![3:]\" #run 1 time only\n",
    "# ssdm_dict['SYMBOLOGY_CODE']='\"IOGP1046\"'\n",
    "\n",
    "#update fields\n",
    "arcpy.env.workspace = r\"E:\\HIPP\\11_Deliverables\\SSDM\\GIS\\FGDB\\HIPP_SI1001_UTM56S.gdb\"\n",
    "input_ft = r'Environmental_Samples\\DeployedEquipment_Pnt'\n",
    "for in_field in ssdm_dict.keys():\n",
    "    new_value = ssdm_dict[in_field]\n",
    "    print(in_field,new_value)\n",
    "    try:\n",
    "        arcpy.management.CalculateField(input_ft, in_field, new_value, \"PYTHON3\", '', \"TEXT\")\n",
    "    except Exception as e:\n",
    "        print(e)"
   ]
  },
  {
   "cell_type": "markdown",
   "metadata": {},
   "source": [
    "#### 3b Testing results"
   ]
  },
  {
   "cell_type": "code",
   "execution_count": 12,
   "metadata": {},
   "outputs": [
    {
     "name": "stdout",
     "output_type": "stream",
     "text": [
      "         OBJECTID  SURVEY_ID  PENETRATION  RECOVERY  SAMPLE_NUMBER\n",
      "count  102.000000      102.0        102.0     102.0     102.000000\n",
      "mean   153.500000     1001.0          0.0     100.0      52.500000\n",
      "std     29.588849        0.0          0.0       0.0      29.588849\n",
      "min    103.000000     1001.0          0.0     100.0       2.000000\n",
      "25%    128.250000     1001.0          0.0     100.0      27.250000\n",
      "50%    153.500000     1001.0          0.0     100.0      52.500000\n",
      "75%    178.750000     1001.0          0.0     100.0      77.750000\n",
      "max    204.000000     1001.0          0.0     100.0     103.000000\n"
     ]
    },
    {
     "data": {
      "text/html": [
       "<div>\n",
       "<style scoped>\n",
       "    .dataframe tbody tr th:only-of-type {\n",
       "        vertical-align: middle;\n",
       "    }\n",
       "\n",
       "    .dataframe tbody tr th {\n",
       "        vertical-align: top;\n",
       "    }\n",
       "\n",
       "    .dataframe thead th {\n",
       "        text-align: right;\n",
       "    }\n",
       "</style>\n",
       "<table border=\"1\" class=\"dataframe\">\n",
       "  <thead>\n",
       "    <tr style=\"text-align: right;\">\n",
       "      <th></th>\n",
       "      <th>OBJECTID</th>\n",
       "      <th>LAST_UPDATE</th>\n",
       "      <th>LAST_UPDATE_BY</th>\n",
       "      <th>FEATURE_ID</th>\n",
       "      <th>SURVEY_ID</th>\n",
       "      <th>SURVEY_ID_REF</th>\n",
       "      <th>REMARKS</th>\n",
       "      <th>SAMPLE_NAME</th>\n",
       "      <th>SAMPLE_DESC</th>\n",
       "      <th>SAMPLING_METHOD</th>\n",
       "      <th>SAMPLING_DATE</th>\n",
       "      <th>DATA_URL</th>\n",
       "      <th>REPORT_URL</th>\n",
       "      <th>PENETRATION</th>\n",
       "      <th>RECOVERY</th>\n",
       "      <th>APPROVED_DATE</th>\n",
       "      <th>SAMPLE_NUMBER</th>\n",
       "      <th>SAMPLING_EQUIPMENT</th>\n",
       "      <th>SHAPE</th>\n",
       "    </tr>\n",
       "  </thead>\n",
       "  <tbody>\n",
       "    <tr>\n",
       "      <th>0</th>\n",
       "      <td>103</td>\n",
       "      <td>2021-02-22</td>\n",
       "      <td>XL</td>\n",
       "      <td>{FE22D724-8EEA-4C4E-A503-E882FCD3FADA}</td>\n",
       "      <td>1001</td>\n",
       "      <td>BN7875559</td>\n",
       "      <td>Use Valeport to export .asvp</td>\n",
       "      <td>SVP002</td>\n",
       "      <td>20201209_0555_SVP</td>\n",
       "      <td>IOGP1046 Water Sample</td>\n",
       "      <td>2020-12-09</td>\n",
       "      <td>11_FinalDeliverables\\03_Bathymetry\\05_SoundVel...</td>\n",
       "      <td>11_Deliverables\u0001_SurveyReport_Document</td>\n",
       "      <td>0.0</td>\n",
       "      <td>100.0</td>\n",
       "      <td>2021-03-02</td>\n",
       "      <td>2</td>\n",
       "      <td>MiniSVP SN67443</td>\n",
       "      <td>{\"x\": 392825.73000000004, \"y\": 6341170.8000000...</td>\n",
       "    </tr>\n",
       "    <tr>\n",
       "      <th>101</th>\n",
       "      <td>204</td>\n",
       "      <td>2021-02-22</td>\n",
       "      <td>XL</td>\n",
       "      <td>{5A3F0F27-B008-40E8-BC55-AD9C79C5D793}</td>\n",
       "      <td>1001</td>\n",
       "      <td>BN7875559</td>\n",
       "      <td>Block 01</td>\n",
       "      <td>SVP103</td>\n",
       "      <td>20210112_1830_SVP</td>\n",
       "      <td>IOGP1046 Water Sample</td>\n",
       "      <td>2021-01-12</td>\n",
       "      <td>11_FinalDeliverables\\03_Bathymetry\\05_SoundVel...</td>\n",
       "      <td>11_Deliverables\u0001_SurveyReport_Document</td>\n",
       "      <td>0.0</td>\n",
       "      <td>100.0</td>\n",
       "      <td>2021-03-02</td>\n",
       "      <td>103</td>\n",
       "      <td>MiniSVP SN67443</td>\n",
       "      <td>{\"x\": 394255.10000000003, \"y\": 6340262.9900000...</td>\n",
       "    </tr>\n",
       "    <tr>\n",
       "      <th>50</th>\n",
       "      <td>153</td>\n",
       "      <td>2021-02-22</td>\n",
       "      <td>XL</td>\n",
       "      <td>{08CC5565-9FED-4FD7-A9C3-197310D6576A}</td>\n",
       "      <td>1001</td>\n",
       "      <td>BN7875559</td>\n",
       "      <td>Block 02</td>\n",
       "      <td>SVP052</td>\n",
       "      <td>20201224_1400_SVP</td>\n",
       "      <td>IOGP1046 Water Sample</td>\n",
       "      <td>2020-12-24</td>\n",
       "      <td>11_FinalDeliverables\\03_Bathymetry\\05_SoundVel...</td>\n",
       "      <td>11_Deliverables\u0001_SurveyReport_Document</td>\n",
       "      <td>0.0</td>\n",
       "      <td>100.0</td>\n",
       "      <td>2021-03-02</td>\n",
       "      <td>52</td>\n",
       "      <td>MiniSVP SN67443</td>\n",
       "      <td>{\"x\": 408798.26000000007, \"y\": 6353815.9100000...</td>\n",
       "    </tr>\n",
       "    <tr>\n",
       "      <th>100</th>\n",
       "      <td>203</td>\n",
       "      <td>2021-02-22</td>\n",
       "      <td>XL</td>\n",
       "      <td>{70CF1434-45CC-4D23-9E26-AB23B028B4E8}</td>\n",
       "      <td>1001</td>\n",
       "      <td>BN7875559</td>\n",
       "      <td>Block 01</td>\n",
       "      <td>SVP102</td>\n",
       "      <td>20210112_0400_SVP</td>\n",
       "      <td>IOGP1046 Water Sample</td>\n",
       "      <td>2021-01-12</td>\n",
       "      <td>11_FinalDeliverables\\03_Bathymetry\\05_SoundVel...</td>\n",
       "      <td>11_Deliverables\u0001_SurveyReport_Document</td>\n",
       "      <td>0.0</td>\n",
       "      <td>100.0</td>\n",
       "      <td>2021-03-02</td>\n",
       "      <td>102</td>\n",
       "      <td>MiniSVP SN67443</td>\n",
       "      <td>{\"x\": 385687.05000000005, \"y\": 6348396.3300000...</td>\n",
       "    </tr>\n",
       "  </tbody>\n",
       "</table>\n",
       "</div>"
      ],
      "text/plain": [
       "     OBJECTID LAST_UPDATE LAST_UPDATE_BY  \\\n",
       "0         103  2021-02-22             XL   \n",
       "101       204  2021-02-22             XL   \n",
       "50        153  2021-02-22             XL   \n",
       "100       203  2021-02-22             XL   \n",
       "\n",
       "                                 FEATURE_ID  SURVEY_ID SURVEY_ID_REF  \\\n",
       "0    {FE22D724-8EEA-4C4E-A503-E882FCD3FADA}       1001     BN7875559   \n",
       "101  {5A3F0F27-B008-40E8-BC55-AD9C79C5D793}       1001     BN7875559   \n",
       "50   {08CC5565-9FED-4FD7-A9C3-197310D6576A}       1001     BN7875559   \n",
       "100  {70CF1434-45CC-4D23-9E26-AB23B028B4E8}       1001     BN7875559   \n",
       "\n",
       "                          REMARKS SAMPLE_NAME        SAMPLE_DESC  \\\n",
       "0    Use Valeport to export .asvp      SVP002  20201209_0555_SVP   \n",
       "101                      Block 01      SVP103  20210112_1830_SVP   \n",
       "50                       Block 02      SVP052  20201224_1400_SVP   \n",
       "100                      Block 01      SVP102  20210112_0400_SVP   \n",
       "\n",
       "           SAMPLING_METHOD SAMPLING_DATE  \\\n",
       "0    IOGP1046 Water Sample    2020-12-09   \n",
       "101  IOGP1046 Water Sample    2021-01-12   \n",
       "50   IOGP1046 Water Sample    2020-12-24   \n",
       "100  IOGP1046 Water Sample    2021-01-12   \n",
       "\n",
       "                                              DATA_URL  \\\n",
       "0    11_FinalDeliverables\\03_Bathymetry\\05_SoundVel...   \n",
       "101  11_FinalDeliverables\\03_Bathymetry\\05_SoundVel...   \n",
       "50   11_FinalDeliverables\\03_Bathymetry\\05_SoundVel...   \n",
       "100  11_FinalDeliverables\\03_Bathymetry\\05_SoundVel...   \n",
       "\n",
       "                                 REPORT_URL  PENETRATION  RECOVERY  \\\n",
       "0    11_Deliverables\u0001_SurveyReport_Document          0.0     100.0   \n",
       "101  11_Deliverables\u0001_SurveyReport_Document          0.0     100.0   \n",
       "50   11_Deliverables\u0001_SurveyReport_Document          0.0     100.0   \n",
       "100  11_Deliverables\u0001_SurveyReport_Document          0.0     100.0   \n",
       "\n",
       "    APPROVED_DATE  SAMPLE_NUMBER SAMPLING_EQUIPMENT  \\\n",
       "0      2021-03-02              2    MiniSVP SN67443   \n",
       "101    2021-03-02            103    MiniSVP SN67443   \n",
       "50     2021-03-02             52    MiniSVP SN67443   \n",
       "100    2021-03-02            102    MiniSVP SN67443   \n",
       "\n",
       "                                                 SHAPE  \n",
       "0    {\"x\": 392825.73000000004, \"y\": 6341170.8000000...  \n",
       "101  {\"x\": 394255.10000000003, \"y\": 6340262.9900000...  \n",
       "50   {\"x\": 408798.26000000007, \"y\": 6353815.9100000...  \n",
       "100  {\"x\": 385687.05000000005, \"y\": 6348396.3300000...  "
      ]
     },
     "execution_count": 12,
     "metadata": {},
     "output_type": "execute_result"
    }
   ],
   "source": [
    "print(sdf_test.describe())\n",
    "sdf_test.iloc[[0,-1,50,100]]"
   ]
  },
  {
   "cell_type": "code",
   "execution_count": 13,
   "metadata": {},
   "outputs": [
    {
     "data": {
      "application/vnd.jupyter.widget-view+json": {
       "model_id": "eddd0f1f3f90479bacc38234b316b1e7",
       "version_major": 2,
       "version_minor": 0
      },
      "text/plain": [
       "MapView(layout=Layout(height='400px', width='100%'))"
      ]
     },
     "metadata": {},
     "output_type": "display_data"
    },
    {
     "data": {
      "text/html": [
       "<div class=\"map-static-img-preview-46d49c11-59d3-412d-85bf-471fe568e2a9\"><img src=\"\"></img></div>"
      ],
      "text/plain": [
       "<IPython.core.display.HTML object>"
      ]
     },
     "metadata": {},
     "output_type": "display_data"
    },
    {
     "data": {
      "text/html": [
       "<div class=\"map-html-embed-preview-46d49c11-59d3-412d-85bf-471fe568e2a9\"></div>"
      ],
      "text/plain": [
       "<IPython.core.display.HTML object>"
      ]
     },
     "metadata": {},
     "output_type": "display_data"
    }
   ],
   "source": [
    "#readin using sdf to test the table and geometry\n",
    "import pandas as pd\n",
    "from arcgis.mapping import show_styles, display_colormaps\n",
    "from arcgis.gis import GIS\n",
    "\n",
    "arcpy.env.workspace = r\"E:\\HIPP\\11_Deliverables\\SSDM\\GIS\\FGDB\\HIPP_SI1001_UTM56S.gdb\"\n",
    "input_ft = r'Environmental_Samples\\SVP_Sample_Pnt'\n",
    "\n",
    "sdf_test = pd.DataFrame.spatial.from_featureclass(input_ft)\n",
    "# sdf_test.spatial.plot()\n",
    "sdf_test.spatial.plot(col='SAMPLE_NUMBER',renderer_type = 'c',class_count=5)"
   ]
  },
  {
   "cell_type": "code",
   "execution_count": null,
   "metadata": {},
   "outputs": [],
   "source": []
  }
 ],
 "metadata": {
  "kernelspec": {
   "display_name": "Python 3",
   "language": "python",
   "name": "python3"
  },
  "language_info": {
   "codemirror_mode": {
    "name": "ipython",
    "version": 3
   },
   "file_extension": ".py",
   "mimetype": "text/x-python",
   "name": "python",
   "nbconvert_exporter": "python",
   "pygments_lexer": "ipython3",
   "version": "3.7.9"
  }
 },
 "nbformat": 4,
 "nbformat_minor": 2
}
