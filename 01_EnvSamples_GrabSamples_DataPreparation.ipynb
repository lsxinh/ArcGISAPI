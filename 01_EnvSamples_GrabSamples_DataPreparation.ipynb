{
 "cells": [
  {
   "cell_type": "markdown",
   "metadata": {},
   "source": [
    "### Step 1: Prepare a csv file using excel (note: formatting works better with old excel version)"
   ]
  },
  {
   "cell_type": "markdown",
   "metadata": {},
   "source": [
    "#### 1a Import data from csv - pandas"
   ]
  },
  {
   "cell_type": "code",
   "execution_count": 2,
   "metadata": {},
   "outputs": [],
   "source": [
    "import os\n",
    "import pandas as pd"
   ]
  },
  {
   "cell_type": "code",
   "execution_count": 3,
   "metadata": {},
   "outputs": [
    {
     "name": "stdout",
     "output_type": "stream",
     "text": [
      "Index(['SAMPLE ID', 'UTC Date', 'UTC Time', 'LATITUDE', 'LONGITUDE',\n",
      "       'Water Depth', 'Method', 'Recovery', 'kg', 'Photo Filename',\n",
      "       'Sample Composition', 'Folk classification', 'Hue Card', 'Hue Value',\n",
      "       'Photo filename', 'Sample Held', 'Observers Signature',\n",
      "       'Anoxic sediments', 'Comments', 'Sample', 'Data url', 'E_UTM56S',\n",
      "       'N_UTM56S'],\n",
      "      dtype='object')\n"
     ]
    },
    {
     "data": {
      "text/html": [
       "<div>\n",
       "<style scoped>\n",
       "    .dataframe tbody tr th:only-of-type {\n",
       "        vertical-align: middle;\n",
       "    }\n",
       "\n",
       "    .dataframe tbody tr th {\n",
       "        vertical-align: top;\n",
       "    }\n",
       "\n",
       "    .dataframe thead th {\n",
       "        text-align: right;\n",
       "    }\n",
       "</style>\n",
       "<table border=\"1\" class=\"dataframe\">\n",
       "  <thead>\n",
       "    <tr style=\"text-align: right;\">\n",
       "      <th></th>\n",
       "      <th>SAMPLE ID</th>\n",
       "      <th>UTC Date</th>\n",
       "      <th>UTC Time</th>\n",
       "      <th>LATITUDE</th>\n",
       "      <th>LONGITUDE</th>\n",
       "      <th>Water Depth</th>\n",
       "      <th>Method</th>\n",
       "      <th>Recovery</th>\n",
       "      <th>kg</th>\n",
       "      <th>Photo Filename</th>\n",
       "      <th>...</th>\n",
       "      <th>Hue Value</th>\n",
       "      <th>Photo filename</th>\n",
       "      <th>Sample Held</th>\n",
       "      <th>Observers Signature</th>\n",
       "      <th>Anoxic sediments</th>\n",
       "      <th>Comments</th>\n",
       "      <th>Sample</th>\n",
       "      <th>Data url</th>\n",
       "      <th>E_UTM56S</th>\n",
       "      <th>N_UTM56S</th>\n",
       "    </tr>\n",
       "  </thead>\n",
       "  <tbody>\n",
       "    <tr>\n",
       "      <th>0</th>\n",
       "      <td>77</td>\n",
       "      <td>4/01/2021</td>\n",
       "      <td>00:52</td>\n",
       "      <td>-32.907482</td>\n",
       "      <td>151.863574</td>\n",
       "      <td>30.0</td>\n",
       "      <td>NaN</td>\n",
       "      <td>90</td>\n",
       "      <td>-</td>\n",
       "      <td>20210104_077</td>\n",
       "      <td>...</td>\n",
       "      <td>10YR 6/8 (brownish yellow)</td>\n",
       "      <td>20210104_077_2</td>\n",
       "      <td>N</td>\n",
       "      <td>BT</td>\n",
       "      <td>NaN</td>\n",
       "      <td>NaN</td>\n",
       "      <td>NaN</td>\n",
       "      <td>11_Deliverables\\07_SeabedType\\03_GrabSample_Me...</td>\n",
       "      <td>NaN</td>\n",
       "      <td>NaN</td>\n",
       "    </tr>\n",
       "    <tr>\n",
       "      <th>50</th>\n",
       "      <td>67</td>\n",
       "      <td>5/01/2021</td>\n",
       "      <td>01:02</td>\n",
       "      <td>-32.892604</td>\n",
       "      <td>151.918325</td>\n",
       "      <td>37.0</td>\n",
       "      <td>NaN</td>\n",
       "      <td>80</td>\n",
       "      <td>NaN</td>\n",
       "      <td>20210105_67</td>\n",
       "      <td>...</td>\n",
       "      <td>10YR 5/6 (yellowish brown)</td>\n",
       "      <td>20210105_67_2</td>\n",
       "      <td>N</td>\n",
       "      <td>BT</td>\n",
       "      <td>NaN</td>\n",
       "      <td>NaN</td>\n",
       "      <td>NaN</td>\n",
       "      <td>11_Deliverables\\07_SeabedType\\03_GrabSample_Me...</td>\n",
       "      <td>NaN</td>\n",
       "      <td>NaN</td>\n",
       "    </tr>\n",
       "    <tr>\n",
       "      <th>100</th>\n",
       "      <td>96</td>\n",
       "      <td>9/01/2021</td>\n",
       "      <td>09:20</td>\n",
       "      <td>-32.923830</td>\n",
       "      <td>151.990723</td>\n",
       "      <td>88.0</td>\n",
       "      <td>NaN</td>\n",
       "      <td>80</td>\n",
       "      <td>NaN</td>\n",
       "      <td>20210109_096</td>\n",
       "      <td>...</td>\n",
       "      <td>10YR 3/2 (very dark greyish brown)</td>\n",
       "      <td>20210109_096_2</td>\n",
       "      <td>N</td>\n",
       "      <td>BT</td>\n",
       "      <td>NaN</td>\n",
       "      <td>NaN</td>\n",
       "      <td>NaN</td>\n",
       "      <td>11_Deliverables\\07_SeabedType\\03_GrabSample_Me...</td>\n",
       "      <td>NaN</td>\n",
       "      <td>NaN</td>\n",
       "    </tr>\n",
       "    <tr>\n",
       "      <th>160</th>\n",
       "      <td>160</td>\n",
       "      <td>10/01/2021</td>\n",
       "      <td>17:04</td>\n",
       "      <td>-33.060768</td>\n",
       "      <td>151.861614</td>\n",
       "      <td>104.0</td>\n",
       "      <td>NaN</td>\n",
       "      <td>90</td>\n",
       "      <td>NaN</td>\n",
       "      <td>20210110_160</td>\n",
       "      <td>...</td>\n",
       "      <td>10YR 4/1 (dark grey)</td>\n",
       "      <td>20210110_160_2</td>\n",
       "      <td>N</td>\n",
       "      <td>NS</td>\n",
       "      <td>NaN</td>\n",
       "      <td>NaN</td>\n",
       "      <td>NaN</td>\n",
       "      <td>11_Deliverables\\07_SeabedType\\03_GrabSample_Me...</td>\n",
       "      <td>NaN</td>\n",
       "      <td>NaN</td>\n",
       "    </tr>\n",
       "  </tbody>\n",
       "</table>\n",
       "<p>4 rows × 23 columns</p>\n",
       "</div>"
      ],
      "text/plain": [
       "     SAMPLE ID    UTC Date UTC Time   LATITUDE   LONGITUDE  Water Depth  \\\n",
       "0           77   4/01/2021    00:52 -32.907482  151.863574         30.0   \n",
       "50          67   5/01/2021    01:02 -32.892604  151.918325         37.0   \n",
       "100         96   9/01/2021    09:20 -32.923830  151.990723         88.0   \n",
       "160        160  10/01/2021    17:04 -33.060768  151.861614        104.0   \n",
       "\n",
       "     Method  Recovery   kg Photo Filename  ...  \\\n",
       "0       NaN        90    -   20210104_077  ...   \n",
       "50      NaN        80  NaN    20210105_67  ...   \n",
       "100     NaN        80  NaN   20210109_096  ...   \n",
       "160     NaN        90  NaN   20210110_160  ...   \n",
       "\n",
       "                              Hue Value  Photo filename Sample Held  \\\n",
       "0            10YR 6/8 (brownish yellow)  20210104_077_2           N   \n",
       "50           10YR 5/6 (yellowish brown)   20210105_67_2           N   \n",
       "100  10YR 3/2 (very dark greyish brown)  20210109_096_2           N   \n",
       "160                10YR 4/1 (dark grey)  20210110_160_2           N   \n",
       "\n",
       "    Observers Signature Anoxic sediments Comments Sample  \\\n",
       "0                    BT              NaN      NaN    NaN   \n",
       "50                   BT              NaN      NaN    NaN   \n",
       "100                  BT              NaN      NaN    NaN   \n",
       "160                  NS              NaN      NaN    NaN   \n",
       "\n",
       "                                              Data url E_UTM56S  N_UTM56S  \n",
       "0    11_Deliverables\\07_SeabedType\\03_GrabSample_Me...      NaN       NaN  \n",
       "50   11_Deliverables\\07_SeabedType\\03_GrabSample_Me...      NaN       NaN  \n",
       "100  11_Deliverables\\07_SeabedType\\03_GrabSample_Me...      NaN       NaN  \n",
       "160  11_Deliverables\\07_SeabedType\\03_GrabSample_Me...      NaN       NaN  \n",
       "\n",
       "[4 rows x 23 columns]"
      ]
     },
     "execution_count": 3,
     "metadata": {},
     "output_type": "execute_result"
    }
   ],
   "source": [
    "#import from csv\n",
    "in_csv = r\"E:\\HIPP\\11_Deliverables\\03_Bathymetry\\08_SeabedTexture_And_AncillaryLayers\\SI1001_Samples_WGS84.csv\"\n",
    "df = pd.read_csv(in_csv)\n",
    "print(df.columns)\n",
    "# print(len(df))\n",
    "df.iloc[[0,50,100,-1]]"
   ]
  },
  {
   "cell_type": "markdown",
   "metadata": {},
   "source": [
    "#### 1b. Check and tidy data - pandas"
   ]
  },
  {
   "cell_type": "code",
   "execution_count": 5,
   "metadata": {
    "scrolled": true
   },
   "outputs": [
    {
     "data": {
      "text/html": [
       "<div>\n",
       "<style scoped>\n",
       "    .dataframe tbody tr th:only-of-type {\n",
       "        vertical-align: middle;\n",
       "    }\n",
       "\n",
       "    .dataframe tbody tr th {\n",
       "        vertical-align: top;\n",
       "    }\n",
       "\n",
       "    .dataframe thead th {\n",
       "        text-align: right;\n",
       "    }\n",
       "</style>\n",
       "<table border=\"1\" class=\"dataframe\">\n",
       "  <thead>\n",
       "    <tr style=\"text-align: right;\">\n",
       "      <th></th>\n",
       "      <th>sample_id</th>\n",
       "      <th>date_utc</th>\n",
       "      <th>time_utc</th>\n",
       "      <th>lat</th>\n",
       "      <th>lon</th>\n",
       "      <th>depth</th>\n",
       "      <th>method</th>\n",
       "      <th>recovery</th>\n",
       "      <th>weight</th>\n",
       "      <th>name</th>\n",
       "      <th>...</th>\n",
       "      <th>hue_value</th>\n",
       "      <th>file_name</th>\n",
       "      <th>sample_held</th>\n",
       "      <th>obs_sig</th>\n",
       "      <th>anoxic_sediments</th>\n",
       "      <th>comments</th>\n",
       "      <th>sample</th>\n",
       "      <th>url</th>\n",
       "      <th>e_utm56s</th>\n",
       "      <th>n_utm56s</th>\n",
       "    </tr>\n",
       "  </thead>\n",
       "  <tbody>\n",
       "    <tr>\n",
       "      <th>0</th>\n",
       "      <td>77</td>\n",
       "      <td>4/01/2021</td>\n",
       "      <td>00:52</td>\n",
       "      <td>-32.907482</td>\n",
       "      <td>151.863574</td>\n",
       "      <td>30.0</td>\n",
       "      <td>NaN</td>\n",
       "      <td>90</td>\n",
       "      <td>-</td>\n",
       "      <td>20210104_077</td>\n",
       "      <td>...</td>\n",
       "      <td>10YR 6/8 (brownish yellow)</td>\n",
       "      <td>20210104_077_2</td>\n",
       "      <td>N</td>\n",
       "      <td>BT</td>\n",
       "      <td>NaN</td>\n",
       "      <td>NaN</td>\n",
       "      <td>NaN</td>\n",
       "      <td>11_Deliverables\\07_SeabedType\\03_GrabSample_Me...</td>\n",
       "      <td>NaN</td>\n",
       "      <td>NaN</td>\n",
       "    </tr>\n",
       "    <tr>\n",
       "      <th>50</th>\n",
       "      <td>67</td>\n",
       "      <td>5/01/2021</td>\n",
       "      <td>01:02</td>\n",
       "      <td>-32.892604</td>\n",
       "      <td>151.918325</td>\n",
       "      <td>37.0</td>\n",
       "      <td>NaN</td>\n",
       "      <td>80</td>\n",
       "      <td>NaN</td>\n",
       "      <td>20210105_67</td>\n",
       "      <td>...</td>\n",
       "      <td>10YR 5/6 (yellowish brown)</td>\n",
       "      <td>20210105_67_2</td>\n",
       "      <td>N</td>\n",
       "      <td>BT</td>\n",
       "      <td>NaN</td>\n",
       "      <td>NaN</td>\n",
       "      <td>NaN</td>\n",
       "      <td>11_Deliverables\\07_SeabedType\\03_GrabSample_Me...</td>\n",
       "      <td>NaN</td>\n",
       "      <td>NaN</td>\n",
       "    </tr>\n",
       "    <tr>\n",
       "      <th>100</th>\n",
       "      <td>96</td>\n",
       "      <td>9/01/2021</td>\n",
       "      <td>09:20</td>\n",
       "      <td>-32.923830</td>\n",
       "      <td>151.990723</td>\n",
       "      <td>88.0</td>\n",
       "      <td>NaN</td>\n",
       "      <td>80</td>\n",
       "      <td>NaN</td>\n",
       "      <td>20210109_096</td>\n",
       "      <td>...</td>\n",
       "      <td>10YR 3/2 (very dark greyish brown)</td>\n",
       "      <td>20210109_096_2</td>\n",
       "      <td>N</td>\n",
       "      <td>BT</td>\n",
       "      <td>NaN</td>\n",
       "      <td>NaN</td>\n",
       "      <td>NaN</td>\n",
       "      <td>11_Deliverables\\07_SeabedType\\03_GrabSample_Me...</td>\n",
       "      <td>NaN</td>\n",
       "      <td>NaN</td>\n",
       "    </tr>\n",
       "    <tr>\n",
       "      <th>160</th>\n",
       "      <td>160</td>\n",
       "      <td>10/01/2021</td>\n",
       "      <td>17:04</td>\n",
       "      <td>-33.060768</td>\n",
       "      <td>151.861614</td>\n",
       "      <td>104.0</td>\n",
       "      <td>NaN</td>\n",
       "      <td>90</td>\n",
       "      <td>NaN</td>\n",
       "      <td>20210110_160</td>\n",
       "      <td>...</td>\n",
       "      <td>10YR 4/1 (dark grey)</td>\n",
       "      <td>20210110_160_2</td>\n",
       "      <td>N</td>\n",
       "      <td>NS</td>\n",
       "      <td>NaN</td>\n",
       "      <td>NaN</td>\n",
       "      <td>NaN</td>\n",
       "      <td>11_Deliverables\\07_SeabedType\\03_GrabSample_Me...</td>\n",
       "      <td>NaN</td>\n",
       "      <td>NaN</td>\n",
       "    </tr>\n",
       "  </tbody>\n",
       "</table>\n",
       "<p>4 rows × 23 columns</p>\n",
       "</div>"
      ],
      "text/plain": [
       "     sample_id    date_utc time_utc        lat         lon  depth  method  \\\n",
       "0           77   4/01/2021    00:52 -32.907482  151.863574   30.0     NaN   \n",
       "50          67   5/01/2021    01:02 -32.892604  151.918325   37.0     NaN   \n",
       "100         96   9/01/2021    09:20 -32.923830  151.990723   88.0     NaN   \n",
       "160        160  10/01/2021    17:04 -33.060768  151.861614  104.0     NaN   \n",
       "\n",
       "     recovery weight          name  ...                           hue_value  \\\n",
       "0          90      -  20210104_077  ...          10YR 6/8 (brownish yellow)   \n",
       "50         80    NaN   20210105_67  ...          10YR 5/6 (yellowish brown)   \n",
       "100        80    NaN  20210109_096  ...  10YR 3/2 (very dark greyish brown)   \n",
       "160        90    NaN  20210110_160  ...                10YR 4/1 (dark grey)   \n",
       "\n",
       "          file_name sample_held obs_sig anoxic_sediments comments sample  \\\n",
       "0    20210104_077_2           N      BT              NaN      NaN    NaN   \n",
       "50    20210105_67_2           N      BT              NaN      NaN    NaN   \n",
       "100  20210109_096_2           N      BT              NaN      NaN    NaN   \n",
       "160  20210110_160_2           N      NS              NaN      NaN    NaN   \n",
       "\n",
       "                                                   url e_utm56s  n_utm56s  \n",
       "0    11_Deliverables\\07_SeabedType\\03_GrabSample_Me...      NaN       NaN  \n",
       "50   11_Deliverables\\07_SeabedType\\03_GrabSample_Me...      NaN       NaN  \n",
       "100  11_Deliverables\\07_SeabedType\\03_GrabSample_Me...      NaN       NaN  \n",
       "160  11_Deliverables\\07_SeabedType\\03_GrabSample_Me...      NaN       NaN  \n",
       "\n",
       "[4 rows x 23 columns]"
      ]
     },
     "execution_count": 5,
     "metadata": {},
     "output_type": "execute_result"
    }
   ],
   "source": [
    "#add FID: not neccessary if generating shp file using ESRI tool\n",
    "# df['FID'] = [i for i in range(len(df))] #auto add FID col\n",
    "df.iloc[[0,50,100,-1]]\n",
    "#change col names\n",
    "column_names={\"Folk classification\":\"class\",'Sample Composition':'Composition',\n",
    "                  'SAMPLE ID':'sample_ID','UTC Date':'Date_UTC','UTC Time':'Time_UTC','LATITUDE':'lat','LONGITUDE':'lon',\n",
    "                  'Water Depth':'Depth','Photo Filename':'Name','Hue Card':'Hue_Card','Hue Value':'Hue_Value',\n",
    "                  'Photo filename':'File_name','Sample Held':'Sample_Held','Observers Signature':'Obs_Sig',\n",
    "                  'Anoxic sediments':'Anoxic_Sediments','Data url':'url','kg':'weight'}\n",
    "df = df.rename(columns=column_names) #rename\n",
    "df = df.rename(columns=str.lower,inplace=False) #renametolowercase\n",
    "df[1:-1:50]\n",
    "#get column names and sort by alphabet\n",
    "new_col_names = list(df.columns)\n",
    "# print(new_col_names)\n",
    "# new_col_names.sort()\n",
    "# new_col_names\n",
    "#change to the order we want manually\n",
    "# new_col_names = ['fid','sample_id', 'date_utc', 'time_utc', 'lat', 'lon', 'depth', \n",
    "#                'method', 'recovery', 'weight', 'name', 'composition', \n",
    "#                'class', 'hue_card', 'hue_value', 'file_name', 'sample_held', \n",
    "#                'obs_sig', 'anoxic_sediments', 'comments', 'sample', 'url', \n",
    "#                'e_utm56s', 'n_utm56s']\n",
    "# new_col_names\n",
    "#re_oder the dataframe\n",
    "# df = df[new_col_names]\n",
    "df.iloc[[0,50,100,-1]]"
   ]
  },
  {
   "cell_type": "code",
   "execution_count": 6,
   "metadata": {},
   "outputs": [
    {
     "data": {
      "text/html": [
       "<div>\n",
       "<style scoped>\n",
       "    .dataframe tbody tr th:only-of-type {\n",
       "        vertical-align: middle;\n",
       "    }\n",
       "\n",
       "    .dataframe tbody tr th {\n",
       "        vertical-align: top;\n",
       "    }\n",
       "\n",
       "    .dataframe thead th {\n",
       "        text-align: right;\n",
       "    }\n",
       "</style>\n",
       "<table border=\"1\" class=\"dataframe\">\n",
       "  <thead>\n",
       "    <tr style=\"text-align: right;\">\n",
       "      <th></th>\n",
       "      <th>sample_id</th>\n",
       "      <th>date_utc</th>\n",
       "      <th>time_utc</th>\n",
       "      <th>lat</th>\n",
       "      <th>lon</th>\n",
       "      <th>depth</th>\n",
       "      <th>method</th>\n",
       "      <th>recovery</th>\n",
       "      <th>weight</th>\n",
       "      <th>name</th>\n",
       "      <th>...</th>\n",
       "      <th>hue_value</th>\n",
       "      <th>file_name</th>\n",
       "      <th>sample_held</th>\n",
       "      <th>obs_sig</th>\n",
       "      <th>anoxic_sediments</th>\n",
       "      <th>comments</th>\n",
       "      <th>sample</th>\n",
       "      <th>url</th>\n",
       "      <th>e_utm56s</th>\n",
       "      <th>n_utm56s</th>\n",
       "    </tr>\n",
       "  </thead>\n",
       "  <tbody>\n",
       "    <tr>\n",
       "      <th>0</th>\n",
       "      <td>77</td>\n",
       "      <td>4/01/2021</td>\n",
       "      <td>00:52</td>\n",
       "      <td>-32.907482</td>\n",
       "      <td>151.863574</td>\n",
       "      <td>30.0</td>\n",
       "      <td>NaN</td>\n",
       "      <td>90</td>\n",
       "      <td>-</td>\n",
       "      <td>20210104_077</td>\n",
       "      <td>...</td>\n",
       "      <td>10YR 6/8 (brownish yellow)</td>\n",
       "      <td>20210104_077_2</td>\n",
       "      <td>N</td>\n",
       "      <td>BT</td>\n",
       "      <td>NaN</td>\n",
       "      <td>NaN</td>\n",
       "      <td>NaN</td>\n",
       "      <td>11_FinalDeliverables\\07_SeabedType\\03_GrabSamp...</td>\n",
       "      <td>NaN</td>\n",
       "      <td>NaN</td>\n",
       "    </tr>\n",
       "    <tr>\n",
       "      <th>50</th>\n",
       "      <td>67</td>\n",
       "      <td>5/01/2021</td>\n",
       "      <td>01:02</td>\n",
       "      <td>-32.892604</td>\n",
       "      <td>151.918325</td>\n",
       "      <td>37.0</td>\n",
       "      <td>NaN</td>\n",
       "      <td>80</td>\n",
       "      <td>NaN</td>\n",
       "      <td>20210105_67</td>\n",
       "      <td>...</td>\n",
       "      <td>10YR 5/6 (yellowish brown)</td>\n",
       "      <td>20210105_67_2</td>\n",
       "      <td>N</td>\n",
       "      <td>BT</td>\n",
       "      <td>NaN</td>\n",
       "      <td>NaN</td>\n",
       "      <td>NaN</td>\n",
       "      <td>11_FinalDeliverables\\07_SeabedType\\03_GrabSamp...</td>\n",
       "      <td>NaN</td>\n",
       "      <td>NaN</td>\n",
       "    </tr>\n",
       "    <tr>\n",
       "      <th>100</th>\n",
       "      <td>96</td>\n",
       "      <td>9/01/2021</td>\n",
       "      <td>09:20</td>\n",
       "      <td>-32.923830</td>\n",
       "      <td>151.990723</td>\n",
       "      <td>88.0</td>\n",
       "      <td>NaN</td>\n",
       "      <td>80</td>\n",
       "      <td>NaN</td>\n",
       "      <td>20210109_096</td>\n",
       "      <td>...</td>\n",
       "      <td>10YR 3/2 (very dark greyish brown)</td>\n",
       "      <td>20210109_096_2</td>\n",
       "      <td>N</td>\n",
       "      <td>BT</td>\n",
       "      <td>NaN</td>\n",
       "      <td>NaN</td>\n",
       "      <td>NaN</td>\n",
       "      <td>11_FinalDeliverables\\07_SeabedType\\03_GrabSamp...</td>\n",
       "      <td>NaN</td>\n",
       "      <td>NaN</td>\n",
       "    </tr>\n",
       "    <tr>\n",
       "      <th>160</th>\n",
       "      <td>160</td>\n",
       "      <td>10/01/2021</td>\n",
       "      <td>17:04</td>\n",
       "      <td>-33.060768</td>\n",
       "      <td>151.861614</td>\n",
       "      <td>104.0</td>\n",
       "      <td>NaN</td>\n",
       "      <td>90</td>\n",
       "      <td>NaN</td>\n",
       "      <td>20210110_160</td>\n",
       "      <td>...</td>\n",
       "      <td>10YR 4/1 (dark grey)</td>\n",
       "      <td>20210110_160_2</td>\n",
       "      <td>N</td>\n",
       "      <td>NS</td>\n",
       "      <td>NaN</td>\n",
       "      <td>NaN</td>\n",
       "      <td>NaN</td>\n",
       "      <td>11_FinalDeliverables\\07_SeabedType\\03_GrabSamp...</td>\n",
       "      <td>NaN</td>\n",
       "      <td>NaN</td>\n",
       "    </tr>\n",
       "  </tbody>\n",
       "</table>\n",
       "<p>4 rows × 23 columns</p>\n",
       "</div>"
      ],
      "text/plain": [
       "     sample_id    date_utc time_utc        lat         lon  depth  method  \\\n",
       "0           77   4/01/2021    00:52 -32.907482  151.863574   30.0     NaN   \n",
       "50          67   5/01/2021    01:02 -32.892604  151.918325   37.0     NaN   \n",
       "100         96   9/01/2021    09:20 -32.923830  151.990723   88.0     NaN   \n",
       "160        160  10/01/2021    17:04 -33.060768  151.861614  104.0     NaN   \n",
       "\n",
       "     recovery weight          name  ...                           hue_value  \\\n",
       "0          90      -  20210104_077  ...          10YR 6/8 (brownish yellow)   \n",
       "50         80    NaN   20210105_67  ...          10YR 5/6 (yellowish brown)   \n",
       "100        80    NaN  20210109_096  ...  10YR 3/2 (very dark greyish brown)   \n",
       "160        90    NaN  20210110_160  ...                10YR 4/1 (dark grey)   \n",
       "\n",
       "          file_name sample_held obs_sig anoxic_sediments comments sample  \\\n",
       "0    20210104_077_2           N      BT              NaN      NaN    NaN   \n",
       "50    20210105_67_2           N      BT              NaN      NaN    NaN   \n",
       "100  20210109_096_2           N      BT              NaN      NaN    NaN   \n",
       "160  20210110_160_2           N      NS              NaN      NaN    NaN   \n",
       "\n",
       "                                                   url e_utm56s  n_utm56s  \n",
       "0    11_FinalDeliverables\\07_SeabedType\\03_GrabSamp...      NaN       NaN  \n",
       "50   11_FinalDeliverables\\07_SeabedType\\03_GrabSamp...      NaN       NaN  \n",
       "100  11_FinalDeliverables\\07_SeabedType\\03_GrabSamp...      NaN       NaN  \n",
       "160  11_FinalDeliverables\\07_SeabedType\\03_GrabSamp...      NaN       NaN  \n",
       "\n",
       "[4 rows x 23 columns]"
      ]
     },
     "execution_count": 6,
     "metadata": {},
     "output_type": "execute_result"
    }
   ],
   "source": [
    "#generate path for url column\n",
    "url_list = []\n",
    "for file_n in df['file_name']:\n",
    "    msg = \"11_FinalDeliverables\\\\07_SeabedType\\\\03_GrabSample_Media\\\\GrabSampleImages\\\\\"+file_n\n",
    "#     print(msg)\n",
    "    url_list.append(msg)\n",
    "df['url'] = url_list\n",
    "df.iloc[[0,50,100,-1]]"
   ]
  },
  {
   "cell_type": "markdown",
   "metadata": {},
   "source": [
    "#### Calculate coordinates for 2 two cols in UTM56S"
   ]
  },
  {
   "cell_type": "code",
   "execution_count": 7,
   "metadata": {},
   "outputs": [
    {
     "name": "stdout",
     "output_type": "stream",
     "text": [
      "proj=pipeline step proj=unitconvert xy_in=deg xy_out=rad step proj=utm zone=56 south ellps=WGS84\n",
      "proj=pipeline step inv proj=utm zone=56 south ellps=WGS84 step proj=unitconvert xy_in=rad xy_out=deg\n",
      "           lon        lat       e_utm56s      n_utm56s\n",
      "0   151.863574 -32.907482  393726.239074  6.358397e+06\n",
      "1   151.881709 -32.907612  395422.468960  6.358401e+06\n",
      "2   151.882094 -32.892214  395440.324171  6.360108e+06\n",
      "3   151.900388 -32.892475  397151.824079  6.360097e+06\n",
      "4   151.900391 -32.877213  397134.423067  6.361789e+06\n",
      "5   151.918499 -32.877313  398828.604713  6.361796e+06\n",
      "6   151.900462 -32.861831  397123.288995  6.363495e+06\n",
      "7   151.918883 -32.862037  398847.155728  6.363490e+06\n",
      "8   151.937168 -32.862196  400558.268766  6.363489e+06\n",
      "9   151.936866 -32.846854  400512.858707  6.365190e+06\n",
      "10  151.955268 -32.847095  402235.211319  6.365180e+06\n",
      "0 (151.863573542, -32.9074822, 393726.2390739125, 6358396.879063562)\n",
      "1 (151.8817094, -32.907611519999996, 395422.4689602334, 6358400.674685201)\n",
      "2 (151.8820938, -32.89221379999999, 395440.3241707303, 6360108.155450376)\n",
      "3 (151.900388244, -32.89247489999999, 397151.8240788911, 6360097.19347477)\n",
      "4 (151.900390734, -32.8772127, 397134.4230672081, 6361789.262532097)\n",
      "5 (151.918499027, -32.877313146, 398828.6047131055, 6361795.632234638)\n",
      "6 (151.900461592, -32.861831396999996, 397123.28899514175, 6363494.5987145975)\n",
      "7 (151.918882744, -32.8620366, 398847.1557279065, 6363489.648888301)\n",
      "8 (151.937168271, -32.86219579999999, 400558.26876609854, 6363489.370732683)\n",
      "9 (151.936865955, -32.84685439999999, 400512.8587067223, 6365189.9167661425)\n",
      "10 (151.95526759100002, -32.84709509999999, 402235.2113188752, 6365180.4150485825)\n"
     ]
    },
    {
     "data": {
      "text/html": [
       "<div>\n",
       "<style scoped>\n",
       "    .dataframe tbody tr th:only-of-type {\n",
       "        vertical-align: middle;\n",
       "    }\n",
       "\n",
       "    .dataframe tbody tr th {\n",
       "        vertical-align: top;\n",
       "    }\n",
       "\n",
       "    .dataframe thead th {\n",
       "        text-align: right;\n",
       "    }\n",
       "</style>\n",
       "<table border=\"1\" class=\"dataframe\">\n",
       "  <thead>\n",
       "    <tr style=\"text-align: right;\">\n",
       "      <th></th>\n",
       "      <th>sample_id</th>\n",
       "      <th>date_utc</th>\n",
       "      <th>time_utc</th>\n",
       "      <th>lat</th>\n",
       "      <th>lon</th>\n",
       "      <th>depth</th>\n",
       "      <th>method</th>\n",
       "      <th>recovery</th>\n",
       "      <th>weight</th>\n",
       "      <th>name</th>\n",
       "      <th>...</th>\n",
       "      <th>hue_value</th>\n",
       "      <th>file_name</th>\n",
       "      <th>sample_held</th>\n",
       "      <th>obs_sig</th>\n",
       "      <th>anoxic_sediments</th>\n",
       "      <th>comments</th>\n",
       "      <th>sample</th>\n",
       "      <th>url</th>\n",
       "      <th>e_utm56s</th>\n",
       "      <th>n_utm56s</th>\n",
       "    </tr>\n",
       "  </thead>\n",
       "  <tbody>\n",
       "    <tr>\n",
       "      <th>0</th>\n",
       "      <td>77</td>\n",
       "      <td>4/01/2021</td>\n",
       "      <td>00:52</td>\n",
       "      <td>-32.907482</td>\n",
       "      <td>151.863574</td>\n",
       "      <td>30.0</td>\n",
       "      <td>NaN</td>\n",
       "      <td>90</td>\n",
       "      <td>-</td>\n",
       "      <td>20210104_077</td>\n",
       "      <td>...</td>\n",
       "      <td>10YR 6/8 (brownish yellow)</td>\n",
       "      <td>20210104_077_2</td>\n",
       "      <td>N</td>\n",
       "      <td>BT</td>\n",
       "      <td>NaN</td>\n",
       "      <td>NaN</td>\n",
       "      <td>NaN</td>\n",
       "      <td>11_FinalDeliverables\\07_SeabedType\\03_GrabSamp...</td>\n",
       "      <td>393726.239074</td>\n",
       "      <td>6.358397e+06</td>\n",
       "    </tr>\n",
       "    <tr>\n",
       "      <th>50</th>\n",
       "      <td>67</td>\n",
       "      <td>5/01/2021</td>\n",
       "      <td>01:02</td>\n",
       "      <td>-32.892604</td>\n",
       "      <td>151.918325</td>\n",
       "      <td>37.0</td>\n",
       "      <td>NaN</td>\n",
       "      <td>80</td>\n",
       "      <td>NaN</td>\n",
       "      <td>20210105_67</td>\n",
       "      <td>...</td>\n",
       "      <td>10YR 5/6 (yellowish brown)</td>\n",
       "      <td>20210105_67_2</td>\n",
       "      <td>N</td>\n",
       "      <td>BT</td>\n",
       "      <td>NaN</td>\n",
       "      <td>NaN</td>\n",
       "      <td>NaN</td>\n",
       "      <td>11_FinalDeliverables\\07_SeabedType\\03_GrabSamp...</td>\n",
       "      <td>398829.668740</td>\n",
       "      <td>6.360100e+06</td>\n",
       "    </tr>\n",
       "    <tr>\n",
       "      <th>100</th>\n",
       "      <td>96</td>\n",
       "      <td>9/01/2021</td>\n",
       "      <td>09:20</td>\n",
       "      <td>-32.923830</td>\n",
       "      <td>151.990723</td>\n",
       "      <td>88.0</td>\n",
       "      <td>NaN</td>\n",
       "      <td>80</td>\n",
       "      <td>NaN</td>\n",
       "      <td>20210109_096</td>\n",
       "      <td>...</td>\n",
       "      <td>10YR 3/2 (very dark greyish brown)</td>\n",
       "      <td>20210109_096_2</td>\n",
       "      <td>N</td>\n",
       "      <td>BT</td>\n",
       "      <td>NaN</td>\n",
       "      <td>NaN</td>\n",
       "      <td>NaN</td>\n",
       "      <td>11_FinalDeliverables\\07_SeabedType\\03_GrabSamp...</td>\n",
       "      <td>405634.567701</td>\n",
       "      <td>6.356705e+06</td>\n",
       "    </tr>\n",
       "    <tr>\n",
       "      <th>160</th>\n",
       "      <td>160</td>\n",
       "      <td>10/01/2021</td>\n",
       "      <td>17:04</td>\n",
       "      <td>-33.060768</td>\n",
       "      <td>151.861614</td>\n",
       "      <td>104.0</td>\n",
       "      <td>NaN</td>\n",
       "      <td>90</td>\n",
       "      <td>NaN</td>\n",
       "      <td>20210110_160</td>\n",
       "      <td>...</td>\n",
       "      <td>10YR 4/1 (dark grey)</td>\n",
       "      <td>20210110_160_2</td>\n",
       "      <td>N</td>\n",
       "      <td>NS</td>\n",
       "      <td>NaN</td>\n",
       "      <td>NaN</td>\n",
       "      <td>NaN</td>\n",
       "      <td>11_FinalDeliverables\\07_SeabedType\\03_GrabSamp...</td>\n",
       "      <td>393726.792168</td>\n",
       "      <td>6.341400e+06</td>\n",
       "    </tr>\n",
       "  </tbody>\n",
       "</table>\n",
       "<p>4 rows × 23 columns</p>\n",
       "</div>"
      ],
      "text/plain": [
       "     sample_id    date_utc time_utc        lat         lon  depth  method  \\\n",
       "0           77   4/01/2021    00:52 -32.907482  151.863574   30.0     NaN   \n",
       "50          67   5/01/2021    01:02 -32.892604  151.918325   37.0     NaN   \n",
       "100         96   9/01/2021    09:20 -32.923830  151.990723   88.0     NaN   \n",
       "160        160  10/01/2021    17:04 -33.060768  151.861614  104.0     NaN   \n",
       "\n",
       "     recovery weight          name  ...                           hue_value  \\\n",
       "0          90      -  20210104_077  ...          10YR 6/8 (brownish yellow)   \n",
       "50         80    NaN   20210105_67  ...          10YR 5/6 (yellowish brown)   \n",
       "100        80    NaN  20210109_096  ...  10YR 3/2 (very dark greyish brown)   \n",
       "160        90    NaN  20210110_160  ...                10YR 4/1 (dark grey)   \n",
       "\n",
       "          file_name sample_held obs_sig anoxic_sediments comments sample  \\\n",
       "0    20210104_077_2           N      BT              NaN      NaN    NaN   \n",
       "50    20210105_67_2           N      BT              NaN      NaN    NaN   \n",
       "100  20210109_096_2           N      BT              NaN      NaN    NaN   \n",
       "160  20210110_160_2           N      NS              NaN      NaN    NaN   \n",
       "\n",
       "                                                   url       e_utm56s  \\\n",
       "0    11_FinalDeliverables\\07_SeabedType\\03_GrabSamp...  393726.239074   \n",
       "50   11_FinalDeliverables\\07_SeabedType\\03_GrabSamp...  398829.668740   \n",
       "100  11_FinalDeliverables\\07_SeabedType\\03_GrabSamp...  405634.567701   \n",
       "160  11_FinalDeliverables\\07_SeabedType\\03_GrabSamp...  393726.792168   \n",
       "\n",
       "         n_utm56s  \n",
       "0    6.358397e+06  \n",
       "50   6.360100e+06  \n",
       "100  6.356705e+06  \n",
       "160  6.341400e+06  \n",
       "\n",
       "[4 rows x 23 columns]"
      ]
     },
     "execution_count": 7,
     "metadata": {},
     "output_type": "execute_result"
    }
   ],
   "source": [
    "#Define coordinate transformation using pyproj\n",
    "from pyproj import CRS\n",
    "crs_4326 = CRS.from_epsg(4326)\n",
    "crs_4326\n",
    "crs_32756  = CRS.from_epsg(32756 )\n",
    "crs_32756 \n",
    "#define coordinate transformation functions\n",
    "from pyproj import Transformer\n",
    "WGS84toUTM56S = Transformer.from_crs(crs_4326, crs_32756,always_xy=True) #x,y or lon,lat order\n",
    "UTM56StoWGS84 = Transformer.from_crs(crs_32756, crs_4326,always_xy=True) #x,y or lon,lat order\n",
    "# transformer = Transformer.from_crs(4326, 32756)\n",
    "# transformer = Transformer.from_crs(\"EPSG:4326\", \"EPSG:32756\")\n",
    "print(WGS84toUTM56S)\n",
    "print(UTM56StoWGS84)\n",
    "\n",
    "#use WGS84toUTM56S to transform from WGS84 to UTM56S\n",
    "import numpy as np\n",
    "lon_list = list(df['lon'])\n",
    "lat_list = list(df['lat'])\n",
    "\n",
    "e_list = []\n",
    "n_list = []\n",
    "for idx,lon in enumerate(lon_list):  \n",
    "#     print(idx,lon,lat_list[idx])    \n",
    "    output = WGS84toUTM56S.transform(lon, lat_list[idx])\n",
    "    e_list.append(output[0])\n",
    "    n_list.append(output[1])\n",
    "#     print(idx,output)\n",
    "#add new coordinate into dataframe\n",
    "df['e_utm56s'] = e_list\n",
    "df['n_utm56s'] = n_list\n",
    "print(df.loc[0:10][['lon', 'lat', 'e_utm56s', 'n_utm56s']])\n",
    "\n",
    "#check the transformation by doing 10 first row from utm56s to wgs84\n",
    "e_list2 = list(df.loc[0:10]['e_utm56s'])\n",
    "n_list2 = list(df.loc[0:10]['n_utm56s'])\n",
    "lon_list2 = []\n",
    "lat_list2 = []\n",
    "for idx2,e in enumerate(e_list2):  \n",
    "#     print(idx,e,n_list2[idx])    \n",
    "    output = UTM56StoWGS84.transform(e, n_list2[idx2])\n",
    "    lon_list2.append(output[0])\n",
    "    lat_list2.append(output[1])\n",
    "#     print(idx,output)\n",
    "#check the results\n",
    "for id2,i in enumerate(zip(lon_list2,lat_list2,e_list2,n_list2)): \n",
    "    print(id2,i)\n",
    "df.iloc[[0,50,100,-1]]"
   ]
  },
  {
   "cell_type": "code",
   "execution_count": 8,
   "metadata": {
    "scrolled": false
   },
   "outputs": [
    {
     "data": {
      "text/html": [
       "<div>\n",
       "<style scoped>\n",
       "    .dataframe tbody tr th:only-of-type {\n",
       "        vertical-align: middle;\n",
       "    }\n",
       "\n",
       "    .dataframe tbody tr th {\n",
       "        vertical-align: top;\n",
       "    }\n",
       "\n",
       "    .dataframe thead th {\n",
       "        text-align: right;\n",
       "    }\n",
       "</style>\n",
       "<table border=\"1\" class=\"dataframe\">\n",
       "  <thead>\n",
       "    <tr style=\"text-align: right;\">\n",
       "      <th></th>\n",
       "      <th>sample_id</th>\n",
       "      <th>lat</th>\n",
       "      <th>lon</th>\n",
       "      <th>depth</th>\n",
       "      <th>method</th>\n",
       "      <th>recovery</th>\n",
       "      <th>anoxic_sediments</th>\n",
       "      <th>sample</th>\n",
       "      <th>e_utm56s</th>\n",
       "      <th>n_utm56s</th>\n",
       "    </tr>\n",
       "  </thead>\n",
       "  <tbody>\n",
       "    <tr>\n",
       "      <th>count</th>\n",
       "      <td>161.000000</td>\n",
       "      <td>161.000000</td>\n",
       "      <td>161.000000</td>\n",
       "      <td>150.000000</td>\n",
       "      <td>0.0</td>\n",
       "      <td>161.000000</td>\n",
       "      <td>0.0</td>\n",
       "      <td>0.0</td>\n",
       "      <td>161.000000</td>\n",
       "      <td>1.610000e+02</td>\n",
       "    </tr>\n",
       "    <tr>\n",
       "      <th>mean</th>\n",
       "      <td>80.484472</td>\n",
       "      <td>-32.911930</td>\n",
       "      <td>151.960715</td>\n",
       "      <td>60.193333</td>\n",
       "      <td>NaN</td>\n",
       "      <td>79.627329</td>\n",
       "      <td>NaN</td>\n",
       "      <td>NaN</td>\n",
       "      <td>402821.118532</td>\n",
       "      <td>6.357993e+06</td>\n",
       "    </tr>\n",
       "    <tr>\n",
       "      <th>std</th>\n",
       "      <td>46.187540</td>\n",
       "      <td>0.064586</td>\n",
       "      <td>0.099189</td>\n",
       "      <td>25.257253</td>\n",
       "      <td>NaN</td>\n",
       "      <td>13.152386</td>\n",
       "      <td>NaN</td>\n",
       "      <td>NaN</td>\n",
       "      <td>9219.939621</td>\n",
       "      <td>7.232926e+03</td>\n",
       "    </tr>\n",
       "    <tr>\n",
       "      <th>min</th>\n",
       "      <td>1.000000</td>\n",
       "      <td>-33.060768</td>\n",
       "      <td>151.771352</td>\n",
       "      <td>20.000000</td>\n",
       "      <td>NaN</td>\n",
       "      <td>30.000000</td>\n",
       "      <td>NaN</td>\n",
       "      <td>NaN</td>\n",
       "      <td>385219.557324</td>\n",
       "      <td>6.341400e+06</td>\n",
       "    </tr>\n",
       "    <tr>\n",
       "      <th>25%</th>\n",
       "      <td>41.000000</td>\n",
       "      <td>-32.968448</td>\n",
       "      <td>151.881181</td>\n",
       "      <td>37.250000</td>\n",
       "      <td>NaN</td>\n",
       "      <td>70.000000</td>\n",
       "      <td>NaN</td>\n",
       "      <td>NaN</td>\n",
       "      <td>395415.731353</td>\n",
       "      <td>6.351600e+06</td>\n",
       "    </tr>\n",
       "    <tr>\n",
       "      <th>50%</th>\n",
       "      <td>80.000000</td>\n",
       "      <td>-32.907777</td>\n",
       "      <td>151.954555</td>\n",
       "      <td>56.000000</td>\n",
       "      <td>NaN</td>\n",
       "      <td>80.000000</td>\n",
       "      <td>NaN</td>\n",
       "      <td>NaN</td>\n",
       "      <td>402225.395529</td>\n",
       "      <td>6.358405e+06</td>\n",
       "    </tr>\n",
       "    <tr>\n",
       "      <th>75%</th>\n",
       "      <td>120.000000</td>\n",
       "      <td>-32.862281</td>\n",
       "      <td>152.045317</td>\n",
       "      <td>83.750000</td>\n",
       "      <td>NaN</td>\n",
       "      <td>90.000000</td>\n",
       "      <td>NaN</td>\n",
       "      <td>NaN</td>\n",
       "      <td>410722.446519</td>\n",
       "      <td>6.363499e+06</td>\n",
       "    </tr>\n",
       "    <tr>\n",
       "      <th>max</th>\n",
       "      <td>160.000000</td>\n",
       "      <td>-32.801973</td>\n",
       "      <td>152.173124</td>\n",
       "      <td>105.000000</td>\n",
       "      <td>NaN</td>\n",
       "      <td>100.000000</td>\n",
       "      <td>NaN</td>\n",
       "      <td>NaN</td>\n",
       "      <td>422623.895622</td>\n",
       "      <td>6.370298e+06</td>\n",
       "    </tr>\n",
       "  </tbody>\n",
       "</table>\n",
       "</div>"
      ],
      "text/plain": [
       "        sample_id         lat         lon       depth  method    recovery  \\\n",
       "count  161.000000  161.000000  161.000000  150.000000     0.0  161.000000   \n",
       "mean    80.484472  -32.911930  151.960715   60.193333     NaN   79.627329   \n",
       "std     46.187540    0.064586    0.099189   25.257253     NaN   13.152386   \n",
       "min      1.000000  -33.060768  151.771352   20.000000     NaN   30.000000   \n",
       "25%     41.000000  -32.968448  151.881181   37.250000     NaN   70.000000   \n",
       "50%     80.000000  -32.907777  151.954555   56.000000     NaN   80.000000   \n",
       "75%    120.000000  -32.862281  152.045317   83.750000     NaN   90.000000   \n",
       "max    160.000000  -32.801973  152.173124  105.000000     NaN  100.000000   \n",
       "\n",
       "       anoxic_sediments  sample       e_utm56s      n_utm56s  \n",
       "count               0.0     0.0     161.000000  1.610000e+02  \n",
       "mean                NaN     NaN  402821.118532  6.357993e+06  \n",
       "std                 NaN     NaN    9219.939621  7.232926e+03  \n",
       "min                 NaN     NaN  385219.557324  6.341400e+06  \n",
       "25%                 NaN     NaN  395415.731353  6.351600e+06  \n",
       "50%                 NaN     NaN  402225.395529  6.358405e+06  \n",
       "75%                 NaN     NaN  410722.446519  6.363499e+06  \n",
       "max                 NaN     NaN  422623.895622  6.370298e+06  "
      ]
     },
     "execution_count": 8,
     "metadata": {},
     "output_type": "execute_result"
    }
   ],
   "source": [
    "df.describe()"
   ]
  },
  {
   "cell_type": "markdown",
   "metadata": {
    "heading_collapsed": true
   },
   "source": [
    "#### Play with data - understand data"
   ]
  },
  {
   "cell_type": "raw",
   "metadata": {
    "hidden": true
   },
   "source": [
    "df.dtypes"
   ]
  },
  {
   "cell_type": "raw",
   "metadata": {
    "hidden": true
   },
   "source": [
    "df.iloc[0] #1st row"
   ]
  },
  {
   "cell_type": "raw",
   "metadata": {
    "hidden": true
   },
   "source": [
    "df[['sample_id','class','url']].head()"
   ]
  },
  {
   "cell_type": "raw",
   "metadata": {
    "hidden": true
   },
   "source": [
    "df['url'][0]"
   ]
  },
  {
   "cell_type": "raw",
   "metadata": {
    "hidden": true
   },
   "source": [
    "df.url.iloc[0]"
   ]
  },
  {
   "cell_type": "raw",
   "metadata": {
    "hidden": true
   },
   "source": [
    "df.iloc[1:-1:50]"
   ]
  },
  {
   "cell_type": "code",
   "execution_count": null,
   "metadata": {
    "hidden": true
   },
   "outputs": [],
   "source": [
    "df.depth.agg(['mean','max','min'])"
   ]
  },
  {
   "cell_type": "raw",
   "metadata": {
    "hidden": true
   },
   "source": [
    "df.agg(['mean','max','min'])"
   ]
  },
  {
   "cell_type": "code",
   "execution_count": null,
   "metadata": {
    "hidden": true
   },
   "outputs": [],
   "source": [
    "df.groupby('date_utc').depth.agg(['mean','min','max','median'])"
   ]
  },
  {
   "cell_type": "code",
   "execution_count": null,
   "metadata": {
    "hidden": true
   },
   "outputs": [],
   "source": [
    "df.groupby('class').depth.agg(['mean','min','max','median'])"
   ]
  },
  {
   "cell_type": "code",
   "execution_count": null,
   "metadata": {
    "hidden": true
   },
   "outputs": [],
   "source": [
    "df.groupby(['class','date_utc']).depth.agg(['mean','median','min','max'])"
   ]
  },
  {
   "cell_type": "code",
   "execution_count": null,
   "metadata": {
    "hidden": true
   },
   "outputs": [],
   "source": [
    "df.groupby(['date_utc','class']).depth.agg(['mean','median','min','max'])"
   ]
  },
  {
   "cell_type": "markdown",
   "metadata": {},
   "source": [
    "#### 1c Simple Visual check - Pandas"
   ]
  },
  {
   "cell_type": "code",
   "execution_count": 9,
   "metadata": {},
   "outputs": [
    {
     "data": {
      "text/plain": [
       "<AxesSubplot:xlabel='lon', ylabel='lat'>"
      ]
     },
     "execution_count": 9,
     "metadata": {},
     "output_type": "execute_result"
    },
    {
     "data": {
      "image/png": "[encoded data removed]",
      "text/plain": [
       "<Figure size 432x288 with 2 Axes>"
      ]
     },
     "metadata": {
      "needs_background": "light"
     },
     "output_type": "display_data"
    }
   ],
   "source": [
    "df.plot.hexbin(x='lon',y='lat',C='depth',gridsize=35)"
   ]
  },
  {
   "cell_type": "code",
   "execution_count": 10,
   "metadata": {},
   "outputs": [
    {
     "data": {
      "text/plain": [
       "<AxesSubplot:xlabel='e_utm56s', ylabel='n_utm56s'>"
      ]
     },
     "execution_count": 10,
     "metadata": {},
     "output_type": "execute_result"
    },
    {
     "data": {
      "image/png": "[encoded data removed]",
      "text/plain": [
       "<Figure size 432x288 with 2 Axes>"
      ]
     },
     "metadata": {
      "needs_background": "light"
     },
     "output_type": "display_data"
    }
   ],
   "source": [
    "df.plot.hexbin(x='e_utm56s',y='n_utm56s',C='depth',gridsize=35)"
   ]
  },
  {
   "cell_type": "code",
   "execution_count": 11,
   "metadata": {},
   "outputs": [
    {
     "name": "stdout",
     "output_type": "stream",
     "text": [
      "count    150.000000\n",
      "mean      60.193333\n",
      "std       25.257253\n",
      "min       20.000000\n",
      "25%       37.250000\n",
      "50%       56.000000\n",
      "75%       83.750000\n",
      "max      105.000000\n",
      "Name: depth, dtype: float64\n",
      "(28.5, 37.0]                  32\n",
      "(37.0, 45.5]                  24\n",
      "(96.5, 105.0]                 16\n",
      "(71.0, 79.5]                  14\n",
      "(79.5, 88.0]                  14\n",
      "(88.0, 96.5]                  14\n",
      "(45.5, 54.0]                  11\n",
      "(54.0, 62.5]                  10\n",
      "(62.5, 71.0]                   9\n",
      "(19.913999999999998, 28.5]     6\n",
      "Name: depth, dtype: int64\n"
     ]
    },
    {
     "data": {
      "image/png": "[encoded data removed]",
      "text/plain": [
       "<Figure size 432x288 with 1 Axes>"
      ]
     },
     "metadata": {
      "needs_background": "light"
     },
     "output_type": "display_data"
    }
   ],
   "source": [
    "print(df['depth'].describe())\n",
    "depth_bin10 = df['depth'].value_counts(bins=10)\n",
    "print(depth_bin10)\n",
    "df['depth'].plot.hist(bins=10);"
   ]
  },
  {
   "cell_type": "code",
   "execution_count": 12,
   "metadata": {
    "scrolled": false
   },
   "outputs": [
    {
     "data": {
      "image/png": "[encoded data removed]",
      "text/plain": [
       "<Figure size 720x576 with 1 Axes>"
      ]
     },
     "metadata": {},
     "output_type": "display_data"
    }
   ],
   "source": [
    "import numpy as np\n",
    "import matplotlib.pyplot as plt\n",
    "#pile chart of sediment type distribution\n",
    "fig, ax1 = plt.subplots(figsize = (10,8)) \n",
    "colors = ['b','g','r','c','m','y','olive','gold','wheat','navy'] #we know that there are 4 types\n",
    "labels = list(depth_bin10.index)\n",
    "values_fraction = np.round(depth_bin10.values*100/150,2)\n",
    "explode = (0.1,0.1,0.1,0.1,0.1,0.1,0.1,0.1,0.1,0.1)\n",
    "ax1.pie(values_fraction,colors=colors,labels=labels,explode=explode,\n",
    "        autopct='%1.1f%%',counterclock=True,shadow=True)\n",
    "plt.title('Sediment sample Depth range')\n",
    "ax1.legend(labels, loc = 0) \n",
    "plt.tight_layout() \n",
    "plt.show()"
   ]
  },
  {
   "cell_type": "code",
   "execution_count": 13,
   "metadata": {},
   "outputs": [
    {
     "data": {
      "image/png": "[encoded data removed]",
      "text/plain": [
       "<Figure size 432x288 with 1 Axes>"
      ]
     },
     "metadata": {
      "needs_background": "light"
     },
     "output_type": "display_data"
    }
   ],
   "source": [
    "labels_str = [str(i) for i in labels]\n",
    "labels_str[-1] = '(19.9, 28.5]'\n",
    "plt.bar(labels_str,depth_bin10.values)\n",
    "plt.xticks(rotation=30)\n",
    "plt.show()"
   ]
  },
  {
   "cell_type": "code",
   "execution_count": 14,
   "metadata": {},
   "outputs": [
    {
     "data": {
      "image/png": "[encoded data removed]",
      "text/plain": [
       "<Figure size 432x432 with 1 Axes>"
      ]
     },
     "metadata": {},
     "output_type": "display_data"
    }
   ],
   "source": [
    "import numpy as np\n",
    "import matplotlib.pyplot as plt\n",
    "#pile chart of sediment type distribution\n",
    "fig, ax1 = plt.subplots(figsize = (6,6)) \n",
    "x = df['class'].value_counts(normalize=True,ascending=True)\n",
    "colors = ['gold','lightskyblue','r','c'] #we know that there are 4 types\n",
    "labels = list(x.index)\n",
    "values = np.round(x.values*100,2)\n",
    "explode = (0.1,0.1,0.1,0.1)\n",
    "ax1.pie(values,colors=colors,labels=labels,explode=explode,\n",
    "        autopct='%1.1f%%',counterclock=True,shadow=True)\n",
    "plt.title('Sediment Type')\n",
    "# ax1.legend(labels, loc = 0) \n",
    "plt.tight_layout() \n",
    "plt.show()"
   ]
  },
  {
   "cell_type": "code",
   "execution_count": 15,
   "metadata": {},
   "outputs": [
    {
     "data": {
      "text/plain": [
       "([0, 1, 2, 3],\n",
       " [Text(0, 0, ''), Text(0, 0, ''), Text(0, 0, ''), Text(0, 0, '')])"
      ]
     },
     "execution_count": 15,
     "metadata": {},
     "output_type": "execute_result"
    },
    {
     "data": {
      "image/png": "[encoded data removed]",
      "text/plain": [
       "<Figure size 432x288 with 1 Axes>"
      ]
     },
     "metadata": {
      "needs_background": "light"
     },
     "output_type": "display_data"
    }
   ],
   "source": [
    "A_unique = df['class'].unique()\n",
    "B = df['class'].value_counts(ascending=True)\n",
    "B_index_lst = list(B.index)\n",
    "B_value_lst = list(B.values)\n",
    "plt.bar(B_index_lst,B_value_lst)\n",
    "plt.xticks(rotation=10)"
   ]
  },
  {
   "cell_type": "markdown",
   "metadata": {},
   "source": [
    "#### 1d Convert to spatially enable dataframe - spatial pandas\n",
    "20210226_Not working when exporting to shp file\n"
   ]
  },
  {
   "cell_type": "code",
   "execution_count": 16,
   "metadata": {},
   "outputs": [],
   "source": [
    "from arcgis.features import GeoAccessor, GeoSeriesAccessor"
   ]
  },
  {
   "cell_type": "code",
   "execution_count": 17,
   "metadata": {},
   "outputs": [
    {
     "data": {
      "text/html": [
       "<div>\n",
       "<style scoped>\n",
       "    .dataframe tbody tr th:only-of-type {\n",
       "        vertical-align: middle;\n",
       "    }\n",
       "\n",
       "    .dataframe tbody tr th {\n",
       "        vertical-align: top;\n",
       "    }\n",
       "\n",
       "    .dataframe thead th {\n",
       "        text-align: right;\n",
       "    }\n",
       "</style>\n",
       "<table border=\"1\" class=\"dataframe\">\n",
       "  <thead>\n",
       "    <tr style=\"text-align: right;\">\n",
       "      <th></th>\n",
       "      <th>sample_id</th>\n",
       "      <th>date_utc</th>\n",
       "      <th>time_utc</th>\n",
       "      <th>lat</th>\n",
       "      <th>lon</th>\n",
       "      <th>depth</th>\n",
       "      <th>method</th>\n",
       "      <th>recovery</th>\n",
       "      <th>weight</th>\n",
       "      <th>name</th>\n",
       "      <th>...</th>\n",
       "      <th>file_name</th>\n",
       "      <th>sample_held</th>\n",
       "      <th>obs_sig</th>\n",
       "      <th>anoxic_sediments</th>\n",
       "      <th>comments</th>\n",
       "      <th>sample</th>\n",
       "      <th>url</th>\n",
       "      <th>e_utm56s</th>\n",
       "      <th>n_utm56s</th>\n",
       "      <th>SHAPE</th>\n",
       "    </tr>\n",
       "  </thead>\n",
       "  <tbody>\n",
       "    <tr>\n",
       "      <th>0</th>\n",
       "      <td>77</td>\n",
       "      <td>4/01/2021</td>\n",
       "      <td>00:52</td>\n",
       "      <td>-32.907482</td>\n",
       "      <td>151.863574</td>\n",
       "      <td>30.0</td>\n",
       "      <td>NaN</td>\n",
       "      <td>90</td>\n",
       "      <td>-</td>\n",
       "      <td>20210104_077</td>\n",
       "      <td>...</td>\n",
       "      <td>20210104_077_2</td>\n",
       "      <td>N</td>\n",
       "      <td>BT</td>\n",
       "      <td>NaN</td>\n",
       "      <td>NaN</td>\n",
       "      <td>NaN</td>\n",
       "      <td>11_FinalDeliverables\\07_SeabedType\\03_GrabSamp...</td>\n",
       "      <td>393726.239074</td>\n",
       "      <td>6.358397e+06</td>\n",
       "      <td>{\"spatialReference\": {\"wkid\": 4326}, \"x\": 151....</td>\n",
       "    </tr>\n",
       "    <tr>\n",
       "      <th>50</th>\n",
       "      <td>67</td>\n",
       "      <td>5/01/2021</td>\n",
       "      <td>01:02</td>\n",
       "      <td>-32.892604</td>\n",
       "      <td>151.918325</td>\n",
       "      <td>37.0</td>\n",
       "      <td>NaN</td>\n",
       "      <td>80</td>\n",
       "      <td>NaN</td>\n",
       "      <td>20210105_67</td>\n",
       "      <td>...</td>\n",
       "      <td>20210105_67_2</td>\n",
       "      <td>N</td>\n",
       "      <td>BT</td>\n",
       "      <td>NaN</td>\n",
       "      <td>NaN</td>\n",
       "      <td>NaN</td>\n",
       "      <td>11_FinalDeliverables\\07_SeabedType\\03_GrabSamp...</td>\n",
       "      <td>398829.668740</td>\n",
       "      <td>6.360100e+06</td>\n",
       "      <td>{\"spatialReference\": {\"wkid\": 4326}, \"x\": 151....</td>\n",
       "    </tr>\n",
       "    <tr>\n",
       "      <th>100</th>\n",
       "      <td>96</td>\n",
       "      <td>9/01/2021</td>\n",
       "      <td>09:20</td>\n",
       "      <td>-32.923830</td>\n",
       "      <td>151.990723</td>\n",
       "      <td>88.0</td>\n",
       "      <td>NaN</td>\n",
       "      <td>80</td>\n",
       "      <td>NaN</td>\n",
       "      <td>20210109_096</td>\n",
       "      <td>...</td>\n",
       "      <td>20210109_096_2</td>\n",
       "      <td>N</td>\n",
       "      <td>BT</td>\n",
       "      <td>NaN</td>\n",
       "      <td>NaN</td>\n",
       "      <td>NaN</td>\n",
       "      <td>11_FinalDeliverables\\07_SeabedType\\03_GrabSamp...</td>\n",
       "      <td>405634.567701</td>\n",
       "      <td>6.356705e+06</td>\n",
       "      <td>{\"spatialReference\": {\"wkid\": 4326}, \"x\": 151....</td>\n",
       "    </tr>\n",
       "    <tr>\n",
       "      <th>160</th>\n",
       "      <td>160</td>\n",
       "      <td>10/01/2021</td>\n",
       "      <td>17:04</td>\n",
       "      <td>-33.060768</td>\n",
       "      <td>151.861614</td>\n",
       "      <td>104.0</td>\n",
       "      <td>NaN</td>\n",
       "      <td>90</td>\n",
       "      <td>NaN</td>\n",
       "      <td>20210110_160</td>\n",
       "      <td>...</td>\n",
       "      <td>20210110_160_2</td>\n",
       "      <td>N</td>\n",
       "      <td>NS</td>\n",
       "      <td>NaN</td>\n",
       "      <td>NaN</td>\n",
       "      <td>NaN</td>\n",
       "      <td>11_FinalDeliverables\\07_SeabedType\\03_GrabSamp...</td>\n",
       "      <td>393726.792168</td>\n",
       "      <td>6.341400e+06</td>\n",
       "      <td>{\"spatialReference\": {\"wkid\": 4326}, \"x\": 151....</td>\n",
       "    </tr>\n",
       "  </tbody>\n",
       "</table>\n",
       "<p>4 rows × 24 columns</p>\n",
       "</div>"
      ],
      "text/plain": [
       "     sample_id    date_utc time_utc        lat         lon  depth  method  \\\n",
       "0           77   4/01/2021    00:52 -32.907482  151.863574   30.0     NaN   \n",
       "50          67   5/01/2021    01:02 -32.892604  151.918325   37.0     NaN   \n",
       "100         96   9/01/2021    09:20 -32.923830  151.990723   88.0     NaN   \n",
       "160        160  10/01/2021    17:04 -33.060768  151.861614  104.0     NaN   \n",
       "\n",
       "     recovery weight          name  ...       file_name sample_held obs_sig  \\\n",
       "0          90      -  20210104_077  ...  20210104_077_2           N      BT   \n",
       "50         80    NaN   20210105_67  ...   20210105_67_2           N      BT   \n",
       "100        80    NaN  20210109_096  ...  20210109_096_2           N      BT   \n",
       "160        90    NaN  20210110_160  ...  20210110_160_2           N      NS   \n",
       "\n",
       "    anoxic_sediments comments sample  \\\n",
       "0                NaN      NaN    NaN   \n",
       "50               NaN      NaN    NaN   \n",
       "100              NaN      NaN    NaN   \n",
       "160              NaN      NaN    NaN   \n",
       "\n",
       "                                                   url       e_utm56s  \\\n",
       "0    11_FinalDeliverables\\07_SeabedType\\03_GrabSamp...  393726.239074   \n",
       "50   11_FinalDeliverables\\07_SeabedType\\03_GrabSamp...  398829.668740   \n",
       "100  11_FinalDeliverables\\07_SeabedType\\03_GrabSamp...  405634.567701   \n",
       "160  11_FinalDeliverables\\07_SeabedType\\03_GrabSamp...  393726.792168   \n",
       "\n",
       "         n_utm56s                                              SHAPE  \n",
       "0    6.358397e+06  {\"spatialReference\": {\"wkid\": 4326}, \"x\": 151....  \n",
       "50   6.360100e+06  {\"spatialReference\": {\"wkid\": 4326}, \"x\": 151....  \n",
       "100  6.356705e+06  {\"spatialReference\": {\"wkid\": 4326}, \"x\": 151....  \n",
       "160  6.341400e+06  {\"spatialReference\": {\"wkid\": 4326}, \"x\": 151....  \n",
       "\n",
       "[4 rows x 24 columns]"
      ]
     },
     "execution_count": 17,
     "metadata": {},
     "output_type": "execute_result"
    }
   ],
   "source": [
    "sdf = pd.DataFrame.spatial.from_xy(df=df,\n",
    "                                    x_column='lon',\n",
    "                                    y_column='lat',\n",
    "                                    sr=4326)\n",
    "sdf.iloc[[0,50,100,-1]]"
   ]
  },
  {
   "cell_type": "code",
   "execution_count": 18,
   "metadata": {},
   "outputs": [
    {
     "data": {
      "text/html": [
       "<div>\n",
       "<style scoped>\n",
       "    .dataframe tbody tr th:only-of-type {\n",
       "        vertical-align: middle;\n",
       "    }\n",
       "\n",
       "    .dataframe tbody tr th {\n",
       "        vertical-align: top;\n",
       "    }\n",
       "\n",
       "    .dataframe thead th {\n",
       "        text-align: right;\n",
       "    }\n",
       "</style>\n",
       "<table border=\"1\" class=\"dataframe\">\n",
       "  <thead>\n",
       "    <tr style=\"text-align: right;\">\n",
       "      <th></th>\n",
       "      <th>sample_id</th>\n",
       "      <th>date_utc</th>\n",
       "      <th>depth</th>\n",
       "      <th>file_name</th>\n",
       "      <th>class</th>\n",
       "    </tr>\n",
       "  </thead>\n",
       "  <tbody>\n",
       "    <tr>\n",
       "      <th>10</th>\n",
       "      <td>25</td>\n",
       "      <td>4/01/2021</td>\n",
       "      <td>32.0</td>\n",
       "      <td>20210104_025_2</td>\n",
       "      <td>Coarse sediment</td>\n",
       "    </tr>\n",
       "    <tr>\n",
       "      <th>11</th>\n",
       "      <td>26</td>\n",
       "      <td>4/01/2021</td>\n",
       "      <td>34.0</td>\n",
       "      <td>20210104_026_2</td>\n",
       "      <td>Coarse sediment</td>\n",
       "    </tr>\n",
       "    <tr>\n",
       "      <th>12</th>\n",
       "      <td>27</td>\n",
       "      <td>4/01/2021</td>\n",
       "      <td>34.0</td>\n",
       "      <td>20210104_027_2</td>\n",
       "      <td>Coarse sediment</td>\n",
       "    </tr>\n",
       "    <tr>\n",
       "      <th>13</th>\n",
       "      <td>13</td>\n",
       "      <td>4/01/2021</td>\n",
       "      <td>27.0</td>\n",
       "      <td>20210104_013_2</td>\n",
       "      <td>Coarse sediment</td>\n",
       "    </tr>\n",
       "    <tr>\n",
       "      <th>14</th>\n",
       "      <td>14</td>\n",
       "      <td>4/01/2021</td>\n",
       "      <td>30.0</td>\n",
       "      <td>20210104_014_2</td>\n",
       "      <td>Coarse sediment</td>\n",
       "    </tr>\n",
       "    <tr>\n",
       "      <th>15</th>\n",
       "      <td>15</td>\n",
       "      <td>4/01/2021</td>\n",
       "      <td>30.0</td>\n",
       "      <td>20210104_015_2</td>\n",
       "      <td>Coarse sediment</td>\n",
       "    </tr>\n",
       "    <tr>\n",
       "      <th>16</th>\n",
       "      <td>16</td>\n",
       "      <td>4/01/2021</td>\n",
       "      <td>30.0</td>\n",
       "      <td>20210104_016_2</td>\n",
       "      <td>Coarse sediment</td>\n",
       "    </tr>\n",
       "    <tr>\n",
       "      <th>17</th>\n",
       "      <td>5</td>\n",
       "      <td>4/01/2021</td>\n",
       "      <td>28.0</td>\n",
       "      <td>20210104_05_2</td>\n",
       "      <td>Sand and muddy sand</td>\n",
       "    </tr>\n",
       "    <tr>\n",
       "      <th>18</th>\n",
       "      <td>6</td>\n",
       "      <td>4/01/2021</td>\n",
       "      <td>29.0</td>\n",
       "      <td>20210104_06_2</td>\n",
       "      <td>Mixed sediments</td>\n",
       "    </tr>\n",
       "    <tr>\n",
       "      <th>19</th>\n",
       "      <td>7</td>\n",
       "      <td>4/01/2021</td>\n",
       "      <td>31.0</td>\n",
       "      <td>20210104_07_2</td>\n",
       "      <td>Coarse sediment</td>\n",
       "    </tr>\n",
       "  </tbody>\n",
       "</table>\n",
       "</div>"
      ],
      "text/plain": [
       "    sample_id   date_utc  depth       file_name                class\n",
       "10         25  4/01/2021   32.0  20210104_025_2      Coarse sediment\n",
       "11         26  4/01/2021   34.0  20210104_026_2      Coarse sediment\n",
       "12         27  4/01/2021   34.0  20210104_027_2      Coarse sediment\n",
       "13         13  4/01/2021   27.0  20210104_013_2      Coarse sediment\n",
       "14         14  4/01/2021   30.0  20210104_014_2      Coarse sediment\n",
       "15         15  4/01/2021   30.0  20210104_015_2      Coarse sediment\n",
       "16         16  4/01/2021   30.0  20210104_016_2      Coarse sediment\n",
       "17          5  4/01/2021   28.0   20210104_05_2  Sand and muddy sand\n",
       "18          6  4/01/2021   29.0   20210104_06_2      Mixed sediments\n",
       "19          7  4/01/2021   31.0   20210104_07_2      Coarse sediment"
      ]
     },
     "execution_count": 18,
     "metadata": {},
     "output_type": "execute_result"
    }
   ],
   "source": [
    "df.loc[10:19][['sample_id', 'date_utc', 'depth', 'file_name', 'class']]"
   ]
  },
  {
   "cell_type": "markdown",
   "metadata": {},
   "source": [
    "##### Project from WGS84 to UTM56S"
   ]
  },
  {
   "cell_type": "code",
   "execution_count": 19,
   "metadata": {},
   "outputs": [
    {
     "data": {
      "text/plain": [
       "0    {\"spatialReference\": {\"wkid\": 4326}, \"x\": 151....\n",
       "1    {\"spatialReference\": {\"wkid\": 4326}, \"x\": 151....\n",
       "2    {\"spatialReference\": {\"wkid\": 4326}, \"x\": 151....\n",
       "3    {\"spatialReference\": {\"wkid\": 4326}, \"x\": 151....\n",
       "4    {\"spatialReference\": {\"wkid\": 4326}, \"x\": 151....\n",
       "Name: SHAPE, dtype: geometry"
      ]
     },
     "execution_count": 19,
     "metadata": {},
     "output_type": "execute_result"
    }
   ],
   "source": [
    "sdf.SHAPE.head()"
   ]
  },
  {
   "cell_type": "code",
   "execution_count": 20,
   "metadata": {},
   "outputs": [
    {
     "data": {
      "text/plain": [
       "{'wkid': 4326}"
      ]
     },
     "execution_count": 20,
     "metadata": {},
     "output_type": "execute_result"
    }
   ],
   "source": [
    "sdf.spatial.sr"
   ]
  },
  {
   "cell_type": "code",
   "execution_count": 21,
   "metadata": {},
   "outputs": [
    {
     "data": {
      "text/plain": [
       "{'wkid': 32756, 'latestWkid': 32756}"
      ]
     },
     "execution_count": 21,
     "metadata": {},
     "output_type": "execute_result"
    }
   ],
   "source": [
    "#project to 32756 UTM56S\n",
    "sdf.spatial.project(32756)\n",
    "sdf.spatial.sr"
   ]
  },
  {
   "cell_type": "code",
   "execution_count": 22,
   "metadata": {},
   "outputs": [
    {
     "data": {
      "text/plain": [
       "(385219.55732350814, 6341400.26318385, 422623.8956221083, 6370298.282672904)"
      ]
     },
     "execution_count": 22,
     "metadata": {},
     "output_type": "execute_result"
    }
   ],
   "source": [
    "sdf.spatial.full_extent"
   ]
  },
  {
   "cell_type": "markdown",
   "metadata": {},
   "source": [
    "#### 1e visual check with spatial df"
   ]
  },
  {
   "cell_type": "code",
   "execution_count": 23,
   "metadata": {},
   "outputs": [
    {
     "name": "stderr",
     "output_type": "stream",
     "text": [
      "Profile your_online_profile does not have a password on file through keyring. If you are expecting this behavior (PKI or IWA authentication, entering password through run-time prompt, etc.), please ignore this message. If you would like to store your password in the your_online_profile profile, run GIS(profile = 'your_online_profile', password = ...). See the API doc for more details. (http://bit.ly/2CK2wG8)\n"
     ]
    },
    {
     "data": {
      "application/vnd.jupyter.widget-view+json": {
       "model_id": "39f13aa602354b82b04e3a5535c75961",
       "version_major": 2,
       "version_minor": 0
      },
      "text/plain": [
       "MapView(layout=Layout(height='400px', width='100%'), legend=True)"
      ]
     },
     "metadata": {},
     "output_type": "display_data"
    },
    {
     "data": {
      "text/html": [
       "<div class=\"map-static-img-preview-718529a8-058d-42f2-9801-060373a6debf\"><img src=\"\"></img></div>"
      ],
      "text/plain": [
       "<IPython.core.display.HTML object>"
      ]
     },
     "metadata": {},
     "output_type": "display_data"
    },
    {
     "data": {
      "text/html": [
       "<div class=\"map-html-embed-preview-718529a8-058d-42f2-9801-060373a6debf\"></div>"
      ],
      "text/plain": [
       "<IPython.core.display.HTML object>"
      ]
     },
     "metadata": {},
     "output_type": "display_data"
    }
   ],
   "source": [
    "from arcgis.mapping import show_styles, display_colormaps\n",
    "from arcgis.gis import GIS\n",
    "gis = GIS(profile='your_online_profile',verify_cert=False)\n",
    "m_class = GIS().map(zoomlevel=10.5)\n",
    "m_class.center=[sdf.lat.mean(),sdf.lon.mean()]\n",
    "m_class.legend = True\n",
    "m_class\n"
   ]
  },
  {
   "cell_type": "code",
   "execution_count": 28,
   "metadata": {},
   "outputs": [
    {
     "data": {
      "text/plain": [
       "True"
      ]
     },
     "execution_count": 28,
     "metadata": {},
     "output_type": "execute_result"
    }
   ],
   "source": [
    "sdf.spatial.plot(map_widget=m_class,\n",
    "                 col='class',\n",
    "                 renderer_type = 'u',\n",
    "                 symbol_style='d',\n",
    "                 marker_size=10,\n",
    "                 symbol_type='simple'\n",
    "                )"
   ]
  },
  {
   "cell_type": "markdown",
   "metadata": {
    "heading_collapsed": true
   },
   "source": [
    "#### 1e export 2 shp file - not work"
   ]
  },
  {
   "cell_type": "code",
   "execution_count": null,
   "metadata": {
    "hidden": true
   },
   "outputs": [],
   "source": [
    "out_shp = r'E:\\HIPP\\11_Deliverables\\03_Bathymetry\\08_SeabedTexture_And_AncillaryLayers\\SI1001SamplesUTM56Ssdf2shp.shp'\n",
    "sdf.spatial.to_featureclass(out_shp)"
   ]
  },
  {
   "cell_type": "code",
   "execution_count": null,
   "metadata": {
    "hidden": true
   },
   "outputs": [],
   "source": [
    "os.listdir('E:\\\\HIPP\\\\11_Deliverables\\\\03_Bathymetry\\\\08_SeabedTexture_And_AncillaryLayers')"
   ]
  },
  {
   "cell_type": "code",
   "execution_count": null,
   "metadata": {
    "hidden": true
   },
   "outputs": [],
   "source": [
    "#read in again to check\n",
    "sdf2 = pd.DataFrame.spatial.from_featureclass(out_shp)\n",
    "sdf2.iloc[[0,50,100,-1]]"
   ]
  },
  {
   "cell_type": "code",
   "execution_count": null,
   "metadata": {
    "hidden": true
   },
   "outputs": [],
   "source": [
    "m2 = GIS().map(zoomlevel=10.5)\n",
    "m2.center=[sdf2.lat.mean(),sdf.lon.mean()]\n",
    "m2.legend = True\n",
    "m2"
   ]
  },
  {
   "cell_type": "code",
   "execution_count": null,
   "metadata": {
    "hidden": true
   },
   "outputs": [],
   "source": [
    "sdf2.spatial.plot(map_widget=m2,\n",
    "                 col='class',\n",
    "                 renderer_type = 'u',\n",
    "                 symbol_style='d',\n",
    "                 marker_size=10,\n",
    "                 symbol_type='simple'\n",
    "                )"
   ]
  },
  {
   "cell_type": "markdown",
   "metadata": {},
   "source": [
    "#### Export to csv - using normal pandas"
   ]
  },
  {
   "cell_type": "raw",
   "metadata": {},
   "source": [
    "out_csv = r'E:\\HIPP\\11_Deliverables\\03_Bathymetry\\08_SeabedTexture_And_AncillaryLayers\\SI1001_Samples_UTM56S.csv'\n",
    "sdf.spatial.to_table(out_csv)"
   ]
  },
  {
   "cell_type": "code",
   "execution_count": 42,
   "metadata": {},
   "outputs": [
    {
     "data": {
      "text/html": [
       "<div>\n",
       "<style scoped>\n",
       "    .dataframe tbody tr th:only-of-type {\n",
       "        vertical-align: middle;\n",
       "    }\n",
       "\n",
       "    .dataframe tbody tr th {\n",
       "        vertical-align: top;\n",
       "    }\n",
       "\n",
       "    .dataframe thead th {\n",
       "        text-align: right;\n",
       "    }\n",
       "</style>\n",
       "<table border=\"1\" class=\"dataframe\">\n",
       "  <thead>\n",
       "    <tr style=\"text-align: right;\">\n",
       "      <th></th>\n",
       "      <th>sample_id</th>\n",
       "      <th>date_utc</th>\n",
       "      <th>time_utc</th>\n",
       "      <th>lat</th>\n",
       "      <th>lon</th>\n",
       "      <th>depth</th>\n",
       "      <th>method</th>\n",
       "      <th>recovery</th>\n",
       "      <th>weight</th>\n",
       "      <th>name</th>\n",
       "      <th>...</th>\n",
       "      <th>file_name</th>\n",
       "      <th>sample_held</th>\n",
       "      <th>obs_sig</th>\n",
       "      <th>anoxic_sediments</th>\n",
       "      <th>comments</th>\n",
       "      <th>sample</th>\n",
       "      <th>url</th>\n",
       "      <th>e_utm56s</th>\n",
       "      <th>n_utm56s</th>\n",
       "      <th>SHAPE</th>\n",
       "    </tr>\n",
       "  </thead>\n",
       "  <tbody>\n",
       "    <tr>\n",
       "      <th>0</th>\n",
       "      <td>77</td>\n",
       "      <td>4/01/2021</td>\n",
       "      <td>00:52</td>\n",
       "      <td>-32.907482</td>\n",
       "      <td>151.863574</td>\n",
       "      <td>30.0</td>\n",
       "      <td>0.0</td>\n",
       "      <td>90</td>\n",
       "      <td>-</td>\n",
       "      <td>20210104_077</td>\n",
       "      <td>...</td>\n",
       "      <td>20210104_077_2</td>\n",
       "      <td>N</td>\n",
       "      <td>BT</td>\n",
       "      <td>0.0</td>\n",
       "      <td>NaN</td>\n",
       "      <td>0.0</td>\n",
       "      <td>11_FinalDeliverables\\07_SeabedType\\03_GrabSamp...</td>\n",
       "      <td>393726.239074</td>\n",
       "      <td>6.358397e+06</td>\n",
       "      <td>{\"x\": 393726.23907391087, \"y\": 6358396.8790635...</td>\n",
       "    </tr>\n",
       "    <tr>\n",
       "      <th>1</th>\n",
       "      <td>78</td>\n",
       "      <td>4/01/2021</td>\n",
       "      <td>01:27</td>\n",
       "      <td>-32.907612</td>\n",
       "      <td>151.881709</td>\n",
       "      <td>31.0</td>\n",
       "      <td>0.0</td>\n",
       "      <td>90</td>\n",
       "      <td>NaN</td>\n",
       "      <td>20210104_078</td>\n",
       "      <td>...</td>\n",
       "      <td>20210104_078_2</td>\n",
       "      <td>N</td>\n",
       "      <td>BT</td>\n",
       "      <td>0.0</td>\n",
       "      <td>NaN</td>\n",
       "      <td>0.0</td>\n",
       "      <td>11_FinalDeliverables\\07_SeabedType\\03_GrabSamp...</td>\n",
       "      <td>395422.468960</td>\n",
       "      <td>6.358401e+06</td>\n",
       "      <td>{\"x\": 395422.468960232, \"y\": 6358400.674685201...</td>\n",
       "    </tr>\n",
       "    <tr>\n",
       "      <th>2</th>\n",
       "      <td>65</td>\n",
       "      <td>4/01/2021</td>\n",
       "      <td>01:51</td>\n",
       "      <td>-32.892214</td>\n",
       "      <td>151.882094</td>\n",
       "      <td>29.0</td>\n",
       "      <td>0.0</td>\n",
       "      <td>90</td>\n",
       "      <td>NaN</td>\n",
       "      <td>20210104_065</td>\n",
       "      <td>...</td>\n",
       "      <td>20210104_065_2</td>\n",
       "      <td>N</td>\n",
       "      <td>BT</td>\n",
       "      <td>0.0</td>\n",
       "      <td>NaN</td>\n",
       "      <td>0.0</td>\n",
       "      <td>11_FinalDeliverables\\07_SeabedType\\03_GrabSamp...</td>\n",
       "      <td>395440.324171</td>\n",
       "      <td>6.360108e+06</td>\n",
       "      <td>{\"x\": 395440.32417072885, \"y\": 6360108.1554503...</td>\n",
       "    </tr>\n",
       "    <tr>\n",
       "      <th>3</th>\n",
       "      <td>66</td>\n",
       "      <td>4/01/2021</td>\n",
       "      <td>02:13</td>\n",
       "      <td>-32.892475</td>\n",
       "      <td>151.900388</td>\n",
       "      <td>26.0</td>\n",
       "      <td>0.0</td>\n",
       "      <td>80</td>\n",
       "      <td>NaN</td>\n",
       "      <td>20210104_066</td>\n",
       "      <td>...</td>\n",
       "      <td>20210104_066_2</td>\n",
       "      <td>N</td>\n",
       "      <td>BT</td>\n",
       "      <td>0.0</td>\n",
       "      <td>NaN</td>\n",
       "      <td>0.0</td>\n",
       "      <td>11_FinalDeliverables\\07_SeabedType\\03_GrabSamp...</td>\n",
       "      <td>397151.824079</td>\n",
       "      <td>6.360097e+06</td>\n",
       "      <td>{\"x\": 397151.82407888974, \"y\": 6360097.1934747...</td>\n",
       "    </tr>\n",
       "    <tr>\n",
       "      <th>4</th>\n",
       "      <td>52</td>\n",
       "      <td>4/01/2021</td>\n",
       "      <td>02:24</td>\n",
       "      <td>-32.877213</td>\n",
       "      <td>151.900391</td>\n",
       "      <td>30.0</td>\n",
       "      <td>0.0</td>\n",
       "      <td>80</td>\n",
       "      <td>NaN</td>\n",
       "      <td>20210104_052</td>\n",
       "      <td>...</td>\n",
       "      <td>20210104_052_2</td>\n",
       "      <td>N</td>\n",
       "      <td>BT</td>\n",
       "      <td>0.0</td>\n",
       "      <td>NaN</td>\n",
       "      <td>0.0</td>\n",
       "      <td>11_FinalDeliverables\\07_SeabedType\\03_GrabSamp...</td>\n",
       "      <td>397134.423067</td>\n",
       "      <td>6.361789e+06</td>\n",
       "      <td>{\"x\": 397134.4230672068, \"y\": 6361789.26253209...</td>\n",
       "    </tr>\n",
       "    <tr>\n",
       "      <th>...</th>\n",
       "      <td>...</td>\n",
       "      <td>...</td>\n",
       "      <td>...</td>\n",
       "      <td>...</td>\n",
       "      <td>...</td>\n",
       "      <td>...</td>\n",
       "      <td>...</td>\n",
       "      <td>...</td>\n",
       "      <td>...</td>\n",
       "      <td>...</td>\n",
       "      <td>...</td>\n",
       "      <td>...</td>\n",
       "      <td>...</td>\n",
       "      <td>...</td>\n",
       "      <td>...</td>\n",
       "      <td>...</td>\n",
       "      <td>...</td>\n",
       "      <td>...</td>\n",
       "      <td>...</td>\n",
       "      <td>...</td>\n",
       "      <td>...</td>\n",
       "    </tr>\n",
       "    <tr>\n",
       "      <th>156</th>\n",
       "      <td>155</td>\n",
       "      <td>10/01/2021</td>\n",
       "      <td>15:25</td>\n",
       "      <td>-33.029942</td>\n",
       "      <td>151.843741</td>\n",
       "      <td>88.0</td>\n",
       "      <td>0.0</td>\n",
       "      <td>90</td>\n",
       "      <td>NaN</td>\n",
       "      <td>20210110_155</td>\n",
       "      <td>...</td>\n",
       "      <td>20210110_155_2</td>\n",
       "      <td>N</td>\n",
       "      <td>NS</td>\n",
       "      <td>0.0</td>\n",
       "      <td>NaN</td>\n",
       "      <td>0.0</td>\n",
       "      <td>11_FinalDeliverables\\07_SeabedType\\03_GrabSamp...</td>\n",
       "      <td>392020.582771</td>\n",
       "      <td>6.344800e+06</td>\n",
       "      <td>{\"x\": 392020.5827712227, \"y\": 6344799.78984059...</td>\n",
       "    </tr>\n",
       "    <tr>\n",
       "      <th>157</th>\n",
       "      <td>154</td>\n",
       "      <td>10/01/2021</td>\n",
       "      <td>15:47</td>\n",
       "      <td>-33.029774</td>\n",
       "      <td>151.825591</td>\n",
       "      <td>78.0</td>\n",
       "      <td>0.0</td>\n",
       "      <td>90</td>\n",
       "      <td>NaN</td>\n",
       "      <td>20210110_154</td>\n",
       "      <td>...</td>\n",
       "      <td>20210110_154_2</td>\n",
       "      <td>N</td>\n",
       "      <td>NS</td>\n",
       "      <td>0.0</td>\n",
       "      <td>NaN</td>\n",
       "      <td>0.0</td>\n",
       "      <td>11_FinalDeliverables\\07_SeabedType\\03_GrabSamp...</td>\n",
       "      <td>390325.344108</td>\n",
       "      <td>6.344800e+06</td>\n",
       "      <td>{\"x\": 390325.34410816996, \"y\": 6344799.6229349...</td>\n",
       "    </tr>\n",
       "    <tr>\n",
       "      <th>158</th>\n",
       "      <td>158</td>\n",
       "      <td>10/01/2021</td>\n",
       "      <td>16:11</td>\n",
       "      <td>-33.045279</td>\n",
       "      <td>151.843580</td>\n",
       "      <td>91.0</td>\n",
       "      <td>0.0</td>\n",
       "      <td>90</td>\n",
       "      <td>NaN</td>\n",
       "      <td>20210110_158</td>\n",
       "      <td>...</td>\n",
       "      <td>20210110_158_2</td>\n",
       "      <td>N</td>\n",
       "      <td>NS</td>\n",
       "      <td>0.0</td>\n",
       "      <td>NaN</td>\n",
       "      <td>0.0</td>\n",
       "      <td>11_FinalDeliverables\\07_SeabedType\\03_GrabSamp...</td>\n",
       "      <td>392024.307756</td>\n",
       "      <td>6.343099e+06</td>\n",
       "      <td>{\"x\": 392024.3077561088, \"y\": 6343099.12642756...</td>\n",
       "    </tr>\n",
       "    <tr>\n",
       "      <th>159</th>\n",
       "      <td>159</td>\n",
       "      <td>10/01/2021</td>\n",
       "      <td>16:39</td>\n",
       "      <td>-33.045444</td>\n",
       "      <td>151.861780</td>\n",
       "      <td>98.0</td>\n",
       "      <td>0.0</td>\n",
       "      <td>90</td>\n",
       "      <td>NaN</td>\n",
       "      <td>20210110_159</td>\n",
       "      <td>...</td>\n",
       "      <td>20210110_159_2</td>\n",
       "      <td>N</td>\n",
       "      <td>NS</td>\n",
       "      <td>0.0</td>\n",
       "      <td>NaN</td>\n",
       "      <td>0.0</td>\n",
       "      <td>11_FinalDeliverables\\07_SeabedType\\03_GrabSamp...</td>\n",
       "      <td>393723.944475</td>\n",
       "      <td>6.343099e+06</td>\n",
       "      <td>{\"x\": 393723.944475151, \"y\": 6343099.382272849...</td>\n",
       "    </tr>\n",
       "    <tr>\n",
       "      <th>160</th>\n",
       "      <td>160</td>\n",
       "      <td>10/01/2021</td>\n",
       "      <td>17:04</td>\n",
       "      <td>-33.060768</td>\n",
       "      <td>151.861614</td>\n",
       "      <td>104.0</td>\n",
       "      <td>0.0</td>\n",
       "      <td>90</td>\n",
       "      <td>NaN</td>\n",
       "      <td>20210110_160</td>\n",
       "      <td>...</td>\n",
       "      <td>20210110_160_2</td>\n",
       "      <td>N</td>\n",
       "      <td>NS</td>\n",
       "      <td>0.0</td>\n",
       "      <td>NaN</td>\n",
       "      <td>0.0</td>\n",
       "      <td>11_FinalDeliverables\\07_SeabedType\\03_GrabSamp...</td>\n",
       "      <td>393726.792168</td>\n",
       "      <td>6.341400e+06</td>\n",
       "      <td>{\"x\": 393726.79216775665, \"y\": 6341400.2631838...</td>\n",
       "    </tr>\n",
       "  </tbody>\n",
       "</table>\n",
       "<p>161 rows × 24 columns</p>\n",
       "</div>"
      ],
      "text/plain": [
       "     sample_id    date_utc time_utc        lat         lon  depth  method  \\\n",
       "0           77   4/01/2021    00:52 -32.907482  151.863574   30.0     0.0   \n",
       "1           78   4/01/2021    01:27 -32.907612  151.881709   31.0     0.0   \n",
       "2           65   4/01/2021    01:51 -32.892214  151.882094   29.0     0.0   \n",
       "3           66   4/01/2021    02:13 -32.892475  151.900388   26.0     0.0   \n",
       "4           52   4/01/2021    02:24 -32.877213  151.900391   30.0     0.0   \n",
       "..         ...         ...      ...        ...         ...    ...     ...   \n",
       "156        155  10/01/2021    15:25 -33.029942  151.843741   88.0     0.0   \n",
       "157        154  10/01/2021    15:47 -33.029774  151.825591   78.0     0.0   \n",
       "158        158  10/01/2021    16:11 -33.045279  151.843580   91.0     0.0   \n",
       "159        159  10/01/2021    16:39 -33.045444  151.861780   98.0     0.0   \n",
       "160        160  10/01/2021    17:04 -33.060768  151.861614  104.0     0.0   \n",
       "\n",
       "     recovery weight          name  ...       file_name sample_held obs_sig  \\\n",
       "0          90      -  20210104_077  ...  20210104_077_2           N      BT   \n",
       "1          90    NaN  20210104_078  ...  20210104_078_2           N      BT   \n",
       "2          90    NaN  20210104_065  ...  20210104_065_2           N      BT   \n",
       "3          80    NaN  20210104_066  ...  20210104_066_2           N      BT   \n",
       "4          80    NaN  20210104_052  ...  20210104_052_2           N      BT   \n",
       "..        ...    ...           ...  ...             ...         ...     ...   \n",
       "156        90    NaN  20210110_155  ...  20210110_155_2           N      NS   \n",
       "157        90    NaN  20210110_154  ...  20210110_154_2           N      NS   \n",
       "158        90    NaN  20210110_158  ...  20210110_158_2           N      NS   \n",
       "159        90    NaN  20210110_159  ...  20210110_159_2           N      NS   \n",
       "160        90    NaN  20210110_160  ...  20210110_160_2           N      NS   \n",
       "\n",
       "    anoxic_sediments comments sample  \\\n",
       "0                0.0      NaN    0.0   \n",
       "1                0.0      NaN    0.0   \n",
       "2                0.0      NaN    0.0   \n",
       "3                0.0      NaN    0.0   \n",
       "4                0.0      NaN    0.0   \n",
       "..               ...      ...    ...   \n",
       "156              0.0      NaN    0.0   \n",
       "157              0.0      NaN    0.0   \n",
       "158              0.0      NaN    0.0   \n",
       "159              0.0      NaN    0.0   \n",
       "160              0.0      NaN    0.0   \n",
       "\n",
       "                                                   url       e_utm56s  \\\n",
       "0    11_FinalDeliverables\\07_SeabedType\\03_GrabSamp...  393726.239074   \n",
       "1    11_FinalDeliverables\\07_SeabedType\\03_GrabSamp...  395422.468960   \n",
       "2    11_FinalDeliverables\\07_SeabedType\\03_GrabSamp...  395440.324171   \n",
       "3    11_FinalDeliverables\\07_SeabedType\\03_GrabSamp...  397151.824079   \n",
       "4    11_FinalDeliverables\\07_SeabedType\\03_GrabSamp...  397134.423067   \n",
       "..                                                 ...            ...   \n",
       "156  11_FinalDeliverables\\07_SeabedType\\03_GrabSamp...  392020.582771   \n",
       "157  11_FinalDeliverables\\07_SeabedType\\03_GrabSamp...  390325.344108   \n",
       "158  11_FinalDeliverables\\07_SeabedType\\03_GrabSamp...  392024.307756   \n",
       "159  11_FinalDeliverables\\07_SeabedType\\03_GrabSamp...  393723.944475   \n",
       "160  11_FinalDeliverables\\07_SeabedType\\03_GrabSamp...  393726.792168   \n",
       "\n",
       "         n_utm56s                                              SHAPE  \n",
       "0    6.358397e+06  {\"x\": 393726.23907391087, \"y\": 6358396.8790635...  \n",
       "1    6.358401e+06  {\"x\": 395422.468960232, \"y\": 6358400.674685201...  \n",
       "2    6.360108e+06  {\"x\": 395440.32417072885, \"y\": 6360108.1554503...  \n",
       "3    6.360097e+06  {\"x\": 397151.82407888974, \"y\": 6360097.1934747...  \n",
       "4    6.361789e+06  {\"x\": 397134.4230672068, \"y\": 6361789.26253209...  \n",
       "..            ...                                                ...  \n",
       "156  6.344800e+06  {\"x\": 392020.5827712227, \"y\": 6344799.78984059...  \n",
       "157  6.344800e+06  {\"x\": 390325.34410816996, \"y\": 6344799.6229349...  \n",
       "158  6.343099e+06  {\"x\": 392024.3077561088, \"y\": 6343099.12642756...  \n",
       "159  6.343099e+06  {\"x\": 393723.944475151, \"y\": 6343099.382272849...  \n",
       "160  6.341400e+06  {\"x\": 393726.79216775665, \"y\": 6341400.2631838...  \n",
       "\n",
       "[161 rows x 24 columns]"
      ]
     },
     "execution_count": 42,
     "metadata": {},
     "output_type": "execute_result"
    }
   ],
   "source": [
    "#use pandas with no index\n",
    "# df = df.drop(['SHAPE'])\n",
    "out_csv = r'E:\\HIPP\\11_Deliverables\\03_Bathymetry\\08_SeabedTexture_And_AncillaryLayers\\SI1001_Samples.csv'\n",
    "df.to_csv(out_csv,index=False)\n",
    "df"
   ]
  },
  {
   "cell_type": "markdown",
   "metadata": {},
   "source": [
    "### Step 2: using XYTableToPoint to convert csv file into ESRI shp format"
   ]
  },
  {
   "cell_type": "code",
   "execution_count": 48,
   "metadata": {},
   "outputs": [
    {
     "name": "stdout",
     "output_type": "stream",
     "text": [
      "161\n"
     ]
    }
   ],
   "source": [
    "import arcpy\n",
    "arcpy.env.overwriteOutput = True\n",
    "#csv2shp_UTM56S\n",
    "arcpy.env.workspace = r\"E:\\HIPP\\11_Deliverables\\03_Bathymetry\\08_SeabedTexture_And_AncillaryLayers\"\n",
    "in_table = r\"SI1001_Samples.csv\"\n",
    "in_table = out_csv\n",
    "out_feature_class = \"SI1001_Samples_UTM56S_SSDM.shp\"\n",
    "x_coords = \"e_utm56s\"\n",
    "y_coords = \"n_utm56s\"\n",
    "z_coords = None\n",
    "sr_wgs84 = arcpy.SpatialReference(32756) #CRS: UTM56S 32756\n",
    "try: arcpy.management.XYTableToPoint(in_table, out_feature_class,\n",
    "                                x_coords, y_coords, z_coords,\n",
    "                                sr_wgs84)\n",
    "except Exception as e: print(e)\n",
    "\n",
    "# Print the total rows\n",
    "print(arcpy.GetCount_management(out_feature_class))"
   ]
  },
  {
   "cell_type": "code",
   "execution_count": 49,
   "metadata": {
    "scrolled": false
   },
   "outputs": [
    {
     "name": "stderr",
     "output_type": "stream",
     "text": [
      "Profile your_online_profile does not have a password on file through keyring. If you are expecting this behavior (PKI or IWA authentication, entering password through run-time prompt, etc.), please ignore this message. If you would like to store your password in the your_online_profile profile, run GIS(profile = 'your_online_profile', password = ...). See the API doc for more details. (http://bit.ly/2CK2wG8)\n"
     ]
    },
    {
     "data": {
      "application/vnd.jupyter.widget-view+json": {
       "model_id": "9a67d1352ae3465b832659d755ecead1",
       "version_major": 2,
       "version_minor": 0
      },
      "text/plain": [
       "MapView(layout=Layout(height='400px', width='100%'), legend=True)"
      ]
     },
     "metadata": {},
     "output_type": "display_data"
    },
    {
     "data": {
      "text/html": [
       "<div class=\"map-static-img-preview-69de502a-61d1-4704-afea-aa8c7005c6a2\"><img src=\"\"></img></div>"
      ],
      "text/plain": [
       "<IPython.core.display.HTML object>"
      ]
     },
     "metadata": {},
     "output_type": "display_data"
    },
    {
     "data": {
      "text/html": [
       "<div class=\"map-html-embed-preview-69de502a-61d1-4704-afea-aa8c7005c6a2\"></div>"
      ],
      "text/plain": [
       "<IPython.core.display.HTML object>"
      ]
     },
     "metadata": {},
     "output_type": "display_data"
    }
   ],
   "source": [
    "#readin using sdf to test the table and geometry\n",
    "arcpy.env.workspace = r\"E:\\HIPP\\11_Deliverables\\03_Bathymetry\\08_SeabedTexture_And_AncillaryLayers\"\n",
    "sdf_test = pd.DataFrame.spatial.from_featureclass(out_feature_class)\n",
    "\n",
    "\n",
    "from arcgis.mapping import show_styles, display_colormaps\n",
    "from arcgis.gis import GIS\n",
    "gis = GIS(profile='your_online_profile',verify_cert=False)\n",
    "m2 = GIS().map(zoomlevel=10.5)\n",
    "m2.center=[sdf_test.lat.mean(),sdf_test.lon.mean()]\n",
    "m2.legend = True\n",
    "m2\n"
   ]
  },
  {
   "cell_type": "code",
   "execution_count": 50,
   "metadata": {},
   "outputs": [
    {
     "data": {
      "text/html": [
       "<div>\n",
       "<style scoped>\n",
       "    .dataframe tbody tr th:only-of-type {\n",
       "        vertical-align: middle;\n",
       "    }\n",
       "\n",
       "    .dataframe tbody tr th {\n",
       "        vertical-align: top;\n",
       "    }\n",
       "\n",
       "    .dataframe thead th {\n",
       "        text-align: right;\n",
       "    }\n",
       "</style>\n",
       "<table border=\"1\" class=\"dataframe\">\n",
       "  <thead>\n",
       "    <tr style=\"text-align: right;\">\n",
       "      <th></th>\n",
       "      <th>FID</th>\n",
       "      <th>sample_id</th>\n",
       "      <th>date_utc</th>\n",
       "      <th>time_utc</th>\n",
       "      <th>lat</th>\n",
       "      <th>lon</th>\n",
       "      <th>depth</th>\n",
       "      <th>method</th>\n",
       "      <th>recovery</th>\n",
       "      <th>weight</th>\n",
       "      <th>...</th>\n",
       "      <th>sample_hel</th>\n",
       "      <th>obs_sig</th>\n",
       "      <th>anoxic_sed</th>\n",
       "      <th>comments</th>\n",
       "      <th>sample</th>\n",
       "      <th>url</th>\n",
       "      <th>e_utm56s</th>\n",
       "      <th>n_utm56s</th>\n",
       "      <th>SHAPE_1</th>\n",
       "      <th>SHAPE</th>\n",
       "    </tr>\n",
       "  </thead>\n",
       "  <tbody>\n",
       "    <tr>\n",
       "      <th>0</th>\n",
       "      <td>0</td>\n",
       "      <td>77</td>\n",
       "      <td>2021-01-04</td>\n",
       "      <td>00:52</td>\n",
       "      <td>-32.907482</td>\n",
       "      <td>151.863574</td>\n",
       "      <td>30.0</td>\n",
       "      <td>0.0</td>\n",
       "      <td>90</td>\n",
       "      <td>-</td>\n",
       "      <td>...</td>\n",
       "      <td>N</td>\n",
       "      <td>BT</td>\n",
       "      <td>0.0</td>\n",
       "      <td></td>\n",
       "      <td>0.0</td>\n",
       "      <td>11_FinalDeliverables\\07_SeabedType\\03_GrabSamp...</td>\n",
       "      <td>393726.239074</td>\n",
       "      <td>6.358397e+06</td>\n",
       "      <td>{'x': 393726.23907391087, 'y': 6358396.8790635...</td>\n",
       "      <td>{\"x\": 393726.2390999999, \"y\": 6358396.8791, \"s...</td>\n",
       "    </tr>\n",
       "    <tr>\n",
       "      <th>160</th>\n",
       "      <td>160</td>\n",
       "      <td>160</td>\n",
       "      <td>2021-01-10</td>\n",
       "      <td>17:04</td>\n",
       "      <td>-33.060768</td>\n",
       "      <td>151.861614</td>\n",
       "      <td>104.0</td>\n",
       "      <td>0.0</td>\n",
       "      <td>90</td>\n",
       "      <td></td>\n",
       "      <td>...</td>\n",
       "      <td>N</td>\n",
       "      <td>NS</td>\n",
       "      <td>0.0</td>\n",
       "      <td></td>\n",
       "      <td>0.0</td>\n",
       "      <td>11_FinalDeliverables\\07_SeabedType\\03_GrabSamp...</td>\n",
       "      <td>393726.792168</td>\n",
       "      <td>6.341400e+06</td>\n",
       "      <td>{'x': 393726.79216775665, 'y': 6341400.2631838...</td>\n",
       "      <td>{\"x\": 393726.7922, \"y\": 6341400.2632, \"spatial...</td>\n",
       "    </tr>\n",
       "    <tr>\n",
       "      <th>50</th>\n",
       "      <td>50</td>\n",
       "      <td>67</td>\n",
       "      <td>2021-01-05</td>\n",
       "      <td>01:02</td>\n",
       "      <td>-32.892604</td>\n",
       "      <td>151.918325</td>\n",
       "      <td>37.0</td>\n",
       "      <td>0.0</td>\n",
       "      <td>80</td>\n",
       "      <td></td>\n",
       "      <td>...</td>\n",
       "      <td>N</td>\n",
       "      <td>BT</td>\n",
       "      <td>0.0</td>\n",
       "      <td></td>\n",
       "      <td>0.0</td>\n",
       "      <td>11_FinalDeliverables\\07_SeabedType\\03_GrabSamp...</td>\n",
       "      <td>398829.668740</td>\n",
       "      <td>6.360100e+06</td>\n",
       "      <td>{'x': 398829.6687401531, 'y': 6360100.23686837...</td>\n",
       "      <td>{\"x\": 398829.6687000003, \"y\": 6360100.2369, \"s...</td>\n",
       "    </tr>\n",
       "    <tr>\n",
       "      <th>100</th>\n",
       "      <td>100</td>\n",
       "      <td>96</td>\n",
       "      <td>2021-01-09</td>\n",
       "      <td>09:20</td>\n",
       "      <td>-32.923830</td>\n",
       "      <td>151.990723</td>\n",
       "      <td>88.0</td>\n",
       "      <td>0.0</td>\n",
       "      <td>80</td>\n",
       "      <td></td>\n",
       "      <td>...</td>\n",
       "      <td>N</td>\n",
       "      <td>BT</td>\n",
       "      <td>0.0</td>\n",
       "      <td></td>\n",
       "      <td>0.0</td>\n",
       "      <td>11_FinalDeliverables\\07_SeabedType\\03_GrabSamp...</td>\n",
       "      <td>405634.567701</td>\n",
       "      <td>6.356705e+06</td>\n",
       "      <td>{'x': 405634.567701295, 'y': 6356705.449867805...</td>\n",
       "      <td>{\"x\": 405634.56769999955, \"y\": 6356705.4499, \"...</td>\n",
       "    </tr>\n",
       "  </tbody>\n",
       "</table>\n",
       "<p>4 rows × 26 columns</p>\n",
       "</div>"
      ],
      "text/plain": [
       "     FID  sample_id   date_utc time_utc        lat         lon  depth  method  \\\n",
       "0      0         77 2021-01-04    00:52 -32.907482  151.863574   30.0     0.0   \n",
       "160  160        160 2021-01-10    17:04 -33.060768  151.861614  104.0     0.0   \n",
       "50    50         67 2021-01-05    01:02 -32.892604  151.918325   37.0     0.0   \n",
       "100  100         96 2021-01-09    09:20 -32.923830  151.990723   88.0     0.0   \n",
       "\n",
       "     recovery weight  ... sample_hel obs_sig anoxic_sed comments sample  \\\n",
       "0          90      -  ...          N      BT        0.0             0.0   \n",
       "160        90         ...          N      NS        0.0             0.0   \n",
       "50         80         ...          N      BT        0.0             0.0   \n",
       "100        80         ...          N      BT        0.0             0.0   \n",
       "\n",
       "                                                   url       e_utm56s  \\\n",
       "0    11_FinalDeliverables\\07_SeabedType\\03_GrabSamp...  393726.239074   \n",
       "160  11_FinalDeliverables\\07_SeabedType\\03_GrabSamp...  393726.792168   \n",
       "50   11_FinalDeliverables\\07_SeabedType\\03_GrabSamp...  398829.668740   \n",
       "100  11_FinalDeliverables\\07_SeabedType\\03_GrabSamp...  405634.567701   \n",
       "\n",
       "         n_utm56s                                            SHAPE_1  \\\n",
       "0    6.358397e+06  {'x': 393726.23907391087, 'y': 6358396.8790635...   \n",
       "160  6.341400e+06  {'x': 393726.79216775665, 'y': 6341400.2631838...   \n",
       "50   6.360100e+06  {'x': 398829.6687401531, 'y': 6360100.23686837...   \n",
       "100  6.356705e+06  {'x': 405634.567701295, 'y': 6356705.449867805...   \n",
       "\n",
       "                                                 SHAPE  \n",
       "0    {\"x\": 393726.2390999999, \"y\": 6358396.8791, \"s...  \n",
       "160  {\"x\": 393726.7922, \"y\": 6341400.2632, \"spatial...  \n",
       "50   {\"x\": 398829.6687000003, \"y\": 6360100.2369, \"s...  \n",
       "100  {\"x\": 405634.56769999955, \"y\": 6356705.4499, \"...  \n",
       "\n",
       "[4 rows x 26 columns]"
      ]
     },
     "execution_count": 50,
     "metadata": {},
     "output_type": "execute_result"
    }
   ],
   "source": [
    "sdf_test.spatial.plot(map_widget=m2,\n",
    "                 col='class',\n",
    "                 renderer_type = 'u',\n",
    "                 symbol_style='d',\n",
    "                 marker_size=10,\n",
    "                 symbol_type='simple',\n",
    "                 linewidth=0\n",
    "                )\n",
    "sdf_test.iloc[[0,-1,50,100]]"
   ]
  },
  {
   "cell_type": "code",
   "execution_count": 51,
   "metadata": {},
   "outputs": [
    {
     "name": "stdout",
     "output_type": "stream",
     "text": [
      "161\n"
     ]
    }
   ],
   "source": [
    "#csv2shp_WGS84\n",
    "# arcpy.env.workspace = r\"E:\\HIPP\\11_Deliverables\\03_Bathymetry\\05_SoundVelocityProfiles\\SVP_Raw\"\n",
    "in_table = r\"SI1001_Samples.csv\"\n",
    "in_table = out_csv\n",
    "out_feature_class = \"SI1001_Samples_WGS84_SSDM.shp\"\n",
    "x_coords = \"lon\"\n",
    "y_coords = \"lat\"\n",
    "z_coords = None\n",
    "sr_wgs84 = arcpy.SpatialReference(4326) #CRS: WGS84 4326\n",
    "arcpy.management.XYTableToPoint(in_table, out_feature_class,\n",
    "                                x_coords, y_coords, z_coords,\n",
    "                                sr_wgs84)\n",
    "# Print the total rows\n",
    "print(arcpy.GetCount_management(out_feature_class))\n"
   ]
  },
  {
   "cell_type": "code",
   "execution_count": 52,
   "metadata": {},
   "outputs": [
    {
     "name": "stderr",
     "output_type": "stream",
     "text": [
      "Profile your_online_profile does not have a password on file through keyring. If you are expecting this behavior (PKI or IWA authentication, entering password through run-time prompt, etc.), please ignore this message. If you would like to store your password in the your_online_profile profile, run GIS(profile = 'your_online_profile', password = ...). See the API doc for more details. (http://bit.ly/2CK2wG8)\n"
     ]
    },
    {
     "data": {
      "application/vnd.jupyter.widget-view+json": {
       "model_id": "e025288f89424f1ca29dfa42a7d3bbe4",
       "version_major": 2,
       "version_minor": 0
      },
      "text/plain": [
       "MapView(layout=Layout(height='400px', width='100%'), legend=True)"
      ]
     },
     "metadata": {},
     "output_type": "display_data"
    },
    {
     "data": {
      "text/html": [
       "<div class=\"map-static-img-preview-4a3be104-f405-479a-b0ea-9f1009f54560\"><img src=\"\"></img></div>"
      ],
      "text/plain": [
       "<IPython.core.display.HTML object>"
      ]
     },
     "metadata": {},
     "output_type": "display_data"
    },
    {
     "data": {
      "text/html": [
       "<div class=\"map-html-embed-preview-4a3be104-f405-479a-b0ea-9f1009f54560\"></div>"
      ],
      "text/plain": [
       "<IPython.core.display.HTML object>"
      ]
     },
     "metadata": {},
     "output_type": "display_data"
    }
   ],
   "source": [
    "arcpy.env.workspace = r\"E:\\HIPP\\11_Deliverables\\03_Bathymetry\\08_SeabedTexture_And_AncillaryLayers\"\n",
    "sdf_test2 = pd.DataFrame.spatial.from_featureclass(out_feature_class)\n",
    "\n",
    "\n",
    "from arcgis.mapping import show_styles, display_colormaps\n",
    "from arcgis.gis import GIS\n",
    "gis = GIS(profile='your_online_profile',verify_cert=False)\n",
    "m3 = GIS().map(zoomlevel=10.5)\n",
    "m3.center=[sdf_test2.lat.mean(),sdf_test.lon.mean()]\n",
    "m3.legend = True\n",
    "m3\n"
   ]
  },
  {
   "cell_type": "code",
   "execution_count": 53,
   "metadata": {},
   "outputs": [
    {
     "data": {
      "text/html": [
       "<div>\n",
       "<style scoped>\n",
       "    .dataframe tbody tr th:only-of-type {\n",
       "        vertical-align: middle;\n",
       "    }\n",
       "\n",
       "    .dataframe tbody tr th {\n",
       "        vertical-align: top;\n",
       "    }\n",
       "\n",
       "    .dataframe thead th {\n",
       "        text-align: right;\n",
       "    }\n",
       "</style>\n",
       "<table border=\"1\" class=\"dataframe\">\n",
       "  <thead>\n",
       "    <tr style=\"text-align: right;\">\n",
       "      <th></th>\n",
       "      <th>FID</th>\n",
       "      <th>sample_id</th>\n",
       "      <th>date_utc</th>\n",
       "      <th>time_utc</th>\n",
       "      <th>lat</th>\n",
       "      <th>lon</th>\n",
       "      <th>depth</th>\n",
       "      <th>method</th>\n",
       "      <th>recovery</th>\n",
       "      <th>weight</th>\n",
       "      <th>...</th>\n",
       "      <th>sample_hel</th>\n",
       "      <th>obs_sig</th>\n",
       "      <th>anoxic_sed</th>\n",
       "      <th>comments</th>\n",
       "      <th>sample</th>\n",
       "      <th>url</th>\n",
       "      <th>e_utm56s</th>\n",
       "      <th>n_utm56s</th>\n",
       "      <th>SHAPE_1</th>\n",
       "      <th>SHAPE</th>\n",
       "    </tr>\n",
       "  </thead>\n",
       "  <tbody>\n",
       "    <tr>\n",
       "      <th>0</th>\n",
       "      <td>0</td>\n",
       "      <td>77</td>\n",
       "      <td>2021-01-04</td>\n",
       "      <td>00:52</td>\n",
       "      <td>-32.907482</td>\n",
       "      <td>151.863574</td>\n",
       "      <td>30.0</td>\n",
       "      <td>0.0</td>\n",
       "      <td>90</td>\n",
       "      <td>-</td>\n",
       "      <td>...</td>\n",
       "      <td>N</td>\n",
       "      <td>BT</td>\n",
       "      <td>0.0</td>\n",
       "      <td></td>\n",
       "      <td>0.0</td>\n",
       "      <td>11_FinalDeliverables\\07_SeabedType\\03_GrabSamp...</td>\n",
       "      <td>393726.239074</td>\n",
       "      <td>6.358397e+06</td>\n",
       "      <td>{'x': 393726.23907391087, 'y': 6358396.8790635...</td>\n",
       "      <td>{\"x\": 151.86357354200004, \"y\": -32.90748219999...</td>\n",
       "    </tr>\n",
       "    <tr>\n",
       "      <th>160</th>\n",
       "      <td>160</td>\n",
       "      <td>160</td>\n",
       "      <td>2021-01-10</td>\n",
       "      <td>17:04</td>\n",
       "      <td>-33.060768</td>\n",
       "      <td>151.861614</td>\n",
       "      <td>104.0</td>\n",
       "      <td>0.0</td>\n",
       "      <td>90</td>\n",
       "      <td></td>\n",
       "      <td>...</td>\n",
       "      <td>N</td>\n",
       "      <td>NS</td>\n",
       "      <td>0.0</td>\n",
       "      <td></td>\n",
       "      <td>0.0</td>\n",
       "      <td>11_FinalDeliverables\\07_SeabedType\\03_GrabSamp...</td>\n",
       "      <td>393726.792168</td>\n",
       "      <td>6.341400e+06</td>\n",
       "      <td>{'x': 393726.79216775665, 'y': 6341400.2631838...</td>\n",
       "      <td>{\"x\": 151.86161360000006, \"y\": -33.06076823999...</td>\n",
       "    </tr>\n",
       "    <tr>\n",
       "      <th>50</th>\n",
       "      <td>50</td>\n",
       "      <td>67</td>\n",
       "      <td>2021-01-05</td>\n",
       "      <td>01:02</td>\n",
       "      <td>-32.892604</td>\n",
       "      <td>151.918325</td>\n",
       "      <td>37.0</td>\n",
       "      <td>0.0</td>\n",
       "      <td>80</td>\n",
       "      <td></td>\n",
       "      <td>...</td>\n",
       "      <td>N</td>\n",
       "      <td>BT</td>\n",
       "      <td>0.0</td>\n",
       "      <td></td>\n",
       "      <td>0.0</td>\n",
       "      <td>11_FinalDeliverables\\07_SeabedType\\03_GrabSamp...</td>\n",
       "      <td>398829.668740</td>\n",
       "      <td>6.360100e+06</td>\n",
       "      <td>{'x': 398829.6687401531, 'y': 6360100.23686837...</td>\n",
       "      <td>{\"x\": 151.9183246350001, \"y\": -32.892603899999...</td>\n",
       "    </tr>\n",
       "    <tr>\n",
       "      <th>100</th>\n",
       "      <td>100</td>\n",
       "      <td>96</td>\n",
       "      <td>2021-01-09</td>\n",
       "      <td>09:20</td>\n",
       "      <td>-32.923830</td>\n",
       "      <td>151.990723</td>\n",
       "      <td>88.0</td>\n",
       "      <td>0.0</td>\n",
       "      <td>80</td>\n",
       "      <td></td>\n",
       "      <td>...</td>\n",
       "      <td>N</td>\n",
       "      <td>BT</td>\n",
       "      <td>0.0</td>\n",
       "      <td></td>\n",
       "      <td>0.0</td>\n",
       "      <td>11_FinalDeliverables\\07_SeabedType\\03_GrabSamp...</td>\n",
       "      <td>405634.567701</td>\n",
       "      <td>6.356705e+06</td>\n",
       "      <td>{'x': 405634.567701295, 'y': 6356705.449867805...</td>\n",
       "      <td>{\"x\": 151.99072260000003, \"y\": -32.92382998999...</td>\n",
       "    </tr>\n",
       "  </tbody>\n",
       "</table>\n",
       "<p>4 rows × 26 columns</p>\n",
       "</div>"
      ],
      "text/plain": [
       "     FID  sample_id   date_utc time_utc        lat         lon  depth  method  \\\n",
       "0      0         77 2021-01-04    00:52 -32.907482  151.863574   30.0     0.0   \n",
       "160  160        160 2021-01-10    17:04 -33.060768  151.861614  104.0     0.0   \n",
       "50    50         67 2021-01-05    01:02 -32.892604  151.918325   37.0     0.0   \n",
       "100  100         96 2021-01-09    09:20 -32.923830  151.990723   88.0     0.0   \n",
       "\n",
       "     recovery weight  ... sample_hel obs_sig anoxic_sed comments sample  \\\n",
       "0          90      -  ...          N      BT        0.0             0.0   \n",
       "160        90         ...          N      NS        0.0             0.0   \n",
       "50         80         ...          N      BT        0.0             0.0   \n",
       "100        80         ...          N      BT        0.0             0.0   \n",
       "\n",
       "                                                   url       e_utm56s  \\\n",
       "0    11_FinalDeliverables\\07_SeabedType\\03_GrabSamp...  393726.239074   \n",
       "160  11_FinalDeliverables\\07_SeabedType\\03_GrabSamp...  393726.792168   \n",
       "50   11_FinalDeliverables\\07_SeabedType\\03_GrabSamp...  398829.668740   \n",
       "100  11_FinalDeliverables\\07_SeabedType\\03_GrabSamp...  405634.567701   \n",
       "\n",
       "         n_utm56s                                            SHAPE_1  \\\n",
       "0    6.358397e+06  {'x': 393726.23907391087, 'y': 6358396.8790635...   \n",
       "160  6.341400e+06  {'x': 393726.79216775665, 'y': 6341400.2631838...   \n",
       "50   6.360100e+06  {'x': 398829.6687401531, 'y': 6360100.23686837...   \n",
       "100  6.356705e+06  {'x': 405634.567701295, 'y': 6356705.449867805...   \n",
       "\n",
       "                                                 SHAPE  \n",
       "0    {\"x\": 151.86357354200004, \"y\": -32.90748219999...  \n",
       "160  {\"x\": 151.86161360000006, \"y\": -33.06076823999...  \n",
       "50   {\"x\": 151.9183246350001, \"y\": -32.892603899999...  \n",
       "100  {\"x\": 151.99072260000003, \"y\": -32.92382998999...  \n",
       "\n",
       "[4 rows x 26 columns]"
      ]
     },
     "execution_count": 53,
     "metadata": {},
     "output_type": "execute_result"
    }
   ],
   "source": [
    "sdf_test2.spatial.plot(map_widget=m3,\n",
    "                 col='class',\n",
    "                 renderer_type = 'u',\n",
    "                 symbol_style='d',\n",
    "                 marker_size=10,\n",
    "                 symbol_type='simple',\n",
    "                 linewidth=0\n",
    "                )\n",
    "sdf_test2.iloc[[0,-1,50,100]]"
   ]
  },
  {
   "cell_type": "raw",
   "metadata": {},
   "source": [
    "#shp2csv - export and import again if wrong coordinate found\n",
    "arcpy.env.workspace = r\"E:\\HIPP\\11_Deliverables\\03_Bathymetry\\05_SoundVelocityProfiles\\SVP_Raw\"\n",
    " \n",
    "# Set local variables\n",
    "inTable = \"SI1001_SVP_UTM56S.dbf\"\n",
    "outLocation = arcpy.env.workspace\n",
    "outTable = \"SI1001_SVP_RAW_Edit1.csv\"\n",
    "\n",
    "# Execute TableToTable\n",
    "arcpy.TableToTable_conversion(inTable, outLocation, outTable)"
   ]
  },
  {
   "cell_type": "markdown",
   "metadata": {},
   "source": [
    "### Step 3: Define field name and attribute values and use CalculateField to update field values"
   ]
  },
  {
   "cell_type": "code",
   "execution_count": 54,
   "metadata": {},
   "outputs": [],
   "source": [
    "#testing readin again and display the data from SSDM geodatabase using spatial enable dataframe"
   ]
  },
  {
   "cell_type": "code",
   "execution_count": 68,
   "metadata": {},
   "outputs": [
    {
     "name": "stderr",
     "output_type": "stream",
     "text": [
      "Profile your_online_profile does not have a password on file through keyring. If you are expecting this behavior (PKI or IWA authentication, entering password through run-time prompt, etc.), please ignore this message. If you would like to store your password in the your_online_profile profile, run GIS(profile = 'your_online_profile', password = ...). See the API doc for more details. (http://bit.ly/2CK2wG8)\n"
     ]
    },
    {
     "data": {
      "application/vnd.jupyter.widget-view+json": {
       "model_id": "db73b5dc74f24e39acf0f163c6d09b7f",
       "version_major": 2,
       "version_minor": 0
      },
      "text/plain": [
       "MapView(layout=Layout(height='400px', width='100%'), legend=True)"
      ]
     },
     "metadata": {},
     "output_type": "display_data"
    },
    {
     "data": {
      "text/html": [
       "<div class=\"map-static-img-preview-ee952a5f-bb1a-4d8f-9c16-a9455cc1565f\"><img src=\"\"></img></div>"
      ],
      "text/plain": [
       "<IPython.core.display.HTML object>"
      ]
     },
     "metadata": {},
     "output_type": "display_data"
    },
    {
     "data": {
      "text/html": [
       "<div class=\"map-html-embed-preview-ee952a5f-bb1a-4d8f-9c16-a9455cc1565f\"></div>"
      ],
      "text/plain": [
       "<IPython.core.display.HTML object>"
      ]
     },
     "metadata": {},
     "output_type": "display_data"
    }
   ],
   "source": [
    "import pandas as pd\n",
    "from arcgis.features import GeoAccessor, GeoSeriesAccessor\n",
    "from arcgis.gis import GIS\n",
    "from arcgis.mapping import show_styles, display_colormaps\n",
    "from arcgis.gis import GIS\n",
    "gis = GIS(username=\"adelmomancini\", password=\"Geomatics123!\")\n",
    "from arcgis.geocoding import geocode\n",
    "from arcgis.geometry import lengths, areas_and_lengths, project\n",
    "from arcgis.geometry import Point, Polyline, Polygon, Geometry\n",
    "\n",
    "arcpy.env.workspace = r\"E:\\HIPP\\11_Deliverables\\SSDM\\GIS\\FGDB\\HIPP_SI1001_UTM56S.gdb\"\n",
    "input_ft = r'Environmental_Samples\\Environmental_Sample_Pnt'\n",
    "sdf_test2 = pd.DataFrame.spatial.from_featureclass(input_ft)\n",
    "\n",
    "gis = GIS(profile='your_online_profile',verify_cert=False)\n",
    "m4 = GIS().map(zoomlevel=10.5)\n",
    "m4.center=[-32.911,151.960]\n",
    "m4.legend = True\n",
    "m4\n",
    "\n"
   ]
  },
  {
   "cell_type": "code",
   "execution_count": 108,
   "metadata": {},
   "outputs": [
    {
     "data": {
      "text/html": [
       "<div>\n",
       "<style scoped>\n",
       "    .dataframe tbody tr th:only-of-type {\n",
       "        vertical-align: middle;\n",
       "    }\n",
       "\n",
       "    .dataframe tbody tr th {\n",
       "        vertical-align: top;\n",
       "    }\n",
       "\n",
       "    .dataframe thead th {\n",
       "        text-align: right;\n",
       "    }\n",
       "</style>\n",
       "<table border=\"1\" class=\"dataframe\">\n",
       "  <thead>\n",
       "    <tr style=\"text-align: right;\">\n",
       "      <th></th>\n",
       "      <th>OBJECTID</th>\n",
       "      <th>LAST_UPDATE</th>\n",
       "      <th>LAST_UPDATE_BY</th>\n",
       "      <th>FEATURE_ID</th>\n",
       "      <th>SURVEY_ID</th>\n",
       "      <th>SURVEY_ID_REF</th>\n",
       "      <th>REMARKS</th>\n",
       "      <th>SAMPLE_NAME</th>\n",
       "      <th>SAMPLE_DESC</th>\n",
       "      <th>SAMPLING_METHOD</th>\n",
       "      <th>SAMPLING_DATE</th>\n",
       "      <th>DATA_URL</th>\n",
       "      <th>REPORT_URL</th>\n",
       "      <th>PENETRATION</th>\n",
       "      <th>RECOVERY</th>\n",
       "      <th>APPROVED_DATE</th>\n",
       "      <th>SAMPLE_NUMBER</th>\n",
       "      <th>SAMPLING_EQUIPMENT</th>\n",
       "      <th>SHAPE</th>\n",
       "    </tr>\n",
       "  </thead>\n",
       "  <tbody>\n",
       "    <tr>\n",
       "      <th>0</th>\n",
       "      <td>586</td>\n",
       "      <td>2021-02-22</td>\n",
       "      <td>XL</td>\n",
       "      <td>{6C1E04B0-4ED2-485E-AF4B-ECAED21CF158}</td>\n",
       "      <td>1001</td>\n",
       "      <td>BN7875559</td>\n",
       "      <td></td>\n",
       "      <td>20210104_077</td>\n",
       "      <td>Coarse sediment</td>\n",
       "      <td>IOGP1045 Soil/Sediment Sample</td>\n",
       "      <td>2021-01-04</td>\n",
       "      <td>11_FinalDeliverables\\07_SeabedType\\03_GrabSamp...</td>\n",
       "      <td>11_FinalDeliverables\u0001_SurveyReport_Document</td>\n",
       "      <td>0.0</td>\n",
       "      <td>100.0</td>\n",
       "      <td>2021-03-02</td>\n",
       "      <td>77</td>\n",
       "      <td>Van Veen Grab Sampling</td>\n",
       "      <td>{\"x\": 393726.23910000006, \"y\": 6358396.8791000...</td>\n",
       "    </tr>\n",
       "    <tr>\n",
       "      <th>160</th>\n",
       "      <td>746</td>\n",
       "      <td>2021-02-22</td>\n",
       "      <td>XL</td>\n",
       "      <td>{27B88781-75AD-4AC8-8B94-9157576C14EA}</td>\n",
       "      <td>1001</td>\n",
       "      <td>BN7875559</td>\n",
       "      <td></td>\n",
       "      <td>20210110_160</td>\n",
       "      <td>Coarse sediment</td>\n",
       "      <td>IOGP1045 Soil/Sediment Sample</td>\n",
       "      <td>2021-01-10</td>\n",
       "      <td>11_FinalDeliverables\\07_SeabedType\\03_GrabSamp...</td>\n",
       "      <td>11_FinalDeliverables\u0001_SurveyReport_Document</td>\n",
       "      <td>0.0</td>\n",
       "      <td>100.0</td>\n",
       "      <td>2021-03-02</td>\n",
       "      <td>160</td>\n",
       "      <td>Van Veen Grab Sampling</td>\n",
       "      <td>{\"x\": 393726.7922, \"y\": 6341400.263200001, \"z\"...</td>\n",
       "    </tr>\n",
       "    <tr>\n",
       "      <th>50</th>\n",
       "      <td>636</td>\n",
       "      <td>2021-02-22</td>\n",
       "      <td>XL</td>\n",
       "      <td>{E7A5D1A6-BD7A-473B-8F7C-E73DD53EF3E2}</td>\n",
       "      <td>1001</td>\n",
       "      <td>BN7875559</td>\n",
       "      <td></td>\n",
       "      <td>20210105_67</td>\n",
       "      <td>Mixed sediments</td>\n",
       "      <td>IOGP1045 Soil/Sediment Sample</td>\n",
       "      <td>2021-01-05</td>\n",
       "      <td>11_FinalDeliverables\\07_SeabedType\\03_GrabSamp...</td>\n",
       "      <td>11_FinalDeliverables\u0001_SurveyReport_Document</td>\n",
       "      <td>0.0</td>\n",
       "      <td>100.0</td>\n",
       "      <td>2021-03-02</td>\n",
       "      <td>67</td>\n",
       "      <td>Van Veen Grab Sampling</td>\n",
       "      <td>{\"x\": 398829.66870000004, \"y\": 6360100.2369000...</td>\n",
       "    </tr>\n",
       "    <tr>\n",
       "      <th>100</th>\n",
       "      <td>686</td>\n",
       "      <td>2021-02-22</td>\n",
       "      <td>XL</td>\n",
       "      <td>{1D73DCB5-6933-4B82-9DCF-17A898BE7825}</td>\n",
       "      <td>1001</td>\n",
       "      <td>BN7875559</td>\n",
       "      <td></td>\n",
       "      <td>20210109_096</td>\n",
       "      <td>Mud and sandy mud</td>\n",
       "      <td>IOGP1045 Soil/Sediment Sample</td>\n",
       "      <td>2021-01-09</td>\n",
       "      <td>11_FinalDeliverables\\07_SeabedType\\03_GrabSamp...</td>\n",
       "      <td>11_FinalDeliverables\u0001_SurveyReport_Document</td>\n",
       "      <td>0.0</td>\n",
       "      <td>100.0</td>\n",
       "      <td>2021-03-02</td>\n",
       "      <td>96</td>\n",
       "      <td>Van Veen Grab Sampling</td>\n",
       "      <td>{\"x\": 405634.5677000001, \"y\": 6356705.4499, \"z...</td>\n",
       "    </tr>\n",
       "  </tbody>\n",
       "</table>\n",
       "</div>"
      ],
      "text/plain": [
       "     OBJECTID LAST_UPDATE LAST_UPDATE_BY  \\\n",
       "0         586  2021-02-22             XL   \n",
       "160       746  2021-02-22             XL   \n",
       "50        636  2021-02-22             XL   \n",
       "100       686  2021-02-22             XL   \n",
       "\n",
       "                                 FEATURE_ID  SURVEY_ID SURVEY_ID_REF REMARKS  \\\n",
       "0    {6C1E04B0-4ED2-485E-AF4B-ECAED21CF158}       1001     BN7875559           \n",
       "160  {27B88781-75AD-4AC8-8B94-9157576C14EA}       1001     BN7875559           \n",
       "50   {E7A5D1A6-BD7A-473B-8F7C-E73DD53EF3E2}       1001     BN7875559           \n",
       "100  {1D73DCB5-6933-4B82-9DCF-17A898BE7825}       1001     BN7875559           \n",
       "\n",
       "      SAMPLE_NAME        SAMPLE_DESC                SAMPLING_METHOD  \\\n",
       "0    20210104_077    Coarse sediment  IOGP1045 Soil/Sediment Sample   \n",
       "160  20210110_160    Coarse sediment  IOGP1045 Soil/Sediment Sample   \n",
       "50    20210105_67    Mixed sediments  IOGP1045 Soil/Sediment Sample   \n",
       "100  20210109_096  Mud and sandy mud  IOGP1045 Soil/Sediment Sample   \n",
       "\n",
       "    SAMPLING_DATE                                           DATA_URL  \\\n",
       "0      2021-01-04  11_FinalDeliverables\\07_SeabedType\\03_GrabSamp...   \n",
       "160    2021-01-10  11_FinalDeliverables\\07_SeabedType\\03_GrabSamp...   \n",
       "50     2021-01-05  11_FinalDeliverables\\07_SeabedType\\03_GrabSamp...   \n",
       "100    2021-01-09  11_FinalDeliverables\\07_SeabedType\\03_GrabSamp...   \n",
       "\n",
       "                                      REPORT_URL  PENETRATION  RECOVERY  \\\n",
       "0    11_FinalDeliverables\u0001_SurveyReport_Document          0.0     100.0   \n",
       "160  11_FinalDeliverables\u0001_SurveyReport_Document          0.0     100.0   \n",
       "50   11_FinalDeliverables\u0001_SurveyReport_Document          0.0     100.0   \n",
       "100  11_FinalDeliverables\u0001_SurveyReport_Document          0.0     100.0   \n",
       "\n",
       "    APPROVED_DATE  SAMPLE_NUMBER      SAMPLING_EQUIPMENT  \\\n",
       "0      2021-03-02             77  Van Veen Grab Sampling   \n",
       "160    2021-03-02            160  Van Veen Grab Sampling   \n",
       "50     2021-03-02             67  Van Veen Grab Sampling   \n",
       "100    2021-03-02             96  Van Veen Grab Sampling   \n",
       "\n",
       "                                                 SHAPE  \n",
       "0    {\"x\": 393726.23910000006, \"y\": 6358396.8791000...  \n",
       "160  {\"x\": 393726.7922, \"y\": 6341400.263200001, \"z\"...  \n",
       "50   {\"x\": 398829.66870000004, \"y\": 6360100.2369000...  \n",
       "100  {\"x\": 405634.5677000001, \"y\": 6356705.4499, \"z...  "
      ]
     },
     "execution_count": 108,
     "metadata": {},
     "output_type": "execute_result"
    }
   ],
   "source": [
    "sdf_test2.spatial.plot(map_widget=m4,\n",
    "                 col='SAMPLE_DESC',\n",
    "                 renderer_type = 'u',\n",
    "                 symbol_style='d',\n",
    "                 marker_size=10,\n",
    "#                  linewidth=1\n",
    "                )\n",
    "sdf_test2.iloc[[0,-1,50,100]]"
   ]
  },
  {
   "cell_type": "code",
   "execution_count": 109,
   "metadata": {},
   "outputs": [
    {
     "data": {
      "image/png": "[encoded data removed]",
      "text/plain": [
       "<Figure size 432x432 with 1 Axes>"
      ]
     },
     "metadata": {},
     "output_type": "display_data"
    }
   ],
   "source": [
    "import numpy as np\n",
    "import matplotlib.pyplot as plt\n",
    "#pile chart of sediment type distribution\n",
    "fig, ax1 = plt.subplots(figsize = (6,6)) \n",
    "x = sdf_test2['SAMPLE_DESC'].value_counts(normalize=True,ascending=True)\n",
    "colors = ['gold','lightskyblue','r','c'] #we know that there are 4 types\n",
    "labels = list(x.index)\n",
    "values = np.round(x.values*100,2)\n",
    "explode = (0.1,0.1,0.1,0.1)\n",
    "ax1.pie(values,colors=colors,labels=labels,explode=explode,\n",
    "        autopct='%1.1f%%',counterclock=True,shadow=True)\n",
    "plt.title('Sediment Type')\n",
    "# ax1.legend(labels, loc = 0) \n",
    "plt.tight_layout() \n",
    "plt.show()"
   ]
  },
  {
   "cell_type": "code",
   "execution_count": null,
   "metadata": {},
   "outputs": [],
   "source": []
  },
  {
   "cell_type": "code",
   "execution_count": null,
   "metadata": {},
   "outputs": [],
   "source": []
  },
  {
   "cell_type": "code",
   "execution_count": null,
   "metadata": {},
   "outputs": [],
   "source": []
  },
  {
   "cell_type": "code",
   "execution_count": null,
   "metadata": {},
   "outputs": [],
   "source": []
  },
  {
   "cell_type": "code",
   "execution_count": null,
   "metadata": {},
   "outputs": [],
   "source": []
  },
  {
   "cell_type": "code",
   "execution_count": null,
   "metadata": {},
   "outputs": [],
   "source": []
  },
  {
   "cell_type": "code",
   "execution_count": null,
   "metadata": {},
   "outputs": [],
   "source": []
  },
  {
   "cell_type": "code",
   "execution_count": null,
   "metadata": {},
   "outputs": [],
   "source": []
  },
  {
   "cell_type": "code",
   "execution_count": null,
   "metadata": {},
   "outputs": [],
   "source": []
  }
 ],
 "metadata": {
  "kernelspec": {
   "display_name": "Python 3",
   "language": "python",
   "name": "python3"
  },
  "language_info": {
   "codemirror_mode": {
    "name": "ipython",
    "version": 3
   },
   "file_extension": ".py",
   "mimetype": "text/x-python",
   "name": "python",
   "nbconvert_exporter": "python",
   "pygments_lexer": "ipython3",
   "version": "3.7.9"
  }
 },
 "nbformat": 4,
 "nbformat_minor": 4
}
